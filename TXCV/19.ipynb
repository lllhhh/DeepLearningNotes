{
 "metadata": {
  "language_info": {
   "codemirror_mode": {
    "name": "ipython",
    "version": 3
   },
   "file_extension": ".py",
   "mimetype": "text/x-python",
   "name": "python",
   "nbconvert_exporter": "python",
   "pygments_lexer": "ipython3",
   "version": "3.7.2-final"
  },
  "orig_nbformat": 2,
  "kernelspec": {
   "name": "python37264bit74a45400f6b3436e905970fa23c84d3b",
   "display_name": "Python 3.7.2 64-bit"
  }
 },
 "nbformat": 4,
 "nbformat_minor": 2,
 "cells": [
  {
   "cell_type": "code",
   "execution_count": null,
   "metadata": {},
   "outputs": [],
   "source": [
    "import pandas as pd\n",
    "from sklearn import linear_model\n",
    "from sklearn.feature_extraction.text import TfidfVectorizer\n",
    "\n",
    "df = pd.read_csv('SMSSpamCollection.txt', delimiter='\\t', header=None)\n",
    "y, X_train = df[0], df[1]\n",
    "\n",
    "vectorizer = TfidfVectorizer()\n",
    "X = vectorizer.fit_transform(X_train)\n",
    "\n",
    "lr = linear_model.LogisticRegression()\n",
    "lr.fit(X,y)\n",
    "\n",
    "testX = vectorizer.transform(['URGENT! Your mobile No. 1234 was awarded a Prize', 'Hey honey,wahts up?'])\n",
    "predictions = lr.predict(testX)\n",
    "print(predictions)"
   ]
  }
 ]
}