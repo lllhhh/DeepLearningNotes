{
 "metadata": {
  "language_info": {
   "codemirror_mode": {
    "name": "ipython",
    "version": 3
   },
   "file_extension": ".py",
   "mimetype": "text/x-python",
   "name": "python",
   "nbconvert_exporter": "python",
   "pygments_lexer": "ipython3",
   "version": "3.7.2-final"
  },
  "orig_nbformat": 2,
  "kernelspec": {
   "name": "python37264bit74a45400f6b3436e905970fa23c84d3b",
   "display_name": "Python 3.7.2 64-bit"
  }
 },
 "nbformat": 4,
 "nbformat_minor": 2,
 "cells": [
  {
   "cell_type": "code",
   "execution_count": 1,
   "metadata": {
    "tags": []
   },
   "outputs": [
    {
     "output_type": "stream",
     "name": "stderr",
     "text": "Using TensorFlow backend.\n"
    }
   ],
   "source": [
    "import numpy as np\n",
    "from keras.models import Sequential, Model\n",
    "from keras.layers import Conv2D,Flatten,MaxPool2D, Dense\n"
   ]
  },
  {
   "cell_type": "code",
   "execution_count": 2,
   "metadata": {},
   "outputs": [],
   "source": [
    "def get_model(shape):\n",
    "    '''\n",
    "    预测方向盘角度：以图像为输入，预测方向盘的转动角度\n",
    "    shape:输入图像的尺寸，例如(128,128,3)\n",
    "    '''\n",
    "    model = Sequential()\n",
    "    model.add(Conv2D(24, (5, 5), strides=(2,2), padding='valid', activation='relu', input_shape=shape))\n",
    "    model.add(Conv2D(36, (5, 5), strides=(2,2), padding='valid', activation='relu'))\n",
    "    model.add(Conv2D(48, (5, 5), strides=(2,2), padding='valid', activation='relu'))\n",
    "    model.add(Conv2D(64, (3, 3), strides=(1,1), padding='valid', activation='relu'))\n",
    "    model.add(Conv2D(64, (3, 3), strides=(1,1), padding='valid', activation='relu'))\n",
    "    model.add(Flatten())\n",
    "    model.add(Dense(1164, activation='relu'))\n",
    "    model.add(Dense(100, activation='relu'))\n",
    "    model.add(Dense(50, activation='relu'))\n",
    "    model.add(Dense(10, activation='relu'))\n",
    "    model.add(Dense(1, activation='linear'))\n"
   ]
  },
  {
   "cell_type": "code",
   "execution_count": null,
   "metadata": {},
   "outputs": [],
   "source": []
  }
 ]
}