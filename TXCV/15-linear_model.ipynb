{
 "metadata": {
  "language_info": {
   "codemirror_mode": {
    "name": "ipython",
    "version": 3
   },
   "file_extension": ".py",
   "mimetype": "text/x-python",
   "name": "python",
   "nbconvert_exporter": "python",
   "pygments_lexer": "ipython3",
   "version": "3.7.2-final"
  },
  "orig_nbformat": 2,
  "kernelspec": {
   "name": "python37264bit2fe105458b814211b3f80b51fd7de634",
   "display_name": "Python 3.7.2 64-bit"
  }
 },
 "nbformat": 4,
 "nbformat_minor": 2,
 "cells": [
  {
   "cell_type": "code",
   "execution_count": 5,
   "metadata": {
    "tags": []
   },
   "outputs": [
    {
     "output_type": "stream",
     "name": "stdout",
     "text": "label [1]\nprob [[0.14694811 0.85305189]]\n/usr/local/lib/python3.7/site-packages/sklearn/linear_model/logistic.py:432: FutureWarning: Default solver will be changed to 'lbfgs' in 0.22. Specify a solver to silence this warning.\n  FutureWarning)\n"
    }
   ],
   "source": [
    "from sklearn import linear_model\n",
    "\n",
    "X = [[20, 3],\n",
    "     [23, 7],\n",
    "     [31, 10],\n",
    "     [42, 13],\n",
    "     [50,7],\n",
    "     [60,5]]\n",
    "y = [0,\n",
    "     1,\n",
    "     1,\n",
    "     1,\n",
    "     0,\n",
    "     0]\n",
    "\n",
    "lr = linear_model.LogisticRegression()\n",
    "lr.fit(X, y)\n",
    "\n",
    "testX = [[28, 8]]\n",
    "label = lr.predict(testX)\n",
    "print('label',label)\n",
    "\n",
    "prob = lr.predict_proba(testX)\n",
    "print('prob',prob)\n"
   ]
  },
  {
   "cell_type": "code",
   "execution_count": null,
   "metadata": {},
   "outputs": [],
   "source": []
  }
 ]
}