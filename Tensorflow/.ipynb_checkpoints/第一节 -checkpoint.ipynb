{
 "cells": [
  {
   "cell_type": "code",
   "execution_count": 1,
   "metadata": {},
   "outputs": [],
   "source": [
    "import tensorflow as tf"
   ]
  },
  {
   "cell_type": "code",
   "execution_count": 2,
   "metadata": {},
   "outputs": [],
   "source": [
    "import numpy as np"
   ]
  },
  {
   "cell_type": "code",
   "execution_count": 3,
   "metadata": {},
   "outputs": [],
   "source": [
    "# 创建数据\n",
    "x_data = np.random.rand(100).astype(np.float32)"
   ]
  },
  {
   "cell_type": "code",
   "execution_count": 4,
   "metadata": {},
   "outputs": [
    {
     "data": {
      "text/plain": [
       "array([0.08865356, 0.96442294, 0.00118165, 0.40862402, 0.27756977,\n",
       "       0.16382347, 0.5637084 , 0.27568525, 0.6461678 , 0.02448037,\n",
       "       0.4641728 , 0.47717983, 0.39796492, 0.19555391, 0.7407999 ,\n",
       "       0.29949728, 0.5343328 , 0.55395347, 0.31012037, 0.54886866,\n",
       "       0.36382976, 0.7301092 , 0.75066376, 0.5759071 , 0.67616254,\n",
       "       0.99354774, 0.6438545 , 0.36552066, 0.6611815 , 0.1769998 ,\n",
       "       0.051178  , 0.4440063 , 0.5553131 , 0.5904942 , 0.38982317,\n",
       "       0.37726268, 0.91136336, 0.52416843, 0.5828036 , 0.6093281 ,\n",
       "       0.0772938 , 0.37461638, 0.28257582, 0.44031686, 0.23437001,\n",
       "       0.7045945 , 0.18117681, 0.23297071, 0.6439601 , 0.27582633,\n",
       "       0.4865344 , 0.92581105, 0.6740607 , 0.6924153 , 0.43674973,\n",
       "       0.31780586, 0.19403838, 0.41419217, 0.98924017, 0.835176  ,\n",
       "       0.8874317 , 0.6669705 , 0.76657933, 0.18206483, 0.94252616,\n",
       "       0.80228215, 0.78242123, 0.9427165 , 0.8308908 , 0.6013803 ,\n",
       "       0.5812244 , 0.51549125, 0.8930211 , 0.00235635, 0.00867894,\n",
       "       0.14774284, 0.9152194 , 0.87390417, 0.6367027 , 0.03200817,\n",
       "       0.34808856, 0.45848686, 0.5140758 , 0.62244976, 0.9231137 ,\n",
       "       0.6879399 , 0.11757993, 0.9452282 , 0.8622826 , 0.32969016,\n",
       "       0.99879783, 0.21158415, 0.39429027, 0.82756174, 0.6574589 ,\n",
       "       0.48682186, 0.91474724, 0.6543416 , 0.331538  , 0.7567723 ],\n",
       "      dtype=float32)"
      ]
     },
     "execution_count": 4,
     "metadata": {},
     "output_type": "execute_result"
    }
   ],
   "source": [
    "x_data"
   ]
  },
  {
   "cell_type": "code",
   "execution_count": 5,
   "metadata": {},
   "outputs": [],
   "source": [
    "y_data = x_data * 0.1 + 0.3"
   ]
  },
  {
   "cell_type": "markdown",
   "metadata": {},
   "source": [
    "# 史莱克的马拉松开没得聊什么都快来"
   ]
  },
  {
   "cell_type": "code",
   "execution_count": 7,
   "metadata": {},
   "outputs": [],
   "source": [
    "\"\"\"\n",
    "    创建tf结构\n",
    "\"\"\" \n",
    "Weights = tf.Variable(tf.random_uniform([1], -1.0, 1.0))\n",
    "biases = tf.Variable(tf.zeros([1]))\n",
    "\n",
    "y = Weights*x_data + biases\n",
    "\n",
    "# 损失函数\n",
    "loss = tf.reduce_mean(tf.square(y - y_data))\n",
    "\n",
    "# 优化器\n",
    "optimizer = tf.train.GradientDescentOptimizer(0.5)\n",
    "\n",
    "# 训练\n",
    "train = optimizer.minimize(loss)\n",
    "\n",
    "# 初始化参数\n",
    "init = tf.global_variables_initializer()"
   ]
  },
  {
   "cell_type": "code",
   "execution_count": 8,
   "metadata": {},
   "outputs": [
    {
     "name": "stdout",
     "output_type": "stream",
     "text": [
      "0 [0.17759916] [0.36406064]\n",
      "20 [0.10963305] [0.2946418]\n",
      "40 [0.10289532] [0.29838955]\n",
      "60 [0.10087021] [0.29951596]\n",
      "80 [0.10026155] [0.29985452]\n",
      "100 [0.10007862] [0.2999563]\n",
      "120 [0.10002362] [0.29998687]\n",
      "140 [0.10000708] [0.29999608]\n",
      "160 [0.10000214] [0.29999882]\n",
      "180 [0.10000064] [0.29999965]\n",
      "200 [0.1000002] [0.2999999]\n"
     ]
    }
   ],
   "source": [
    "\"\"\"\n",
    "    \n",
    "\"\"\"\n",
    "\n",
    "sess = tf.Session()\n",
    "\n",
    "# 激活\n",
    "sess.run(init)\n",
    "\n",
    "# 训练\n",
    "for step in range(201):\n",
    "    sess.run(train)\n",
    "    if step % 20 == 0:\n",
    "        print(step, sess.run(Weights), sess.run(biases))"
   ]
  },
  {
   "cell_type": "code",
   "execution_count": null,
   "metadata": {},
   "outputs": [],
   "source": []
  }
 ],
 "metadata": {
  "kernelspec": {
   "display_name": "Python 3",
   "language": "python",
   "name": "python3"
  },
  "language_info": {
   "codemirror_mode": {
    "name": "ipython",
    "version": 3
   },
   "file_extension": ".py",
   "mimetype": "text/x-python",
   "name": "python",
   "nbconvert_exporter": "python",
   "pygments_lexer": "ipython3",
   "version": "3.6.5"
  }
 },
 "nbformat": 4,
 "nbformat_minor": 2
}
