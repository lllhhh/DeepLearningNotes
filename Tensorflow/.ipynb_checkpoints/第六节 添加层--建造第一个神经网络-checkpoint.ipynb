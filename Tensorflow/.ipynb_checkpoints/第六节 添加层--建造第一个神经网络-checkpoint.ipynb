{
 "cells": [
  {
   "cell_type": "code",
   "execution_count": 3,
   "metadata": {},
   "outputs": [],
   "source": [
    "import tensorflow as tf\n",
    "import numpy as np"
   ]
  },
  {
   "cell_type": "code",
   "execution_count": 2,
   "metadata": {},
   "outputs": [],
   "source": [
    "# 定义添加层函数\n",
    "def add_layer(inputs, in_size, out_size, activation_function=None):\n",
    "    Weights = tf.Variable(tf.random_normal([in_size, out_size]))\n",
    "    biases = tf.Variable(tf.zeros([1, out_size])+0.1)\n",
    "    Wx_plus_b = tf.matmul(inputs, Weights) + biases\n",
    "    if activation_function is None:\n",
    "        outputs = Wx_plus_b\n",
    "    else:\n",
    "        outputs = activation_function(Wx_plus_b)\n",
    "    return outputs"
   ]
  },
  {
   "cell_type": "code",
   "execution_count": 6,
   "metadata": {},
   "outputs": [
    {
     "name": "stdout",
     "output_type": "stream",
     "text": [
      "[-1.         -0.77777778 -0.55555556 -0.33333333 -0.11111111  0.11111111\n",
      "  0.33333333  0.55555556  0.77777778  1.        ]\n",
      "[[-1.        ]\n",
      " [-0.77777778]\n",
      " [-0.55555556]\n",
      " [-0.33333333]\n",
      " [-0.11111111]\n",
      " [ 0.11111111]\n",
      " [ 0.33333333]\n",
      " [ 0.55555556]\n",
      " [ 0.77777778]\n",
      " [ 1.        ]]\n"
     ]
    }
   ],
   "source": [
    "# np.linspac函数 和 np.newaxis\n",
    "x_data1 = np.linspace(-1, 1, 10)\n",
    "x_data = np.linspace(-1, 1, 10)[:, np.newaxis]\n",
    "print(x_data1)\n",
    "print(x_data)"
   ]
  },
  {
   "cell_type": "code",
   "execution_count": 7,
   "metadata": {},
   "outputs": [],
   "source": [
    "# 输入层数据 \n",
    "x_data = np.linspace(-1, 1, 300)[:, np.newaxis]\n",
    "noise = np.random.normal(0, 0.05, x_data.shape)\n",
    "y_data = np.square(x_data) - 0.5 + noise"
   ]
  },
  {
   "cell_type": "code",
   "execution_count": 11,
   "metadata": {},
   "outputs": [
    {
     "name": "stdout",
     "output_type": "stream",
     "text": [
      "0.15889432\n",
      "0.014114332\n",
      "0.008635262\n",
      "0.006933101\n",
      "0.005587028\n",
      "0.0046946607\n",
      "0.0041417372\n",
      "0.0037729235\n",
      "0.0035303028\n",
      "0.0033514185\n",
      "0.0032011643\n",
      "0.0030796651\n",
      "0.002978164\n",
      "0.0029056526\n",
      "0.0028467143\n",
      "0.0027975184\n",
      "0.0027509949\n",
      "0.0027140882\n",
      "0.002681956\n",
      "0.0026493077\n"
     ]
    }
   ],
   "source": [
    "xs = tf.placeholder(tf.float32, [None,1])\n",
    "ys = tf.placeholder(tf.float32, [None,1])\n",
    "\n",
    "# 建立输入层\n",
    "l1 = add_layer(xs, 1, 10, activation_function=tf.nn.relu)\n",
    "\n",
    "# 输出层\n",
    "prediction = add_layer(l1, 10, 1, activation_function=None)\n",
    "\n",
    "\n",
    "# 损失函数costfunction \n",
    "loss = tf.reduce_mean(tf.reduce_sum(tf.square(ys - prediction), reduction_indices=[1]))\n",
    "\n",
    "# 梯度下降\n",
    "train_step = tf.train.GradientDescentOptimizer(learning_rate=0.1).minimize(loss)\n",
    "\n",
    "#初始化常亮\n",
    "init = tf.global_variables_initializer()\n",
    "\n",
    "sess = tf.Session()\n",
    "sess.run(init)\n",
    "\n",
    "# 训练\n",
    "for i in range(1000):\n",
    "    sess.run(train_step,feed_dict={xs:x_data, ys:y_data})\n",
    "    if i % 50 == 0:\n",
    "        print(sess.run(loss, feed_dict={xs:x_data, ys:y_data}))\n",
    "\n"
   ]
  },
  {
   "cell_type": "code",
   "execution_count": null,
   "metadata": {},
   "outputs": [],
   "source": []
  }
 ],
 "metadata": {
  "kernelspec": {
   "display_name": "Python 3",
   "language": "python",
   "name": "python3"
  },
  "language_info": {
   "codemirror_mode": {
    "name": "ipython",
    "version": 3
   },
   "file_extension": ".py",
   "mimetype": "text/x-python",
   "name": "python",
   "nbconvert_exporter": "python",
   "pygments_lexer": "ipython3",
   "version": "3.6.5"
  }
 },
 "nbformat": 4,
 "nbformat_minor": 2
}
