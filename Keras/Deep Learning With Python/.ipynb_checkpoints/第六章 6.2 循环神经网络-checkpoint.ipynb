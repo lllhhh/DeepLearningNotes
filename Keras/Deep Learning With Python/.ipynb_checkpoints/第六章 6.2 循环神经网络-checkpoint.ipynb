{
 "cells": [
  {
   "cell_type": "markdown",
   "metadata": {},
   "source": [
    "### RNN伪代码"
   ]
  },
  {
   "cell_type": "code",
   "execution_count": null,
   "metadata": {},
   "outputs": [],
   "source": [
    "state_t = 0\n",
    "for input_t in input-sequence: #对序列元素进行遍历\n",
    "    output_t = f(input_t,state_t)\n",
    "    state_t = output_t # 前一次的输出变成下一次迭代的状态"
   ]
  },
  {
   "cell_type": "markdown",
   "metadata": {},
   "source": [
    "### 更详细RNN伪代码"
   ]
  },
  {
   "cell_type": "code",
   "execution_count": null,
   "metadata": {},
   "outputs": [],
   "source": [
    "state_t = 0\n",
    "for input_t in input_sequence:\n",
    "    output_t = activation(W,input_t) + dot(U,state_t) + b\n",
    "    state_t = output_t"
   ]
  },
  {
   "cell_type": "markdown",
   "metadata": {},
   "source": [
    "### 简单RNN的numpy实现"
   ]
  },
  {
   "cell_type": "code",
   "execution_count": 4,
   "metadata": {},
   "outputs": [],
   "source": [
    "import numpy as np\n",
    "\n",
    "timesteps = 100 #时间步数\n",
    "input_features = 32 #特征空间的维度\n",
    "output_features = 64# 特征空间维度\n",
    "\n",
    "inputs = np.random.random((timesteps,input_features))\n",
    "\n",
    "state_t = np.zeros((output_features,)) \n",
    "\n",
    "#常见随机权重矩阵\n",
    "W = np.random.random((output_features,input_features))\n",
    "U = np.random.random((output_features,output_features))\n",
    "b = np.random.random((output_features,))\n",
    "\n",
    "successive_outputs = []\n",
    "for input_t in inputs:\n",
    "    output_t = np.tanh(np.dot(W,input_t) + np.dot(U,state_t) + b)\n",
    "    \n",
    "    successive_outputs.append(output_t)\n",
    "    \n",
    "    state_t = output_t\n",
    "    \n",
    "final_output_sequence = np.stack(successive_outputs,axis=0)"
   ]
  },
  {
   "cell_type": "markdown",
   "metadata": {},
   "source": [
    "## Keras中的循环层"
   ]
  },
  {
   "cell_type": "code",
   "execution_count": 6,
   "metadata": {},
   "outputs": [
    {
     "name": "stdout",
     "output_type": "stream",
     "text": [
      "WARNING:tensorflow:From /Library/Frameworks/Python.framework/Versions/3.6/lib/python3.6/site-packages/tensorflow/python/framework/op_def_library.py:263: colocate_with (from tensorflow.python.framework.ops) is deprecated and will be removed in a future version.\n",
      "Instructions for updating:\n",
      "Colocations handled automatically by placer.\n",
      "_________________________________________________________________\n",
      "Layer (type)                 Output Shape              Param #   \n",
      "=================================================================\n",
      "embedding_1 (Embedding)      (None, None, 32)          320000    \n",
      "_________________________________________________________________\n",
      "simple_rnn_1 (SimpleRNN)     (None, 32)                2080      \n",
      "=================================================================\n",
      "Total params: 322,080\n",
      "Trainable params: 322,080\n",
      "Non-trainable params: 0\n",
      "_________________________________________________________________\n"
     ]
    }
   ],
   "source": [
    "from keras.layers import SimpleRNN\n",
    "from keras.models import Sequential\n",
    "from keras.layers import Embedding,SimpleRNN\n",
    "\n",
    "model = Sequential()\n",
    "model.add(Embedding(10000,32))\n",
    "model.add(SimpleRNN(32,return_sequences=True))\n",
    "model.summary()"
   ]
  },
  {
   "cell_type": "markdown",
   "metadata": {},
   "source": [
    "提高网络的表示能力，将多个循环层逐个堆叠"
   ]
  },
  {
   "cell_type": "code",
   "execution_count": 7,
   "metadata": {},
   "outputs": [
    {
     "name": "stdout",
     "output_type": "stream",
     "text": [
      "_________________________________________________________________\n",
      "Layer (type)                 Output Shape              Param #   \n",
      "=================================================================\n",
      "embedding_2 (Embedding)      (None, None, 32)          320000    \n",
      "_________________________________________________________________\n",
      "simple_rnn_2 (SimpleRNN)     (None, None, 32)          2080      \n",
      "_________________________________________________________________\n",
      "simple_rnn_3 (SimpleRNN)     (None, None, 32)          2080      \n",
      "_________________________________________________________________\n",
      "simple_rnn_4 (SimpleRNN)     (None, None, 32)          2080      \n",
      "_________________________________________________________________\n",
      "simple_rnn_5 (SimpleRNN)     (None, 32)                2080      \n",
      "=================================================================\n",
      "Total params: 328,320\n",
      "Trainable params: 328,320\n",
      "Non-trainable params: 0\n",
      "_________________________________________________________________\n"
     ]
    }
   ],
   "source": [
    "model = Sequential()\n",
    "model.add(Embedding(10000,32))\n",
    "model.add(SimpleRNN(32,return_sequences=True))\n",
    "model.add(SimpleRNN(32,return_sequences=True))\n",
    "model.add(SimpleRNN(32,return_sequences=True))\n",
    "model.add(SimpleRNN(32))  #最后一层仅返回最终输出\n",
    "model.summary()"
   ]
  },
  {
   "cell_type": "markdown",
   "metadata": {},
   "source": [
    "### 将模型应用于IMDB电影评论分类"
   ]
  },
  {
   "cell_type": "markdown",
   "metadata": {},
   "source": [
    "#### 准备IMDB数据"
   ]
  },
  {
   "cell_type": "code",
   "execution_count": 9,
   "metadata": {},
   "outputs": [
    {
     "name": "stdout",
     "output_type": "stream",
     "text": [
      "loading data...\n",
      "25000 train_sequences\n",
      "25000 test_sequences\n",
      "Pad sequences (samples x time)\n",
      "inmput_train shape: (25000, 500)\n",
      "inmput_test shape: (25000, 500)\n"
     ]
    }
   ],
   "source": [
    "from keras.datasets import imdb\n",
    "from keras.preprocessing import sequence\n",
    "\n",
    "max_features = 10000 #作为特征的单词个数\n",
    "maxlen = 500 # 在这么多但此后面截断（这些词都属于前max_features个最常见的单词）\n",
    "batch_size = 32 \n",
    "\n",
    "print('loading data...')\n",
    "\n",
    "(input_train,y_train),(input_test,y_test) = imdb.load_data(num_words=max_features)\n",
    "print(len(input_train),'train_sequences')\n",
    "print(len(input_test),'test_sequences')\n",
    "\n",
    "print('Pad sequences (samples x time)')\n",
    "\n",
    "input_train = sequence.pad_sequences(input_train,maxlen=maxlen)\n",
    "input_test = sequence.pad_sequences(input_test,maxlen=maxlen)\n",
    "print('inmput_train shape:',input_train.shape)\n",
    "print('inmput_test shape:',input_test.shape)\n"
   ]
  },
  {
   "cell_type": "markdown",
   "metadata": {},
   "source": [
    "#### 用Embedding层和SimpleRNN层训练模型"
   ]
  },
  {
   "cell_type": "code",
   "execution_count": 10,
   "metadata": {},
   "outputs": [
    {
     "name": "stdout",
     "output_type": "stream",
     "text": [
      "WARNING:tensorflow:From /Library/Frameworks/Python.framework/Versions/3.6/lib/python3.6/site-packages/tensorflow/python/ops/math_ops.py:3066: to_int32 (from tensorflow.python.ops.math_ops) is deprecated and will be removed in a future version.\n",
      "Instructions for updating:\n",
      "Use tf.cast instead.\n",
      "Train on 20000 samples, validate on 5000 samples\n",
      "Epoch 1/10\n",
      "20000/20000 [==============================] - 19s 931us/step - loss: 0.6186 - acc: 0.6421 - val_loss: 0.5094 - val_acc: 0.7664\n",
      "Epoch 2/10\n",
      "20000/20000 [==============================] - 18s 903us/step - loss: 0.4090 - acc: 0.8278 - val_loss: 0.5449 - val_acc: 0.7564\n",
      "Epoch 3/10\n",
      "20000/20000 [==============================] - 19s 936us/step - loss: 0.2981 - acc: 0.8821 - val_loss: 0.3631 - val_acc: 0.8478\n",
      "Epoch 4/10\n",
      "20000/20000 [==============================] - 19s 949us/step - loss: 0.2332 - acc: 0.9125 - val_loss: 0.4096 - val_acc: 0.8362\n",
      "Epoch 5/10\n",
      "20000/20000 [==============================] - 21s 1ms/step - loss: 0.1686 - acc: 0.9367 - val_loss: 0.3730 - val_acc: 0.8714\n",
      "Epoch 6/10\n",
      "20000/20000 [==============================] - 19s 943us/step - loss: 0.1249 - acc: 0.9546 - val_loss: 0.3992 - val_acc: 0.8468\n",
      "Epoch 7/10\n",
      "20000/20000 [==============================] - 18s 906us/step - loss: 0.0806 - acc: 0.9743 - val_loss: 0.4524 - val_acc: 0.8372\n",
      "Epoch 8/10\n",
      "20000/20000 [==============================] - 19s 958us/step - loss: 0.0522 - acc: 0.9836 - val_loss: 0.4981 - val_acc: 0.8464\n",
      "Epoch 9/10\n",
      "20000/20000 [==============================] - 18s 919us/step - loss: 0.0374 - acc: 0.9892 - val_loss: 0.5875 - val_acc: 0.8144\n",
      "Epoch 10/10\n",
      "20000/20000 [==============================] - 19s 927us/step - loss: 0.0208 - acc: 0.9942 - val_loss: 0.5967 - val_acc: 0.8320\n"
     ]
    }
   ],
   "source": [
    "from keras.layers import Dense\n",
    "\n",
    "model = Sequential()\n",
    "model.add(Embedding(max_features,32))\n",
    "model.add(SimpleRNN(32))\n",
    "model.add(Dense(1,activation='sigmoid'))\n",
    "\n",
    "model.compile(optimizer='rmsprop',loss='binary_crossentropy',metrics=['acc'])\n",
    "history = model.fit(input_train,y_train,\n",
    "                   epochs=10,\n",
    "                   batch_size=128,\n",
    "                   validation_split=0.2)"
   ]
  },
  {
   "cell_type": "markdown",
   "metadata": {},
   "source": [
    "#### 绘制结果"
   ]
  },
  {
   "cell_type": "code",
   "execution_count": 15,
   "metadata": {},
   "outputs": [
    {
     "name": "stderr",
     "output_type": "stream",
     "text": [
      "UsageError: Line magic function `%inline-matplotlib` not found.\n"
     ]
    }
   ],
   "source": [
    "import matplotlib.pyplot as plt\n",
    "\n",
    "%inlined-matplotlib\n",
    "acc = history.history['acc']\n",
    "val_acc = history.history['val_acc']\n",
    "loss = history.history['loss']\n",
    "val_loss = history.history['val_loss']\n",
    "\n",
    "epochs = range(1,len(acc) + 1)\n",
    "plt.plot(epochs,acc,'bo',label='Training acc')\n",
    "plt.plot(epochs,val_acc,'b',label='Validation acc')\n",
    "plt.title('Training and validation accuracy')\n",
    "\n",
    "plt.figure()\n",
    "\n",
    "plt.plot(epochs,loss,'bo',label='Training loss')\n",
    "plt.plot(epochs,val_loss,'b',label='Validation loss')\n",
    "plt.title('Training and validation loss')\n",
    "plt.legend()\n",
    "\n",
    "plt.show()"
   ]
  },
  {
   "cell_type": "code",
   "execution_count": null,
   "metadata": {},
   "outputs": [],
   "source": []
  }
 ],
 "metadata": {
  "kernelspec": {
   "display_name": "Python 3",
   "language": "python",
   "name": "python3"
  },
  "language_info": {
   "codemirror_mode": {
    "name": "ipython",
    "version": 3
   },
   "file_extension": ".py",
   "mimetype": "text/x-python",
   "name": "python",
   "nbconvert_exporter": "python",
   "pygments_lexer": "ipython3",
   "version": "3.6.8"
  }
 },
 "nbformat": 4,
 "nbformat_minor": 2
}
