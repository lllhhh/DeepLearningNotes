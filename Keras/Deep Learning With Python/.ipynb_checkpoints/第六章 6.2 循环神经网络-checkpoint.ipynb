{
 "cells": [
  {
   "cell_type": "markdown",
   "metadata": {},
   "source": [
    "### RNN伪代码"
   ]
  },
  {
   "cell_type": "code",
   "execution_count": null,
   "metadata": {},
   "outputs": [],
   "source": [
    "state_t = 0\n",
    "for input_t in input-sequence: #对序列元素进行遍历\n",
    "    output_t = f(input_t,state_t)\n",
    "    state_t = output_t # 前一次的输出变成下一次迭代的状态"
   ]
  },
  {
   "cell_type": "markdown",
   "metadata": {},
   "source": [
    "### 更详细RNN伪代码"
   ]
  },
  {
   "cell_type": "code",
   "execution_count": null,
   "metadata": {},
   "outputs": [],
   "source": [
    "state_t = 0\n",
    "for input_t in input_sequence:\n",
    "    output_t = activation(W,input_t) + dot(U,state_t) + b\n",
    "    state_t = output_t"
   ]
  },
  {
   "cell_type": "markdown",
   "metadata": {},
   "source": [
    "### 简单RNN的numpy实现"
   ]
  },
  {
   "cell_type": "code",
   "execution_count": 4,
   "metadata": {},
   "outputs": [],
   "source": [
    "import numpy as np\n",
    "\n",
    "timesteps = 100 #时间步数\n",
    "input_features = 32 #特征空间的维度\n",
    "output_features = 64# 特征空间维度\n",
    "\n",
    "inputs = np.random.random((timesteps,input_features))\n",
    "\n",
    "state_t = np.zeros((output_features,)) \n",
    "\n",
    "#常见随机权重矩阵\n",
    "W = np.random.random((output_features,input_features))\n",
    "U = np.random.random((output_features,output_features))\n",
    "b = np.random.random((output_features,))\n",
    "\n",
    "successive_outputs = []\n",
    "for input_t in inputs:\n",
    "    output_t = np.tanh(np.dot(W,input_t) + np.dot(U,state_t) + b)\n",
    "    \n",
    "    successive_outputs.append(output_t)\n",
    "    \n",
    "    state_t = output_t\n",
    "    \n",
    "final_output_sequence = np.stack(successive_outputs,axis=0)"
   ]
  },
  {
   "cell_type": "markdown",
   "metadata": {},
   "source": [
    "## Keras中的循环层"
   ]
  },
  {
   "cell_type": "code",
   "execution_count": 6,
   "metadata": {},
   "outputs": [
    {
     "name": "stdout",
     "output_type": "stream",
     "text": [
      "WARNING:tensorflow:From /Library/Frameworks/Python.framework/Versions/3.6/lib/python3.6/site-packages/tensorflow/python/framework/op_def_library.py:263: colocate_with (from tensorflow.python.framework.ops) is deprecated and will be removed in a future version.\n",
      "Instructions for updating:\n",
      "Colocations handled automatically by placer.\n",
      "_________________________________________________________________\n",
      "Layer (type)                 Output Shape              Param #   \n",
      "=================================================================\n",
      "embedding_1 (Embedding)      (None, None, 32)          320000    \n",
      "_________________________________________________________________\n",
      "simple_rnn_1 (SimpleRNN)     (None, 32)                2080      \n",
      "=================================================================\n",
      "Total params: 322,080\n",
      "Trainable params: 322,080\n",
      "Non-trainable params: 0\n",
      "_________________________________________________________________\n"
     ]
    }
   ],
   "source": [
    "from keras.layers import SimpleRNN\n",
    "from keras.models import Sequential\n",
    "from keras.layers import Embedding,SimpleRNN\n",
    "\n",
    "model = Sequential()\n",
    "model.add(Embedding(10000,32))\n",
    "model.add(SimpleRNN(32,return_sequences=True))\n",
    "model.summary()"
   ]
  },
  {
   "cell_type": "markdown",
   "metadata": {},
   "source": [
    "提高网络的表示能力，将多个循环层逐个堆叠"
   ]
  },
  {
   "cell_type": "code",
   "execution_count": 7,
   "metadata": {},
   "outputs": [
    {
     "name": "stdout",
     "output_type": "stream",
     "text": [
      "_________________________________________________________________\n",
      "Layer (type)                 Output Shape              Param #   \n",
      "=================================================================\n",
      "embedding_2 (Embedding)      (None, None, 32)          320000    \n",
      "_________________________________________________________________\n",
      "simple_rnn_2 (SimpleRNN)     (None, None, 32)          2080      \n",
      "_________________________________________________________________\n",
      "simple_rnn_3 (SimpleRNN)     (None, None, 32)          2080      \n",
      "_________________________________________________________________\n",
      "simple_rnn_4 (SimpleRNN)     (None, None, 32)          2080      \n",
      "_________________________________________________________________\n",
      "simple_rnn_5 (SimpleRNN)     (None, 32)                2080      \n",
      "=================================================================\n",
      "Total params: 328,320\n",
      "Trainable params: 328,320\n",
      "Non-trainable params: 0\n",
      "_________________________________________________________________\n"
     ]
    }
   ],
   "source": [
    "model = Sequential()\n",
    "model.add(Embedding(10000,32))\n",
    "model.add(SimpleRNN(32,return_sequences=True))\n",
    "model.add(SimpleRNN(32,return_sequences=True))\n",
    "model.add(SimpleRNN(32,return_sequences=True))\n",
    "model.add(SimpleRNN(32))  #最后一层仅返回最终输出\n",
    "model.summary()"
   ]
  },
  {
   "cell_type": "markdown",
   "metadata": {},
   "source": [
    "### 将模型应用于IMDB电影评论分类"
   ]
  },
  {
   "cell_type": "markdown",
   "metadata": {},
   "source": [
    "#### 准备IMDB数据"
   ]
  },
  {
   "cell_type": "code",
   "execution_count": 9,
   "metadata": {},
   "outputs": [
    {
     "name": "stdout",
     "output_type": "stream",
     "text": [
      "loading data...\n",
      "25000 train_sequences\n",
      "25000 test_sequences\n",
      "Pad sequences (samples x time)\n",
      "inmput_train shape: (25000, 500)\n",
      "inmput_test shape: (25000, 500)\n"
     ]
    }
   ],
   "source": [
    "from keras.datasets import imdb\n",
    "from keras.preprocessing import sequence\n",
    "\n",
    "max_features = 10000 #作为特征的单词个数\n",
    "maxlen = 500 # 在这么多但此后面截断（这些词都属于前max_features个最常见的单词）\n",
    "batch_size = 32 \n",
    "\n",
    "print('loading data...')\n",
    "\n",
    "(input_train,y_train),(input_test,y_test) = imdb.load_data(num_words=max_features)\n",
    "print(len(input_train),'train_sequences')\n",
    "print(len(input_test),'test_sequences')\n",
    "\n",
    "print('Pad sequences (samples x time)')\n",
    "\n",
    "input_train = sequence.pad_sequences(input_train,maxlen=maxlen)\n",
    "input_test = sequence.pad_sequences(input_test,maxlen=maxlen)\n",
    "print('inmput_train shape:',input_train.shape)\n",
    "print('inmput_test shape:',input_test.shape)\n"
   ]
  },
  {
   "cell_type": "markdown",
   "metadata": {},
   "source": [
    "#### 用Embedding层和SimpleRNN层训练模型"
   ]
  },
  {
   "cell_type": "code",
   "execution_count": 10,
   "metadata": {},
   "outputs": [
    {
     "name": "stdout",
     "output_type": "stream",
     "text": [
      "WARNING:tensorflow:From /Library/Frameworks/Python.framework/Versions/3.6/lib/python3.6/site-packages/tensorflow/python/ops/math_ops.py:3066: to_int32 (from tensorflow.python.ops.math_ops) is deprecated and will be removed in a future version.\n",
      "Instructions for updating:\n",
      "Use tf.cast instead.\n",
      "Train on 20000 samples, validate on 5000 samples\n",
      "Epoch 1/10\n",
      "20000/20000 [==============================] - 19s 931us/step - loss: 0.6186 - acc: 0.6421 - val_loss: 0.5094 - val_acc: 0.7664\n",
      "Epoch 2/10\n",
      "20000/20000 [==============================] - 18s 903us/step - loss: 0.4090 - acc: 0.8278 - val_loss: 0.5449 - val_acc: 0.7564\n",
      "Epoch 3/10\n",
      "20000/20000 [==============================] - 19s 936us/step - loss: 0.2981 - acc: 0.8821 - val_loss: 0.3631 - val_acc: 0.8478\n",
      "Epoch 4/10\n",
      "20000/20000 [==============================] - 19s 949us/step - loss: 0.2332 - acc: 0.9125 - val_loss: 0.4096 - val_acc: 0.8362\n",
      "Epoch 5/10\n",
      "20000/20000 [==============================] - 21s 1ms/step - loss: 0.1686 - acc: 0.9367 - val_loss: 0.3730 - val_acc: 0.8714\n",
      "Epoch 6/10\n",
      "20000/20000 [==============================] - 19s 943us/step - loss: 0.1249 - acc: 0.9546 - val_loss: 0.3992 - val_acc: 0.8468\n",
      "Epoch 7/10\n",
      "20000/20000 [==============================] - 18s 906us/step - loss: 0.0806 - acc: 0.9743 - val_loss: 0.4524 - val_acc: 0.8372\n",
      "Epoch 8/10\n",
      "20000/20000 [==============================] - 19s 958us/step - loss: 0.0522 - acc: 0.9836 - val_loss: 0.4981 - val_acc: 0.8464\n",
      "Epoch 9/10\n",
      "20000/20000 [==============================] - 18s 919us/step - loss: 0.0374 - acc: 0.9892 - val_loss: 0.5875 - val_acc: 0.8144\n",
      "Epoch 10/10\n",
      "20000/20000 [==============================] - 19s 927us/step - loss: 0.0208 - acc: 0.9942 - val_loss: 0.5967 - val_acc: 0.8320\n"
     ]
    }
   ],
   "source": [
    "from keras.layers import Dense\n",
    "\n",
    "model = Sequential()\n",
    "model.add(Embedding(max_features,32))\n",
    "model.add(SimpleRNN(32))\n",
    "model.add(Dense(1,activation='sigmoid'))\n",
    "\n",
    "model.compile(optimizer='rmsprop',loss='binary_crossentropy',metrics=['acc'])\n",
    "history = model.fit(input_train,y_train,\n",
    "                   epochs=10,\n",
    "                   batch_size=128,\n",
    "                   validation_split=0.2)"
   ]
  },
  {
   "cell_type": "markdown",
   "metadata": {},
   "source": [
    "#### 绘制结果"
   ]
  },
  {
   "cell_type": "code",
   "execution_count": 17,
   "metadata": {},
   "outputs": [
    {
     "data": {
      "image/png": "[encoded data removed]",
      "text/plain": [
       "<Figure size 432x288 with 1 Axes>"
      ]
     },
     "metadata": {
      "needs_background": "light"
     },
     "output_type": "display_data"
    },
    {
     "data": {
      "image/png": "[encoded data removed]",
      "text/plain": [
       "<Figure size 432x288 with 1 Axes>"
      ]
     },
     "metadata": {
      "needs_background": "light"
     },
     "output_type": "display_data"
    }
   ],
   "source": [
    "import matplotlib.pyplot as plt\n",
    "\n",
    "%matplotlib inline\n",
    "acc = history.history['acc']\n",
    "val_acc = history.history['val_acc']\n",
    "loss = history.history['loss']\n",
    "val_loss = history.history['val_loss']\n",
    "\n",
    "epochs = range(1,len(acc) + 1)\n",
    "plt.plot(epochs,acc,'bo',label='Training acc')\n",
    "plt.plot(epochs,val_acc,'b',label='Validation acc')\n",
    "plt.title('Training and validation accuracy')\n",
    "\n",
    "plt.figure()\n",
    "\n",
    "plt.plot(epochs,loss,'bo',label='Training loss')\n",
    "plt.plot(epochs,val_loss,'b',label='Validation loss')\n",
    "plt.title('Training and validation loss')\n",
    "plt.legend()\n",
    "\n",
    "plt.show()"
   ]
  },
  {
   "cell_type": "markdown",
   "metadata": {},
   "source": [
    "### LSTM和GRU"
   ]
  },
  {
   "cell_type": "markdown",
   "metadata": {},
   "source": [
    "#### LSTM架构详解"
   ]
  },
  {
   "cell_type": "code",
   "execution_count": null,
   "metadata": {},
   "outputs": [],
   "source": [
    "output_t = activation(dot(state_t,Uo) + dot(input_t,Wo) + dot(C_t,Vo)+bo)\n",
    "\n",
    "i_t = activation(dot(state_t, Ui) + dot(input_t, Wi) + bi)\n",
    "f_t = activation(dot(state_t, Ui) + dot(input_t, Wi) + bf)\n",
    "k_t = activation(dot(state_t, Ui) + dot(input_t, Wi) + bk)\n",
    "\n",
    "c_t+1 = i_t *k_t + c_t * f_t"
   ]
  },
  {
   "cell_type": "markdown",
   "metadata": {},
   "source": [
    "### LSTM处理IMDB数据"
   ]
  },
  {
   "cell_type": "code",
   "execution_count": 18,
   "metadata": {},
   "outputs": [
    {
     "name": "stdout",
     "output_type": "stream",
     "text": [
      "Train on 20000 samples, validate on 5000 samples\n",
      "Epoch 1/10\n",
      "20000/20000 [==============================] - 72s 4ms/step - loss: 0.5091 - acc: 0.7634 - val_loss: 0.3393 - val_acc: 0.8644\n",
      "Epoch 2/10\n",
      "20000/20000 [==============================] - 72s 4ms/step - loss: 0.2954 - acc: 0.8845 - val_loss: 0.3612 - val_acc: 0.8372\n",
      "Epoch 3/10\n",
      "20000/20000 [==============================] - 72s 4ms/step - loss: 0.2333 - acc: 0.9109 - val_loss: 0.3351 - val_acc: 0.8776\n",
      "Epoch 4/10\n",
      "20000/20000 [==============================] - 73s 4ms/step - loss: 0.1958 - acc: 0.9274 - val_loss: 0.3080 - val_acc: 0.8658\n",
      "Epoch 5/10\n",
      "20000/20000 [==============================] - 75s 4ms/step - loss: 0.1763 - acc: 0.9352 - val_loss: 0.2979 - val_acc: 0.8894\n",
      "Epoch 6/10\n",
      "20000/20000 [==============================] - 73s 4ms/step - loss: 0.1543 - acc: 0.9422 - val_loss: 0.4495 - val_acc: 0.8516\n",
      "Epoch 7/10\n",
      "20000/20000 [==============================] - 74s 4ms/step - loss: 0.1395 - acc: 0.9496 - val_loss: 0.3588 - val_acc: 0.8804\n",
      "Epoch 8/10\n",
      "20000/20000 [==============================] - 75s 4ms/step - loss: 0.1372 - acc: 0.9524 - val_loss: 0.3221 - val_acc: 0.8822\n",
      "Epoch 9/10\n",
      "20000/20000 [==============================] - 74s 4ms/step - loss: 0.1129 - acc: 0.9595 - val_loss: 0.3453 - val_acc: 0.8842\n",
      "Epoch 10/10\n",
      "20000/20000 [==============================] - 74s 4ms/step - loss: 0.1073 - acc: 0.9617 - val_loss: 0.3662 - val_acc: 0.8682\n"
     ]
    }
   ],
   "source": [
    "from keras.layers import LSTM\n",
    "\n",
    "model = Sequential()\n",
    "model.add(Embedding(max_features,32))\n",
    "model.add(LSTM(32))\n",
    "model.add(Dense(1,activation='sigmoid'))\n",
    "\n",
    "model.compile(optimizer='rmsprop',loss='binary_crossentropy',metrics=['acc'])\n",
    "\n",
    "history = model.fit(input_train,y_train,epochs=10,batch_size=128,validation_split=0.2)\n"
   ]
  },
  {
   "cell_type": "code",
   "execution_count": 19,
   "metadata": {},
   "outputs": [
    {
     "data": {
      "image/png": "[encoded data removed]",
      "text/plain": [
       "<Figure size 432x288 with 1 Axes>"
      ]
     },
     "metadata": {
      "needs_background": "light"
     },
     "output_type": "display_data"
    },
    {
     "data": {
      "image/png": "[encoded data removed]",
      "text/plain": [
       "<Figure size 432x288 with 1 Axes>"
      ]
     },
     "metadata": {
      "needs_background": "light"
     },
     "output_type": "display_data"
    }
   ],
   "source": [
    "import matplotlib.pyplot as plt\n",
    "\n",
    "%matplotlib inline\n",
    "acc = history.history['acc']\n",
    "val_acc = history.history['val_acc']\n",
    "loss = history.history['loss']\n",
    "val_loss = history.history['val_loss']\n",
    "\n",
    "epochs = range(1,len(acc) + 1)\n",
    "plt.plot(epochs,acc,'bo',label='Training acc')\n",
    "plt.plot(epochs,val_acc,'b',label='Validation acc')\n",
    "plt.title('Training and validation accuracy')\n",
    "\n",
    "plt.figure()\n",
    "\n",
    "plt.plot(epochs,loss,'bo',label='Training loss')\n",
    "plt.plot(epochs,val_loss,'b',label='Validation loss')\n",
    "plt.title('Training and validation loss')\n",
    "plt.legend()\n",
    "\n",
    "plt.show()"
   ]
  },
  {
   "cell_type": "markdown",
   "metadata": {},
   "source": [
    " 循环神经网络高级用法\n"
   ]
  },
  {
   "cell_type": "markdown",
   "metadata": {},
   "source": [
    "## 温度预测问题"
   ]
  },
  {
   "cell_type": "code",
   "execution_count": 3,
   "metadata": {},
   "outputs": [
    {
     "name": "stdout",
     "output_type": "stream",
     "text": [
      "['\"Date Time\"', '\"p (mbar)\"', '\"T (degC)\"', '\"Tpot (K)\"', '\"Tdew (degC)\"', '\"rh (%)\"', '\"VPmax (mbar)\"', '\"VPact (mbar)\"', '\"VPdef (mbar)\"', '\"sh (g/kg)\"', '\"H2OC (mmol/mol)\"', '\"rho (g/m**3)\"', '\"wv (m/s)\"', '\"max. wv (m/s)\"', '\"wd (deg)\"']\n",
      "420551\n"
     ]
    }
   ],
   "source": [
    "# 观察天气数据集数据\n",
    "import os\n",
    "\n",
    "data_dir = '/Users/liuhuan/Downloads/jena_climate'\n",
    "fname = os.path.join(data_dir,'jena_climate_2009_2016.csv')\n",
    "\n",
    "f = open(fname)\n",
    "data = f.read()\n",
    "f.close()\n",
    "\n",
    "lines =data.split('\\n')\n",
    "header = lines[0].split(',')\n",
    "lines = lines[1:]\n",
    "\n",
    "print(header)\n",
    "print(len(lines))"
   ]
  },
  {
   "cell_type": "code",
   "execution_count": 4,
   "metadata": {},
   "outputs": [
    {
     "data": {
      "text/plain": [
       "array([[ 9.9652e+02, -8.0200e+00,  2.6540e+02, ...,  1.0300e+00,\n",
       "         1.7500e+00,  1.5230e+02],\n",
       "       [ 9.9657e+02, -8.4100e+00,  2.6501e+02, ...,  7.2000e-01,\n",
       "         1.5000e+00,  1.3610e+02],\n",
       "       [ 9.9653e+02, -8.5100e+00,  2.6491e+02, ...,  1.9000e-01,\n",
       "         6.3000e-01,  1.7160e+02],\n",
       "       ...,\n",
       "       [ 9.9982e+02, -3.1600e+00,  2.7001e+02, ...,  1.0800e+00,\n",
       "         2.0000e+00,  2.1520e+02],\n",
       "       [ 9.9981e+02, -4.2300e+00,  2.6894e+02, ...,  1.4900e+00,\n",
       "         2.1600e+00,  2.2580e+02],\n",
       "       [ 9.9982e+02, -4.8200e+00,  2.6836e+02, ...,  1.2300e+00,\n",
       "         1.9600e+00,  1.8490e+02]])"
      ]
     },
     "execution_count": 4,
     "metadata": {},
     "output_type": "execute_result"
    }
   ],
   "source": [
    "# 解析数据\n",
    "import numpy as np\n",
    "\n",
    "float_data = np.zeros((len(lines),len(header) - 1))\n",
    "for i,line in enumerate(lines):\n",
    "    values = [float(x) for x in line.split(',')[1:]]\n",
    "    float_data[i,:] = values\n",
    "float_data"
   ]
  },
  {
   "cell_type": "code",
   "execution_count": 25,
   "metadata": {},
   "outputs": [
    {
     "data": {
      "image/png": "[encoded data removed]",
      "text/plain": [
       "<Figure size 432x288 with 1 Axes>"
      ]
     },
     "metadata": {
      "needs_background": "light"
     },
     "output_type": "display_data"
    }
   ],
   "source": [
    "# 绘制温度时间序列\n",
    "import matplotlib.pyplot as plt\n",
    "\n",
    "temp = float_data[:,1] #温度（单位：摄氏度）\n",
    "plt.plot(range(len(temp)),temp)\n",
    "plt.show()"
   ]
  },
  {
   "cell_type": "code",
   "execution_count": 26,
   "metadata": {},
   "outputs": [
    {
     "data": {
      "text/plain": [
       "[<matplotlib.lines.Line2D at 0x148845c18>]"
      ]
     },
     "execution_count": 26,
     "metadata": {},
     "output_type": "execute_result"
    },
    {
     "data": {
      "image/png": "[encoded data removed]",
      "text/plain": [
       "<Figure size 432x288 with 1 Axes>"
      ]
     },
     "metadata": {
      "needs_background": "light"
     },
     "output_type": "display_data"
    }
   ],
   "source": [
    "# 绘制前十天温度序列\n",
    "plt.plot(range(1440),temp[:1440])"
   ]
  },
  {
   "cell_type": "markdown",
   "metadata": {},
   "source": [
    "##  数据准备"
   ]
  },
  {
   "cell_type": "markdown",
   "metadata": {},
   "source": [
    "### 数据标准化"
   ]
  },
  {
   "cell_type": "code",
   "execution_count": 5,
   "metadata": {},
   "outputs": [],
   "source": [
    "mean = float_data[:200000].mean(axis=0)\n",
    "float_data -= mean\n",
    "std = float_data[:200000].std(axis=0)\n",
    "float_data /= std"
   ]
  },
  {
   "cell_type": "code",
   "execution_count": 18,
   "metadata": {},
   "outputs": [],
   "source": [
    "# 生成时间序列样本及目标的生成器\n",
    "\n",
    "def generator(data, lookback, delay, min_index, max_index,\n",
    "              shuffle=False, batch_size=128, step=6):\n",
    "    if max_index is None:\n",
    "        max_index = len(data) - delay - 1\n",
    "    i = min_index + lookback\n",
    "    while 1:\n",
    "        if shuffle:\n",
    "            rows = np.random.randint(\n",
    "                min_index + lookback, max_index, size=batch_size)\n",
    "        else:\n",
    "            if i + batch_size >= max_index:\n",
    "                i = min_index + lookback\n",
    "            rows = np.arange(i, min(i + batch_size, max_index))\n",
    "            i += len(rows)\n",
    "\n",
    "        samples = np.zeros((len(rows),\n",
    "                           lookback // step,\n",
    "                           data.shape[-1]))\n",
    "        targets = np.zeros((len(rows),))\n",
    "        for j, row in enumerate(rows):\n",
    "            indices = range(rows[j] - lookback, rows[j], step)\n",
    "            samples[j] = data[indices]\n",
    "            targets[j] = data[rows[j] + delay][1]\n",
    "        yield samples, targets\n"
   ]
  },
  {
   "cell_type": "markdown",
   "metadata": {},
   "source": [
    "### 准备训练生成数据、验证和测试数据集"
   ]
  },
  {
   "cell_type": "code",
   "execution_count": 25,
   "metadata": {},
   "outputs": [],
   "source": [
    "lookback = 1440\n",
    "step = 6\n",
    "delay = 144\n",
    "batch_size = 128\n",
    "\n",
    "train_gen = generator(float_data,\n",
    "                      lookback=lookback,\n",
    "                      delay=delay,\n",
    "                      min_index=0,\n",
    "                      max_index=200000,\n",
    "                      shuffle=True,\n",
    "                      step=step, \n",
    "                      batch_size=batch_size)\n",
    "val_gen = generator(float_data,\n",
    "                    lookback=lookback,\n",
    "                    delay=delay,\n",
    "                    min_index=200001,\n",
    "                    max_index=300000,\n",
    "                    step=step,\n",
    "                    batch_size=batch_size)\n",
    "test_gen = generator(float_data,\n",
    "                     lookback=lookback,\n",
    "                     delay=delay,\n",
    "                     min_index=300001,\n",
    "                     max_index=None,\n",
    "                     step=step,\n",
    "                     batch_size=batch_size)\n",
    "\n",
    "# This is how many steps to draw from `val_gen`\n",
    "# in order to see the whole validation set:\n",
    "val_steps = (300000 - 200001 - lookback) // batch_size\n",
    "\n",
    "# This is how many steps to draw from `test_gen`\n",
    "# in order to see the whole test set:\n",
    "test_steps = (len(float_data) - 300001 - lookback) // batch_size"
   ]
  },
  {
   "cell_type": "markdown",
   "metadata": {},
   "source": [
    "###  一种基于常识的、非机器学习的基准方法"
   ]
  },
  {
   "cell_type": "markdown",
   "metadata": {},
   "source": [
    "#### 计算符合常识的基准方法的MAE"
   ]
  },
  {
   "cell_type": "code",
   "execution_count": 26,
   "metadata": {},
   "outputs": [
    {
     "name": "stdout",
     "output_type": "stream",
     "text": [
      "0.29038500871172734\n"
     ]
    }
   ],
   "source": [
    "def evaluate_naive_method():\n",
    "    batch_maes = []\n",
    "    for step in range(val_steps):\n",
    "        samples,targets = next(val_gen)\n",
    "        preds = samples[:,-1,1]\n",
    "        mae = np.mean(np.abs(preds - targets))\n",
    "        batch_maes.append(mae)\n",
    "    print(np.mean(batch_maes))\n",
    "    \n",
    "evaluate_naive_method()\n",
    "\n",
    "# 将MAE转换成摄氏温度\n",
    "celsius_mae = 0.29 * std[1]"
   ]
  },
  {
   "cell_type": "code",
   "execution_count": 28,
   "metadata": {},
   "outputs": [
    {
     "name": "stdout",
     "output_type": "stream",
     "text": [
      "Epoch 1/20\n",
      "500/500 [==============================] - 6s 12ms/step - loss: 0.4195 - val_loss: 0.3107\n",
      "Epoch 2/20\n",
      "500/500 [==============================] - 6s 11ms/step - loss: 0.3074 - val_loss: 0.2775\n",
      "Epoch 3/20\n",
      "500/500 [==============================] - 6s 11ms/step - loss: 0.2862 - val_loss: 0.2923\n",
      "Epoch 4/20\n",
      "500/500 [==============================] - 6s 12ms/step - loss: 0.2768 - val_loss: 0.2669\n",
      "Epoch 5/20\n",
      "500/500 [==============================] - 6s 13ms/step - loss: 0.2721 - val_loss: 0.2915\n",
      "Epoch 6/20\n",
      "500/500 [==============================] - 5s 10ms/step - loss: 0.2678 - val_loss: 0.2682\n",
      "Epoch 7/20\n",
      "500/500 [==============================] - 5s 11ms/step - loss: 0.2644 - val_loss: 0.2675\n",
      "Epoch 8/20\n",
      "500/500 [==============================] - 5s 10ms/step - loss: 0.2636 - val_loss: 0.2725\n",
      "Epoch 9/20\n",
      "500/500 [==============================] - 5s 11ms/step - loss: 0.2608 - val_loss: 0.2749\n",
      "Epoch 10/20\n",
      "500/500 [==============================] - 5s 10ms/step - loss: 0.2594 - val_loss: 0.2713\n",
      "Epoch 11/20\n",
      "500/500 [==============================] - 5s 10ms/step - loss: 0.2583 - val_loss: 0.2857\n",
      "Epoch 12/20\n",
      "500/500 [==============================] - 5s 10ms/step - loss: 0.2546 - val_loss: 0.2691\n",
      "Epoch 13/20\n",
      "500/500 [==============================] - 5s 10ms/step - loss: 0.2530 - val_loss: 0.2709\n",
      "Epoch 14/20\n",
      "500/500 [==============================] - 5s 11ms/step - loss: 0.2527 - val_loss: 0.2703\n",
      "Epoch 15/20\n",
      "500/500 [==============================] - 5s 11ms/step - loss: 0.2533 - val_loss: 0.2752\n",
      "Epoch 16/20\n",
      "500/500 [==============================] - 6s 11ms/step - loss: 0.2506 - val_loss: 0.2671\n",
      "Epoch 17/20\n",
      "500/500 [==============================] - 5s 10ms/step - loss: 0.2509 - val_loss: 0.2906\n",
      "Epoch 18/20\n",
      "500/500 [==============================] - 5s 10ms/step - loss: 0.2487 - val_loss: 0.2814\n",
      "Epoch 19/20\n",
      "500/500 [==============================] - 5s 10ms/step - loss: 0.2476 - val_loss: 0.2961\n",
      "Epoch 20/20\n",
      "500/500 [==============================] - 5s 9ms/step - loss: 0.2490 - val_loss: 0.2703\n"
     ]
    }
   ],
   "source": [
    "# 一个基本的机器学习方法\n",
    "from keras.models import Sequential\n",
    "from keras import layers\n",
    "from keras.optimizers import RMSprop\n",
    "\n",
    "model = Sequential()\n",
    "model.add(layers.Flatten(input_shape=(lookback // step, float_data.shape[-1])))\n",
    "model.add(layers.Dense(32, activation='relu'))\n",
    "model.add(layers.Dense(1))\n",
    "\n",
    "model.compile(optimizer=RMSprop(), loss='mae')\n",
    "history = model.fit_generator(train_gen,\n",
    "                              steps_per_epoch=500,\n",
    "                              epochs=20,\n",
    "                              validation_data=val_gen,\n",
    "                              validation_steps=val_steps)"
   ]
  },
  {
   "cell_type": "code",
   "execution_count": 30,
   "metadata": {},
   "outputs": [
    {
     "data": {
      "image/png": "[encoded data removed]",
      "text/plain": [
       "<Figure size 432x288 with 1 Axes>"
      ]
     },
     "metadata": {
      "needs_background": "light"
     },
     "output_type": "display_data"
    }
   ],
   "source": [
    "import matplotlib.pyplot as plt\n",
    "%matplotlib inline\n",
    "loss = history.history['loss']\n",
    "val_loss = history.history['val_loss']\n",
    "\n",
    "epochs = range(1,len(loss) + 1)\n",
    "\n",
    "plt.figure()\n",
    "\n",
    "plt.plot(epochs,loss,'bo',label=\"Traning loss\")\n",
    "plt.plot(epochs,val_loss,'b',label='Validation loss')\n",
    "plt.title('Traning and Validation loss')\n",
    "plt.legend()\n",
    "\n",
    "plt.show()"
   ]
  },
  {
   "cell_type": "markdown",
   "metadata": {},
   "source": [
    "## 第一个循环网络基准\n",
    "### 训练并评估一个基于GRU的模型"
   ]
  },
  {
   "cell_type": "code",
   "execution_count": 32,
   "metadata": {},
   "outputs": [
    {
     "name": "stdout",
     "output_type": "stream",
     "text": [
      "Epoch 1/20\n",
      "500/500 [==============================] - 18s 36ms/step - loss: 0.3029 - val_loss: 0.2749\n",
      "Epoch 2/20\n",
      "500/500 [==============================] - 17s 34ms/step - loss: 0.2875 - val_loss: 0.2697\n",
      "Epoch 3/20\n",
      "500/500 [==============================] - 18s 36ms/step - loss: 0.2805 - val_loss: 0.2812\n",
      "Epoch 4/20\n",
      "500/500 [==============================] - 17s 34ms/step - loss: 0.2764 - val_loss: 0.2695\n",
      "Epoch 5/20\n",
      "500/500 [==============================] - 17s 34ms/step - loss: 0.2709 - val_loss: 0.2718\n",
      "Epoch 6/20\n",
      "500/500 [==============================] - 17s 35ms/step - loss: 0.2673 - val_loss: 0.2622\n",
      "Epoch 7/20\n",
      "500/500 [==============================] - 17s 34ms/step - loss: 0.2635 - val_loss: 0.2723\n",
      "Epoch 8/20\n",
      "500/500 [==============================] - 17s 34ms/step - loss: 0.2584 - val_loss: 0.2631\n",
      "Epoch 9/20\n",
      "500/500 [==============================] - 17s 34ms/step - loss: 0.2563 - val_loss: 0.2729\n",
      "Epoch 10/20\n",
      "500/500 [==============================] - 18s 37ms/step - loss: 0.2520 - val_loss: 0.2649\n",
      "Epoch 11/20\n",
      "500/500 [==============================] - 19s 37ms/step - loss: 0.2479 - val_loss: 0.2691\n",
      "Epoch 12/20\n",
      "500/500 [==============================] - 18s 35ms/step - loss: 0.2450 - val_loss: 0.2765\n",
      "Epoch 13/20\n",
      "500/500 [==============================] - 17s 35ms/step - loss: 0.2404 - val_loss: 0.2718\n",
      "Epoch 14/20\n",
      "500/500 [==============================] - 17s 34ms/step - loss: 0.2377 - val_loss: 0.2742\n",
      "Epoch 15/20\n",
      "500/500 [==============================] - 17s 34ms/step - loss: 0.2358 - val_loss: 0.2757\n",
      "Epoch 16/20\n",
      "500/500 [==============================] - 17s 35ms/step - loss: 0.2318 - val_loss: 0.2766\n",
      "Epoch 17/20\n",
      "500/500 [==============================] - 17s 34ms/step - loss: 0.2292 - val_loss: 0.2777\n",
      "Epoch 18/20\n",
      "500/500 [==============================] - 17s 35ms/step - loss: 0.2250 - val_loss: 0.2811\n",
      "Epoch 19/20\n",
      "500/500 [==============================] - 17s 34ms/step - loss: 0.2226 - val_loss: 0.2842\n",
      "Epoch 20/20\n",
      "500/500 [==============================] - 17s 34ms/step - loss: 0.2191 - val_loss: 0.2872\n"
     ]
    },
    {
     "data": {
      "image/png": "[encoded data removed]",
      "text/plain": [
       "<Figure size 432x288 with 1 Axes>"
      ]
     },
     "metadata": {
      "needs_background": "light"
     },
     "output_type": "display_data"
    }
   ],
   "source": [
    "from keras.models import Sequential\n",
    "from keras import layers\n",
    "from keras.optimizers import RMSprop\n",
    "\n",
    "model = Sequential()\n",
    "model.add(layers.GRU(32,input_shape=(None,float_data.shape[-1])))\n",
    "model.add(layers.Dense(1))\n",
    "\n",
    "model.compile(optimizer=RMSprop(),loss='mae')\n",
    "history = model.fit_generator(train_gen,\n",
    "                             steps_per_epoch=500,\n",
    "                             epochs=20,\n",
    "                             validation_data=val_gen,\n",
    "                             validation_steps=val_steps)\n",
    "\n",
    "# 绘制曲线\n",
    "import matplotlib.pyplot as plt\n",
    "%matplotlib inline\n",
    "loss = history.history['loss']\n",
    "val_loss = history.history['val_loss']\n",
    "\n",
    "epochs = range(1,len(loss) + 1)\n",
    "\n",
    "plt.figure()\n",
    "\n",
    "plt.plot(epochs,loss,'bo',label=\"Traning loss\")\n",
    "plt.plot(epochs,val_loss,'b',label='Validation loss')\n",
    "plt.title('Traning and Validation loss')\n",
    "plt.legend()\n",
    "\n",
    "plt.show()"
   ]
  },
  {
   "cell_type": "markdown",
   "metadata": {},
   "source": [
    "### 使用循环dropout来降低过拟合"
   ]
  },
  {
   "cell_type": "code",
   "execution_count": 33,
   "metadata": {},
   "outputs": [
    {
     "name": "stdout",
     "output_type": "stream",
     "text": [
      "WARNING:tensorflow:From /Library/Frameworks/Python.framework/Versions/3.6/lib/python3.6/site-packages/keras/backend/tensorflow_backend.py:3445: calling dropout (from tensorflow.python.ops.nn_ops) with keep_prob is deprecated and will be removed in a future version.\n",
      "Instructions for updating:\n",
      "Please use `rate` instead of `keep_prob`. Rate should be set to `rate = 1 - keep_prob`.\n",
      "Epoch 1/40\n",
      "500/500 [==============================] - 22s 44ms/step - loss: 0.3400 - val_loss: 0.2822\n",
      "Epoch 2/40\n",
      "500/500 [==============================] - 20s 41ms/step - loss: 0.3151 - val_loss: 0.2832\n",
      "Epoch 3/40\n",
      "500/500 [==============================] - 20s 40ms/step - loss: 0.3103 - val_loss: 0.2791\n",
      "Epoch 4/40\n",
      "500/500 [==============================] - 20s 40ms/step - loss: 0.3075 - val_loss: 0.2706\n",
      "Epoch 5/40\n",
      "500/500 [==============================] - 21s 42ms/step - loss: 0.3014 - val_loss: 0.2697\n",
      "Epoch 6/40\n",
      "500/500 [==============================] - 20s 41ms/step - loss: 0.2983 - val_loss: 0.2677\n",
      "Epoch 7/40\n",
      "500/500 [==============================] - 20s 41ms/step - loss: 0.2962 - val_loss: 0.2726\n",
      "Epoch 8/40\n",
      "500/500 [==============================] - 20s 40ms/step - loss: 0.2940 - val_loss: 0.2662\n",
      "Epoch 9/40\n",
      "500/500 [==============================] - 20s 40ms/step - loss: 0.2935 - val_loss: 0.2685\n",
      "Epoch 10/40\n",
      "500/500 [==============================] - 20s 40ms/step - loss: 0.2925 - val_loss: 0.2657\n",
      "Epoch 11/40\n",
      "500/500 [==============================] - 20s 40ms/step - loss: 0.2884 - val_loss: 0.2671\n",
      "Epoch 12/40\n",
      "500/500 [==============================] - 20s 40ms/step - loss: 0.2878 - val_loss: 0.2705\n",
      "Epoch 13/40\n",
      "500/500 [==============================] - 20s 40ms/step - loss: 0.2880 - val_loss: 0.2666\n",
      "Epoch 14/40\n",
      "500/500 [==============================] - 20s 40ms/step - loss: 0.2878 - val_loss: 0.2645\n",
      "Epoch 15/40\n",
      "500/500 [==============================] - 20s 40ms/step - loss: 0.2865 - val_loss: 0.2657\n",
      "Epoch 16/40\n",
      "500/500 [==============================] - 20s 40ms/step - loss: 0.2822 - val_loss: 0.2636\n",
      "Epoch 17/40\n",
      "500/500 [==============================] - 20s 40ms/step - loss: 0.2847 - val_loss: 0.2655\n",
      "Epoch 18/40\n",
      "500/500 [==============================] - 20s 40ms/step - loss: 0.2850 - val_loss: 0.2635\n",
      "Epoch 19/40\n",
      "500/500 [==============================] - 20s 40ms/step - loss: 0.2829 - val_loss: 0.2636\n",
      "Epoch 20/40\n",
      "500/500 [==============================] - 20s 40ms/step - loss: 0.2819 - val_loss: 0.2658\n",
      "Epoch 21/40\n",
      "500/500 [==============================] - 20s 41ms/step - loss: 0.2809 - val_loss: 0.2640\n",
      "Epoch 22/40\n",
      "500/500 [==============================] - 20s 41ms/step - loss: 0.2806 - val_loss: 0.2640\n",
      "Epoch 23/40\n",
      "500/500 [==============================] - 19s 38ms/step - loss: 0.2810 - val_loss: 0.2641\n",
      "Epoch 24/40\n",
      "500/500 [==============================] - 19s 37ms/step - loss: 0.2785 - val_loss: 0.2657\n",
      "Epoch 25/40\n",
      "500/500 [==============================] - 19s 38ms/step - loss: 0.2784 - val_loss: 0.2720\n",
      "Epoch 26/40\n",
      "500/500 [==============================] - 19s 38ms/step - loss: 0.2786 - val_loss: 0.2638\n",
      "Epoch 27/40\n",
      "500/500 [==============================] - 19s 37ms/step - loss: 0.2788 - val_loss: 0.2628\n",
      "Epoch 28/40\n",
      "500/500 [==============================] - 19s 37ms/step - loss: 0.2773 - val_loss: 0.2644\n",
      "Epoch 29/40\n",
      "500/500 [==============================] - 19s 38ms/step - loss: 0.2789 - val_loss: 0.2623\n",
      "Epoch 30/40\n",
      "500/500 [==============================] - 18s 37ms/step - loss: 0.2763 - val_loss: 0.2648\n",
      "Epoch 31/40\n",
      "500/500 [==============================] - 19s 38ms/step - loss: 0.2750 - val_loss: 0.2716\n",
      "Epoch 32/40\n",
      "500/500 [==============================] - 19s 38ms/step - loss: 0.2763 - val_loss: 0.2644\n",
      "Epoch 33/40\n",
      "500/500 [==============================] - 19s 37ms/step - loss: 0.2765 - val_loss: 0.2693\n",
      "Epoch 34/40\n",
      "500/500 [==============================] - 19s 38ms/step - loss: 0.2761 - val_loss: 0.2641\n",
      "Epoch 35/40\n",
      "500/500 [==============================] - 19s 38ms/step - loss: 0.2760 - val_loss: 0.2656\n",
      "Epoch 36/40\n",
      "500/500 [==============================] - 22s 43ms/step - loss: 0.2758 - val_loss: 0.2659\n",
      "Epoch 37/40\n",
      "500/500 [==============================] - 21s 41ms/step - loss: 0.2760 - val_loss: 0.2666\n",
      "Epoch 38/40\n",
      "500/500 [==============================] - 21s 43ms/step - loss: 0.2762 - val_loss: 0.2664\n",
      "Epoch 39/40\n",
      "500/500 [==============================] - 21s 43ms/step - loss: 0.2739 - val_loss: 0.2662\n",
      "Epoch 40/40\n",
      "500/500 [==============================] - 21s 42ms/step - loss: 0.2753 - val_loss: 0.2667\n"
     ]
    },
    {
     "data": {
      "image/png": "[encoded data removed]",
      "text/plain": [
       "<Figure size 432x288 with 1 Axes>"
      ]
     },
     "metadata": {
      "needs_background": "light"
     },
     "output_type": "display_data"
    }
   ],
   "source": [
    "from keras.models import Sequential\n",
    "from keras import layers\n",
    "from keras.optimizers import RMSprop\n",
    "\n",
    "model = Sequential()\n",
    "model.add(layers.GRU(32,\n",
    "                    dropout=0.2,\n",
    "                    recurrent_dropout=0.2,\n",
    "                    input_shape=(None,float_data.shape[-1])))\n",
    "model.add(layers.Dense(1))\n",
    "\n",
    "model.compile(optimizer=RMSprop(),loss='mae')\n",
    "history = model.fit_generator(train_gen,\n",
    "                             steps_per_epoch=500,\n",
    "                             epochs=40,\n",
    "                             validation_data=val_gen,\n",
    "                             validation_steps=val_steps)\n",
    "\n",
    "# 绘制曲线\n",
    "import matplotlib.pyplot as plt\n",
    "%matplotlib inline\n",
    "loss = history.history['loss']\n",
    "val_loss = history.history['val_loss']\n",
    "\n",
    "epochs = range(1,len(loss) + 1)\n",
    "\n",
    "plt.figure()\n",
    "\n",
    "plt.plot(epochs,loss,'bo',label=\"Traning loss\")\n",
    "plt.plot(epochs,val_loss,'b',label='Validation loss')\n",
    "plt.title('Traning and Validation loss')\n",
    "plt.legend()\n",
    "\n",
    "plt.show()"
   ]
  },
  {
   "cell_type": "markdown",
   "metadata": {},
   "source": [
    "### 循环层堆叠"
   ]
  },
  {
   "cell_type": "code",
   "execution_count": 36,
   "metadata": {},
   "outputs": [
    {
     "name": "stdout",
     "output_type": "stream",
     "text": [
      "Epoch 1/40\n",
      "500/500 [==============================] - 46s 92ms/step - loss: 0.3389 - val_loss: 0.2788\n",
      "Epoch 2/40\n",
      "500/500 [==============================] - 42s 84ms/step - loss: 0.3155 - val_loss: 0.2766\n",
      "Epoch 3/40\n",
      "500/500 [==============================] - 43s 86ms/step - loss: 0.3092 - val_loss: 0.2820\n",
      "Epoch 4/40\n",
      "500/500 [==============================] - 43s 86ms/step - loss: 0.3051 - val_loss: 0.2691\n",
      "Epoch 5/40\n",
      "500/500 [==============================] - 41s 81ms/step - loss: 0.3007 - val_loss: 0.2681\n",
      "Epoch 6/40\n",
      "500/500 [==============================] - 40s 81ms/step - loss: 0.2980 - val_loss: 0.2677\n",
      "Epoch 7/40\n",
      "500/500 [==============================] - 40s 80ms/step - loss: 0.2957 - val_loss: 0.2672\n",
      "Epoch 8/40\n",
      "500/500 [==============================] - 40s 80ms/step - loss: 0.2945 - val_loss: 0.2711\n",
      "Epoch 9/40\n",
      "500/500 [==============================] - 40s 80ms/step - loss: 0.2917 - val_loss: 0.2652\n",
      "Epoch 10/40\n",
      "500/500 [==============================] - 40s 81ms/step - loss: 0.2891 - val_loss: 0.2705\n",
      "Epoch 11/40\n",
      "500/500 [==============================] - 40s 79ms/step - loss: 0.2859 - val_loss: 0.2650\n",
      "Epoch 12/40\n",
      "500/500 [==============================] - 38s 76ms/step - loss: 0.2845 - val_loss: 0.2648\n",
      "Epoch 13/40\n",
      "500/500 [==============================] - 38s 76ms/step - loss: 0.2843 - val_loss: 0.2673\n",
      "Epoch 14/40\n",
      "500/500 [==============================] - 38s 76ms/step - loss: 0.2823 - val_loss: 0.2637\n",
      "Epoch 15/40\n",
      "500/500 [==============================] - 38s 76ms/step - loss: 0.2821 - val_loss: 0.2696\n",
      "Epoch 16/40\n",
      "500/500 [==============================] - 44s 87ms/step - loss: 0.2812 - val_loss: 0.2672\n",
      "Epoch 17/40\n",
      "500/500 [==============================] - 41s 83ms/step - loss: 0.2792 - val_loss: 0.2695\n",
      "Epoch 18/40\n",
      "500/500 [==============================] - 41s 81ms/step - loss: 0.2788 - val_loss: 0.2674\n",
      "Epoch 19/40\n",
      "500/500 [==============================] - 41s 82ms/step - loss: 0.2760 - val_loss: 0.2615\n",
      "Epoch 20/40\n",
      "500/500 [==============================] - 41s 83ms/step - loss: 0.2781 - val_loss: 0.2665\n",
      "Epoch 21/40\n",
      "500/500 [==============================] - 41s 82ms/step - loss: 0.2749 - val_loss: 0.2624\n",
      "Epoch 22/40\n",
      "500/500 [==============================] - 40s 80ms/step - loss: 0.2750 - val_loss: 0.2622\n",
      "Epoch 23/40\n",
      "500/500 [==============================] - 40s 80ms/step - loss: 0.2747 - val_loss: 0.2677\n",
      "Epoch 24/40\n",
      "500/500 [==============================] - 40s 80ms/step - loss: 0.2726 - val_loss: 0.2674\n",
      "Epoch 25/40\n",
      "500/500 [==============================] - 40s 80ms/step - loss: 0.2712 - val_loss: 0.2681\n",
      "Epoch 26/40\n",
      "500/500 [==============================] - 39s 78ms/step - loss: 0.2718 - val_loss: 0.2692\n",
      "Epoch 27/40\n",
      "500/500 [==============================] - 145s 289ms/step - loss: 0.2706 - val_loss: 0.2644\n",
      "Epoch 28/40\n",
      "500/500 [==============================] - 41s 83ms/step - loss: 0.2696 - val_loss: 0.2734\n",
      "Epoch 29/40\n",
      "500/500 [==============================] - 41s 83ms/step - loss: 0.2697 - val_loss: 0.2677\n",
      "Epoch 30/40\n",
      "500/500 [==============================] - 41s 83ms/step - loss: 0.2671 - val_loss: 0.2661\n",
      "Epoch 31/40\n",
      "500/500 [==============================] - 40s 81ms/step - loss: 0.2682 - val_loss: 0.2624\n",
      "Epoch 32/40\n",
      "500/500 [==============================] - 40s 80ms/step - loss: 0.2659 - val_loss: 0.2693\n",
      "Epoch 33/40\n",
      "500/500 [==============================] - 40s 80ms/step - loss: 0.2678 - val_loss: 0.2633\n",
      "Epoch 34/40\n",
      "500/500 [==============================] - 40s 80ms/step - loss: 0.2657 - val_loss: 0.2663\n",
      "Epoch 35/40\n",
      "500/500 [==============================] - 40s 80ms/step - loss: 0.2659 - val_loss: 0.2681\n",
      "Epoch 36/40\n",
      "500/500 [==============================] - 51s 103ms/step - loss: 0.2644 - val_loss: 0.2761\n",
      "Epoch 37/40\n",
      "500/500 [==============================] - 42s 84ms/step - loss: 0.2631 - val_loss: 0.2657\n",
      "Epoch 38/40\n",
      "500/500 [==============================] - 41s 82ms/step - loss: 0.2638 - val_loss: 0.2677\n",
      "Epoch 39/40\n",
      "500/500 [==============================] - 40s 79ms/step - loss: 0.2637 - val_loss: 0.2642\n",
      "Epoch 40/40\n",
      "500/500 [==============================] - 38s 76ms/step - loss: 0.2634 - val_loss: 0.2639\n"
     ]
    },
    {
     "data": {
      "image/png": "[encoded data removed]",
      "text/plain": [
       "<Figure size 432x288 with 1 Axes>"
      ]
     },
     "metadata": {
      "needs_background": "light"
     },
     "output_type": "display_data"
    }
   ],
   "source": [
    "from keras.models import Sequential\n",
    "from keras import layers\n",
    "from keras.optimizers import RMSprop\n",
    "\n",
    "model = Sequential()\n",
    "model.add(layers.GRU(32,\n",
    "                    dropout=0.1,\n",
    "                    recurrent_dropout=0.5,\n",
    "                    return_sequences=True,\n",
    "                    input_shape=(None,float_data.shape[-1])))\n",
    "\n",
    "model.add(layers.GRU(64,activation='relu',\n",
    "                    dropout=0.1,\n",
    "                    recurrent_dropout=0.5))\n",
    "\n",
    "model.add(layers.Dense(1))\n",
    "\n",
    "model.compile(optimizer=RMSprop(),loss='mae')\n",
    "history = model.fit_generator(train_gen,\n",
    "                             steps_per_epoch=500,\n",
    "                             epochs=40,\n",
    "                             validation_data=val_gen,\n",
    "                             validation_steps=val_steps)\n",
    "\n",
    "# 绘制曲线\n",
    "import matplotlib.pyplot as plt\n",
    "%matplotlib inline\n",
    "loss = history.history['loss']\n",
    "val_loss = history.history['val_loss']\n",
    "\n",
    "epochs = range(1,len(loss) + 1)\n",
    "\n",
    "plt.figure()\n",
    "\n",
    "plt.plot(epochs,loss,'bo',label=\"Traning loss\")\n",
    "plt.plot(epochs,val_loss,'b',label='Validation loss')\n",
    "plt.title('Traning and Validation loss')\n",
    "plt.legend()\n",
    "\n",
    "plt.show()"
   ]
  },
  {
   "cell_type": "markdown",
   "metadata": {},
   "source": [
    "### 使用双向RNN"
   ]
  },
  {
   "cell_type": "markdown",
   "metadata": {},
   "source": [
    "### 使用逆序序列训练并评估一个LSTM"
   ]
  },
  {
   "cell_type": "code",
   "execution_count": 37,
   "metadata": {},
   "outputs": [
    {
     "name": "stdout",
     "output_type": "stream",
     "text": [
      "Train on 20000 samples, validate on 5000 samples\n",
      "Epoch 1/10\n",
      "20000/20000 [==============================] - 74s 4ms/step - loss: 0.4888 - acc: 0.7668 - val_loss: 0.3431 - val_acc: 0.8670\n",
      "Epoch 2/10\n",
      "20000/20000 [==============================] - 75s 4ms/step - loss: 0.3145 - acc: 0.8794 - val_loss: 0.3555 - val_acc: 0.8550\n",
      "Epoch 3/10\n",
      "20000/20000 [==============================] - 74s 4ms/step - loss: 0.2572 - acc: 0.9021 - val_loss: 0.3247 - val_acc: 0.8646\n",
      "Epoch 4/10\n",
      "20000/20000 [==============================] - 76s 4ms/step - loss: 0.2181 - acc: 0.9197 - val_loss: 0.3287 - val_acc: 0.8794\n",
      "Epoch 5/10\n",
      "20000/20000 [==============================] - 74s 4ms/step - loss: 0.1931 - acc: 0.9319 - val_loss: 0.3571 - val_acc: 0.8716\n",
      "Epoch 6/10\n",
      "20000/20000 [==============================] - 72s 4ms/step - loss: 0.1708 - acc: 0.9392 - val_loss: 0.3821 - val_acc: 0.8748\n",
      "Epoch 7/10\n",
      "20000/20000 [==============================] - 72s 4ms/step - loss: 0.1527 - acc: 0.9467 - val_loss: 0.4022 - val_acc: 0.8736\n",
      "Epoch 8/10\n",
      "20000/20000 [==============================] - 72s 4ms/step - loss: 0.1480 - acc: 0.9487 - val_loss: 0.4010 - val_acc: 0.8730\n",
      "Epoch 9/10\n",
      "20000/20000 [==============================] - 73s 4ms/step - loss: 0.1318 - acc: 0.9551 - val_loss: 0.3992 - val_acc: 0.8662\n",
      "Epoch 10/10\n",
      "20000/20000 [==============================] - 75s 4ms/step - loss: 0.1222 - acc: 0.9590 - val_loss: 0.4290 - val_acc: 0.8588\n"
     ]
    },
    {
     "data": {
      "image/png": "[encoded data removed]",
      "text/plain": [
       "<Figure size 432x288 with 1 Axes>"
      ]
     },
     "metadata": {
      "needs_background": "light"
     },
     "output_type": "display_data"
    }
   ],
   "source": [
    "from keras.datasets import imdb\n",
    "from keras.preprocessing import sequence\n",
    "from keras import layers\n",
    "from keras.models import Sequential\n",
    "\n",
    "max_features = 10000 #作为特征的单词个数\n",
    "max_len = 500\n",
    "(x_train,y_train),(x_test,y_test) = imdb.load_data(num_words=max_features) \n",
    "\n",
    "#将序列反转\n",
    "x_train = [x[::-1] for x in x_train]\n",
    "x_test = [x[::-1] for x in x_test]\n",
    "\n",
    "#填充序列\n",
    "x_train = sequence.pad_sequences(x_train,maxlen=max_len)\n",
    "x_test = sequence.pad_sequences(x_test,maxlen=max_len)\n",
    "\n",
    "model = Sequential()\n",
    "model.add(layers.Embedding(max_features,128))\n",
    "model.add(layers.LSTM(32))\n",
    "model.add(layers.Dense(1,activation='sigmoid'))\n",
    "\n",
    "model.compile(optimizer='rmsprop',\n",
    "             loss='binary_crossentropy',\n",
    "             metrics=['acc'])\n",
    "\n",
    "history = model.fit(x_train,y_train,\n",
    "                   epochs=10,\n",
    "                   batch_size=128,\n",
    "                   validation_split=0.2)\n",
    "\n",
    "# 绘制曲线\n",
    "import matplotlib.pyplot as plt\n",
    "%matplotlib inline\n",
    "loss = history.history['loss']\n",
    "val_loss = history.history['val_loss']\n",
    "\n",
    "epochs = range(1,len(loss) + 1)\n",
    "\n",
    "plt.figure()\n",
    "\n",
    "plt.plot(epochs,loss,'bo',label=\"Traning loss\")\n",
    "plt.plot(epochs,val_loss,'b',label='Validation loss')\n",
    "plt.title('Traning and Validation loss')\n",
    "plt.legend()\n",
    "\n",
    "plt.show()"
   ]
  },
  {
   "cell_type": "markdown",
   "metadata": {},
   "source": [
    "### 训练并评估一个双向LSTM"
   ]
  },
  {
   "cell_type": "code",
   "execution_count": 38,
   "metadata": {},
   "outputs": [
    {
     "name": "stdout",
     "output_type": "stream",
     "text": [
      "Train on 20000 samples, validate on 5000 samples\n",
      "Epoch 1/10\n",
      "20000/20000 [==============================] - 81s 4ms/step - loss: 0.5731 - acc: 0.7077 - val_loss: 0.4151 - val_acc: 0.8338\n",
      "Epoch 2/10\n",
      "20000/20000 [==============================] - 82s 4ms/step - loss: 0.3421 - acc: 0.8675 - val_loss: 0.3487 - val_acc: 0.8790\n",
      "Epoch 3/10\n",
      "20000/20000 [==============================] - 76s 4ms/step - loss: 0.2692 - acc: 0.9003 - val_loss: 0.4273 - val_acc: 0.8662\n",
      "Epoch 4/10\n",
      "20000/20000 [==============================] - 76s 4ms/step - loss: 0.2357 - acc: 0.9164 - val_loss: 0.3255 - val_acc: 0.8828\n",
      "Epoch 5/10\n",
      "20000/20000 [==============================] - 90s 5ms/step - loss: 0.2099 - acc: 0.9278 - val_loss: 0.3337 - val_acc: 0.8892\n",
      "Epoch 6/10\n",
      "20000/20000 [==============================] - 80s 4ms/step - loss: 0.1905 - acc: 0.9340 - val_loss: 0.5159 - val_acc: 0.8306\n",
      "Epoch 7/10\n",
      "20000/20000 [==============================] - 80s 4ms/step - loss: 0.1690 - acc: 0.9412 - val_loss: 0.5435 - val_acc: 0.7758\n",
      "Epoch 8/10\n",
      "20000/20000 [==============================] - 92s 5ms/step - loss: 0.1538 - acc: 0.9464 - val_loss: 0.4391 - val_acc: 0.8364\n",
      "Epoch 9/10\n",
      "20000/20000 [==============================] - 131s 7ms/step - loss: 0.1430 - acc: 0.9498 - val_loss: 0.3521 - val_acc: 0.8694\n",
      "Epoch 10/10\n",
      "20000/20000 [==============================] - 297s 15ms/step - loss: 0.1342 - acc: 0.9546 - val_loss: 0.3718 - val_acc: 0.8784\n"
     ]
    },
    {
     "data": {
      "image/png": "[encoded data removed]",
      "text/plain": [
       "<Figure size 432x288 with 1 Axes>"
      ]
     },
     "metadata": {
      "needs_background": "light"
     },
     "output_type": "display_data"
    }
   ],
   "source": [
    "model = Sequential()\n",
    "model.add(layers.Embedding(max_features,32))\n",
    "model.add(layers.Bidirectional(layers.LSTM(32)))\n",
    "model.add(layers.Dense(1,activation='sigmoid'))\n",
    "\n",
    "model.compile(optimizer='rmsprop',\n",
    "             loss='binary_crossentropy',\n",
    "             metrics=['acc'])\n",
    "history=model.fit(x_train,y_train,\n",
    "                 epochs=10,\n",
    "                 batch_size=128,\n",
    "                 validation_split=0.2)\n",
    "\n",
    "\n",
    "# 绘制曲线\n",
    "import matplotlib.pyplot as plt\n",
    "%matplotlib inline\n",
    "loss = history.history['loss']\n",
    "val_loss = history.history['val_loss']\n",
    "\n",
    "epochs = range(1,len(loss) + 1)\n",
    "\n",
    "plt.figure()\n",
    "\n",
    "plt.plot(epochs,loss,'bo',label=\"Traning loss\")\n",
    "plt.plot(epochs,val_loss,'b',label='Validation loss')\n",
    "plt.title('Traning and Validation loss')\n",
    "plt.legend()\n",
    "\n",
    "plt.show()"
   ]
  },
  {
   "cell_type": "markdown",
   "metadata": {},
   "source": [
    "## 在IMDB数据上训练并评估一个简单一维卷积网络"
   ]
  },
  {
   "cell_type": "code",
   "execution_count": 46,
   "metadata": {},
   "outputs": [
    {
     "name": "stdout",
     "output_type": "stream",
     "text": [
      "_________________________________________________________________\n",
      "Layer (type)                 Output Shape              Param #   \n",
      "=================================================================\n",
      "embedding_8 (Embedding)      (None, 500, 128)          1280000   \n",
      "_________________________________________________________________\n",
      "conv1d_10 (Conv1D)           (None, 494, 32)           28704     \n",
      "_________________________________________________________________\n",
      "max_pooling1d_6 (MaxPooling1 (None, 98, 32)            0         \n",
      "_________________________________________________________________\n",
      "conv1d_11 (Conv1D)           (None, 92, 32)            7200      \n",
      "_________________________________________________________________\n",
      "global_max_pooling1d_5 (Glob (None, 32)                0         \n",
      "_________________________________________________________________\n",
      "dense_19 (Dense)             (None, 1)                 33        \n",
      "=================================================================\n",
      "Total params: 1,315,937\n",
      "Trainable params: 1,315,937\n",
      "Non-trainable params: 0\n",
      "_________________________________________________________________\n",
      "WARNING:tensorflow:From /Library/Frameworks/Python.framework/Versions/3.6/lib/python3.6/site-packages/tensorflow/python/ops/math_grad.py:102: div (from tensorflow.python.ops.math_ops) is deprecated and will be removed in a future version.\n",
      "Instructions for updating:\n",
      "Deprecated in favor of operator or tf.math.divide.\n",
      "Train on 20000 samples, validate on 5000 samples\n",
      "Epoch 1/10\n",
      "20000/20000 [==============================] - 45s 2ms/step - loss: 1.2392 - acc: 0.5041 - val_loss: 0.6890 - val_acc: 0.5456\n",
      "Epoch 2/10\n",
      "20000/20000 [==============================] - 43s 2ms/step - loss: 0.6745 - acc: 0.6391 - val_loss: 0.6722 - val_acc: 0.6136\n",
      "Epoch 3/10\n",
      "20000/20000 [==============================] - 43s 2ms/step - loss: 0.6358 - acc: 0.7444 - val_loss: 0.6337 - val_acc: 0.7170\n",
      "Epoch 4/10\n",
      "20000/20000 [==============================] - 42s 2ms/step - loss: 0.5633 - acc: 0.8115 - val_loss: 0.5396 - val_acc: 0.7662\n",
      "Epoch 5/10\n",
      "20000/20000 [==============================] - 42s 2ms/step - loss: 0.4318 - acc: 0.8545 - val_loss: 0.4224 - val_acc: 0.8304\n",
      "Epoch 6/10\n",
      "20000/20000 [==============================] - 44s 2ms/step - loss: 0.3383 - acc: 0.8776 - val_loss: 0.4010 - val_acc: 0.8418\n",
      "Epoch 7/10\n",
      "20000/20000 [==============================] - 43s 2ms/step - loss: 0.2885 - acc: 0.8749 - val_loss: 0.3811 - val_acc: 0.8268\n",
      "Epoch 8/10\n",
      "20000/20000 [==============================] - 43s 2ms/step - loss: 0.2562 - acc: 0.8527 - val_loss: 0.3938 - val_acc: 0.8084\n",
      "Epoch 9/10\n",
      "20000/20000 [==============================] - 43s 2ms/step - loss: 0.2298 - acc: 0.8455 - val_loss: 0.3919 - val_acc: 0.7876\n",
      "Epoch 10/10\n",
      "20000/20000 [==============================] - 43s 2ms/step - loss: 0.2089 - acc: 0.8059 - val_loss: 0.4172 - val_acc: 0.7516\n"
     ]
    },
    {
     "data": {
      "image/png": "[encoded data removed]",
      "text/plain": [
       "<Figure size 432x288 with 1 Axes>"
      ]
     },
     "metadata": {
      "needs_background": "light"
     },
     "output_type": "display_data"
    }
   ],
   "source": [
    "from keras.models import Sequential\n",
    "from keras import layers\n",
    "from keras.optimizers import RMSprop\n",
    "\n",
    "model = Sequential()\n",
    "model.add(layers.Embedding(max_features,128,input_length=max_len))\n",
    "model.add(layers.Conv1D(32,7,activation='relu'))\n",
    "model.add(layers.MaxPooling1D(5))\n",
    "model.add(layers.Conv1D(32,7,activation='relu'))\n",
    "model.add(layers.GlobalMaxPooling1D())\n",
    "model.add(layers.Dense(1))        \n",
    "\n",
    "model.summary()\n",
    "\n",
    "model.compile(optimizer=RMSprop(lr=1e-4),\n",
    "             loss='binary_crossentropy',\n",
    "             metrics=['acc'])\n",
    "\n",
    "history = model.fit(x_train,y_train,\n",
    "                    epochs=10,\n",
    "                    batch_size=128,\n",
    "                   validation_split=0.2)\n",
    "\n",
    "# 绘制曲线\n",
    "import matplotlib.pyplot as plt\n",
    "%matplotlib inline\n",
    "loss = history.history['loss']\n",
    "val_loss = history.history['val_loss']\n",
    "\n",
    "epochs = range(1,len(loss) + 1)\n",
    "\n",
    "plt.figure()\n",
    "\n",
    "plt.plot(epochs,loss,'bo',label=\"Traning loss\")\n",
    "plt.plot(epochs,val_loss,'b',label='Validation loss')\n",
    "plt.title('Traning and Validation loss')\n",
    "plt.legend()\n",
    "\n",
    "plt.show()"
   ]
  },
  {
   "cell_type": "code",
   "execution_count": null,
   "metadata": {},
   "outputs": [],
   "source": [
    "# 绘制曲线\n",
    "import matplotlib.pyplot as plt\n",
    "%matplotlib inline\n",
    "loss = history.history['acc']\n",
    "val_loss = history.history['val_acc']\n",
    "\n",
    "epochs = range(1,len(loss) + 1)\n",
    "\n",
    "plt.figure()\n",
    "\n",
    "plt.plot(epochs,loss,'bo',label=\"Traning acc\")\n",
    "plt.plot(epochs,val_loss,'b',label='Validation acc')\n",
    "plt.title('Traning and Validation acc')\n",
    "plt.legend()\n",
    "\n",
    "plt.show()"
   ]
  },
  {
   "cell_type": "markdown",
   "metadata": {},
   "source": [
    "## 结合CNN和RNN来处理长序列"
   ]
  },
  {
   "cell_type": "code",
   "execution_count": 49,
   "metadata": {},
   "outputs": [
    {
     "name": "stdout",
     "output_type": "stream",
     "text": [
      "_________________________________________________________________\n",
      "Layer (type)                 Output Shape              Param #   \n",
      "=================================================================\n",
      "conv1d_15 (Conv1D)           (None, None, 32)          2272      \n",
      "_________________________________________________________________\n",
      "max_pooling1d_9 (MaxPooling1 (None, None, 32)          0         \n",
      "_________________________________________________________________\n",
      "conv1d_16 (Conv1D)           (None, None, 32)          5152      \n",
      "_________________________________________________________________\n",
      "gru_10 (GRU)                 (None, 32)                6240      \n",
      "_________________________________________________________________\n",
      "dense_21 (Dense)             (None, 1)                 33        \n",
      "=================================================================\n",
      "Total params: 13,697\n",
      "Trainable params: 13,697\n",
      "Non-trainable params: 0\n",
      "_________________________________________________________________\n",
      "Epoch 1/20\n",
      "500/500 [==============================] - 14s 27ms/step - loss: 0.3304 - val_loss: 0.2794\n",
      "Epoch 2/20\n",
      "500/500 [==============================] - 12s 23ms/step - loss: 0.2994 - val_loss: 0.2834\n",
      "Epoch 3/20\n",
      "500/500 [==============================] - 10s 19ms/step - loss: 0.2861 - val_loss: 0.2796\n",
      "Epoch 4/20\n",
      "500/500 [==============================] - 10s 19ms/step - loss: 0.2782 - val_loss: 0.2667\n",
      "Epoch 5/20\n",
      "500/500 [==============================] - 10s 20ms/step - loss: 0.2729 - val_loss: 0.2709\n",
      "Epoch 6/20\n",
      "500/500 [==============================] - 11s 22ms/step - loss: 0.2677 - val_loss: 0.2698\n",
      "Epoch 7/20\n",
      "500/500 [==============================] - 12s 23ms/step - loss: 0.2612 - val_loss: 0.2769\n",
      "Epoch 8/20\n",
      "500/500 [==============================] - 13s 26ms/step - loss: 0.2561 - val_loss: 0.2724\n",
      "Epoch 9/20\n",
      "500/500 [==============================] - 12s 25ms/step - loss: 0.2519 - val_loss: 0.2749\n",
      "Epoch 10/20\n",
      "500/500 [==============================] - 12s 24ms/step - loss: 0.2474 - val_loss: 0.2770\n",
      "Epoch 11/20\n",
      "500/500 [==============================] - 11s 22ms/step - loss: 0.2446 - val_loss: 0.2893\n",
      "Epoch 12/20\n",
      "500/500 [==============================] - 10s 20ms/step - loss: 0.2428 - val_loss: 0.2734\n",
      "Epoch 13/20\n",
      "500/500 [==============================] - 11s 21ms/step - loss: 0.2385 - val_loss: 0.2781\n",
      "Epoch 14/20\n",
      "500/500 [==============================] - 11s 21ms/step - loss: 0.2348 - val_loss: 0.2878\n",
      "Epoch 15/20\n",
      "500/500 [==============================] - 11s 23ms/step - loss: 0.2331 - val_loss: 0.2819\n",
      "Epoch 16/20\n",
      "500/500 [==============================] - 13s 26ms/step - loss: 0.2284 - val_loss: 0.2764\n",
      "Epoch 17/20\n",
      "500/500 [==============================] - 11s 23ms/step - loss: 0.2264 - val_loss: 0.2790\n",
      "Epoch 18/20\n",
      "500/500 [==============================] - 12s 25ms/step - loss: 0.2248 - val_loss: 0.2849\n",
      "Epoch 19/20\n",
      "500/500 [==============================] - 12s 23ms/step - loss: 0.2227 - val_loss: 0.2825\n",
      "Epoch 20/20\n",
      "500/500 [==============================] - 15s 31ms/step - loss: 0.2225 - val_loss: 0.2906\n"
     ]
    }
   ],
   "source": [
    "model = Sequential()\n",
    "model.add(layers.Conv1D(32, 5, activation='relu',\n",
    "                        input_shape=(None, float_data.shape[-1])))\n",
    "model.add(layers.MaxPooling1D(3))\n",
    "model.add(layers.Conv1D(32, 5, activation='relu'))\n",
    "model.add(layers.GRU(32, dropout=0.1, recurrent_dropout=0.5))\n",
    "model.add(layers.Dense(1))\n",
    "\n",
    "model.summary()\n",
    "\n",
    "model.compile(optimizer=RMSprop(), loss='mae')\n",
    "history = model.fit_generator(train_gen,\n",
    "                              steps_per_epoch=500,\n",
    "                              epochs=20,\n",
    "                              validation_data=val_gen,\n",
    "                              validation_steps=val_steps)"
   ]
  },
  {
   "cell_type": "code",
   "execution_count": 50,
   "metadata": {},
   "outputs": [
    {
     "data": {
      "image/png": "[encoded data removed]",
      "text/plain": [
       "<Figure size 432x288 with 1 Axes>"
      ]
     },
     "metadata": {
      "needs_background": "light"
     },
     "output_type": "display_data"
    }
   ],
   "source": [
    "# 绘制曲线\n",
    "import matplotlib.pyplot as plt\n",
    "%matplotlib inline\n",
    "loss = history.history['loss']\n",
    "val_loss = history.history['val_loss']\n",
    "\n",
    "epochs = range(1,len(loss) + 1)\n",
    "\n",
    "plt.figure()\n",
    "\n",
    "plt.plot(epochs,loss,'bo',label=\"Traning loss\")\n",
    "plt.plot(epochs,val_loss,'b',label='Validation loss')\n",
    "plt.title('Traning and Validation loss')\n",
    "plt.legend()\n",
    "\n",
    "plt.show()"
   ]
  },
  {
   "cell_type": "markdown",
   "metadata": {},
   "source": [
    "### 温度数据生成器"
   ]
  },
  {
   "cell_type": "code",
   "execution_count": 51,
   "metadata": {},
   "outputs": [],
   "source": [
    "step = 3\n",
    "lookback = 720\n",
    "delay = 144\n",
    "\n",
    "train_gen = generator(float_data,\n",
    "                      lookback=lookback,\n",
    "                     delay=delay,\n",
    "                     min_index=0,\n",
    "                     max_index=200000,\n",
    "                     shuffle=True,\n",
    "                     step=step)\n",
    "\n",
    "val_gen = generator(float_data,\n",
    "                      lookback=lookback,\n",
    "                     delay=delay,\n",
    "                     min_index=200001,\n",
    "                     max_index=300000,\n",
    "                     step=step)\n",
    "\n",
    "val_gen = generator(float_data,\n",
    "                      lookback=lookback,\n",
    "                     delay=delay,\n",
    "                     min_index=300001,\n",
    "                     max_index=None,\n",
    "                     step=step)\n",
    "val_steps = (300000 - 200001 - lookback) \n",
    "test_steps = (len(float_data) - 300001 - lookback)"
   ]
  },
  {
   "cell_type": "markdown",
   "metadata": {},
   "source": [
    "#### 结合一维卷积基 和 GRU层的模型"
   ]
  },
  {
   "cell_type": "code",
   "execution_count": 52,
   "metadata": {},
   "outputs": [
    {
     "name": "stdout",
     "output_type": "stream",
     "text": [
      "_________________________________________________________________\n",
      "Layer (type)                 Output Shape              Param #   \n",
      "=================================================================\n",
      "conv1d_17 (Conv1D)           (None, None, 32)          2272      \n",
      "_________________________________________________________________\n",
      "max_pooling1d_10 (MaxPooling (None, None, 32)          0         \n",
      "_________________________________________________________________\n",
      "conv1d_18 (Conv1D)           (None, None, 32)          5152      \n",
      "_________________________________________________________________\n",
      "gru_11 (GRU)                 (None, 32)                6240      \n",
      "_________________________________________________________________\n",
      "dense_22 (Dense)             (None, 1)                 33        \n",
      "=================================================================\n",
      "Total params: 13,697\n",
      "Trainable params: 13,697\n",
      "Non-trainable params: 0\n",
      "_________________________________________________________________\n"
     ]
    }
   ],
   "source": [
    "model = Sequential()\n",
    "model.add(layers.Conv1D(32,5,activation='relu',\n",
    "                       input_shape=(None,float_data.shape[-1])))\n",
    "model.add(layers.MaxPooling1D(3))\n",
    "model.add(layers.Conv1D(32,5,activation='relu'))\n",
    "model.add(layers.GRU(32,dropout=0.1,recurrent_dropout=0.5))\n",
    "model.add(layers.Dense(1))\n",
    "\n",
    "model.summary()\n",
    "\n",
    "model.compile(optimizer=RMSprop(),loss='mae')\n",
    "history = model.fit_generator(train_gen,\n",
    "                             steps_per_epoch=500,\n",
    "                             epochs=20,\n",
    "                             validation_data=val_gen,\n",
    "                             validation_steps=val_steps)"
   ]
  },
  {
   "cell_type": "code",
   "execution_count": null,
   "metadata": {},
   "outputs": [],
   "source": []
  }
 ],
 "metadata": {
  "kernelspec": {
   "display_name": "Python 3",
   "language": "python",
   "name": "python3"
  },
  "language_info": {
   "codemirror_mode": {
    "name": "ipython",
    "version": 3
   },
   "file_extension": ".py",
   "mimetype": "text/x-python",
   "name": "python",
   "nbconvert_exporter": "python",
   "pygments_lexer": "ipython3",
   "version": "3.6.8"
  }
 },
 "nbformat": 4,
 "nbformat_minor": 2
}
