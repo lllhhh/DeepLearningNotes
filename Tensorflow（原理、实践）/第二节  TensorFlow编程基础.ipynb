{
 "cells": [
  {
   "cell_type": "markdown",
   "metadata": {},
   "source": [
    "# 编程模型\n",
    "TensorFlow的命名来源于本身的运行原理。Tensor（张量）意味着N维数组，Flow（流）意味着基于数据流图的计算。TensoeFlow是张量从图的一端流动到另一端的计算过程，这也是TensorFlow的编程模型。\n"
   ]
  },
  {
   "cell_type": "markdown",
   "metadata": {},
   "source": [
    "## 编写hello world程序演示session的使用 \n",
    "### 建立一个session，在session中输出。\n",
    "> tf.constant定义的是一个常量，hello的内容只有在session的run内才能可以返回。"
   ]
  },
  {
   "cell_type": "code",
   "execution_count": 2,
   "metadata": {},
   "outputs": [
    {
     "name": "stdout",
     "output_type": "stream",
     "text": [
      "b'hello,TensorFlow'\n"
     ]
    }
   ],
   "source": [
    "import tensorflow as tf \n",
    "hello = tf.constant('hello,TensorFlow') # 定义一个常量\n",
    "sess = tf.Session()                     # 建立一个session\n",
    "print(sess.run(hello))                  # 通过session里面run函数运行结果\n",
    "sess.close()                            # 关闭session"
   ]
  },
  {
   "cell_type": "markdown",
   "metadata": {},
   "source": [
    "###  with session的使用"
   ]
  },
  {
   "cell_type": "code",
   "execution_count": 4,
   "metadata": {},
   "outputs": [
    {
     "name": "stdout",
     "output_type": "stream",
     "text": [
      "相乘：12\n",
      "相乘：7\n"
     ]
    }
   ],
   "source": [
    "import tensorflow as tf\n",
    "a = tf.constant(3)\n",
    "b = tf.constant(4)\n",
    "with tf.Session() as sess:\n",
    "    print(\"相乘：%i\" % sess.run(a*b))\n",
    "    print(\"相乘：%i\" % sess.run(a+b))"
   ]
  },
  {
   "cell_type": "markdown",
   "metadata": {},
   "source": [
    "### 注入机制\n",
    "使用注入机制，将具体的实参注入到相应的placeholder中。feed只在调用它的方法内有效，方法结束后feed就会消失。"
   ]
  },
  {
   "cell_type": "code",
   "execution_count": 5,
   "metadata": {},
   "outputs": [
    {
     "name": "stdout",
     "output_type": "stream",
     "text": [
      "相加 7\n",
      "相乘 12\n"
     ]
    }
   ],
   "source": [
    "import tensorflow as tf\n",
    "a = tf.placeholder(tf.int16)\n",
    "b = tf.placeholder(tf.int16)\n",
    "add = tf.add(a,b)\n",
    "mul = tf.multiply(a,b)\n",
    "\n",
    "with tf.Session() as sess:\n",
    "    # 计算\n",
    "    print('相加', sess.run(add,feed_dict={a:3,b:4}))\n",
    "    print('相乘', sess.run(mul,feed_dict={a:3,b:4}))"
   ]
  },
  {
   "cell_type": "markdown",
   "metadata": {},
   "source": [
    "### 建立session的其他方法\n",
    "- 交互式session方式："
   ]
  },
  {
   "cell_type": "code",
   "execution_count": 6,
   "metadata": {},
   "outputs": [],
   "source": [
    "sess = tf.InteractiveSession()"
   ]
  },
  {
   "cell_type": "markdown",
   "metadata": {},
   "source": [
    "- 使用Supervisor方式\n",
    "> 该方式会更高级一些，使用起来也更加复杂，可以自动来管理session中的具体任务，例如，载入/载出检查点文件、写入TensorBoard等，另外该方法还支持**分布式**训练的部署。"
   ]
  },
  {
   "cell_type": "markdown",
   "metadata": {},
   "source": [
    "### 使用注入机制获取节点"
   ]
  },
  {
   "cell_type": "code",
   "execution_count": 7,
   "metadata": {},
   "outputs": [
    {
     "name": "stdout",
     "output_type": "stream",
     "text": [
      "相加 7\n",
      "相乘 12\n",
      "[12, 7]\n"
     ]
    }
   ],
   "source": [
    "import tensorflow as tf\n",
    "a = tf.placeholder(tf.int16)\n",
    "b = tf.placeholder(tf.int16)\n",
    "add = tf.add(a,b)\n",
    "mul = tf.multiply(a,b)\n",
    "\n",
    "with tf.Session() as sess:\n",
    "    # 计算\n",
    "    print('相加', sess.run(add,feed_dict={a:3,b:4}))\n",
    "    print('相乘', sess.run(mul,feed_dict={a:3,b:4}))\n",
    "    print(sess.run([mul,add],feed_dict={a:3,b:4}))"
   ]
  },
  {
   "cell_type": "markdown",
   "metadata": {},
   "source": [
    "### 指定GPU运算"
   ]
  },
  {
   "cell_type": "code",
   "execution_count": null,
   "metadata": {},
   "outputs": [],
   "source": [
    "with tf.Session() as sess:\n",
    "    with tf.device('/cpu:0'):\n",
    "        a = tf.placeholder(tf.int16)\n",
    "        b = tf.placeholder(tf.int16)\n",
    "        add = tf.add(a,b)\n",
    "        print(sess.run(add,feed_dict={a:3,b:4}))"
   ]
  },
  {
   "cell_type": "markdown",
   "metadata": {},
   "source": [
    "通过tf.ConfigProto构建config，在config中指定相关GPU，并且在session中传入参数config=“创建的config”来指定GPU操作。\n",
    "tf.ConfigProto函数参数如下\n",
    "- log_device_placement=True:是否打印设备分配日志\n",
    "- allow_soft_placement=True：如果指定的设备不存在，允许TF自动分配设备\n",
    "___\n",
    "```Python\n",
    "config = tf.ConfigProto(log_device_placement=True,allow_soft_placement=True)\n",
    "sess.run(config=config)\n",
    "```\n",
    "___"
   ]
  },
  {
   "cell_type": "markdown",
   "metadata": {},
   "source": [
    "### 设置GPU使用资源\n",
    "___\n",
    "config.gpu_options.allow_growth = True\n",
    "___\n",
    "使用allow_growth option，刚开始会分配少量的GPU容量，然后按需慢慢地增加，由于不会释放内存，所以会导致碎片。"
   ]
  },
  {
   "cell_type": "code",
   "execution_count": null,
   "metadata": {},
   "outputs": [],
   "source": []
  }
 ],
 "metadata": {
  "kernelspec": {
   "display_name": "Python 3",
   "language": "python",
   "name": "python3"
  },
  "language_info": {
   "codemirror_mode": {
    "name": "ipython",
    "version": 3
   },
   "file_extension": ".py",
   "mimetype": "text/x-python",
   "name": "python",
   "nbconvert_exporter": "python",
   "pygments_lexer": "ipython3",
   "version": "3.6.5"
  }
 },
 "nbformat": 4,
 "nbformat_minor": 2
}
