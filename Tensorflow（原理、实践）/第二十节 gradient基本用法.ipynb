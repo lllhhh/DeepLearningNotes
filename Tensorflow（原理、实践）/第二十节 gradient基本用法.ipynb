{
 "cells": [
  {
   "cell_type": "markdown",
   "metadata": {},
   "source": [
    "# 实例描述\n",
    "通过定义两个矩阵变量相乘来演示使用gradients求梯度。\n",
    "\n",
    "在反向传播过程中，神经网络需要对每一个loss对应的学习参数**求偏导**，算出的这个值也叫梯度。它是通过tf.gradients函数来实现的。tf.gradients函数里第一个参数为求导公式的结果，第二个参数为指定公式中的哪个变量来求偏导。"
   ]
  },
  {
   "cell_type": "code",
   "execution_count": 6,
   "metadata": {},
   "outputs": [
    {
     "name": "stdout",
     "output_type": "stream",
     "text": [
      "[array([[ 9., 10.]], dtype=float32)]\n"
     ]
    }
   ],
   "source": [
    "import tensorflow as tf\n",
    "\n",
    "w1 = tf.Variable([[1.,2.]])\n",
    "w2 = tf.Variable([[3.,4]])\n",
    "\n",
    "y = tf.matmul(w1,[[9.],[10]])\n",
    "grads = tf.gradients(y,[w1])  # 求w1的梯度\n",
    "\n",
    "with tf.Session() as sess:\n",
    "    sess.run(tf.global_variables_initializer())\n",
    "    gradval = sess.run(grads)\n",
    "    print(gradval)"
   ]
  },
  {
   "cell_type": "markdown",
   "metadata": {},
   "source": []
  }
 ],
 "metadata": {
  "kernelspec": {
   "display_name": "Python 3",
   "language": "python",
   "name": "python3"
  },
  "language_info": {
   "codemirror_mode": {
    "name": "ipython",
    "version": 3
   },
   "file_extension": ".py",
   "mimetype": "text/x-python",
   "name": "python",
   "nbconvert_exporter": "python",
   "pygments_lexer": "ipython3",
   "version": "3.6.5"
  }
 },
 "nbformat": 4,
 "nbformat_minor": 2
}
