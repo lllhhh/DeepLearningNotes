{
 "cells": [
  {
   "cell_type": "markdown",
   "metadata": {},
   "source": [
    "# 共享变量的用途\n",
    "在构建模型时，需要使用tf.Variable来撞见一个变量。例如：\n",
    "___\n",
    "```Python\n",
    "#创建一个偏执的学习参数，在训练时，这个变量不断地更新。\n",
    "biases = tf.Variable(tf.zeros([2],name=\"biases\"))\n",
    "```\n",
    "___\n",
    "\n",
    "在某种情况下，一个模型需要使用其他模型创建的变量，两个模型一起训练。比如，对抗网络中的生成器模型与判别器模型。如果使用tf。Variable,将会生成一个新的变量，而我们需要的是原来的那个biases变量。 这时就是通过引入get_variable方法。"
   ]
  },
  {
   "cell_type": "code",
   "execution_count": null,
   "metadata": {},
   "outputs": [],
   "source": []
  }
 ],
 "metadata": {
  "kernelspec": {
   "display_name": "Python 3",
   "language": "python",
   "name": "python3"
  },
  "language_info": {
   "codemirror_mode": {
    "name": "ipython",
    "version": 3
   },
   "file_extension": ".py",
   "mimetype": "text/x-python",
   "name": "python",
   "nbconvert_exporter": "python",
   "pygments_lexer": "ipython3",
   "version": "3.6.5"
  }
 },
 "nbformat": 4,
 "nbformat_minor": 2
}
