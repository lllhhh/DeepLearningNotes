{
 "cells": [
  {
   "cell_type": "markdown",
   "metadata": {},
   "source": [
    "### Saver相关函数\n",
    "\n",
    "\n",
    "\n",
    "\n",
    "\n",
    "<table>\n",
    "  <tr>\n",
    "    <th width=30%>函数</th>\n",
    "    <th width=20%>说明</th>\n",
    "  </tr>\n",
    "    \n",
    "  <tr>\n",
    "    <td> tf.train.Saver(var_list=None,\n",
    "                        reshape=False,\n",
    "                        sharded=False,\n",
    "                        max_to_keep=5, \n",
    "                        keep_checkpoint_every_n_hours=10000.0,\n",
    "                        name=None,\n",
    "                        restore_sequentially=False,\n",
    "                        saver_def=None,builder=None) </td>\n",
    "    <td> 创建存储器Saver  </td>\n",
    "  </tr>\n",
    "  \n",
    "  <tr>\n",
    "    <td>tf.train.Saver.save(sess,save_path,global_step=None,\n",
    "                            latest_filename=None,meta_graph_suffix='meta',\n",
    "                            write_meta_graph=True)</td>\n",
    "    <td>保存</td>\n",
    "  </tr>\n",
    "  \n",
    "  <tr>\n",
    "    <td>tf.train.restore(sess,save_path)</td>\n",
    "    <td>恢复</td>\n",
    "  </tr>\n",
    "  \n",
    "  <tr>\n",
    "    <td>tf.train.Saver.last_checkpoints</td>\n",
    "    <td>列出最近未删除的checkpoint文件</td>\n",
    "  </tr>\n",
    "  \n",
    "  <tr>\n",
    "    <td>tf.train.Saver.set_last_checkpoints(last_checkpoints)</td>\n",
    "    <td>设置checkpoint文件名列表</td>\n",
    "  </tr>\n",
    "\n",
    "   <tr>\n",
    "    <td>tf.train.Saver.set_last_checkpoints_with_time(last_checkpoints_with_time)</td>\n",
    "    <td>设置checkpoint文件名列表和时间戳</td>\n",
    "  </tr>\n",
    "\n",
    "</table>"
   ]
  },
  {
   "cell_type": "markdown",
   "metadata": {},
   "source": [
    "### tf.ones_like() \n",
    "> 生成和输入张量一样形状和类型的1。"
   ]
  },
  {
   "cell_type": "code",
   "execution_count": 9,
   "metadata": {},
   "outputs": [
    {
     "data": {
      "text/plain": [
       "<tf.Tensor 'ones_like_7:0' shape=(2, 3) dtype=int32>"
      ]
     },
     "execution_count": 9,
     "metadata": {},
     "output_type": "execute_result"
    }
   ],
   "source": [
    "import tensorflow as tf\n",
    "tensor = [[1,2,3],[4,5,6]]\n",
    "ones_like = tf.ones_like(tensor)\n",
    "ones_like # [[111][111]]"
   ]
  },
  {
   "cell_type": "markdown",
   "metadata": {},
   "source": [
    "### tf.zeros_like()\n",
    "> 生成和输入张量一样形状和类型的0."
   ]
  },
  {
   "cell_type": "code",
   "execution_count": 10,
   "metadata": {},
   "outputs": [
    {
     "data": {
      "text/plain": [
       "<tf.Tensor 'zeros_like:0' shape=(2, 3) dtype=int32>"
      ]
     },
     "execution_count": 10,
     "metadata": {},
     "output_type": "execute_result"
    }
   ],
   "source": [
    "tensor = [[1,2,3],[4,5,6]]\n",
    "zeros_like = tf.zeros_like(tensor)\n",
    "zeros_like"
   ]
  },
  {
   "cell_type": "markdown",
   "metadata": {},
   "source": [
    "### tf.fill(shape,value)\n",
    "> 为指定形状填值 "
   ]
  },
  {
   "cell_type": "code",
   "execution_count": 11,
   "metadata": {},
   "outputs": [
    {
     "data": {
      "text/plain": [
       "<tf.Tensor 'Fill:0' shape=(2, 3) dtype=int32>"
      ]
     },
     "execution_count": 11,
     "metadata": {},
     "output_type": "execute_result"
    }
   ],
   "source": [
    "fill_value = tf.fill([2,3],1)\n",
    "fill_value # [[111] [111]]"
   ]
  },
  {
   "cell_type": "markdown",
   "metadata": {},
   "source": [
    "### tf.constant(value,shape) \n",
    "> 生成常量"
   ]
  },
  {
   "cell_type": "code",
   "execution_count": 13,
   "metadata": {},
   "outputs": [
    {
     "data": {
      "text/plain": [
       "<tf.Tensor 'Const:0' shape=(2, 3) dtype=int32>"
      ]
     },
     "execution_count": 13,
     "metadata": {},
     "output_type": "execute_result"
    }
   ],
   "source": [
    "value = tf.constant(shape=[2,3],value=1)\n",
    "value "
   ]
  },
  {
   "cell_type": "markdown",
   "metadata": {},
   "source": [
    "### tf.random_normal(shape,mean=0.0,stddev=1.0,dtype=tf.float32,seed=None,name=None)\n",
    "> 正太分布随机数，均值mean，标准差stddev,"
   ]
  },
  {
   "cell_type": "markdown",
   "metadata": {},
   "source": [
    "### tf.truncated_normal(shape,mean=0,stddev=1.0,dtype=tf.float32,seed=None,name=None)\n",
    "> 截断正太分布随机数，均值mean,标准差stddev,只保留[mean-2*stddev,mean+2*stddev]范围内的随机数"
   ]
  },
  {
   "cell_type": "markdown",
   "metadata": {},
   "source": [
    "### tf.random_uniform(shape,minval=0,maxval=None,dtype=tf.float32,seed=None,name=None)\n",
    "> 均匀分布随机数，范围[minval,maxval]"
   ]
  },
  {
   "cell_type": "markdown",
   "metadata": {},
   "source": [
    "### tf.random_crop(value,size,seed=None,name=None) \n",
    "> 将输入值value按照size尺寸随机剪辑"
   ]
  },
  {
   "cell_type": "markdown",
   "metadata": {},
   "source": [
    "### tf.set_random_seed(seed)\n",
    "> 设置随机数种子"
   ]
  },
  {
   "cell_type": "markdown",
   "metadata": {},
   "source": [
    "### tf.linspace(start,stop,num,name=None)\n",
    "> 在[start,stop]范围内产生num个数的等差数列。注意，start和stop要用浮点数表示，否则会报错。"
   ]
  },
  {
   "cell_type": "code",
   "execution_count": 14,
   "metadata": {},
   "outputs": [
    {
     "data": {
      "text/plain": [
       "<tf.Tensor 'LinSpace:0' shape=(5,) dtype=float32>"
      ]
     },
     "execution_count": 14,
     "metadata": {},
     "output_type": "execute_result"
    }
   ],
   "source": [
    "a = tf.linspace(start=1.0,stop=5.0,num=5,name=None)\n",
    "a #[1. 2. 3. 4. 5.]"
   ]
  },
  {
   "cell_type": "markdown",
   "metadata": {},
   "source": [
    "### tf.range(star,limit=None,delta=1,name='range')\n",
    "> 在[start,limit)范围内以步进值delta产生等差数列。注意，**不包括limit在内**的。"
   ]
  },
  {
   "cell_type": "code",
   "execution_count": 15,
   "metadata": {},
   "outputs": [
    {
     "data": {
      "text/plain": [
       "<tf.Tensor 'range:0' shape=(4,) dtype=int32>"
      ]
     },
     "execution_count": 15,
     "metadata": {},
     "output_type": "execute_result"
    }
   ],
   "source": [
    "a = tf.range(start=1,limit=5,delta=1)\n",
    "a # [1 2 3 4]"
   ]
  },
  {
   "cell_type": "code",
   "execution_count": null,
   "metadata": {},
   "outputs": [],
   "source": []
  }
 ],
 "metadata": {
  "kernelspec": {
   "display_name": "Python 3",
   "language": "python",
   "name": "python3"
  },
  "language_info": {
   "codemirror_mode": {
    "name": "ipython",
    "version": 3
   },
   "file_extension": ".py",
   "mimetype": "text/x-python",
   "name": "python",
   "nbconvert_exporter": "python",
   "pygments_lexer": "ipython3",
   "version": "3.6.5"
  }
 },
 "nbformat": 4,
 "nbformat_minor": 2
}
