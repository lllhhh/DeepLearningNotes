{
 "cells": [
  {
   "cell_type": "markdown",
   "metadata": {},
   "source": [
    "TensorFlow中有一个封装好的高级库，使用这个高级库来开发程序会提高效率。\n",
    "# 使用函数封装库重写CIFAR卷积网络\n",
    "将网络结构中的全连接、卷积和池化全部用tensorflow.contrib.layers改写。\n",
    "\n",
    "卷积函数使用tf.contrib.layers.conv2d，池化使用tf.contrib.layers.max_pool2d和tf.contrib.layers.avg_pool2d，使用全连接来作为输出层，并演示全连接函数tf.contrib.layers.fully_connected的使用。"
   ]
  },
  {
   "cell_type": "code",
   "execution_count": 1,
   "metadata": {},
   "outputs": [
    {
     "name": "stderr",
     "output_type": "stream",
     "text": [
      "/usr/local/Cellar/python/3.6.5/Frameworks/Python.framework/Versions/3.6/lib/python3.6/importlib/_bootstrap.py:219: RuntimeWarning: compiletime version 3.5 of module 'tensorflow.python.framework.fast_tensor_util' does not match runtime version 3.6\n",
      "  return f(*args, **kwds)\n"
     ]
    }
   ],
   "source": [
    "import tensorflow as tf\n",
    "\n",
    "#定义占位符\n",
    "x = tf.Variable(tf.float32,[None,24,24,3]) # 数据集shape 24 * 24 * 3\n",
    "y = tf.placeholder(tf.float32,[None,10]) #0~9 数字分类\n",
    "\n",
    "x_image = tf.reshape(x,[-1,24,24,3])\n",
    "\n",
    "h_conv1 = tf.contrib.layers.conv2d(x_image,64,5,1,'SAME',activation_fn=tf.nn.relu)\n",
    "h_pool1 = tf.contrib.layers.max_pool2d(h_conv1,[2,2],stride=2,padding='SAME')\n",
    "\n",
    "h_conv2 = tf.contrib.layers.conv2d(h_pool1,64,[5,5],1,'SAME',activation_fn=tf.nn.relu)\n",
    "h_pool2 = tf.contrib.layers.max_pool2d(h_pool2,[2,2],stride=2,padding='SAME')\n",
    "\n",
    "nt_hpool2 = tf.contrib.layers.avg_pool2d(h_pool2,[6,6],stride=6,padding='SAME')\n",
    "\n",
    "nt_hpool2_flat = tf.reshape(nt_hpool2,[-1,64])\n",
    "\n",
    "y_conv = tf.contrib.layers.fully_connected(nt_hpool2_flat,10,activation_fn=tf.nn.softmax)\n",
    "\n",
    "# 交叉熵\n",
    "cross_entropy = -tf.reduce_sum(y*tf.log(y_conv))\n",
    "train_step = tf.train.AdamOptimizer(1e-1).minimize(cross_entropy)\n",
    "\n",
    "correct_prediction = tf.equal(tf.argmax(y_conv,1),tf.argmax(y,1))\n",
    "\n",
    "accuracy = tf.reduce_mean(tf.cast(correct_prediction,\"float\"))"
   ]
  },
  {
   "cell_type": "markdown",
   "metadata": {},
   "source": [
    "在深层网络结构中，大量的重复代码会使代码可读性越来越差，所以使用tf.contrib.layers不失为一个好办法。"
   ]
  },
  {
   "cell_type": "markdown",
   "metadata": {},
   "source": [
    "## tf.contrib.layers中具体函数介绍\n",
    "在上面代码中，没有定义权重，没有初始化，没有过多的参数，这些都是tf.contrib.layers帮我们封装好的。tf.contrib.layers.conv2d函数定义如下："
   ]
  },
  {
   "cell_type": "code",
   "execution_count": null,
   "metadata": {},
   "outputs": [],
   "source": [
    "def convolution(inputs,\n",
    "               num_options,\n",
    "               kernel_size,\n",
    "               stride=1,\n",
    "               padding='SAME',\n",
    "               data_format=None,\n",
    "               rate=1,\n",
    "               activation_fn=nn.relu,\n",
    "               normalizer_fn=None,\n",
    "               normalizer_params=None,\n",
    "               weights_initializer=initializers.xavier_initializer(),\n",
    "               weights_regularizer=None,\n",
    "               biases_initializer=init_ops.zeros_initializer(),\n",
    "               biases_regularizer=None,\n",
    "               reuse=None,\n",
    "               variables_collections=None,\n",
    "               outputs_collections=None,\n",
    "               trainable=True,\n",
    "               scope=None):"
   ]
  },
  {
   "cell_type": "markdown",
   "metadata": {},
   "source": [
    "参数如下：\n",
    "- inputs:代表输入。\n",
    "- num_outputs:代表输出几个channel。这里不需要再指定输入的channel了，因为函数会自动根据inputs的shape去判断。\n",
    "- kernel_size:卷积核大小，不需要带上batch和channel，只需要输入尺寸即可。[5,5]就代表5x5大小的卷积核。如果长宽都一样，也可以直接写一个数5.\n",
    "- stride:步长，默认是长、宽都相等的步长。卷积时，一般都用1，所以默认值也是1，如果长、宽的步长都不同，也可以用一个数组[1,2]。\n",
    "- padding:\n",
    "- activation_fn:输出后的激活函数。\n",
    "- weights_initailizer：权重的初始化，默认为initialzers.xavier_initialzer函数。\n",
    "- weights_regularizer：正则化项。可以加入正则函数，biases_regularizer同理。\n",
    "- trainable:是否可训练，如作为训练节点，必须设为True。"
   ]
  },
  {
   "cell_type": "code",
   "execution_count": null,
   "metadata": {},
   "outputs": [],
   "source": []
  }
 ],
 "metadata": {
  "kernelspec": {
   "display_name": "Python 3",
   "language": "python",
   "name": "python3"
  },
  "language_info": {
   "codemirror_mode": {
    "name": "ipython",
    "version": 3
   },
   "file_extension": ".py",
   "mimetype": "text/x-python",
   "name": "python",
   "nbconvert_exporter": "python",
   "pygments_lexer": "ipython3",
   "version": "3.6.5"
  }
 },
 "nbformat": 4,
 "nbformat_minor": 2
}
