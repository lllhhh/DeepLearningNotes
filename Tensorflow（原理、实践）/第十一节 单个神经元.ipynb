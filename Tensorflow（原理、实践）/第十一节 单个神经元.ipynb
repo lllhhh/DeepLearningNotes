{
 "cells": [
  {
   "cell_type": "markdown",
   "metadata": {},
   "source": [
    "神经网络是由多个神经元组成。一个神经元由以下几个关键知识点组成：\n",
    "- 激活函数；\n",
    "- 损失函数；\n",
    "- 梯度下降。\n",
    "# 神经元的拟合原理\n",
    "单个神经元的网络模型如图所示：\n",
    "![单个神经元](imgs/10_neure.png)\n",
    "计算公式为 $$ z=\\sum_{i=1}^{n}w_i \\times x_i+b=w \\cdot x+b  $$\n",
    "z为输出的结果；x为输入；W为权重；b为偏执。W和b可以理解为两个变量。\n",
    "\n",
    "模型每次的学习都是为了调整W和b从而得到一个合适的值，最终由这个值配合运算公式所形成的逻辑就是神经网络的模型。\n",
    "## 正向传播\n",
    "\n",
    "## 反向传播\n",
    "\n",
    "### BP算法简介\n",
    "BP算法又称“误差反向传播算法”。我们最终的目的，是要让**正向传播的输出结果与标签间的误差最小化**，这就是反向传播的核心思想。\n",
    "\n",
    "# 激活函数--加入非线性因素，解决线性模型缺陷\n",
    "激活函数的主要作用就是加入非线性因素，解决线性模型缺陷。\n",
    "\n",
    "因为神经网络的数学基础是处处可微的，所以选取的激活函数要能保证数据输入与输出也是可微的。\n",
    "\n",
    "神经网络里常用的激活函数有Sigmoid、Tanh和Relu等。\n",
    "## Sigmoid函数\n",
    "### 函数介绍\n",
    "Sigmoid函数是常用的非线性激活函数，数学形式：$$ f(x)=\\frac{1+e^{-x}}{1} $$,曲线如图：![Sigmoid](imgs/10_sigmoid.png)\n",
    "\n",
    "x可以是正无穷到负无穷，但是对应得y却只有0~1的范围，所以经过Sigmoid函数输出的函数都会落在0~1的区间里，即Sigmoid函数能把输入的值“压缩”到0~1之间。\n",
    "\n",
    "TensorFlow中对应的函数为：\n",
    "___\n",
    "```Python\n",
    "tf.nn.sigmoid(x,name=None)\n",
    "```\n",
    "___\n",
    "从图像上看，随着x趋近正负无穷大，y对应的值越来越接近1或者-1，这种情况叫做饱和。所以，为了能有效使用Sigmoid函数，其极限也只能是-6~6之间，而-3~3之间应该会有比较好的效果。\n",
    "\n",
    "## Tanh函数\n",
    "Tanh函数可以说是Sigmoid函数的值域升级版，由Sigmoid函数的0~1之间升级到-1~1。但是Tanh函数也不能完全替代Sigmoid函数，在某些输出需要大于0的情况下，还是要用Sigmoid函数。\n",
    "### 函数介绍\n",
    "Tanh函数也是常用的非线性激活函数，其数学形式：\n",
    "$$ tanh(x)=2sigmoid(2x)-1 $$\n",
    "其函数曲线如图，\n",
    "![Tanh函数](imgs/10_tanh.png)，其x取值也是从正无穷到负无穷，对应的y值变为-1~1之间，相对于Sigmoid函数有更广的值域。\n",
    "### TensorFlow中对应的函数\n",
    "___\n",
    "```Python\n",
    "tf.nn.tanh(x,name=None)\n",
    "```\n",
    "___\n",
    "> Tanh函数跟S为gmoid函数有一样的缺陷，也是饱和问题，所以在使用Tanh函数式，要注意输入值的绝对值不能过大，否则模型无法训练。\n",
    "\n",
    "## ReLu函数\n",
    "### 函数介绍\n",
    "除了Sigmoid、Tanh函数外，还有一个更为常用的激活函数（也称为Rectifier）。其数学形式是：\n",
    "$$ f(x)=max(0,x) $$，大于0的留下，否则一律为0.ReLu函数应用的广泛性与它的优势是分不开的。这种对**正向信号的重视**，忽略了负向信号的特性，与我们人类神经元细胞对信号的反映极其相似。由于ReLu函数运算简单，大大提升了机器的运行效率。"
   ]
  },
  {
   "cell_type": "code",
   "execution_count": null,
   "metadata": {},
   "outputs": [],
   "source": []
  }
 ],
 "metadata": {
  "kernelspec": {
   "display_name": "Python 3",
   "language": "python",
   "name": "python3"
  },
  "language_info": {
   "codemirror_mode": {
    "name": "ipython",
    "version": 3
   },
   "file_extension": ".py",
   "mimetype": "text/x-python",
   "name": "python",
   "nbconvert_exporter": "python",
   "pygments_lexer": "ipython3",
   "version": "3.6.5"
  }
 },
 "nbformat": 4,
 "nbformat_minor": 2
}
