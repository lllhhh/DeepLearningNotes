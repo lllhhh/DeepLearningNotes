{
 "cells": [
  {
   "cell_type": "markdown",
   "metadata": {},
   "source": [
    "神经网络是由多个神经元组成。一个神经元由以下几个关键知识点组成：\n",
    "- 激活函数；\n",
    "- 损失函数；\n",
    "- 梯度下降。\n",
    "# 神经元的拟合原理\n",
    "单个神经元的网络模型如图所示：\n",
    "![单个神经元](imgs/10_neure.png)\n",
    "计算公式为 $$ z=\\sum_{i=1}^{n}w_i \\times x_i+b=w \\cdot x+b  $$\n",
    "z为输出的结果；x为输入；W为权重；b为偏执。W和b可以理解为两个变量。\n",
    "\n",
    "模型每次的学习都是为了调整W和b从而得到一个合适的值，最终由这个值配合运算公式所形成的逻辑就是神经网络的模型。\n"
   ]
  },
  {
   "cell_type": "code",
   "execution_count": null,
   "metadata": {},
   "outputs": [],
   "source": []
  }
 ],
 "metadata": {
  "kernelspec": {
   "display_name": "Python 3",
   "language": "python",
   "name": "python3"
  },
  "language_info": {
   "codemirror_mode": {
    "name": "ipython",
    "version": 3
   },
   "file_extension": ".py",
   "mimetype": "text/x-python",
   "name": "python",
   "nbconvert_exporter": "python",
   "pygments_lexer": "ipython3",
   "version": "3.6.5"
  }
 },
 "nbformat": 4,
 "nbformat_minor": 2
}
