{
 "cells": [
  {
   "cell_type": "markdown",
   "metadata": {},
   "source": [
    "TensorFlow提供了一个可以分布式部署的模式，讲一个训练任务拆成多个小任务，分配到不同的计算机上来完成协同运算，这样使用计算机群运算来代替单机计算，\n",
    "可以使训练大大缩短。"
   ]
  },
  {
   "cell_type": "markdown",
   "metadata": {},
   "source": [
    "# 分布式TensorFlow的角色和原理\n",
    "要想配置TensorFlow为分布训练，需要先了解TensorFlow中关于分布式的角色分配。\n",
    "- ps:作为分布式训练的**服务端**，等待各个终端（supervisors）来链接。\n",
    "- worker:在TensorFlow的代码注释中被称为supervisors，作为分布式训练的**运算终端**。\n",
    "- chief supervisors:在众多运算终端中必须选择一个作为主要的运算终端。该终端是在运算终端中最先启动的，它的功能是合并各个终端运算后的学习参数，将其保存或载入。\n",
    "每个具体角色网络标识都是唯一的，即分布在不同IP的机器上（或者同一个机器但不同的端口）。\n",
    "\n",
    "在实际运行中，各个角色的网络构建部分代码必须100%的相同。\n",
    "- 服务端作为一个多方协调者，等待各个运算终端来链接。\n",
    "- chief supervisors会在启动时统一管理全局的学习参数，进行初始化或从模型载入。\n",
    "- 其他的运算终端只是负责得到其对应得任务并进行计算，并不会保存检查点，用于TensorBoard可视化中的summary日志等任何参数信息。\n",
    "- 整个过程都是通过PRC协议来通信的。\n",
    "# 分布部署TensorFlow的具体方法\n",
    "配置过程中，首先需要建一个server，在server中会将ps及所有worker的IP端口准备好。接着，使用tf.train.Supervisor中的managed_session来管理一个打开的session。session中只是负责运算，而通信协议的事情就都交给supervisor来管理。"
   ]
  },
  {
   "cell_type": "markdown",
   "metadata": {},
   "source": [
    "# 实例：使用TensorFlow实现分布式部署训练\n",
    "在本机通过3个端口来建立3个终端，分别是一个ps,两个worker，实现TensorFlow的分布式运算。\n",
    "1. 为每个角色添加IP地址和端口，分别代表ps、chief supervisors和worker。角色的名称用strjob_name表示。以ps为例："
   ]
  },
  {
   "cell_type": "code",
   "execution_count": 3,
   "metadata": {},
   "outputs": [
    {
     "data": {
      "image/png": "[encoded data removed]",
      "text/plain": [
       "<Figure size 432x288 with 1 Axes>"
      ]
     },
     "metadata": {},
     "output_type": "display_data"
    }
   ],
   "source": [
    "import tensorflow as tf\n",
    "import matplotlib.pyplot as plt\n",
    "import numpy as np\n",
    "\n",
    "plotdata = {\"batchsize\":[],\"loss\":[]}\n",
    "def moving_average(a, w=10):\n",
    "    if len(a) < w: \n",
    "        return a[:]    \n",
    "    return [val if idx < w else sum(a[(idx-w):idx])/w for idx, val in enumerate(a)]\n",
    "\n",
    "# 生成模拟数据\n",
    "train_X = np.linspace(-1,1,100)\n",
    "train_Y = 2 * train_X + np.random.randn(*train_X.shape) * 0.3\n",
    "# 图形显示\n",
    "plt.plot(train_X,train_Y,'ro',label=\"Original data\")\n",
    "plt.legend()\n",
    "plt.show()\n",
    "\n",
    "\"\"\"\n",
    "    定义ip和端口\n",
    "\"\"\"\n",
    "strps_hosts = \"localhost:1681\"\n",
    "strworker_hosts = \"localhost:1682,localhost:1683\"\n",
    "\n",
    "\"\"\"\n",
    "    定义角色名称\n",
    "\"\"\"\n",
    "strjob_name = \"ps\"\n",
    "task_index = 0\n",
    "\n",
    "ps_hosts = strps_hosts.split(',')\n",
    "worker_hosts = strworker_hosts.split(',')\n",
    "cluster_spec = tf.train.ClusterSpec({'ps':ps_hosts,'worker':worker_hosts})\n",
    "\n",
    "# 创建server\n",
    "server = tf.train.Server({\n",
    "                        'ps': ps_hosts,\n",
    "                        'worker':worker_hosts},\n",
    "                        job_name=strjob_name,\n",
    "                        task_index = task_index)\n",
    "\n",
    "# ps角色使用join进行等待\n",
    "if strjob_name == 'ps':\n",
    "    print('wait')\n",
    "    server.join()\n",
    "    \n",
    "with tf.device(tf.train.replica_device_setter(\n",
    "                worker_device=\"/job:worker/task:%d\" % task_index,\n",
    "                cluster_spec= cluster_spec)):\n",
    "    X = tf.placeholder(\"float\")\n",
    "    Y = tf.placeholder(\"float\")\n",
    "    #模型参数\n",
    "    W = tf.Variable(tf.random_normal([1]),name=\"weight\")\n",
    "    b = tf.Variable(tf.zeros([1]),name=\"bias\")\n",
    "    \n",
    "    global_step = tf.train.get_or_create_global_step() # 获取迭代次数\n",
    "    \n",
    "    # 向前结构\n",
    "    z = tf.multiply(X,W) + b\n",
    "    tf.summary.histogram('z',z) # 将预测值以直方图展示\n",
    "    # 反向优化\n",
    "    cost = tf.reduce_mean(tf.square(Y - z))\n",
    "    tf.summary.scalar('loss_function', cost) # 损失以标量展示\n",
    "    learning_rate = 0.01\n",
    "    optimizer = tf.train.GradientDescentOptimizer(learning_rate).minimize(cost,global_step=global_step)\n",
    "    \n",
    "    saver = tf.train.Saver(max_to_keep=1)\n",
    "    merged_summary_op = tf.summary.merge_all() # 合并所有summary\n",
    "    \n",
    "    init = tf.global_variables_initializer()\n",
    "    \n",
    "    \n",
    "# 设置参数\n",
    "training_epochs = 2200\n",
    "display_step = 2\n",
    "\n",
    "sv = tf.train.Supervisor(is_chief=(task_index == 0),logdir=\"log/super/\",\n",
    "                         init_op=init,\n",
    "                         summary_op=None,\n",
    "                         saver=saver,\n",
    "                         global_step=global_step,\n",
    "                         save_model_secs=5)\n",
    "\n",
    "# 链接目标角色创建session\n",
    "with sv.managed_session(server.target) as sess:\n",
    "    print(\"sess ok\")\n",
    "    print(global_step.eval(session= sess))\n",
    "    \n",
    "    for epoch in range(global_step.eval(session=sess),training_epochs*len(train_X)):\n",
    "        for (x,y) in zip(train_X,train_Y):\n",
    "            _, epoch = sess.run([optimizer,global_step],feed_dict={X:x,Y:y})\n",
    "            #生成summary\n",
    "            summary_str = sess.run(merged_summary_op,feed_dict={X:x,Y:y})\n",
    "            \n",
    "            #将summary写入文件\n",
    "            sv.summary_computed(sess,summary_str,global_step=epoch)\n",
    "            if epoch % display_step == 0:\n",
    "                loss = sess.run(cost,feed_dict={X:train_X,Y:train_Y})\n",
    "                print(\"Epoch:\",epoch+1,loss,\"W=\",sess.run(W),\"b=\",sess.run(b))\n",
    "                if not (loss == \"NA\"):\n",
    "                    plotdata[\"batchsize\"].append(epoch)\n",
    "                    plotdata[\"loss\"].append(loss)\n",
    "    \n",
    "    print(\"Finished!\")\n",
    "    sv.server.save(sess,\"log/mnist_with_summaries/\"+\"sv.cpk\",global_step=epoch)\n",
    "\n",
    "sv.stop()"
   ]
  },
  {
   "cell_type": "code",
   "execution_count": null,
   "metadata": {},
   "outputs": [],
   "source": []
  }
 ],
 "metadata": {
  "kernelspec": {
   "display_name": "Python 3",
   "language": "python",
   "name": "python3"
  },
  "language_info": {
   "codemirror_mode": {
    "name": "ipython",
    "version": 3
   },
   "file_extension": ".py",
   "mimetype": "text/x-python",
   "name": "python",
   "nbconvert_exporter": "python",
   "pygments_lexer": "ipython3",
   "version": "3.6.5"
  }
 },
 "nbformat": 4,
 "nbformat_minor": 2
}
