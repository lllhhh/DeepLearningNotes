{
 "cells": [
  {
   "cell_type": "markdown",
   "metadata": {},
   "source": [
    "# 编程模型\n",
    "TensorFlow的命名来源于本身的运行原理。Tensor（张量）意味着N维数组，Flow（流）意味着基于数据流图的计算。TensoeFlow是张量从图的一端流动到另一端的计算过程，这也是TensorFlow的编程模型。\n"
   ]
  },
  {
   "cell_type": "markdown",
   "metadata": {},
   "source": [
    "## 编写hello world程序演示session的使用 \n",
    "### 建立一个session，在session中输出。\n",
    "> tf.constant定义的是一个常量，hello的内容只有在session的run内才能可以返回。"
   ]
  },
  {
   "cell_type": "code",
   "execution_count": 2,
   "metadata": {},
   "outputs": [
    {
     "name": "stdout",
     "output_type": "stream",
     "text": [
      "b'hello,TensorFlow'\n"
     ]
    }
   ],
   "source": [
    "import tensorflow as tf \n",
    "hello = tf.constant('hello,TensorFlow') # 定义一个常量\n",
    "sess = tf.Session()                     # 建立一个session\n",
    "print(sess.run(hello))                  # 通过session里面run函数运行结果\n",
    "sess.close()                            # 关闭session"
   ]
  },
  {
   "cell_type": "markdown",
   "metadata": {},
   "source": [
    "###  with session的使用"
   ]
  },
  {
   "cell_type": "code",
   "execution_count": 4,
   "metadata": {},
   "outputs": [
    {
     "name": "stdout",
     "output_type": "stream",
     "text": [
      "相乘：12\n",
      "相乘：7\n"
     ]
    }
   ],
   "source": [
    "import tensorflow as tf\n",
    "a = tf.constant(3)\n",
    "b = tf.constant(4)\n",
    "with tf.Session() as sess:\n",
    "    print(\"相乘：%i\" % sess.run(a*b))\n",
    "    print(\"相乘：%i\" % sess.run(a+b))"
   ]
  },
  {
   "cell_type": "markdown",
   "metadata": {},
   "source": [
    "### 注入机制\n",
    "使用注入机制，将具体的实参注入到相应的placeholder中。feed只在调用它的方法内有效，方法结束后feed就会消失。"
   ]
  },
  {
   "cell_type": "code",
   "execution_count": 5,
   "metadata": {},
   "outputs": [
    {
     "name": "stdout",
     "output_type": "stream",
     "text": [
      "相加 7\n",
      "相乘 12\n"
     ]
    }
   ],
   "source": [
    "import tensorflow as tf\n",
    "a = tf.placeholder(tf.int16)\n",
    "b = tf.placeholder(tf.int16)\n",
    "add = tf.add(a,b)\n",
    "mul = tf.multiply(a,b)\n",
    "\n",
    "with tf.Session() as sess:\n",
    "    # 计算\n",
    "    print('相加', sess.run(add,feed_dict={a:3,b:4}))\n",
    "    print('相乘', sess.run(mul,feed_dict={a:3,b:4}))"
   ]
  },
  {
   "cell_type": "markdown",
   "metadata": {},
   "source": [
    "### 建立session的其他方法\n",
    "- 交互式session方式："
   ]
  },
  {
   "cell_type": "code",
   "execution_count": 6,
   "metadata": {},
   "outputs": [],
   "source": [
    "sess = tf.InteractiveSession()"
   ]
  },
  {
   "cell_type": "markdown",
   "metadata": {},
   "source": [
    "- 使用Supervisor方式\n",
    "> 该方式会更高级一些，使用起来也更加复杂，可以自动来管理session中的具体任务，例如，载入/载出检查点文件、写入TensorBoard等，另外该方法还支持**分布式**训练的部署。"
   ]
  },
  {
   "cell_type": "markdown",
   "metadata": {},
   "source": [
    "### 使用注入机制获取节点"
   ]
  },
  {
   "cell_type": "code",
   "execution_count": 7,
   "metadata": {},
   "outputs": [
    {
     "name": "stdout",
     "output_type": "stream",
     "text": [
      "相加 7\n",
      "相乘 12\n",
      "[12, 7]\n"
     ]
    }
   ],
   "source": [
    "import tensorflow as tf\n",
    "a = tf.placeholder(tf.int16)\n",
    "b = tf.placeholder(tf.int16)\n",
    "add = tf.add(a,b)\n",
    "mul = tf.multiply(a,b)\n",
    "\n",
    "with tf.Session() as sess:\n",
    "    # 计算\n",
    "    print('相加', sess.run(add,feed_dict={a:3,b:4}))\n",
    "    print('相乘', sess.run(mul,feed_dict={a:3,b:4}))\n",
    "    print(sess.run([mul,add],feed_dict={a:3,b:4}))"
   ]
  },
  {
   "cell_type": "markdown",
   "metadata": {},
   "source": [
    "### 指定GPU运算"
   ]
  },
  {
   "cell_type": "code",
   "execution_count": null,
   "metadata": {},
   "outputs": [],
   "source": [
    "with tf.Session() as sess:\n",
    "    with tf.device('/cpu:0'):\n",
    "        a = tf.placeholder(tf.int16)\n",
    "        b = tf.placeholder(tf.int16)\n",
    "        add = tf.add(a,b)\n",
    "        print(sess.run(add,feed_dict={a:3,b:4}))"
   ]
  },
  {
   "cell_type": "markdown",
   "metadata": {},
   "source": [
    "通过tf.ConfigProto构建config，在config中指定相关GPU，并且在session中传入参数config=“创建的config”来指定GPU操作。\n",
    "tf.ConfigProto函数参数如下\n",
    "- log_device_placement=True:是否打印设备分配日志\n",
    "- allow_soft_placement=True：如果指定的设备不存在，允许TF自动分配设备\n",
    "___\n",
    "```Python\n",
    "config = tf.ConfigProto(log_device_placement=True,allow_soft_placement=True)\n",
    "sess.run(config=config)\n",
    "```\n",
    "___"
   ]
  },
  {
   "cell_type": "markdown",
   "metadata": {},
   "source": [
    "### 设置GPU使用资源\n",
    "___\n",
    "config.gpu_options.allow_growth = True\n",
    "___\n",
    "使用allow_growth option，刚开始会分配少量的GPU容量，然后按需慢慢地增加，由于不会释放内存，所以会导致碎片。"
   ]
  },
  {
   "cell_type": "code",
   "execution_count": 12,
   "metadata": {},
   "outputs": [],
   "source": [
    "gpu_options = tf.GPUOptions(allow_growth=True)\n",
    "config = tf.ConfigProto(gpu_options=gpu_options)"
   ]
  },
  {
   "cell_type": "code",
   "execution_count": 13,
   "metadata": {},
   "outputs": [],
   "source": [
    "#以下为给GPU分配固定大小的计算资源。\n",
    "gpu_options = tf.GPUOptions(per_process_gpu_memory_fraction=0.7)\n",
    "# 代表分配给TensorFlow的GPU显存大小为：GPU实际显存x0.7"
   ]
  },
  {
   "cell_type": "markdown",
   "metadata": {},
   "source": [
    "### 保存和载入模型的方法\n",
    "1. 保存模型\n",
    "> 首先建立一个saver，然后再session中通过saver的save即可将模型保存起来。\n",
    "___\n",
    "```Python\n",
    "#之前是各种构建模型graph的操作（矩阵相乘，sigmoid等）\n",
    "saver = tf.train.Saver()\n",
    "with tf.Session() as sess:\n",
    "    sess.run(tf.global_variables_initialzer()) #先对模型初始化\n",
    "    #然后将数据丢入模型进行训练\n",
    "    #训练完以后，使用saver。save来保存\n",
    "    saver.save(sess,\"save_path/file_name\")\n",
    "    file_name如果不存在，会自动创建\n",
    "```\n",
    "___\n",
    "\n",
    "2. 载入模型\n",
    "将模型保存好以后，载入也方便。在session中通过调用saver的**restore（）**方法，会从指定的路径找到模型文件，并覆盖到相关参数中。\n",
    "___\n",
    "```Python\n",
    "saver = tf.train.Saver()\n",
    "with tf.Session() as sess:\n",
    "    #参数可以进行初始化，也可不进行初始化。即使初始化了，初始化的值也会被restore的值覆盖。\n",
    "    sess.run(tf.global_variable_initializer())\n",
    "    saver.restore(sess,\"save_path/file_name\")#会将已保存的变量值restore到变量中。\n",
    "\n",
    "\n",
    "```\n",
    "___"
   ]
  },
  {
   "cell_type": "markdown",
   "metadata": {},
   "source": [
    "### 实例：保存/载入线性回归模型"
   ]
  },
  {
   "cell_type": "code",
   "execution_count": 18,
   "metadata": {},
   "outputs": [
    {
     "data": {
      "image/png": "[encoded data removed]",
      "text/plain": [
       "<Figure size 432x288 with 1 Axes>"
      ]
     },
     "metadata": {},
     "output_type": "display_data"
    },
    {
     "name": "stdout",
     "output_type": "stream",
     "text": [
      "Epoch: 1 cost= 0.7929216 W= [0.740252] b= [0.3817892]\n",
      "Epoch: 3 cost= 0.1332335 W= [1.7021601] b= [0.12363265]\n",
      "Epoch: 5 cost= 0.08293252 W= [1.962952] b= [0.02542248]\n",
      "Epoch: 7 cost= 0.080581665 W= [2.030588] b= [-0.00050102]\n",
      "Epoch: 9 cost= 0.08069875 W= [2.0480793] b= [-0.00721271]\n",
      "Epoch: 11 cost= 0.08077753 W= [2.052602] b= [-0.00894829]\n",
      "Epoch: 13 cost= 0.08080114 W= [2.0537708] b= [-0.00939673]\n",
      "Epoch: 15 cost= 0.08080748 W= [2.054074] b= [-0.00951321]\n",
      "Epoch: 17 cost= 0.08080914 W= [2.0541534] b= [-0.00954348]\n",
      "Epoch: 19 cost= 0.08080955 W= [2.0541725] b= [-0.00955087]\n",
      " Finished!\n",
      "cost= 0.08080964 W= [2.0541763] b= [-0.0095522]\n"
     ]
    },
    {
     "data": {
      "image/png": "[encoded data removed]",
      "text/plain": [
       "<Figure size 432x288 with 1 Axes>"
      ]
     },
     "metadata": {},
     "output_type": "display_data"
    },
    {
     "data": {
      "image/png": "[encoded data removed]",
      "text/plain": [
       "<Figure size 432x288 with 1 Axes>"
      ]
     },
     "metadata": {},
     "output_type": "display_data"
    }
   ],
   "source": [
    "# -*- coding: utf-8 -*-\n",
    "import tensorflow as tf\n",
    "import numpy as np\n",
    "import matplotlib.pyplot as plt\n",
    "\n",
    "plotdata = { \"batchsize\":[], \"loss\":[] }\n",
    "def moving_average(a, w=10):\n",
    "    if len(a) < w: \n",
    "        return a[:]    \n",
    "    return [val if idx < w else sum(a[(idx-w):idx])/w for idx, val in enumerate(a)]\n",
    "\n",
    "\n",
    "#生成模拟数据\n",
    "train_X = np.linspace(-1, 1, 100)\n",
    "train_Y = 2 * train_X + np.random.randn(*train_X.shape) * 0.3 # y=2x，但是加入了噪声\n",
    "#图形显示\n",
    "plt.plot(train_X, train_Y, 'ro', label='Original data')\n",
    "plt.legend()\n",
    "plt.show()\n",
    "\n",
    "#重置图\n",
    "tf.reset_default_graph()\n",
    "\n",
    "# 创建模型\n",
    "# 占位符\n",
    "X = tf.placeholder(\"float\")\n",
    "Y = tf.placeholder(\"float\")\n",
    "# 模型参数\n",
    "W = tf.Variable(tf.random_normal([1]), name=\"weight\")\n",
    "b = tf.Variable(tf.zeros([1]), name=\"bias\")\n",
    "# 前向结构\n",
    "z = tf.multiply(X, W)+ b\n",
    "\n",
    "#反向优化\n",
    "cost =tf.reduce_mean( tf.square(Y - z))\n",
    "learning_rate = 0.01\n",
    "optimizer = tf.train.GradientDescentOptimizer(learning_rate).minimize(cost) #Gradient descent\n",
    "\n",
    "# 初始化变量\n",
    "init = tf.global_variables_initializer()\n",
    "#参数设置\n",
    "training_epochs = 20\n",
    "display_step = 2\n",
    "saver = tf.train.Saver() # 生成saver\n",
    "savedir = \"log/\"\n",
    "# 启动session\n",
    "with tf.Session() as sess:\n",
    "    sess.run(init)\n",
    "\n",
    "    # Fit all training data\n",
    "    for epoch in range(training_epochs):\n",
    "        for (x, y) in zip(train_X, train_Y):\n",
    "            sess.run(optimizer, feed_dict={X: x, Y: y})\n",
    "\n",
    "        #显示训练中的详细信息\n",
    "        if epoch % display_step == 0:\n",
    "            loss = sess.run(cost, feed_dict={X: train_X, Y:train_Y})\n",
    "            print (\"Epoch:\", epoch+1, \"cost=\", loss,\"W=\", sess.run(W), \"b=\", sess.run(b))\n",
    "            if not (loss == \"NA\" ):\n",
    "                plotdata[\"batchsize\"].append(epoch)\n",
    "                plotdata[\"loss\"].append(loss)\n",
    "                \n",
    "    print (\" Finished!\")\n",
    "    saver.save(sess, savedir+\"linermodel.cpkt\")\n",
    "    print (\"cost=\", sess.run(cost, feed_dict={X: train_X, Y: train_Y}), \"W=\", sess.run(W), \"b=\", sess.run(b))\n",
    "    #print (\"cost:\",cost.eval({X: train_X, Y: train_Y}))\n",
    "\n",
    "    #图形显示\n",
    "    plt.plot(train_X, train_Y, 'ro', label='Original data')\n",
    "    plt.plot(train_X, sess.run(W) * train_X + sess.run(b), label='Fitted line')\n",
    "    plt.legend()\n",
    "    plt.show()\n",
    "    \n",
    "    plotdata[\"avgloss\"] = moving_average(plotdata[\"loss\"])\n",
    "    plt.figure(1)\n",
    "    plt.subplot(211)\n",
    "    plt.plot(plotdata[\"batchsize\"], plotdata[\"avgloss\"], 'b--')\n",
    "    plt.xlabel('Minibatch number')\n",
    "    plt.ylabel('Loss')\n",
    "    plt.title('Minibatch run vs. Training loss')\n",
    "     \n",
    "    plt.show()"
   ]
  },
  {
   "cell_type": "code",
   "execution_count": 20,
   "metadata": {},
   "outputs": [
    {
     "name": "stdout",
     "output_type": "stream",
     "text": [
      "INFO:tensorflow:Restoring parameters from log/linermodel.cpkt\n",
      "x=0.2,z= [0.40128306]\n"
     ]
    }
   ],
   "source": [
    "# 重启session，通过使用saver的restore函数将模型载入\n",
    "with tf.Session() as session:\n",
    "    session.run(tf.global_variables_initializer())\n",
    "    saver.restore(session,savedir+'linermodel.cpkt')\n",
    "    print(\"x=0.2,z=\",session.run(z,feed_dict={X:0.2}))"
   ]
  },
  {
   "cell_type": "code",
   "execution_count": null,
   "metadata": {},
   "outputs": [],
   "source": []
  }
 ],
 "metadata": {
  "kernelspec": {
   "display_name": "Python 3",
   "language": "python",
   "name": "python3"
  },
  "language_info": {
   "codemirror_mode": {
    "name": "ipython",
    "version": 3
   },
   "file_extension": ".py",
   "mimetype": "text/x-python",
   "name": "python",
   "nbconvert_exporter": "python",
   "pygments_lexer": "ipython3",
   "version": "3.6.5"
  }
 },
 "nbformat": 4,
 "nbformat_minor": 2
}
