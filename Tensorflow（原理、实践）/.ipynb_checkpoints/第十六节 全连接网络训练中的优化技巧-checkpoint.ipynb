{
 "cells": [
  {
   "cell_type": "markdown",
   "metadata": {},
   "source": [
    "# 利用异或数据集演示过拟合问题\n",
    "全连接网络结构虽然在拟合问题上比较强大，但太强大的拟合效果也带来了其他的麻烦，这就是过拟合问题。\n",
    "## 实例描述\n",
    "构建异或数据集模拟样本，再构建一个简单的多层神经网络来拟合其样本特征，观察其出现欠拟合的现象，接着通过增大网络复杂性的方式来优化欠拟合问题，使其出现过拟合现象。\n",
    "\n",
    "1. 构建异或数据集"
   ]
  },
  {
   "cell_type": "code",
   "execution_count": 6,
   "metadata": {},
   "outputs": [
    {
     "data": {
      "image/png": "[encoded data removed]",
      "text/plain": [
       "<Figure size 432x288 with 1 Axes>"
      ]
     },
     "metadata": {},
     "output_type": "display_data"
    }
   ],
   "source": [
    "import numpy as np\n",
    "import tensorflow as tf \n",
    "import matplotlib.pyplot as plt\n",
    "\n",
    "from sklearn.utils import shuffle\n",
    "from matplotlib.colors import colorConverter,ListedColormap\n",
    "# 对于上面的fit可以这么扩展成动态的\n",
    "from sklearn.preprocessing import OneHotEncoder\n",
    "\n",
    "def onehot(y,start,end):\n",
    "    ohe = OneHotEncoder()\n",
    "    a = np.linspace(start,end-1,end-start)\n",
    "    b = np.reshape(a,[-1,1]).astype(np.int32)\n",
    "    ohe.fit(b)\n",
    "    c=ohe.transform(y).toarray()\n",
    "    return c\n",
    "\n",
    "def generate(sample_size, num_classes, diff,regression=False):\n",
    "    np.random.seed(10)\n",
    "    mean = np.random.randn(2)\n",
    "    cov = np.eye(2)  \n",
    "    \n",
    "    #len(diff)\n",
    "    samples_per_class = int(sample_size/num_classes)\n",
    "\n",
    "    X0 = np.random.multivariate_normal(mean, cov, samples_per_class)\n",
    "    Y0 = np.zeros(samples_per_class)\n",
    "    \n",
    "    for ci, d in enumerate(diff):\n",
    "        X1 = np.random.multivariate_normal(mean+d, cov, samples_per_class)\n",
    "        Y1 = (ci+1)*np.ones(samples_per_class)\n",
    "    \n",
    "        X0 = np.concatenate((X0,X1))\n",
    "        Y0 = np.concatenate((Y0,Y1))\n",
    "\n",
    "  \n",
    "    if regression==False: #one-hot  0 into the vector \"1 0\n",
    "        Y0 = np.reshape(Y0,[-1,1])        \n",
    "        #print(Y0.astype(np.int32))\n",
    "        Y0 = onehot(Y0.astype(np.int32),0,num_classes)\n",
    "        #print(Y0)\n",
    "    X, Y = shuffle(X0, Y0)\n",
    "    #print(X, Y)\n",
    "    return X,Y  \n",
    "\n",
    "np.random.seed(10)\n",
    "input_dim = 2\n",
    "num_classes = 4\n",
    "X,Y = generate(320,num_classes,[[3.0,0],[3.0,3.0],[0,3.0]],True)\n",
    "Y=Y%2\n",
    "\n",
    "xr=[]\n",
    "xb=[]\n",
    "for (l,k) in zip(Y[:],X[:]):\n",
    "    if l == 0.0:\n",
    "        xr.append([k[0],k[1]])\n",
    "    else:\n",
    "        xb.append([k[0],k[1]])\n",
    "\n",
    "xr = np.array(xr)\n",
    "xb = np.array(xb)\n",
    "plt.scatter(xr[:,0],xr[:,1],c='r',marker='+')\n",
    "plt.scatter(xb[:,0],xb[:,1],c='b',marker='o')\n",
    "plt.show()"
   ]
  },
  {
   "cell_type": "markdown",
   "metadata": {},
   "source": [
    "数据分为两类，其中左下和右上是一类（红色用+表示)，左上和右下是另一类(蓝色用·表示)。\n",
    "## 修改模型\n"
   ]
  },
  {
   "cell_type": "code",
   "execution_count": 10,
   "metadata": {},
   "outputs": [
    {
     "name": "stderr",
     "output_type": "stream",
     "text": [
      "/usr/local/lib/python3.6/site-packages/tensorflow/python/client/session.py:1645: UserWarning: An interactive session is already active. This can cause out-of-memory errors in some cases. You must explicitly call `InteractiveSession.close()` to release resources held by the other session(s).\n",
      "  warnings.warn('An interactive session is already active. This can '\n"
     ]
    },
    {
     "name": "stdout",
     "output_type": "stream",
     "text": [
      "Step: 0 Current loss: 0.5042905\n",
      "Step: 1000 Current loss: 0.302763\n",
      "Step: 2000 Current loss: 0.26031545\n",
      "Step: 3000 Current loss: 0.25850824\n",
      "Step: 4000 Current loss: 0.25685057\n",
      "Step: 5000 Current loss: 0.2549088\n",
      "Step: 6000 Current loss: 0.25290662\n",
      "Step: 7000 Current loss: 0.25117669\n",
      "Step: 8000 Current loss: 0.2501924\n",
      "Step: 9000 Current loss: 0.24997203\n",
      "Step: 10000 Current loss: 0.24996147\n",
      "Step: 11000 Current loss: 0.24996145\n",
      "Step: 12000 Current loss: 0.24996147\n",
      "Step: 13000 Current loss: 0.24996142\n",
      "Step: 14000 Current loss: 0.24996142\n",
      "Step: 15000 Current loss: 0.24996145\n",
      "Step: 16000 Current loss: 0.24996145\n",
      "Step: 17000 Current loss: 0.24996142\n",
      "Step: 18000 Current loss: 0.24996145\n",
      "Step: 19000 Current loss: 0.24996145\n"
     ]
    }
   ],
   "source": [
    "Y = np.reshape(Y,[-1,1])\n",
    "\n",
    "learning_rate = 1e-4\n",
    "n_input = 2\n",
    "n_label = 1\n",
    "n_hidden = 2 # 欠拟合\n",
    "# n_hidden = 200 # 过拟合\n",
    "\n",
    "\n",
    "x = tf.placeholder(tf.float32, [None,n_input])\n",
    "y = tf.placeholder(tf.float32, [None, n_label])\n",
    "\n",
    "weights = {\n",
    "    'h1': tf.Variable(tf.truncated_normal([n_input, n_hidden], stddev=0.1)),\n",
    "    'h2': tf.Variable(tf.random_normal([n_hidden, n_label], stddev=0.1))\n",
    "}\n",
    "\n",
    "biases = {\n",
    "    'h1': tf.Variable(tf.zeros([n_hidden])),\n",
    "    'h2': tf.Variable(tf.zeros([n_label]))\n",
    "}\n",
    "\n",
    "\n",
    "layer_1 = tf.nn.relu(tf.add(tf.matmul(x, weights['h1']), biases['h1']))\n",
    "y_pred = tf.nn.tanh(tf.add(tf.matmul(layer_1, weights['h2']),biases['h2']))\n",
    "#y_pred = tf.nn.relu(tf.add(tf.matmul(layer_1, weights['h2']),biases['h2']))#局部最优解\n",
    "\n",
    "#y_pred = tf.nn.sigmoid(tf.add(tf.matmul(layer_1, weights['h2']),biases['h2']))\n",
    "\n",
    "#Leaky relus  40000次 ok\n",
    "# layer2 =tf.add(tf.matmul(layer_1, weights['h2']),biases['h2'])\n",
    "# y_pred = tf.maximum(layer2,0.01*layer2)\n",
    "  \n",
    "loss=tf.reduce_mean((y_pred-y)**2)\n",
    "train_step = tf.train.AdamOptimizer(learning_rate).minimize(loss)\n",
    "\n",
    "#生成数据\n",
    "\n",
    "#加载\n",
    "sess = tf.InteractiveSession()\n",
    "sess.run(tf.global_variables_initializer())\n",
    "\n",
    "#训练\n",
    "for i in range(20000):\n",
    "    _,loss_val = sess.run([train_step,loss],feed_dict={x:X,y:Y} )\n",
    "    if i % 1000 == 0:\n",
    "        print(\"Step:\",i,\"Current loss:\",loss_val)\n"
   ]
  },
  {
   "cell_type": "code",
   "execution_count": null,
   "metadata": {},
   "outputs": [],
   "source": []
  },
  {
   "cell_type": "code",
   "execution_count": null,
   "metadata": {},
   "outputs": [],
   "source": []
  },
  {
   "cell_type": "code",
   "execution_count": 16,
   "metadata": {},
   "outputs": [
    {
     "data": {
      "image/png": "[encoded data removed]",
      "text/plain": [
       "<Figure size 432x288 with 1 Axes>"
      ]
     },
     "metadata": {},
     "output_type": "display_data"
    }
   ],
   "source": [
    "nb_of_xs = 200\n",
    "xs1 = np.linspace(-3, 10, num=nb_of_xs)\n",
    "xs2 = np.linspace(-3, 10, num=nb_of_xs)\n",
    "xx, yy = np.meshgrid(xs1, xs2) # create the grid\n",
    "# Initialize and fill the classification plane\n",
    "classification_plane = np.zeros((nb_of_xs, nb_of_xs))\n",
    "for i in range(nb_of_xs):\n",
    "    for j in range(nb_of_xs):\n",
    "        #classification_plane[i,j] = nn_predict(xx[i,j], yy[i,j])\n",
    "        classification_plane[i,j] = sess.run(y_pred, feed_dict={x: [[ xx[i,j], yy[i,j] ]]} )\n",
    "        classification_plane[i,j] = int(classification_plane[i,j])\n",
    "\n",
    "# Create a color map to show the classification colors of each grid point\n",
    "cmap = ListedColormap([\n",
    "        colorConverter.to_rgba('r', alpha=0.30),\n",
    "        colorConverter.to_rgba('b', alpha=0.30)])\n",
    "# Plot the classification plane with decision boundary and input samples\n",
    "plt.contourf(xx, yy, classification_plane, cmap=cmap)\n",
    "plt.show() "
   ]
  },
  {
   "cell_type": "code",
   "execution_count": 17,
   "metadata": {
    "scrolled": true
   },
   "outputs": [
    {
     "name": "stdout",
     "output_type": "stream",
     "text": [
      "loss:\n",
      " 0.24914567\n"
     ]
    },
    {
     "data": {
      "image/png": "[encoded data removed]",
      "text/plain": [
       "<Figure size 432x288 with 1 Axes>"
      ]
     },
     "metadata": {},
     "output_type": "display_data"
    }
   ],
   "source": [
    "xTrain, yTrain = generate(12,num_classes,  [[3.0,0],[3.0,3.0],[0,3.0]],True)\n",
    "yTrain=yTrain%2\n",
    "#colors = ['r' if l == 0.0 else 'b' for l in yTrain[:]]\n",
    "#plt.scatter(xTrain[:,0], xTrain[:,1], c=colors)\n",
    "\n",
    "xr=[]\n",
    "xb=[]\n",
    "for(l,k) in zip(yTrain[:],xTrain[:]):\n",
    "    if l == 0.0 :\n",
    "        xr.append([k[0],k[1]])        \n",
    "    else:\n",
    "        xb.append([k[0],k[1]])\n",
    "xr =np.array(xr)\n",
    "xb =np.array(xb)      \n",
    "plt.scatter(xr[:,0], xr[:,1], c='r',marker='+')\n",
    "plt.scatter(xb[:,0], xb[:,1], c='b',marker='o')\n",
    "\n",
    "\n",
    "#plt.show() \n",
    "yTrain=np.reshape(yTrain,[-1,1])           \n",
    "print (\"loss:\\n\", sess.run(loss, feed_dict={x: xTrain, y: yTrain}))          \n",
    "\n",
    "nb_of_xs = 200\n",
    "xs1 = np.linspace(-1, 8, num=nb_of_xs)\n",
    "xs2 = np.linspace(-1, 8, num=nb_of_xs)\n",
    "xx, yy = np.meshgrid(xs1, xs2) # create the grid\n",
    "# Initialize and fill the classification plane\n",
    "classification_plane = np.zeros((nb_of_xs, nb_of_xs))\n",
    "for i in range(nb_of_xs):\n",
    "    for j in range(nb_of_xs):\n",
    "        #classification_plane[i,j] = nn_predict(xx[i,j], yy[i,j])\n",
    "        classification_plane[i,j] = sess.run(y_pred, feed_dict={x: [[ xx[i,j], yy[i,j] ]]} )\n",
    "        classification_plane[i,j] = int(classification_plane[i,j])\n",
    "\n",
    "# Create a color map to show the classification colors of each grid point\n",
    "cmap = ListedColormap([\n",
    "        colorConverter.to_rgba('r', alpha=0.30),\n",
    "        colorConverter.to_rgba('b', alpha=0.30)])\n",
    "# Plot the classification plane with decision boundary and input samples\n",
    "plt.contourf(xx, yy, classification_plane, cmap=cmap)\n",
    "plt.show()   "
   ]
  },
  {
   "cell_type": "markdown",
   "metadata": {},
   "source": [
    "模型在迭代10000次后停止了梯度，而且loss值约为20%，准确率不高。\n",
    "### 欠拟合定义\n",
    "没有完全拟合到想要得到的真实数据情况。\n",
    "\n",
    "### 修正模型提高拟合度\n",
    "欠拟合的原因并不是模型不行，而是我们学习方法无法更精确地学习到适合的模型参数。模型越薄弱，对训练的要求就越高。可以采用增加节点或增加层的方式，让模型具有更高的拟合性，从而降低模型的训练难度。\n",
    "\n",
    "将隐藏层的节点提高到200。\n",
    "可视化生成数据集如图：\n",
    "![](imgs/16_over_fitting.png)\n",
    "仅通过一个隐藏层，使用200个点就可以将数据划分这么细致。而loss值也在逐渐变小，20000次之后变为0.04.\n",
    "### 验证过拟合\n",
    "![](imgs/16_over_fitting_test.png)"
   ]
  },
  {
   "cell_type": "markdown",
   "metadata": {},
   "source": [
    "loss飙升到14%，并没有原来训练是那么好（4%），模型还是原来的模型，但是这次却框住了少量的样本。这种现象就是过拟合。它与欠拟合一样都是我们在训练模型中不愿意看到的现象，我们要是是在拟合情况下能够表现出训练时的良好效果。\n",
    "\n",
    "避免过拟合的方法有很多：常用的方法有**early stopping、数据集扩增、正则化、dropout**等。\n",
    "- early stopping：在发生过拟合之前提前结束训练。理论上是可以的，但是这个点不好把控。\n",
    "- 数据集扩增（date augmentation）：就是让模型见更多的情况，可以最大化地满足全样本，但实际应用中对于未来事件的预测却显得鞭长莫及。\n",
    "- 正则化（regularization）：是通过引入**范数**的概念，增强模型的泛化能力，包括**L1、L2**（L2 regularization 也叫weight decay）。\n",
    "- dropout:是网络模型中的一种方法，每次训练时舍去一些节点来增强泛化能力。"
   ]
  },
  {
   "cell_type": "markdown",
   "metadata": {},
   "source": [
    "# 正则化\n",
    "1. 什么是正则化\n",
    "所谓的正则化，其实就是在神经网络计算损失值的过程中，在损失后面再加一项。这样损失值所代表的输出与标准结果间的误差就会受到干扰，导致学习参数w和b无法按照目标方向来调整，实现模型无法与样本完全拟合的结果，从而达到防止过拟合的效果。\n",
    "\n",
    "添加的干扰项一定要有这样的特性：\n",
    "- 当欠拟合时，希望它对模型误差的影响越小越好，以便让模型快速拟合实际。\n",
    "- 如果是过拟合时，希望它对模型误差的影响越大越好，以便让模型不要产生过拟合的情况。\n",
    "由此引入两个范数L1和L2：\n",
    "- L1:所有学习参数W的绝对值的和。\n",
    "- L2:所有学习参数W的平方和然后求平方根。\n",
    "\n",
    "如果放进损失函数里，会将其变形一下，\n",
    "- **L1** $$less=less(0)+λ\\sum_{w}^{n}|w| $$\n",
    "- **L2** $$ less=less(0)+\\frac{λ}{2}\\sum_{w}^{n}w^2$$\n",
    "\n",
    "最终loss为等式左边的结果，loss(0)代表真实的loss值，less(0)后面的那一页就代表正则化了，λ为一个**可以调节的参数**，用来控制正则化对loss的影响。\n",
    "\n",
    "对于L2，将其乘以1/2是为了反向传播时对其求导正好可以将数据规整。"
   ]
  },
  {
   "cell_type": "markdown",
   "metadata": {},
   "source": [
    "2.TensorFlow中的正则化\n",
    "L2的正则化函数为：\n",
    "___\n",
    "```python\n",
    "tf.nn.l2_loss(t,name=None)\n",
    "```\n",
    "___\n",
    "\n",
    "L1的正则化函数目前在TensorFlow中没有现成的，可以自己组合:\n",
    "___\n",
    "```python\n",
    "tf.resuce_sum(tf.abs(w))\n",
    "```\n",
    "___"
   ]
  },
  {
   "cell_type": "markdown",
   "metadata": {},
   "source": [
    "### 通过正则化改善过拟合情况\n",
    "在异或或拟合文件添加正则化的处理，只需要在计算损失值时加上loss的正则化。\n",
    "#### 实例描述\n",
    "构建异或数据集模拟样本，使用多层神经网络将其分类，并使用正则化技术来改善拟合情况。"
   ]
  },
  {
   "cell_type": "markdown",
   "metadata": {},
   "source": [
    "___\n",
    "```python\n",
    "reg = 0.01 #L2_loss参数\n",
    "loss=tf.reduce_mean((y_pred-y)**2) + tf.nn.l2_loss(weights['h1'])*reg+tf.nn.l2_loss(weights['h2'])*reg\n",
    "```\n",
    "___"
   ]
  },
  {
   "cell_type": "markdown",
   "metadata": {},
   "source": [
    "虽然训练的loss值增加了一些，变成了0.09，但是模型的测试loss却由0.15降到了0.1，比以前进步了不少。\n",
    "![正则化模型](imgs/16_regularization_model.png)\n",
    "左边为模型在训练时的结果，右边为测试时的结果。"
   ]
  },
  {
   "cell_type": "markdown",
   "metadata": {},
   "source": [
    "### 通过增大数据集改善过拟合\n",
    "\n",
    "#### 实例描述\n",
    "构建异或数据集模拟样本，使用多层神经网络将其分类，并使用增大数据集的方法来改善过拟合情况。\n",
    "![增大数据集](imgs/16_data_augmentation_regularization.png)"
   ]
  },
  {
   "cell_type": "markdown",
   "metadata": {},
   "source": [
    "# dropout--训练过程中，将部分神经单元暂时失效\n",
    "## dropout原理\n",
    "在训练过程中，每次随机选择一部分节点不要去“学习”。因为从样本数据的分析来看，数据本身不可能很纯净，即任何一个模型不能100%把数据完全分开，在某一类中一定会有一些异常数据，过拟合的问题恰恰是把这些异常数据当成规律来学习了。对于模型来说，我们希望它能够有一定的“智商”，把异常数据过滤掉，只关心有用的规律数据。\n",
    "\n",
    "异常数据的特点是，它与主流样本中的规律都不同，但是量非常少，相当于在一个样本中出现的概率比主流数据出现的概率低得多。我们利用这个特性，通过在每次模型中忽略一些节点的数据学习，将小概率的异常数据获得学习的机会降低，这样这些异常数据对模型的影响就会更小了。\n",
    "\n",
    "> 由于dropout让一部分节点不去“学习”，所以在增加模型的泛华能力的同时，会使学习速度降低，使模型不太容易“学成”，所以在使用的过程中需要合理地调节到底丢弃多少节点，并不是丢弃的节点越多越好。\n",
    "\n",
    "## TensorFlow中的dropout\n",
    "在TensorFlow中的dropout函数原理如下：\n",
    "___\n",
    "```python\n",
    "def dropout(x,keep_prob,noise_shape=None,seed=None,name=None)\n",
    "```\n",
    "___\n",
    "- X：输入的模型节点。\n",
    "- keep_prob:保持率。如果为1，则代表全部进行学习；如果为0.8，则代表对其20%节点，只让80%节点参与学习。\n",
    "- noise_shape:代表指定x中，那些维度可以使用dropout技术。为None时，表示所有维度都使用dropout技术。也可以将某个维度标志为1，来代表该维度使用dropout技术。例如：x的形状为[n,len,w,ch],使用noise_shape为[n,1,1,ch]这表明会对x中的第二维度len和第三维度w进行dropout。\n",
    "- seed:随机选取节点的过程中随机数的种子值。\n",
    "\n",
    "> dropout改变了神经网络的网络结构，它仅仅是属于训练时的方法，所以一般在进行测试时要讲dropout的kepp_prob变为1，代表不需要进行丢弃，否则会影响模型的正常输出。\n",
    "\n",
    "## 实例：为异或数据集模型添加dropout\n",
    "实例描述\n",
    "\n",
    "构建异或数据集模拟样本，使用多层神经网络将其分类，并使用dropout技术来改善过拟合情况。\n",
    "\n",
    "在layer_1后面添加一个dropout层，将dropout的keep_prob设为占位符，这样可以在运行时随时指定keep_prob，在session的run中指定keep_prob为0.6，这意味着每次训练将仅允许0.6的节点参与学习运算。由于学习速度慢了，所以要将学习率调大些，变成0.01，加快训练。在测试时别忘了一定要将keep_prob调成1。"
   ]
  },
  {
   "cell_type": "markdown",
   "metadata": {},
   "source": [
    "```python\n",
    "layer_1 = tf.nn.relu(tf.add(tf.matmul(x, weights['h1']), biases['h1']))\n",
    "\n",
    "keep_prob = tf.placeholder(\"float\")\n",
    "layer_1_drop = tf.nn.dropout(layer_1, keep_prob)\n",
    "\n",
    "#Leaky relus\n",
    "layer2 =tf.add(tf.matmul(layer_1_drop, weights['h2']),biases['h2'])\n",
    "y_pred = tf.maximum(layer2,0.01*layer2)\n",
    "\n",
    "reg = 0.01 \n",
    "#loss=tf.reduce_mean((y_pred-y)**2)+tf.nn.l2_loss(weights['h1'])*reg+tf.nn.l2_loss(weights['h2'])*reg\n",
    "loss=tf.reduce_mean((y_pred-y)**2)\n",
    "\n",
    "global_step = tf.Variable(0, trainable=False)\n",
    "decaylearning_rate = tf.train.exponential_decay(learning_rate, global_step,1000, 0.9)\n",
    "#train_step = tf.train.AdamOptimizer(learning_rate).minimize(loss)\n",
    "train_step = tf.train.AdamOptimizer(decaylearning_rate).minimize(loss,global_step=global_step)\n",
    "\n",
    "#加载\n",
    "sess = tf.InteractiveSession()\n",
    "sess.run(tf.global_variables_initializer())\n",
    "    \n",
    "for i in range(20000):\n",
    "\n",
    "    X, Y = generate(1000,num_classes,  [[3.0,0],[3.0,3.0],[0,3.0]],True)\n",
    "    Y=Y%2\n",
    "    Y=np.reshape(Y,[-1,1])\n",
    "  \n",
    "    _, loss_val = sess.run([train_step, loss], feed_dict={x: X, y: Y,keep_prob:0.6})\n",
    "   \n",
    "    if i % 1000 == 0:\n",
    "        print (\"Step:\", i, \"Current loss:\", loss_val)\n",
    "...\n",
    "yTrain=np.reshape(yTrain,[-1,1])           \n",
    "print (\"loss:\\n\", sess.run(loss, feed_dict={x: xTrain, y: yTrain,keep_prob:1.0}))  \n",
    "      \n",
    "```"
   ]
  },
  {
   "cell_type": "markdown",
   "metadata": {},
   "source": [
    "测试结果loss:0.0604928。这次模型测试loss比训练的loss值还要低，而且达到了0.06。这就是dropout的效果。"
   ]
  },
  {
   "cell_type": "markdown",
   "metadata": {},
   "source": [
    "### 基于退化学习率dropout技术来拟合异或数据集\n",
    "从上面的结果可以看出来，损失值在10000时是0.08，后来涨到0.09，尤其在最后几次，出现了抖动现象，这表明后期的学习率优点大了。添加退化学习率，让开始的学习率很大，后面逐渐变小。\n",
    "\n",
    "实例描述\n",
    "\n",
    "构建异或数据集模拟样本，使用多层神经网络将其分类，并使用dropout配合退化学习率改善过拟合情况。\n",
    "\n",
    "在使用优化器的代码部分添加decaylearning_rate，设置总步数为20000，每执行1000步，学习率衰减0.9。\n",
    "___\n",
    "```python\n",
    "global_step = tf.Variable(0, trainable=False)\n",
    "decaylearning_rate = tf.train.exponential_decay(learning_rate, global_step,1000, 0.9)\n",
    "train_step = tf.train.AdamOptimizer(decaylearning_rate).minimize(loss,global_step=global_step)\n",
    "```\n",
    "___\n",
    "\n"
   ]
  },
  {
   "cell_type": "code",
   "execution_count": null,
   "metadata": {},
   "outputs": [],
   "source": []
  }
 ],
 "metadata": {
  "kernelspec": {
   "display_name": "Python 3",
   "language": "python",
   "name": "python3"
  },
  "language_info": {
   "codemirror_mode": {
    "name": "ipython",
    "version": 3
   },
   "file_extension": ".py",
   "mimetype": "text/x-python",
   "name": "python",
   "nbconvert_exporter": "python",
   "pygments_lexer": "ipython3",
   "version": "3.6.5"
  }
 },
 "nbformat": 4,
 "nbformat_minor": 2
}
