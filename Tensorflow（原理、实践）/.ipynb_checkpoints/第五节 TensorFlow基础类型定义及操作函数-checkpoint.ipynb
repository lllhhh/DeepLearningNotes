{
 "cells": [
  {
   "cell_type": "code",
   "execution_count": 1,
   "metadata": {},
   "outputs": [],
   "source": [
    "import tensorflow as tf\n",
    "import numpy as np"
   ]
  },
  {
   "cell_type": "markdown",
   "metadata": {},
   "source": [
    "# 张量及操作"
   ]
  },
  {
   "cell_type": "markdown",
   "metadata": {},
   "source": [
    "Tensor可以看做是一个n维的数组或列表，每个Tensor中包含了类型（type）、阶（rank）和形状（shape）。\n",
    "\n",
    "## Tensor类型\n",
    "| tensor类型 | Python类型 | 描述 |\n",
    "| :----- | :-----: | :----- |\n",
    "\n",
    "\n",
    "## rank（阶）\n",
    "rank指的就是维度。但张量的阶和矩阵的阶并不是同一概念，主要是看**有几层中括号**。\n",
    "对雨一个传统意义上的3阶矩阵a=[[1,2,3],[4,5,6],[7,8,9]]来讲，在张量中的阶数表示为2阶（因为他有两层中括号）。\n",
    "\n",
    "## shape(形状)\n",
    "shape用于描述张量内部的组织关系。shape可以通过Python中的整数列表或元组来表示，也可以用TensorFlow中的相关形状函数来表示。例：一个二阶张量a=[[1,2,3],[4,5,6]]形状是两行三列，描述为(2,3)。"
   ]
  },
  {
   "cell_type": "markdown",
   "metadata": {},
   "source": [
    "### 张量相关操作\n",
    "1. 类型转换\n",
    "\n",
    "| 函数 | 描述 |\n",
    "| --- | --- |\n",
    "| tf.string_to_number(string_tensor,out_type=None,name = None) | 字符串转为数字 |\n",
    "| tf.to_double(x,name='ToDouble') | 转为64位浮点类型 | \n",
    "| tf.cast(x,dtype,name=None) | 将x或者x.values转换为dtype所指定的类型。例如: W = tf.Vriable(1.0) tf.cast(W,tf.int32) ==> W=1 # dtype=tf.int32"
   ]
  },
  {
   "cell_type": "markdown",
   "metadata": {},
   "source": []
  }
 ],
 "metadata": {
  "kernelspec": {
   "display_name": "Python 3",
   "language": "python",
   "name": "python3"
  },
  "language_info": {
   "codemirror_mode": {
    "name": "ipython",
    "version": 3
   },
   "file_extension": ".py",
   "mimetype": "text/x-python",
   "name": "python",
   "nbconvert_exporter": "python",
   "pygments_lexer": "ipython3",
   "version": "3.6.5"
  }
 },
 "nbformat": 4,
 "nbformat_minor": 2
}
