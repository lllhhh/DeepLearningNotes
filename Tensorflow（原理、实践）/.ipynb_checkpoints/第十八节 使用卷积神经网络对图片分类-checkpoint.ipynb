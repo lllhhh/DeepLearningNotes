{
 "cells": [
  {
   "cell_type": "markdown",
   "metadata": {},
   "source": [
    "# 下载CIFAR图片数据"
   ]
  },
  {
   "cell_type": "code",
   "execution_count": 6,
   "metadata": {},
   "outputs": [],
   "source": [
    "import tensorflow as tf \n",
    "# tf.app.flags.DEFINE_string('f', '', 'kernel')\n",
    "import cifar10\n",
    "\n",
    "cifar10.maybe_download_and_extract()"
   ]
  },
  {
   "cell_type": "markdown",
   "metadata": {},
   "source": [
    "# 导入并显示CIFAR数据集"
   ]
  },
  {
   "cell_type": "code",
   "execution_count": 8,
   "metadata": {},
   "outputs": [],
   "source": [
    "import cifar10_input\n",
    "import tensorflow as tf \n",
    "import pylab\n",
    "\n",
    "# 取数据\n",
    "batch_size = 128\n",
    "data_dir = 'cifar10_data/cifar-10-batches-bin'\n",
    "images_test,labels_test = cifar10_input.inputs(eval_data=True,data_dir=data_dir,batch_size=batch_size)"
   ]
  },
  {
   "cell_type": "code",
   "execution_count": 9,
   "metadata": {},
   "outputs": [
    {
     "name": "stdout",
     "output_type": "stream",
     "text": [
      "_\n",
      " [[[ 1.2483673   0.04940184 -1.4983535 ]\n",
      "  [ 1.117571    0.02760247 -1.5637516 ]\n",
      "  [ 1.2483673   0.18019807 -1.411156  ]\n",
      "  ...\n",
      "  [-0.60457927 -0.7353755  -0.9097705 ]\n",
      "  [-0.58277994 -0.8443724  -1.411156  ]\n",
      "  [-0.1467925  -0.62637866 -1.4547548 ]]\n",
      "\n",
      " [[ 1.0739723   0.07120121 -1.4765542 ]\n",
      "  [ 1.1611698   0.02760247 -1.585551  ]\n",
      "  [ 1.2047685   0.09300058 -1.5419523 ]\n",
      "  ...\n",
      "  [-0.4519837  -0.4519837  -0.56098056]\n",
      "  [-1.171363   -1.171363   -1.411156  ]\n",
      "  [-0.9751686  -1.171363   -1.6291498 ]]\n",
      "\n",
      " [[ 0.8995773   0.11479995 -1.3893566 ]\n",
      "  [ 1.2701666   0.13659933 -1.4983535 ]\n",
      "  [ 1.2265679   0.07120121 -1.5637516 ]\n",
      "  ...\n",
      "  [-0.58277994 -0.62637866 -0.7571749 ]\n",
      "  [-1.0623661  -0.8879711  -0.9315699 ]\n",
      "  [-1.4329554  -1.411156   -1.585551  ]]\n",
      "\n",
      " ...\n",
      "\n",
      " [[ 0.35459304  0.79058045  1.2047685 ]\n",
      "  [ 0.35459304  0.528988    0.6815836 ]\n",
      "  [ 2.2511382   2.2075396   2.120342  ]\n",
      "  ...\n",
      "  [-1.0841655  -0.03779564  0.87777793]\n",
      "  [-1.0405667  -0.05959501  0.76878107]\n",
      "  [-1.1495636  -0.08139439  0.81237984]]\n",
      "\n",
      " [[-0.996968   -0.3647862   0.3109943 ]\n",
      "  [ 0.35459304  0.72518235  1.1393704 ]\n",
      "  [ 2.4473326   2.5563295   2.6653264 ]\n",
      "  ...\n",
      "  [-1.4329554  -0.32118747  0.6379849 ]\n",
      "  [-1.4983535  -0.3647862   0.6161855 ]\n",
      "  [-1.6509491  -0.4519837   0.5725868 ]]\n",
      "\n",
      " [[-1.4765542  -0.62637866  0.3109943 ]\n",
      "  [-0.7353755  -0.12499313  0.5725868 ]\n",
      "  [ 1.9677465   2.3383358   2.643527  ]\n",
      "  ...\n",
      "  [-1.585551   -0.40838495  0.5943861 ]\n",
      "  [-1.8253441  -0.58277994  0.4635899 ]\n",
      "  [-1.5637516  -0.23398998  0.8995773 ]]]\n",
      "_\n",
      " 3\n"
     ]
    },
    {
     "name": "stderr",
     "output_type": "stream",
     "text": [
      "Clipping input data to the valid range for imshow with RGB data ([0..1] for floats or [0..255] for integers).\n"
     ]
    },
    {
     "data": {
      "image/png": "[encoded data removed]",
      "text/plain": [
       "<Figure size 432x288 with 1 Axes>"
      ]
     },
     "metadata": {},
     "output_type": "display_data"
    }
   ],
   "source": [
    "sess = tf.InteractiveSession()\n",
    "tf.global_variables_initializer()\n",
    "tf.train.start_queue_runners()\n",
    "image_batch,label_batch = sess.run([images_test,labels_test])\n",
    "print(\"_\\n\",image_batch[0])\n",
    "print(\"_\\n\",label_batch[0])\n",
    "pylab.imshow(image_batch[0])\n",
    "pylab.show()"
   ]
  },
  {
   "cell_type": "markdown",
   "metadata": {},
   "source": [
    "train.start_queue_runners函数，是运行队列的意思。读取的数据都是经过标准化处理的（变成了均值为0，方差为1的数据分布），所以输出的图片就是乱的。"
   ]
  },
  {
   "cell_type": "markdown",
   "metadata": {},
   "source": [
    "# 实例：显示CIFAR数据的原始图片"
   ]
  },
  {
   "cell_type": "code",
   "execution_count": 15,
   "metadata": {},
   "outputs": [
    {
     "name": "stdout",
     "output_type": "stream",
     "text": [
      "3\n"
     ]
    },
    {
     "data": {
      "image/png": "[encoded data removed]",
      "text/plain": [
       "<Figure size 432x288 with 1 Axes>"
      ]
     },
     "metadata": {},
     "output_type": "display_data"
    }
   ],
   "source": [
    "import numpy as np\n",
    "from scipy.misc import imsave\n",
    "\n",
    "filename='cifar10_data/cifar-10-batches-bin/test_batch.bin'\n",
    "bytestream = open(filename,\"rb\")\n",
    "buf = bytestream.read(10000 * (1+32*32*3))\n",
    "bytestream.close()\n",
    "\n",
    "data = np.frombuffer(buf,dtype=np.uint8)\n",
    "data = data.reshape(10000,1 + 32*32*3)\n",
    "label_images = np.hsplit(data,[1])\n",
    "labels = label_images[0].reshape(10000)\n",
    "images = label_images[1].reshape(10000,32,32,3)\n",
    "\n",
    "img = np.reshape(images[0],(3,32,32)) #导出第一张图\n",
    "img = img.transpose(1,2,0)\n",
    "\n",
    "import pylab\n",
    "print(labels[0])\n",
    "pylab.imshow(img)\n",
    "pylab.show()"
   ]
  },
  {
   "cell_type": "markdown",
   "metadata": {},
   "source": [
    "## cifar10_input其他功能\n",
    "distorted_inputs，它是针对train数据的，对train数据进行了变形处理，起到一个数据增广的作用。在数据集比较小、数据量远远不够的情况下，可以对图片进行翻转、随机裁剪等操作以增加数据，制造出更多的样本，提高对图片的利用率。\n",
    "___\n",
    "```python\n",
    "tf.random_crop #为图片随机剪裁\n",
    "tf.image.random_flip_left_right #随机左右翻转\n",
    "tf.image.random_brightness #随机亮度变化\n",
    "tf.image.random_contrast #随机对比度变化\n",
    "tf.image.per_image_standardization # 减去均值像素，并除以像素方差\n",
    "```\n",
    "___"
   ]
  },
  {
   "cell_type": "markdown",
   "metadata": {},
   "source": [
    "# 在TensorFlow中使用queue\n",
    "TensorFlow提供了一个队列机制，通过多线程将读取数据与计算数据分开。因为在处理海量数据集的训练时，无法把数据集一次全部载入到内存中，需要一边从硬盘中读取，一边进行训练计算。\n",
    "1. 队列现成启动及挂起机制\n",
    "```python\n",
    "tf.train.start_queue_runners()\n",
    "```\n",
    "将这行代码注释，运行程序--程序不动了，这时处于一个挂起状态，star_queue_runners()的作用是启动现成，向队列里面读数据。为什么会挂起？因为下面这行代码：\n",
    "```python\n",
    "image_batch,label_batch = sess.run([images_test,labels_test])\n",
    "```\n",
    "这句话的意思是从队列里拿出指定批次的数据。但是队列中没有数据，所以程序进入挂起等待状态。\n",
    "2. session内部退出机制\n",
    "> 带with的session是自动关闭的。当运行结束后session自动关闭的同时会把里面所有的操作都管壁，而此时队列还在等待另一个进程往里面写数据，所以会出现错误。最简单的解决办法就是是用sess=tf.InteractiveSession来实现。如果在复杂的代码中，需要某个进程自动关闭，而不是依赖进程的结束而销毁，这种情况下需要使用tf.train.Coordinator函数来**创建一个协调器，以信号量的方式来协调线程间的关系，完成线程间的同步**。"
   ]
  },
  {
   "cell_type": "markdown",
   "metadata": {},
   "source": [
    "# 协调器的用法"
   ]
  },
  {
   "cell_type": "code",
   "execution_count": null,
   "metadata": {},
   "outputs": [],
   "source": []
  }
 ],
 "metadata": {
  "kernelspec": {
   "display_name": "Python 3",
   "language": "python",
   "name": "python3"
  },
  "language_info": {
   "codemirror_mode": {
    "name": "ipython",
    "version": 3
   },
   "file_extension": ".py",
   "mimetype": "text/x-python",
   "name": "python",
   "nbconvert_exporter": "python",
   "pygments_lexer": "ipython3",
   "version": "3.6.5"
  }
 },
 "nbformat": 4,
 "nbformat_minor": 2
}
