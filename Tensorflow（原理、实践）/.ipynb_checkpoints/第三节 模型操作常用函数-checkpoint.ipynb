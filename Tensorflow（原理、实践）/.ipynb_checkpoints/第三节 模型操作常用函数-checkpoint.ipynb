{
 "cells": [
  {
   "cell_type": "markdown",
   "metadata": {},
   "source": [
    "### Saver相关函数\n",
    "\n",
    "\n",
    "\n",
    "\n",
    "\n",
    "<table>\n",
    "  <tr>\n",
    "    <th width=30%>函数</th>\n",
    "    <th width=20%>说明</th>\n",
    "  </tr>\n",
    "    \n",
    "  <tr>\n",
    "    <td> tf.train.Saver(var_list=None,\n",
    "                        reshape=False,\n",
    "                        sharded=False,\n",
    "                        max_to_keep=5, \n",
    "                        keep_checkpoint_every_n_hours=10000.0,\n",
    "                        name=None,\n",
    "                        restore_sequentially=False,\n",
    "                        saver_def=None,builder=None) </td>\n",
    "    <td> 创建存储器Saver  </td>\n",
    "  </tr>\n",
    "  \n",
    "  <tr>\n",
    "    <td>tf.train.Saver.save(sess,save_path,global_step=None,\n",
    "                            latest_filename=None,meta_graph_suffix='meta',\n",
    "                            write_meta_graph=True)</td>\n",
    "    <td>保存</td>\n",
    "  </tr>\n",
    "  \n",
    "  <tr>\n",
    "    <td>tf.train.restore(sess,save_path)</td>\n",
    "    <td>恢复</td>\n",
    "  </tr>\n",
    "  \n",
    "  <tr>\n",
    "    <td>tf.train.Saver.last_checkpoints</td>\n",
    "    <td>列出最近未删除的checkpoint文件</td>\n",
    "  </tr>\n",
    "  \n",
    "  <tr>\n",
    "    <td>tf.train.Saver.set_last_checkpoints(last_checkpoints)</td>\n",
    "    <td>设置checkpoint文件名列表</td>\n",
    "  </tr>\n",
    "\n",
    "   <tr>\n",
    "    <td>tf.train.Saver.set_last_checkpoints_with_time(last_checkpoints_with_time)</td>\n",
    "    <td>设置checkpoint文件名列表和时间戳</td>\n",
    "  </tr>\n",
    "\n",
    "</table>"
   ]
  },
  {
   "cell_type": "markdown",
   "metadata": {},
   "source": [
    "### tf.ones_like() \n",
    "> 生成和输入张量一样形状和类型的0。"
   ]
  },
  {
   "cell_type": "code",
   "execution_count": 7,
   "metadata": {},
   "outputs": [
    {
     "data": {
      "text/plain": [
       "<tf.Tensor 'ones_like_5:0' shape=(2, 3) dtype=int32>"
      ]
     },
     "execution_count": 7,
     "metadata": {},
     "output_type": "execute_result"
    }
   ],
   "source": [
    "import tensorflow as tf\n",
    "tensor = [[1,2,3],[4,5,6]]\n",
    "ones_like = tf.ones_like(tensor)\n",
    "ones_like # [[000][000]]"
   ]
  },
  {
   "cell_type": "code",
   "execution_count": null,
   "metadata": {},
   "outputs": [],
   "source": []
  }
 ],
 "metadata": {
  "kernelspec": {
   "display_name": "Python 3",
   "language": "python",
   "name": "python3"
  },
  "language_info": {
   "codemirror_mode": {
    "name": "ipython",
    "version": 3
   },
   "file_extension": ".py",
   "mimetype": "text/x-python",
   "name": "python",
   "nbconvert_exporter": "python",
   "pygments_lexer": "ipython3",
   "version": "3.6.5"
  }
 },
 "nbformat": 4,
 "nbformat_minor": 2
}
