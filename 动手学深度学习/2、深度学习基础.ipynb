{
 "metadata": {
  "language_info": {
   "codemirror_mode": {
    "name": "ipython",
    "version": 3
   },
   "file_extension": ".py",
   "mimetype": "text/x-python",
   "name": "python",
   "nbconvert_exporter": "python",
   "pygments_lexer": "ipython3",
   "version": "3.8.3-final"
  },
  "orig_nbformat": 2,
  "kernelspec": {
   "name": "Python 3.8.3 64-bit",
   "display_name": "Python 3.8.3 64-bit",
   "metadata": {
    "interpreter": {
     "hash": "082e9a3bcad0a290d0001e938aa60b99250c6c2ef33a923c00b70f9826caf4b7"
    }
   }
  }
 },
 "nbformat": 4,
 "nbformat_minor": 2,
 "cells": [
  {
   "source": [
    "# 3.1 线性回归\n",
    "线性回归输出是一个连续值，因此适用于回归问题。回归问题在实际中很常见，如预测房屋价格、气温、销售额等连续值的问题。与回归问题不同，分类问题中模型的最终输出是一个离散值。我们所说的图像分类、垃圾邮件识别、疾病检测等输出为离散值的问题都属于分类问题的范畴。softmax回归则适用于分类问题。\n",
    "\n",
    "由于线性回归和softmax回归都是单层神经网络，它们涉及的概念和技术同样适用于大多数的深度学习模型。我们首先以线性回归为例，介绍大多数深度学习模型的基本要素和表示方法。\n",
    "\n",
    "## 3.1.1 线性回归的基本要素\n",
    "我们以一个简单的房屋价格预测作为例子来解释线性回归的基本要素。这个应用的目标是预测一栋房子的售出价格（元）。我们知道这个价格取决于很多因素，如房屋状况、地段、市场行情等。为了简单起见，这里我们假设价格只取决于房屋状况的两个因素，即面积（平方米）和房龄（年）。接下来我们希望探索价格与这两个因素的具体关系。\n",
    "\n",
    "### 3.1.1.1 模型定义\n",
    "设房屋的面积为 $ x_1 $​\t，房龄为 $x_2$​，售出价格为 $y$。我们需要建立基于输入 $x_1$和 x2来计算输出 $ y $的表达式，也就是模型（model）。顾名思义，线性回归假设输出与各个输入之间是线性关系：$$ \\hat{y} = x_1w_1 + x_2w_2+b $$ 其中 $w_1$ 和 $w_2$ 是权重（weight），是偏差（bias），且均为标量。它们是线性回归模型的参数（parameter）。模型输出$\\hat{y}$是线性回归对真实价格$y$的预测或估计。我们通常允许它们之间有一定误差。\n",
    "\n",
    "### 3.1.1.2 模型训练\n",
    "接下来我们需要通过数据来寻找特定的模型参数值，使模型在数据上的误差尽可能小。这个过程叫作模型训练（model training）。下面我们介绍模型训练所涉及的3个要素。\n",
    "\n",
    "#### (1)训练数据\n",
    "#### (2)损失函数\n",
    "#### (3)优化算法\n",
    "\n",
    "### 3.1.1.3 模型预测\n",
    "\n",
    "## 3.1.2 线性回归的表示方法\n",
    "### 3.1.2.1 神经网络图\n",
    "### 3.1.2.2 矢量计算表达式\n",
    "\n"
   ],
   "cell_type": "markdown",
   "metadata": {}
  },
  {
   "cell_type": "code",
   "execution_count": 3,
   "metadata": {},
   "outputs": [],
   "source": [
    "import torch\n",
    "from time import time\n",
    "\n",
    "a = torch.ones(1000)\n",
    "b = torch.ones(1000)"
   ]
  },
  {
   "cell_type": "code",
   "execution_count": 2,
   "metadata": {},
   "outputs": [
    {
     "output_type": "stream",
     "name": "stdout",
     "text": [
      "0.023433208465576172\n"
     ]
    }
   ],
   "source": [
    "start = time()\n",
    "c = torch.zeros(1000)\n",
    "for i in range(1000):\n",
    "    c[i] = a[i] + b[i]\n",
    "print(time() - start)"
   ]
  },
  {
   "cell_type": "code",
   "execution_count": 8,
   "metadata": {},
   "outputs": [
    {
     "output_type": "stream",
     "name": "stdout",
     "text": [
      "0.00011587142944335938\n"
     ]
    }
   ],
   "source": [
    "# 向量相加的另一种方法是，将这两个向量直接做矢量加法。\n",
    "start = time()\n",
    "d = a + b\n",
    "print(time() - start)\n",
    "\n",
    "#结果很明显，后者比前者更省时。因此，我们应该尽可能采用矢量计算，以提升计算效率。"
   ]
  },
  {
   "cell_type": "code",
   "execution_count": 9,
   "metadata": {},
   "outputs": [
    {
     "output_type": "stream",
     "name": "stdout",
     "text": [
      "tensor([11., 11., 11.])\n"
     ]
    }
   ],
   "source": [
    "a = torch.ones(3)\n",
    "b = 10\n",
    "print(a + b)"
   ]
  },
  {
   "source": [
    "# 3.2 线性回归的从零开始实现"
   ],
   "cell_type": "markdown",
   "metadata": {}
  },
  {
   "cell_type": "code",
   "execution_count": 5,
   "metadata": {},
   "outputs": [],
   "source": [
    "%matplotlib inline\n",
    "import torch \n",
    "from IPython import display\n",
    "from matplotlib import pyplot as plt \n",
    "import numpy as np \n",
    "import random"
   ]
  },
  {
   "source": [
    "## 3.2.1生成数据集"
   ],
   "cell_type": "markdown",
   "metadata": {}
  },
  {
   "cell_type": "code",
   "execution_count": 14,
   "metadata": {},
   "outputs": [
    {
     "output_type": "stream",
     "name": "stdout",
     "text": [
      "tensor([-0.6081, -1.5197]) tensor(8.1440)\n"
     ]
    }
   ],
   "source": [
    "num_inputs = 2\n",
    "num_examples = 1000\n",
    "true_w = [2, -3.4]\n",
    "true_b = 4.2\n",
    "features = torch.randn(num_examples, num_inputs, dtype=torch.float32)\n",
    "labels = true_w[0] *features[:, 0] + true_w[1] * features[:, 1] + true_b\n",
    "labels += torch.tensor(np.random.normal(0, 0.01, size=labels.size()), dtype=torch.float32)\n",
    "print(features[0], labels[0])"
   ]
  },
  {
   "cell_type": "code",
   "execution_count": 16,
   "metadata": {},
   "outputs": [
    {
     "output_type": "execute_result",
     "data": {
      "text/plain": [
       "<matplotlib.collections.PathCollection at 0x7fee166d75b0>"
      ]
     },
     "metadata": {},
     "execution_count": 16
    },
    {
     "output_type": "display_data",
     "data": {
      "text/plain": "<Figure size 252x180 with 1 Axes>",
      "image/svg+xml": "<?xml version=\"1.0\" encoding=\"utf-8\" standalone=\"no\"?>\n<!DOCTYPE svg PUBLIC \"-//W3C//DTD SVG 1.1//EN\"\n  \"http://www.w3.org/Graphics/SVG/1.1/DTD/svg11.dtd\">\n<!-- Created with matplotlib (https://matplotlib.org/) -->\n<svg height=\"166.978125pt\" version=\"1.1\" viewBox=\"0 0 231.442187 166.978125\" width=\"231.442187pt\" xmlns=\"http://www.w3.org/2000/svg\" xmlns:xlink=\"http://www.w3.org/1999/xlink\">\n <metadata>\n  <rdf:RDF xmlns:cc=\"http://creativecommons.org/ns#\" xmlns:dc=\"http://purl.org/dc/elements/1.1/\" xmlns:rdf=\"http://www.w3.org/1999/02/22-rdf-syntax-ns#\">\n   <cc:Work>\n    <dc:type rdf:resource=\"http://purl.org/dc/dcmitype/StillImage\"/>\n    <dc:date>2020-10-15T15:53:31.160382</dc:date>\n    <dc:format>image/svg+xml</dc:format>\n    <dc:creator>\n     <cc:Agent>\n      <dc:title>Matplotlib v3.3.1, https://matplotlib.org/</dc:title>\n     </cc:Agent>\n    </dc:creator>\n   </cc:Work>\n  </rdf:RDF>\n </metadata>\n <defs>\n  <style type=\"text/css\">*{stroke-linecap:butt;stroke-linejoin:round;}</style>\n </defs>\n <g id=\"figure_1\">\n  <g id=\"patch_1\">\n   <path d=\"M 0 166.978125 \nL 231.442187 166.978125 \nL 231.442187 0 \nL 0 0 \nz\n\" style=\"fill:none;\"/>\n  </g>\n  <g id=\"axes_1\">\n   <g id=\"patch_2\">\n    <path d=\"M 28.942188 143.1 \nL 224.242188 143.1 \nL 224.242188 7.2 \nL 28.942188 7.2 \nz\n\" style=\"fill:#ffffff;\"/>\n   </g>\n   <g id=\"PathCollection_1\">\n    <defs>\n     <path d=\"M 0 0.5 \nC 0.132602 0.5 0.25979 0.447317 0.353553 0.353553 \nC 0.447317 0.25979 0.5 0.132602 0.5 0 \nC 0.5 -0.132602 0.447317 -0.25979 0.353553 -0.353553 \nC 0.25979 -0.447317 0.132602 -0.5 0 -0.5 \nC -0.132602 -0.5 -0.25979 -0.447317 -0.353553 -0.353553 \nC -0.447317 -0.25979 -0.5 -0.132602 -0.5 0 \nC -0.5 0.132602 -0.447317 0.25979 -0.353553 0.353553 \nC -0.25979 0.447317 -0.132602 0.5 0 0.5 \nz\n\" id=\"ma387aa2818\" style=\"stroke:#1f77b4;\"/>\n    </defs>\n    <g clip-path=\"url(#pc5491165b2)\">\n     <use style=\"fill:#1f77b4;stroke:#1f77b4;\" x=\"94.886467\" xlink:href=\"#ma387aa2818\" y=\"57.243892\"/>\n     <use style=\"fill:#1f77b4;stroke:#1f77b4;\" x=\"160.242263\" xlink:href=\"#ma387aa2818\" y=\"91.347259\"/>\n     <use style=\"fill:#1f77b4;stroke:#1f77b4;\" x=\"131.031953\" xlink:href=\"#ma387aa2818\" y=\"64.990174\"/>\n     <use style=\"fill:#1f77b4;stroke:#1f77b4;\" x=\"125.254373\" xlink:href=\"#ma387aa2818\" y=\"78.296297\"/>\n     <use style=\"fill:#1f77b4;stroke:#1f77b4;\" x=\"71.907758\" xlink:href=\"#ma387aa2818\" y=\"62.849255\"/>\n     <use style=\"fill:#1f77b4;stroke:#1f77b4;\" x=\"134.254272\" xlink:href=\"#ma387aa2818\" y=\"79.680559\"/>\n     <use style=\"fill:#1f77b4;stroke:#1f77b4;\" x=\"97.311573\" xlink:href=\"#ma387aa2818\" y=\"62.864586\"/>\n     <use style=\"fill:#1f77b4;stroke:#1f77b4;\" x=\"125.418437\" xlink:href=\"#ma387aa2818\" y=\"60.07774\"/>\n     <use style=\"fill:#1f77b4;stroke:#1f77b4;\" x=\"122.449509\" xlink:href=\"#ma387aa2818\" y=\"66.692573\"/>\n     <use style=\"fill:#1f77b4;stroke:#1f77b4;\" x=\"158.067027\" xlink:href=\"#ma387aa2818\" y=\"96.781681\"/>\n     <use style=\"fill:#1f77b4;stroke:#1f77b4;\" x=\"119.564478\" xlink:href=\"#ma387aa2818\" y=\"66.412612\"/>\n     <use style=\"fill:#1f77b4;stroke:#1f77b4;\" x=\"126.656134\" xlink:href=\"#ma387aa2818\" y=\"89.386245\"/>\n     <use style=\"fill:#1f77b4;stroke:#1f77b4;\" x=\"194.295345\" xlink:href=\"#ma387aa2818\" y=\"104.570457\"/>\n     <use style=\"fill:#1f77b4;stroke:#1f77b4;\" x=\"204.560451\" xlink:href=\"#ma387aa2818\" y=\"125.142898\"/>\n     <use style=\"fill:#1f77b4;stroke:#1f77b4;\" x=\"114.2446\" xlink:href=\"#ma387aa2818\" y=\"64.080149\"/>\n     <use style=\"fill:#1f77b4;stroke:#1f77b4;\" x=\"114.092763\" xlink:href=\"#ma387aa2818\" y=\"71.709993\"/>\n     <use style=\"fill:#1f77b4;stroke:#1f77b4;\" x=\"114.834722\" xlink:href=\"#ma387aa2818\" y=\"66.691109\"/>\n     <use style=\"fill:#1f77b4;stroke:#1f77b4;\" x=\"153.048009\" xlink:href=\"#ma387aa2818\" y=\"80.772974\"/>\n     <use style=\"fill:#1f77b4;stroke:#1f77b4;\" x=\"113.820968\" xlink:href=\"#ma387aa2818\" y=\"41.379514\"/>\n     <use style=\"fill:#1f77b4;stroke:#1f77b4;\" x=\"136.969807\" xlink:href=\"#ma387aa2818\" y=\"85.319141\"/>\n     <use style=\"fill:#1f77b4;stroke:#1f77b4;\" x=\"127.213121\" xlink:href=\"#ma387aa2818\" y=\"59.679208\"/>\n     <use style=\"fill:#1f77b4;stroke:#1f77b4;\" x=\"112.262972\" xlink:href=\"#ma387aa2818\" y=\"65.527702\"/>\n     <use style=\"fill:#1f77b4;stroke:#1f77b4;\" x=\"144.900537\" xlink:href=\"#ma387aa2818\" y=\"85.638498\"/>\n     <use style=\"fill:#1f77b4;stroke:#1f77b4;\" x=\"138.713545\" xlink:href=\"#ma387aa2818\" y=\"66.533695\"/>\n     <use style=\"fill:#1f77b4;stroke:#1f77b4;\" x=\"158.16643\" xlink:href=\"#ma387aa2818\" y=\"85.837839\"/>\n     <use style=\"fill:#1f77b4;stroke:#1f77b4;\" x=\"147.996993\" xlink:href=\"#ma387aa2818\" y=\"60.466216\"/>\n     <use style=\"fill:#1f77b4;stroke:#1f77b4;\" x=\"128.647099\" xlink:href=\"#ma387aa2818\" y=\"56.442591\"/>\n     <use style=\"fill:#1f77b4;stroke:#1f77b4;\" x=\"143.90159\" xlink:href=\"#ma387aa2818\" y=\"90.27629\"/>\n     <use style=\"fill:#1f77b4;stroke:#1f77b4;\" x=\"169.510995\" xlink:href=\"#ma387aa2818\" y=\"97.519172\"/>\n     <use style=\"fill:#1f77b4;stroke:#1f77b4;\" x=\"164.210866\" xlink:href=\"#ma387aa2818\" y=\"86.90157\"/>\n     <use style=\"fill:#1f77b4;stroke:#1f77b4;\" x=\"145.710579\" xlink:href=\"#ma387aa2818\" y=\"63.638853\"/>\n     <use style=\"fill:#1f77b4;stroke:#1f77b4;\" x=\"146.465211\" xlink:href=\"#ma387aa2818\" y=\"85.188136\"/>\n     <use style=\"fill:#1f77b4;stroke:#1f77b4;\" x=\"172.900217\" xlink:href=\"#ma387aa2818\" y=\"106.289046\"/>\n     <use style=\"fill:#1f77b4;stroke:#1f77b4;\" x=\"140.839191\" xlink:href=\"#ma387aa2818\" y=\"74.18038\"/>\n     <use style=\"fill:#1f77b4;stroke:#1f77b4;\" x=\"158.818746\" xlink:href=\"#ma387aa2818\" y=\"96.633154\"/>\n     <use style=\"fill:#1f77b4;stroke:#1f77b4;\" x=\"145.769534\" xlink:href=\"#ma387aa2818\" y=\"67.703986\"/>\n     <use style=\"fill:#1f77b4;stroke:#1f77b4;\" x=\"137.614501\" xlink:href=\"#ma387aa2818\" y=\"77.907606\"/>\n     <use style=\"fill:#1f77b4;stroke:#1f77b4;\" x=\"153.761288\" xlink:href=\"#ma387aa2818\" y=\"101.640134\"/>\n     <use style=\"fill:#1f77b4;stroke:#1f77b4;\" x=\"162.70343\" xlink:href=\"#ma387aa2818\" y=\"77.590042\"/>\n     <use style=\"fill:#1f77b4;stroke:#1f77b4;\" x=\"102.777601\" xlink:href=\"#ma387aa2818\" y=\"56.78079\"/>\n     <use style=\"fill:#1f77b4;stroke:#1f77b4;\" x=\"115.141401\" xlink:href=\"#ma387aa2818\" y=\"57.457377\"/>\n     <use style=\"fill:#1f77b4;stroke:#1f77b4;\" x=\"128.213901\" xlink:href=\"#ma387aa2818\" y=\"75.42898\"/>\n     <use style=\"fill:#1f77b4;stroke:#1f77b4;\" x=\"130.034862\" xlink:href=\"#ma387aa2818\" y=\"73.412016\"/>\n     <use style=\"fill:#1f77b4;stroke:#1f77b4;\" x=\"143.507314\" xlink:href=\"#ma387aa2818\" y=\"80.664724\"/>\n     <use style=\"fill:#1f77b4;stroke:#1f77b4;\" x=\"112.590751\" xlink:href=\"#ma387aa2818\" y=\"74.109162\"/>\n     <use style=\"fill:#1f77b4;stroke:#1f77b4;\" x=\"92.021666\" xlink:href=\"#ma387aa2818\" y=\"54.148904\"/>\n     <use style=\"fill:#1f77b4;stroke:#1f77b4;\" x=\"152.670644\" xlink:href=\"#ma387aa2818\" y=\"65.4791\"/>\n     <use style=\"fill:#1f77b4;stroke:#1f77b4;\" x=\"164.793338\" xlink:href=\"#ma387aa2818\" y=\"93.0422\"/>\n     <use style=\"fill:#1f77b4;stroke:#1f77b4;\" x=\"146.241572\" xlink:href=\"#ma387aa2818\" y=\"67.501801\"/>\n     <use style=\"fill:#1f77b4;stroke:#1f77b4;\" x=\"109.699869\" xlink:href=\"#ma387aa2818\" y=\"48.460424\"/>\n     <use style=\"fill:#1f77b4;stroke:#1f77b4;\" x=\"73.001609\" xlink:href=\"#ma387aa2818\" y=\"28.026144\"/>\n     <use style=\"fill:#1f77b4;stroke:#1f77b4;\" x=\"135.087809\" xlink:href=\"#ma387aa2818\" y=\"58.991348\"/>\n     <use style=\"fill:#1f77b4;stroke:#1f77b4;\" x=\"161.463567\" xlink:href=\"#ma387aa2818\" y=\"82.445769\"/>\n     <use style=\"fill:#1f77b4;stroke:#1f77b4;\" x=\"48.788203\" xlink:href=\"#ma387aa2818\" y=\"29.383943\"/>\n     <use style=\"fill:#1f77b4;stroke:#1f77b4;\" x=\"148.736639\" xlink:href=\"#ma387aa2818\" y=\"80.656525\"/>\n     <use style=\"fill:#1f77b4;stroke:#1f77b4;\" x=\"130.83787\" xlink:href=\"#ma387aa2818\" y=\"55.159178\"/>\n     <use style=\"fill:#1f77b4;stroke:#1f77b4;\" x=\"138.415127\" xlink:href=\"#ma387aa2818\" y=\"72.113886\"/>\n     <use style=\"fill:#1f77b4;stroke:#1f77b4;\" x=\"116.72086\" xlink:href=\"#ma387aa2818\" y=\"58.962641\"/>\n     <use style=\"fill:#1f77b4;stroke:#1f77b4;\" x=\"118.947114\" xlink:href=\"#ma387aa2818\" y=\"64.251261\"/>\n     <use style=\"fill:#1f77b4;stroke:#1f77b4;\" x=\"153.882791\" xlink:href=\"#ma387aa2818\" y=\"70.038099\"/>\n     <use style=\"fill:#1f77b4;stroke:#1f77b4;\" x=\"110.31693\" xlink:href=\"#ma387aa2818\" y=\"50.038406\"/>\n     <use style=\"fill:#1f77b4;stroke:#1f77b4;\" x=\"158.749551\" xlink:href=\"#ma387aa2818\" y=\"82.424208\"/>\n     <use style=\"fill:#1f77b4;stroke:#1f77b4;\" x=\"131.98334\" xlink:href=\"#ma387aa2818\" y=\"74.177451\"/>\n     <use style=\"fill:#1f77b4;stroke:#1f77b4;\" x=\"134.548625\" xlink:href=\"#ma387aa2818\" y=\"78.072956\"/>\n     <use style=\"fill:#1f77b4;stroke:#1f77b4;\" x=\"63.607943\" xlink:href=\"#ma387aa2818\" y=\"31.747229\"/>\n     <use style=\"fill:#1f77b4;stroke:#1f77b4;\" x=\"163.623727\" xlink:href=\"#ma387aa2818\" y=\"89.755739\"/>\n     <use style=\"fill:#1f77b4;stroke:#1f77b4;\" x=\"150.05301\" xlink:href=\"#ma387aa2818\" y=\"72.725028\"/>\n     <use style=\"fill:#1f77b4;stroke:#1f77b4;\" x=\"161.048937\" xlink:href=\"#ma387aa2818\" y=\"85.316245\"/>\n     <use style=\"fill:#1f77b4;stroke:#1f77b4;\" x=\"166.011917\" xlink:href=\"#ma387aa2818\" y=\"93.217069\"/>\n     <use style=\"fill:#1f77b4;stroke:#1f77b4;\" x=\"176.221864\" xlink:href=\"#ma387aa2818\" y=\"97.281635\"/>\n     <use style=\"fill:#1f77b4;stroke:#1f77b4;\" x=\"151.926291\" xlink:href=\"#ma387aa2818\" y=\"97.195743\"/>\n     <use style=\"fill:#1f77b4;stroke:#1f77b4;\" x=\"154.96032\" xlink:href=\"#ma387aa2818\" y=\"90.077821\"/>\n     <use style=\"fill:#1f77b4;stroke:#1f77b4;\" x=\"187.568877\" xlink:href=\"#ma387aa2818\" y=\"86.306537\"/>\n     <use style=\"fill:#1f77b4;stroke:#1f77b4;\" x=\"123.53576\" xlink:href=\"#ma387aa2818\" y=\"76.984849\"/>\n     <use style=\"fill:#1f77b4;stroke:#1f77b4;\" x=\"145.427383\" xlink:href=\"#ma387aa2818\" y=\"97.412505\"/>\n     <use style=\"fill:#1f77b4;stroke:#1f77b4;\" x=\"136.572394\" xlink:href=\"#ma387aa2818\" y=\"65.793588\"/>\n     <use style=\"fill:#1f77b4;stroke:#1f77b4;\" x=\"163.778579\" xlink:href=\"#ma387aa2818\" y=\"89.281983\"/>\n     <use style=\"fill:#1f77b4;stroke:#1f77b4;\" x=\"143.184536\" xlink:href=\"#ma387aa2818\" y=\"84.376959\"/>\n     <use style=\"fill:#1f77b4;stroke:#1f77b4;\" x=\"157.535755\" xlink:href=\"#ma387aa2818\" y=\"81.383987\"/>\n     <use style=\"fill:#1f77b4;stroke:#1f77b4;\" x=\"143.214184\" xlink:href=\"#ma387aa2818\" y=\"87.811349\"/>\n     <use style=\"fill:#1f77b4;stroke:#1f77b4;\" x=\"172.55264\" xlink:href=\"#ma387aa2818\" y=\"99.530949\"/>\n     <use style=\"fill:#1f77b4;stroke:#1f77b4;\" x=\"142.799441\" xlink:href=\"#ma387aa2818\" y=\"60.842963\"/>\n     <use style=\"fill:#1f77b4;stroke:#1f77b4;\" x=\"132.913433\" xlink:href=\"#ma387aa2818\" y=\"80.64037\"/>\n     <use style=\"fill:#1f77b4;stroke:#1f77b4;\" x=\"188.781115\" xlink:href=\"#ma387aa2818\" y=\"111.5615\"/>\n     <use style=\"fill:#1f77b4;stroke:#1f77b4;\" x=\"92.561587\" xlink:href=\"#ma387aa2818\" y=\"50.319149\"/>\n     <use style=\"fill:#1f77b4;stroke:#1f77b4;\" x=\"156.096492\" xlink:href=\"#ma387aa2818\" y=\"91.06633\"/>\n     <use style=\"fill:#1f77b4;stroke:#1f77b4;\" x=\"131.409538\" xlink:href=\"#ma387aa2818\" y=\"57.220558\"/>\n     <use style=\"fill:#1f77b4;stroke:#1f77b4;\" x=\"170.196587\" xlink:href=\"#ma387aa2818\" y=\"100.53846\"/>\n     <use style=\"fill:#1f77b4;stroke:#1f77b4;\" x=\"100.7003\" xlink:href=\"#ma387aa2818\" y=\"73.469017\"/>\n     <use style=\"fill:#1f77b4;stroke:#1f77b4;\" x=\"126.977696\" xlink:href=\"#ma387aa2818\" y=\"58.360249\"/>\n     <use style=\"fill:#1f77b4;stroke:#1f77b4;\" x=\"111.548477\" xlink:href=\"#ma387aa2818\" y=\"58.594207\"/>\n     <use style=\"fill:#1f77b4;stroke:#1f77b4;\" x=\"133.072249\" xlink:href=\"#ma387aa2818\" y=\"72.261786\"/>\n     <use style=\"fill:#1f77b4;stroke:#1f77b4;\" x=\"131.374748\" xlink:href=\"#ma387aa2818\" y=\"57.084085\"/>\n     <use style=\"fill:#1f77b4;stroke:#1f77b4;\" x=\"158.64452\" xlink:href=\"#ma387aa2818\" y=\"82.43322\"/>\n     <use style=\"fill:#1f77b4;stroke:#1f77b4;\" x=\"132.573553\" xlink:href=\"#ma387aa2818\" y=\"86.085485\"/>\n     <use style=\"fill:#1f77b4;stroke:#1f77b4;\" x=\"88.13516\" xlink:href=\"#ma387aa2818\" y=\"47.556137\"/>\n     <use style=\"fill:#1f77b4;stroke:#1f77b4;\" x=\"132.914299\" xlink:href=\"#ma387aa2818\" y=\"62.913501\"/>\n     <use style=\"fill:#1f77b4;stroke:#1f77b4;\" x=\"106.868452\" xlink:href=\"#ma387aa2818\" y=\"54.751342\"/>\n     <use style=\"fill:#1f77b4;stroke:#1f77b4;\" x=\"84.778559\" xlink:href=\"#ma387aa2818\" y=\"57.586304\"/>\n     <use style=\"fill:#1f77b4;stroke:#1f77b4;\" x=\"122.799132\" xlink:href=\"#ma387aa2818\" y=\"53.268909\"/>\n     <use style=\"fill:#1f77b4;stroke:#1f77b4;\" x=\"121.390618\" xlink:href=\"#ma387aa2818\" y=\"71.019493\"/>\n     <use style=\"fill:#1f77b4;stroke:#1f77b4;\" x=\"116.60973\" xlink:href=\"#ma387aa2818\" y=\"60.688245\"/>\n     <use style=\"fill:#1f77b4;stroke:#1f77b4;\" x=\"163.332525\" xlink:href=\"#ma387aa2818\" y=\"84.63345\"/>\n     <use style=\"fill:#1f77b4;stroke:#1f77b4;\" x=\"113.913896\" xlink:href=\"#ma387aa2818\" y=\"47.646041\"/>\n     <use style=\"fill:#1f77b4;stroke:#1f77b4;\" x=\"116.560501\" xlink:href=\"#ma387aa2818\" y=\"52.071442\"/>\n     <use style=\"fill:#1f77b4;stroke:#1f77b4;\" x=\"171.561317\" xlink:href=\"#ma387aa2818\" y=\"70.72731\"/>\n     <use style=\"fill:#1f77b4;stroke:#1f77b4;\" x=\"135.323596\" xlink:href=\"#ma387aa2818\" y=\"73.855062\"/>\n     <use style=\"fill:#1f77b4;stroke:#1f77b4;\" x=\"146.755744\" xlink:href=\"#ma387aa2818\" y=\"76.81191\"/>\n     <use style=\"fill:#1f77b4;stroke:#1f77b4;\" x=\"135.484242\" xlink:href=\"#ma387aa2818\" y=\"85.17287\"/>\n     <use style=\"fill:#1f77b4;stroke:#1f77b4;\" x=\"100.653574\" xlink:href=\"#ma387aa2818\" y=\"41.550175\"/>\n     <use style=\"fill:#1f77b4;stroke:#1f77b4;\" x=\"172.338109\" xlink:href=\"#ma387aa2818\" y=\"90.823195\"/>\n     <use style=\"fill:#1f77b4;stroke:#1f77b4;\" x=\"169.560725\" xlink:href=\"#ma387aa2818\" y=\"107.450619\"/>\n     <use style=\"fill:#1f77b4;stroke:#1f77b4;\" x=\"119.912302\" xlink:href=\"#ma387aa2818\" y=\"76.800741\"/>\n     <use style=\"fill:#1f77b4;stroke:#1f77b4;\" x=\"155.741978\" xlink:href=\"#ma387aa2818\" y=\"88.862256\"/>\n     <use style=\"fill:#1f77b4;stroke:#1f77b4;\" x=\"170.755366\" xlink:href=\"#ma387aa2818\" y=\"99.317139\"/>\n     <use style=\"fill:#1f77b4;stroke:#1f77b4;\" x=\"142.193175\" xlink:href=\"#ma387aa2818\" y=\"68.835919\"/>\n     <use style=\"fill:#1f77b4;stroke:#1f77b4;\" x=\"133.89075\" xlink:href=\"#ma387aa2818\" y=\"80.954648\"/>\n     <use style=\"fill:#1f77b4;stroke:#1f77b4;\" x=\"203.957686\" xlink:href=\"#ma387aa2818\" y=\"128.423569\"/>\n     <use style=\"fill:#1f77b4;stroke:#1f77b4;\" x=\"176.31323\" xlink:href=\"#ma387aa2818\" y=\"90.399987\"/>\n     <use style=\"fill:#1f77b4;stroke:#1f77b4;\" x=\"123.811048\" xlink:href=\"#ma387aa2818\" y=\"62.259698\"/>\n     <use style=\"fill:#1f77b4;stroke:#1f77b4;\" x=\"168.805922\" xlink:href=\"#ma387aa2818\" y=\"74.072924\"/>\n     <use style=\"fill:#1f77b4;stroke:#1f77b4;\" x=\"177.562366\" xlink:href=\"#ma387aa2818\" y=\"101.419981\"/>\n     <use style=\"fill:#1f77b4;stroke:#1f77b4;\" x=\"147.517465\" xlink:href=\"#ma387aa2818\" y=\"98.085036\"/>\n     <use style=\"fill:#1f77b4;stroke:#1f77b4;\" x=\"149.784548\" xlink:href=\"#ma387aa2818\" y=\"86.675443\"/>\n     <use style=\"fill:#1f77b4;stroke:#1f77b4;\" x=\"171.263168\" xlink:href=\"#ma387aa2818\" y=\"96.793414\"/>\n     <use style=\"fill:#1f77b4;stroke:#1f77b4;\" x=\"156.892778\" xlink:href=\"#ma387aa2818\" y=\"85.163978\"/>\n     <use style=\"fill:#1f77b4;stroke:#1f77b4;\" x=\"150.236995\" xlink:href=\"#ma387aa2818\" y=\"105.529663\"/>\n     <use style=\"fill:#1f77b4;stroke:#1f77b4;\" x=\"105.137\" xlink:href=\"#ma387aa2818\" y=\"60.805078\"/>\n     <use style=\"fill:#1f77b4;stroke:#1f77b4;\" x=\"87.917487\" xlink:href=\"#ma387aa2818\" y=\"36.233977\"/>\n     <use style=\"fill:#1f77b4;stroke:#1f77b4;\" x=\"150.490095\" xlink:href=\"#ma387aa2818\" y=\"65.633819\"/>\n     <use style=\"fill:#1f77b4;stroke:#1f77b4;\" x=\"123.469188\" xlink:href=\"#ma387aa2818\" y=\"70.266872\"/>\n     <use style=\"fill:#1f77b4;stroke:#1f77b4;\" x=\"121.061445\" xlink:href=\"#ma387aa2818\" y=\"52.735544\"/>\n     <use style=\"fill:#1f77b4;stroke:#1f77b4;\" x=\"134.007542\" xlink:href=\"#ma387aa2818\" y=\"66.504939\"/>\n     <use style=\"fill:#1f77b4;stroke:#1f77b4;\" x=\"171.45442\" xlink:href=\"#ma387aa2818\" y=\"88.615973\"/>\n     <use style=\"fill:#1f77b4;stroke:#1f77b4;\" x=\"138.877155\" xlink:href=\"#ma387aa2818\" y=\"65.544734\"/>\n     <use style=\"fill:#1f77b4;stroke:#1f77b4;\" x=\"144.746335\" xlink:href=\"#ma387aa2818\" y=\"83.561543\"/>\n     <use style=\"fill:#1f77b4;stroke:#1f77b4;\" x=\"102.389286\" xlink:href=\"#ma387aa2818\" y=\"50.160826\"/>\n     <use style=\"fill:#1f77b4;stroke:#1f77b4;\" x=\"161.711504\" xlink:href=\"#ma387aa2818\" y=\"87.965515\"/>\n     <use style=\"fill:#1f77b4;stroke:#1f77b4;\" x=\"114.49886\" xlink:href=\"#ma387aa2818\" y=\"64.328432\"/>\n     <use style=\"fill:#1f77b4;stroke:#1f77b4;\" x=\"113.162942\" xlink:href=\"#ma387aa2818\" y=\"53.045238\"/>\n     <use style=\"fill:#1f77b4;stroke:#1f77b4;\" x=\"168.18825\" xlink:href=\"#ma387aa2818\" y=\"94.279648\"/>\n     <use style=\"fill:#1f77b4;stroke:#1f77b4;\" x=\"168.8744\" xlink:href=\"#ma387aa2818\" y=\"85.004291\"/>\n     <use style=\"fill:#1f77b4;stroke:#1f77b4;\" x=\"136.701146\" xlink:href=\"#ma387aa2818\" y=\"84.284556\"/>\n     <use style=\"fill:#1f77b4;stroke:#1f77b4;\" x=\"106.602696\" xlink:href=\"#ma387aa2818\" y=\"57.865857\"/>\n     <use style=\"fill:#1f77b4;stroke:#1f77b4;\" x=\"174.890259\" xlink:href=\"#ma387aa2818\" y=\"93.517091\"/>\n     <use style=\"fill:#1f77b4;stroke:#1f77b4;\" x=\"140.223507\" xlink:href=\"#ma387aa2818\" y=\"83.679763\"/>\n     <use style=\"fill:#1f77b4;stroke:#1f77b4;\" x=\"101.009083\" xlink:href=\"#ma387aa2818\" y=\"59.768876\"/>\n     <use style=\"fill:#1f77b4;stroke:#1f77b4;\" x=\"111.488886\" xlink:href=\"#ma387aa2818\" y=\"50.866434\"/>\n     <use style=\"fill:#1f77b4;stroke:#1f77b4;\" x=\"163.124322\" xlink:href=\"#ma387aa2818\" y=\"81.256858\"/>\n     <use style=\"fill:#1f77b4;stroke:#1f77b4;\" x=\"170.81019\" xlink:href=\"#ma387aa2818\" y=\"96.820487\"/>\n     <use style=\"fill:#1f77b4;stroke:#1f77b4;\" x=\"90.612529\" xlink:href=\"#ma387aa2818\" y=\"45.525025\"/>\n     <use style=\"fill:#1f77b4;stroke:#1f77b4;\" x=\"71.504435\" xlink:href=\"#ma387aa2818\" y=\"33.071784\"/>\n     <use style=\"fill:#1f77b4;stroke:#1f77b4;\" x=\"123.737602\" xlink:href=\"#ma387aa2818\" y=\"92.223685\"/>\n     <use style=\"fill:#1f77b4;stroke:#1f77b4;\" x=\"138.128279\" xlink:href=\"#ma387aa2818\" y=\"72.323553\"/>\n     <use style=\"fill:#1f77b4;stroke:#1f77b4;\" x=\"130.581324\" xlink:href=\"#ma387aa2818\" y=\"84.049591\"/>\n     <use style=\"fill:#1f77b4;stroke:#1f77b4;\" x=\"177.86145\" xlink:href=\"#ma387aa2818\" y=\"88.855105\"/>\n     <use style=\"fill:#1f77b4;stroke:#1f77b4;\" x=\"181.403672\" xlink:href=\"#ma387aa2818\" y=\"118.13796\"/>\n     <use style=\"fill:#1f77b4;stroke:#1f77b4;\" x=\"80.702995\" xlink:href=\"#ma387aa2818\" y=\"29.464131\"/>\n     <use style=\"fill:#1f77b4;stroke:#1f77b4;\" x=\"165.484741\" xlink:href=\"#ma387aa2818\" y=\"97.285023\"/>\n     <use style=\"fill:#1f77b4;stroke:#1f77b4;\" x=\"141.39227\" xlink:href=\"#ma387aa2818\" y=\"69.294532\"/>\n     <use style=\"fill:#1f77b4;stroke:#1f77b4;\" x=\"164.678688\" xlink:href=\"#ma387aa2818\" y=\"93.360162\"/>\n     <use style=\"fill:#1f77b4;stroke:#1f77b4;\" x=\"96.667161\" xlink:href=\"#ma387aa2818\" y=\"58.181108\"/>\n     <use style=\"fill:#1f77b4;stroke:#1f77b4;\" x=\"108.126733\" xlink:href=\"#ma387aa2818\" y=\"55.925157\"/>\n     <use style=\"fill:#1f77b4;stroke:#1f77b4;\" x=\"158.090616\" xlink:href=\"#ma387aa2818\" y=\"77.660597\"/>\n     <use style=\"fill:#1f77b4;stroke:#1f77b4;\" x=\"148.751789\" xlink:href=\"#ma387aa2818\" y=\"76.18565\"/>\n     <use style=\"fill:#1f77b4;stroke:#1f77b4;\" x=\"174.24981\" xlink:href=\"#ma387aa2818\" y=\"85.926754\"/>\n     <use style=\"fill:#1f77b4;stroke:#1f77b4;\" x=\"80.383582\" xlink:href=\"#ma387aa2818\" y=\"32.4865\"/>\n     <use style=\"fill:#1f77b4;stroke:#1f77b4;\" x=\"125.052859\" xlink:href=\"#ma387aa2818\" y=\"59.132911\"/>\n     <use style=\"fill:#1f77b4;stroke:#1f77b4;\" x=\"156.857878\" xlink:href=\"#ma387aa2818\" y=\"82.980244\"/>\n     <use style=\"fill:#1f77b4;stroke:#1f77b4;\" x=\"142.030901\" xlink:href=\"#ma387aa2818\" y=\"80.993429\"/>\n     <use style=\"fill:#1f77b4;stroke:#1f77b4;\" x=\"190.95347\" xlink:href=\"#ma387aa2818\" y=\"114.941258\"/>\n     <use style=\"fill:#1f77b4;stroke:#1f77b4;\" x=\"169.491237\" xlink:href=\"#ma387aa2818\" y=\"107.314225\"/>\n     <use style=\"fill:#1f77b4;stroke:#1f77b4;\" x=\"106.396455\" xlink:href=\"#ma387aa2818\" y=\"60.820482\"/>\n     <use style=\"fill:#1f77b4;stroke:#1f77b4;\" x=\"123.992186\" xlink:href=\"#ma387aa2818\" y=\"70.33728\"/>\n     <use style=\"fill:#1f77b4;stroke:#1f77b4;\" x=\"72.799264\" xlink:href=\"#ma387aa2818\" y=\"21.106368\"/>\n     <use style=\"fill:#1f77b4;stroke:#1f77b4;\" x=\"161.718927\" xlink:href=\"#ma387aa2818\" y=\"86.577598\"/>\n     <use style=\"fill:#1f77b4;stroke:#1f77b4;\" x=\"92.516542\" xlink:href=\"#ma387aa2818\" y=\"43.462858\"/>\n     <use style=\"fill:#1f77b4;stroke:#1f77b4;\" x=\"135.16632\" xlink:href=\"#ma387aa2818\" y=\"69.118628\"/>\n     <use style=\"fill:#1f77b4;stroke:#1f77b4;\" x=\"125.971902\" xlink:href=\"#ma387aa2818\" y=\"44.701623\"/>\n     <use style=\"fill:#1f77b4;stroke:#1f77b4;\" x=\"161.478668\" xlink:href=\"#ma387aa2818\" y=\"98.111371\"/>\n     <use style=\"fill:#1f77b4;stroke:#1f77b4;\" x=\"166.142894\" xlink:href=\"#ma387aa2818\" y=\"95.909624\"/>\n     <use style=\"fill:#1f77b4;stroke:#1f77b4;\" x=\"117.530528\" xlink:href=\"#ma387aa2818\" y=\"74.571854\"/>\n     <use style=\"fill:#1f77b4;stroke:#1f77b4;\" x=\"126.953661\" xlink:href=\"#ma387aa2818\" y=\"76.429977\"/>\n     <use style=\"fill:#1f77b4;stroke:#1f77b4;\" x=\"149.58591\" xlink:href=\"#ma387aa2818\" y=\"78.216148\"/>\n     <use style=\"fill:#1f77b4;stroke:#1f77b4;\" x=\"98.023275\" xlink:href=\"#ma387aa2818\" y=\"74.586443\"/>\n     <use style=\"fill:#1f77b4;stroke:#1f77b4;\" x=\"132.336925\" xlink:href=\"#ma387aa2818\" y=\"76.415265\"/>\n     <use style=\"fill:#1f77b4;stroke:#1f77b4;\" x=\"134.870503\" xlink:href=\"#ma387aa2818\" y=\"58.199726\"/>\n     <use style=\"fill:#1f77b4;stroke:#1f77b4;\" x=\"100.330797\" xlink:href=\"#ma387aa2818\" y=\"50.04654\"/>\n     <use style=\"fill:#1f77b4;stroke:#1f77b4;\" x=\"90.523595\" xlink:href=\"#ma387aa2818\" y=\"50.978075\"/>\n     <use style=\"fill:#1f77b4;stroke:#1f77b4;\" x=\"128.009904\" xlink:href=\"#ma387aa2818\" y=\"67.435532\"/>\n     <use style=\"fill:#1f77b4;stroke:#1f77b4;\" x=\"137.230638\" xlink:href=\"#ma387aa2818\" y=\"64.880438\"/>\n     <use style=\"fill:#1f77b4;stroke:#1f77b4;\" x=\"127.54718\" xlink:href=\"#ma387aa2818\" y=\"72.44374\"/>\n     <use style=\"fill:#1f77b4;stroke:#1f77b4;\" x=\"120.136964\" xlink:href=\"#ma387aa2818\" y=\"64.718849\"/>\n     <use style=\"fill:#1f77b4;stroke:#1f77b4;\" x=\"86.34426\" xlink:href=\"#ma387aa2818\" y=\"39.08905\"/>\n     <use style=\"fill:#1f77b4;stroke:#1f77b4;\" x=\"97.27979\" xlink:href=\"#ma387aa2818\" y=\"51.732428\"/>\n     <use style=\"fill:#1f77b4;stroke:#1f77b4;\" x=\"188.673362\" xlink:href=\"#ma387aa2818\" y=\"87.788726\"/>\n     <use style=\"fill:#1f77b4;stroke:#1f77b4;\" x=\"159.762132\" xlink:href=\"#ma387aa2818\" y=\"89.170099\"/>\n     <use style=\"fill:#1f77b4;stroke:#1f77b4;\" x=\"113.1768\" xlink:href=\"#ma387aa2818\" y=\"66.820237\"/>\n     <use style=\"fill:#1f77b4;stroke:#1f77b4;\" x=\"107.715604\" xlink:href=\"#ma387aa2818\" y=\"75.94025\"/>\n     <use style=\"fill:#1f77b4;stroke:#1f77b4;\" x=\"134.309617\" xlink:href=\"#ma387aa2818\" y=\"79.876898\"/>\n     <use style=\"fill:#1f77b4;stroke:#1f77b4;\" x=\"172.937522\" xlink:href=\"#ma387aa2818\" y=\"103.187674\"/>\n     <use style=\"fill:#1f77b4;stroke:#1f77b4;\" x=\"178.792175\" xlink:href=\"#ma387aa2818\" y=\"113.926029\"/>\n     <use style=\"fill:#1f77b4;stroke:#1f77b4;\" x=\"138.822757\" xlink:href=\"#ma387aa2818\" y=\"97.987179\"/>\n     <use style=\"fill:#1f77b4;stroke:#1f77b4;\" x=\"132.23307\" xlink:href=\"#ma387aa2818\" y=\"81.395647\"/>\n     <use style=\"fill:#1f77b4;stroke:#1f77b4;\" x=\"151.165114\" xlink:href=\"#ma387aa2818\" y=\"93.090632\"/>\n     <use style=\"fill:#1f77b4;stroke:#1f77b4;\" x=\"186.818952\" xlink:href=\"#ma387aa2818\" y=\"95.831122\"/>\n     <use style=\"fill:#1f77b4;stroke:#1f77b4;\" x=\"203.226191\" xlink:href=\"#ma387aa2818\" y=\"109.584467\"/>\n     <use style=\"fill:#1f77b4;stroke:#1f77b4;\" x=\"171.873761\" xlink:href=\"#ma387aa2818\" y=\"114.369831\"/>\n     <use style=\"fill:#1f77b4;stroke:#1f77b4;\" x=\"106.717932\" xlink:href=\"#ma387aa2818\" y=\"70.503924\"/>\n     <use style=\"fill:#1f77b4;stroke:#1f77b4;\" x=\"143.693817\" xlink:href=\"#ma387aa2818\" y=\"98.451052\"/>\n     <use style=\"fill:#1f77b4;stroke:#1f77b4;\" x=\"123.343144\" xlink:href=\"#ma387aa2818\" y=\"75.230439\"/>\n     <use style=\"fill:#1f77b4;stroke:#1f77b4;\" x=\"130.507678\" xlink:href=\"#ma387aa2818\" y=\"84.133953\"/>\n     <use style=\"fill:#1f77b4;stroke:#1f77b4;\" x=\"170.639317\" xlink:href=\"#ma387aa2818\" y=\"85.604223\"/>\n     <use style=\"fill:#1f77b4;stroke:#1f77b4;\" x=\"130.701239\" xlink:href=\"#ma387aa2818\" y=\"77.708295\"/>\n     <use style=\"fill:#1f77b4;stroke:#1f77b4;\" x=\"141.781005\" xlink:href=\"#ma387aa2818\" y=\"61.832403\"/>\n     <use style=\"fill:#1f77b4;stroke:#1f77b4;\" x=\"201.236453\" xlink:href=\"#ma387aa2818\" y=\"96.732939\"/>\n     <use style=\"fill:#1f77b4;stroke:#1f77b4;\" x=\"136.166828\" xlink:href=\"#ma387aa2818\" y=\"80.286786\"/>\n     <use style=\"fill:#1f77b4;stroke:#1f77b4;\" x=\"147.599694\" xlink:href=\"#ma387aa2818\" y=\"83.481234\"/>\n     <use style=\"fill:#1f77b4;stroke:#1f77b4;\" x=\"145.447332\" xlink:href=\"#ma387aa2818\" y=\"78.480267\"/>\n     <use style=\"fill:#1f77b4;stroke:#1f77b4;\" x=\"166.729567\" xlink:href=\"#ma387aa2818\" y=\"110.602406\"/>\n     <use style=\"fill:#1f77b4;stroke:#1f77b4;\" x=\"191.798738\" xlink:href=\"#ma387aa2818\" y=\"101.490236\"/>\n     <use style=\"fill:#1f77b4;stroke:#1f77b4;\" x=\"175.366352\" xlink:href=\"#ma387aa2818\" y=\"93.38189\"/>\n     <use style=\"fill:#1f77b4;stroke:#1f77b4;\" x=\"138.129201\" xlink:href=\"#ma387aa2818\" y=\"91.34555\"/>\n     <use style=\"fill:#1f77b4;stroke:#1f77b4;\" x=\"139.780637\" xlink:href=\"#ma387aa2818\" y=\"76.050154\"/>\n     <use style=\"fill:#1f77b4;stroke:#1f77b4;\" x=\"108.286286\" xlink:href=\"#ma387aa2818\" y=\"61.412177\"/>\n     <use style=\"fill:#1f77b4;stroke:#1f77b4;\" x=\"144.258706\" xlink:href=\"#ma387aa2818\" y=\"83.850363\"/>\n     <use style=\"fill:#1f77b4;stroke:#1f77b4;\" x=\"143.63747\" xlink:href=\"#ma387aa2818\" y=\"81.083764\"/>\n     <use style=\"fill:#1f77b4;stroke:#1f77b4;\" x=\"158.143741\" xlink:href=\"#ma387aa2818\" y=\"89.250805\"/>\n     <use style=\"fill:#1f77b4;stroke:#1f77b4;\" x=\"154.101518\" xlink:href=\"#ma387aa2818\" y=\"89.720712\"/>\n     <use style=\"fill:#1f77b4;stroke:#1f77b4;\" x=\"165.47575\" xlink:href=\"#ma387aa2818\" y=\"85.785802\"/>\n     <use style=\"fill:#1f77b4;stroke:#1f77b4;\" x=\"131.06655\" xlink:href=\"#ma387aa2818\" y=\"64.516836\"/>\n     <use style=\"fill:#1f77b4;stroke:#1f77b4;\" x=\"80.548106\" xlink:href=\"#ma387aa2818\" y=\"58.670821\"/>\n     <use style=\"fill:#1f77b4;stroke:#1f77b4;\" x=\"126.172017\" xlink:href=\"#ma387aa2818\" y=\"46.245725\"/>\n     <use style=\"fill:#1f77b4;stroke:#1f77b4;\" x=\"148.19641\" xlink:href=\"#ma387aa2818\" y=\"76.548309\"/>\n     <use style=\"fill:#1f77b4;stroke:#1f77b4;\" x=\"110.873281\" xlink:href=\"#ma387aa2818\" y=\"66.725475\"/>\n     <use style=\"fill:#1f77b4;stroke:#1f77b4;\" x=\"105.390756\" xlink:href=\"#ma387aa2818\" y=\"61.271206\"/>\n     <use style=\"fill:#1f77b4;stroke:#1f77b4;\" x=\"164.137987\" xlink:href=\"#ma387aa2818\" y=\"93.267676\"/>\n     <use style=\"fill:#1f77b4;stroke:#1f77b4;\" x=\"158.187358\" xlink:href=\"#ma387aa2818\" y=\"98.285584\"/>\n     <use style=\"fill:#1f77b4;stroke:#1f77b4;\" x=\"124.072406\" xlink:href=\"#ma387aa2818\" y=\"60.711917\"/>\n     <use style=\"fill:#1f77b4;stroke:#1f77b4;\" x=\"97.343145\" xlink:href=\"#ma387aa2818\" y=\"54.800541\"/>\n     <use style=\"fill:#1f77b4;stroke:#1f77b4;\" x=\"106.978573\" xlink:href=\"#ma387aa2818\" y=\"55.088156\"/>\n     <use style=\"fill:#1f77b4;stroke:#1f77b4;\" x=\"123.418865\" xlink:href=\"#ma387aa2818\" y=\"76.459625\"/>\n     <use style=\"fill:#1f77b4;stroke:#1f77b4;\" x=\"143.940534\" xlink:href=\"#ma387aa2818\" y=\"69.46059\"/>\n     <use style=\"fill:#1f77b4;stroke:#1f77b4;\" x=\"144.951271\" xlink:href=\"#ma387aa2818\" y=\"88.319257\"/>\n     <use style=\"fill:#1f77b4;stroke:#1f77b4;\" x=\"184.842133\" xlink:href=\"#ma387aa2818\" y=\"120.081433\"/>\n     <use style=\"fill:#1f77b4;stroke:#1f77b4;\" x=\"134.019333\" xlink:href=\"#ma387aa2818\" y=\"79.418722\"/>\n     <use style=\"fill:#1f77b4;stroke:#1f77b4;\" x=\"126.912318\" xlink:href=\"#ma387aa2818\" y=\"75.880315\"/>\n     <use style=\"fill:#1f77b4;stroke:#1f77b4;\" x=\"128.60328\" xlink:href=\"#ma387aa2818\" y=\"68.830641\"/>\n     <use style=\"fill:#1f77b4;stroke:#1f77b4;\" x=\"144.597431\" xlink:href=\"#ma387aa2818\" y=\"106.274245\"/>\n     <use style=\"fill:#1f77b4;stroke:#1f77b4;\" x=\"97.741243\" xlink:href=\"#ma387aa2818\" y=\"48.465846\"/>\n     <use style=\"fill:#1f77b4;stroke:#1f77b4;\" x=\"127.910775\" xlink:href=\"#ma387aa2818\" y=\"71.698829\"/>\n     <use style=\"fill:#1f77b4;stroke:#1f77b4;\" x=\"93.658476\" xlink:href=\"#ma387aa2818\" y=\"49.896781\"/>\n     <use style=\"fill:#1f77b4;stroke:#1f77b4;\" x=\"120.435977\" xlink:href=\"#ma387aa2818\" y=\"63.508357\"/>\n     <use style=\"fill:#1f77b4;stroke:#1f77b4;\" x=\"143.323094\" xlink:href=\"#ma387aa2818\" y=\"82.306608\"/>\n     <use style=\"fill:#1f77b4;stroke:#1f77b4;\" x=\"143.857295\" xlink:href=\"#ma387aa2818\" y=\"82.115142\"/>\n     <use style=\"fill:#1f77b4;stroke:#1f77b4;\" x=\"184.210489\" xlink:href=\"#ma387aa2818\" y=\"110.420112\"/>\n     <use style=\"fill:#1f77b4;stroke:#1f77b4;\" x=\"201.924697\" xlink:href=\"#ma387aa2818\" y=\"103.67166\"/>\n     <use style=\"fill:#1f77b4;stroke:#1f77b4;\" x=\"176.291716\" xlink:href=\"#ma387aa2818\" y=\"89.244142\"/>\n     <use style=\"fill:#1f77b4;stroke:#1f77b4;\" x=\"151.846924\" xlink:href=\"#ma387aa2818\" y=\"70.878178\"/>\n     <use style=\"fill:#1f77b4;stroke:#1f77b4;\" x=\"121.034815\" xlink:href=\"#ma387aa2818\" y=\"49.370649\"/>\n     <use style=\"fill:#1f77b4;stroke:#1f77b4;\" x=\"124.021767\" xlink:href=\"#ma387aa2818\" y=\"67.31264\"/>\n     <use style=\"fill:#1f77b4;stroke:#1f77b4;\" x=\"135.935515\" xlink:href=\"#ma387aa2818\" y=\"92.541072\"/>\n     <use style=\"fill:#1f77b4;stroke:#1f77b4;\" x=\"156.552783\" xlink:href=\"#ma387aa2818\" y=\"92.314032\"/>\n     <use style=\"fill:#1f77b4;stroke:#1f77b4;\" x=\"126.061508\" xlink:href=\"#ma387aa2818\" y=\"82.963352\"/>\n     <use style=\"fill:#1f77b4;stroke:#1f77b4;\" x=\"167.807348\" xlink:href=\"#ma387aa2818\" y=\"89.791331\"/>\n     <use style=\"fill:#1f77b4;stroke:#1f77b4;\" x=\"162.350497\" xlink:href=\"#ma387aa2818\" y=\"97.175738\"/>\n     <use style=\"fill:#1f77b4;stroke:#1f77b4;\" x=\"124.373962\" xlink:href=\"#ma387aa2818\" y=\"69.867199\"/>\n     <use style=\"fill:#1f77b4;stroke:#1f77b4;\" x=\"121.9267\" xlink:href=\"#ma387aa2818\" y=\"62.716327\"/>\n     <use style=\"fill:#1f77b4;stroke:#1f77b4;\" x=\"102.479179\" xlink:href=\"#ma387aa2818\" y=\"52.743673\"/>\n     <use style=\"fill:#1f77b4;stroke:#1f77b4;\" x=\"108.667324\" xlink:href=\"#ma387aa2818\" y=\"58.764105\"/>\n     <use style=\"fill:#1f77b4;stroke:#1f77b4;\" x=\"103.773423\" xlink:href=\"#ma387aa2818\" y=\"67.810587\"/>\n     <use style=\"fill:#1f77b4;stroke:#1f77b4;\" x=\"155.185513\" xlink:href=\"#ma387aa2818\" y=\"88.17006\"/>\n     <use style=\"fill:#1f77b4;stroke:#1f77b4;\" x=\"137.562051\" xlink:href=\"#ma387aa2818\" y=\"83.367145\"/>\n     <use style=\"fill:#1f77b4;stroke:#1f77b4;\" x=\"103.591177\" xlink:href=\"#ma387aa2818\" y=\"54.816765\"/>\n     <use style=\"fill:#1f77b4;stroke:#1f77b4;\" x=\"187.231188\" xlink:href=\"#ma387aa2818\" y=\"95.573871\"/>\n     <use style=\"fill:#1f77b4;stroke:#1f77b4;\" x=\"153.842593\" xlink:href=\"#ma387aa2818\" y=\"89.905474\"/>\n     <use style=\"fill:#1f77b4;stroke:#1f77b4;\" x=\"149.296683\" xlink:href=\"#ma387aa2818\" y=\"99.764224\"/>\n     <use style=\"fill:#1f77b4;stroke:#1f77b4;\" x=\"150.849086\" xlink:href=\"#ma387aa2818\" y=\"86.235188\"/>\n     <use style=\"fill:#1f77b4;stroke:#1f77b4;\" x=\"183.830355\" xlink:href=\"#ma387aa2818\" y=\"120.992901\"/>\n     <use style=\"fill:#1f77b4;stroke:#1f77b4;\" x=\"156.659558\" xlink:href=\"#ma387aa2818\" y=\"88.075355\"/>\n     <use style=\"fill:#1f77b4;stroke:#1f77b4;\" x=\"121.600011\" xlink:href=\"#ma387aa2818\" y=\"77.158086\"/>\n     <use style=\"fill:#1f77b4;stroke:#1f77b4;\" x=\"90.077043\" xlink:href=\"#ma387aa2818\" y=\"47.804403\"/>\n     <use style=\"fill:#1f77b4;stroke:#1f77b4;\" x=\"104.520433\" xlink:href=\"#ma387aa2818\" y=\"56.297885\"/>\n     <use style=\"fill:#1f77b4;stroke:#1f77b4;\" x=\"108.798951\" xlink:href=\"#ma387aa2818\" y=\"47.699511\"/>\n     <use style=\"fill:#1f77b4;stroke:#1f77b4;\" x=\"72.729181\" xlink:href=\"#ma387aa2818\" y=\"43.054838\"/>\n     <use style=\"fill:#1f77b4;stroke:#1f77b4;\" x=\"102.649744\" xlink:href=\"#ma387aa2818\" y=\"59.025493\"/>\n     <use style=\"fill:#1f77b4;stroke:#1f77b4;\" x=\"116.742893\" xlink:href=\"#ma387aa2818\" y=\"71.587128\"/>\n     <use style=\"fill:#1f77b4;stroke:#1f77b4;\" x=\"130.777142\" xlink:href=\"#ma387aa2818\" y=\"69.603495\"/>\n     <use style=\"fill:#1f77b4;stroke:#1f77b4;\" x=\"171.159613\" xlink:href=\"#ma387aa2818\" y=\"82.697403\"/>\n     <use style=\"fill:#1f77b4;stroke:#1f77b4;\" x=\"119.856214\" xlink:href=\"#ma387aa2818\" y=\"51.403742\"/>\n     <use style=\"fill:#1f77b4;stroke:#1f77b4;\" x=\"170.811154\" xlink:href=\"#ma387aa2818\" y=\"85.910008\"/>\n     <use style=\"fill:#1f77b4;stroke:#1f77b4;\" x=\"165.433016\" xlink:href=\"#ma387aa2818\" y=\"89.76149\"/>\n     <use style=\"fill:#1f77b4;stroke:#1f77b4;\" x=\"145.678423\" xlink:href=\"#ma387aa2818\" y=\"72.025204\"/>\n     <use style=\"fill:#1f77b4;stroke:#1f77b4;\" x=\"87.960243\" xlink:href=\"#ma387aa2818\" y=\"41.335572\"/>\n     <use style=\"fill:#1f77b4;stroke:#1f77b4;\" x=\"125.910429\" xlink:href=\"#ma387aa2818\" y=\"59.499871\"/>\n     <use style=\"fill:#1f77b4;stroke:#1f77b4;\" x=\"129.824845\" xlink:href=\"#ma387aa2818\" y=\"65.044935\"/>\n     <use style=\"fill:#1f77b4;stroke:#1f77b4;\" x=\"194.566785\" xlink:href=\"#ma387aa2818\" y=\"110.905778\"/>\n     <use style=\"fill:#1f77b4;stroke:#1f77b4;\" x=\"140.01058\" xlink:href=\"#ma387aa2818\" y=\"78.476291\"/>\n     <use style=\"fill:#1f77b4;stroke:#1f77b4;\" x=\"169.147606\" xlink:href=\"#ma387aa2818\" y=\"93.46026\"/>\n     <use style=\"fill:#1f77b4;stroke:#1f77b4;\" x=\"68.443124\" xlink:href=\"#ma387aa2818\" y=\"32.553981\"/>\n     <use style=\"fill:#1f77b4;stroke:#1f77b4;\" x=\"176.366126\" xlink:href=\"#ma387aa2818\" y=\"98.734065\"/>\n     <use style=\"fill:#1f77b4;stroke:#1f77b4;\" x=\"191.249976\" xlink:href=\"#ma387aa2818\" y=\"110.101806\"/>\n     <use style=\"fill:#1f77b4;stroke:#1f77b4;\" x=\"149.308054\" xlink:href=\"#ma387aa2818\" y=\"89.773249\"/>\n     <use style=\"fill:#1f77b4;stroke:#1f77b4;\" x=\"178.046381\" xlink:href=\"#ma387aa2818\" y=\"94.870954\"/>\n     <use style=\"fill:#1f77b4;stroke:#1f77b4;\" x=\"126.55917\" xlink:href=\"#ma387aa2818\" y=\"84.555469\"/>\n     <use style=\"fill:#1f77b4;stroke:#1f77b4;\" x=\"105.719616\" xlink:href=\"#ma387aa2818\" y=\"61.513758\"/>\n     <use style=\"fill:#1f77b4;stroke:#1f77b4;\" x=\"174.93803\" xlink:href=\"#ma387aa2818\" y=\"98.658646\"/>\n     <use style=\"fill:#1f77b4;stroke:#1f77b4;\" x=\"133.182636\" xlink:href=\"#ma387aa2818\" y=\"74.729701\"/>\n     <use style=\"fill:#1f77b4;stroke:#1f77b4;\" x=\"152.018928\" xlink:href=\"#ma387aa2818\" y=\"93.650404\"/>\n     <use style=\"fill:#1f77b4;stroke:#1f77b4;\" x=\"173.788297\" xlink:href=\"#ma387aa2818\" y=\"86.045425\"/>\n     <use style=\"fill:#1f77b4;stroke:#1f77b4;\" x=\"120.753554\" xlink:href=\"#ma387aa2818\" y=\"72.740664\"/>\n     <use style=\"fill:#1f77b4;stroke:#1f77b4;\" x=\"125.344229\" xlink:href=\"#ma387aa2818\" y=\"82.999963\"/>\n     <use style=\"fill:#1f77b4;stroke:#1f77b4;\" x=\"170.471057\" xlink:href=\"#ma387aa2818\" y=\"109.590868\"/>\n     <use style=\"fill:#1f77b4;stroke:#1f77b4;\" x=\"163.744925\" xlink:href=\"#ma387aa2818\" y=\"99.593474\"/>\n     <use style=\"fill:#1f77b4;stroke:#1f77b4;\" x=\"139.307088\" xlink:href=\"#ma387aa2818\" y=\"79.08851\"/>\n     <use style=\"fill:#1f77b4;stroke:#1f77b4;\" x=\"118.03572\" xlink:href=\"#ma387aa2818\" y=\"66.585475\"/>\n     <use style=\"fill:#1f77b4;stroke:#1f77b4;\" x=\"118.241349\" xlink:href=\"#ma387aa2818\" y=\"70.485524\"/>\n     <use style=\"fill:#1f77b4;stroke:#1f77b4;\" x=\"121.95342\" xlink:href=\"#ma387aa2818\" y=\"60.482739\"/>\n     <use style=\"fill:#1f77b4;stroke:#1f77b4;\" x=\"73.633897\" xlink:href=\"#ma387aa2818\" y=\"35.08088\"/>\n     <use style=\"fill:#1f77b4;stroke:#1f77b4;\" x=\"165.382815\" xlink:href=\"#ma387aa2818\" y=\"84.380269\"/>\n     <use style=\"fill:#1f77b4;stroke:#1f77b4;\" x=\"193.210632\" xlink:href=\"#ma387aa2818\" y=\"97.136573\"/>\n     <use style=\"fill:#1f77b4;stroke:#1f77b4;\" x=\"129.084628\" xlink:href=\"#ma387aa2818\" y=\"75.121955\"/>\n     <use style=\"fill:#1f77b4;stroke:#1f77b4;\" x=\"154.367831\" xlink:href=\"#ma387aa2818\" y=\"92.902111\"/>\n     <use style=\"fill:#1f77b4;stroke:#1f77b4;\" x=\"140.164189\" xlink:href=\"#ma387aa2818\" y=\"62.955692\"/>\n     <use style=\"fill:#1f77b4;stroke:#1f77b4;\" x=\"132.673029\" xlink:href=\"#ma387aa2818\" y=\"71.96367\"/>\n     <use style=\"fill:#1f77b4;stroke:#1f77b4;\" x=\"202.789134\" xlink:href=\"#ma387aa2818\" y=\"105.992167\"/>\n     <use style=\"fill:#1f77b4;stroke:#1f77b4;\" x=\"131.088136\" xlink:href=\"#ma387aa2818\" y=\"72.071351\"/>\n     <use style=\"fill:#1f77b4;stroke:#1f77b4;\" x=\"166.901316\" xlink:href=\"#ma387aa2818\" y=\"95.360533\"/>\n     <use style=\"fill:#1f77b4;stroke:#1f77b4;\" x=\"130.825728\" xlink:href=\"#ma387aa2818\" y=\"61.777402\"/>\n     <use style=\"fill:#1f77b4;stroke:#1f77b4;\" x=\"93.058717\" xlink:href=\"#ma387aa2818\" y=\"45.727533\"/>\n     <use style=\"fill:#1f77b4;stroke:#1f77b4;\" x=\"127.071816\" xlink:href=\"#ma387aa2818\" y=\"94.173729\"/>\n     <use style=\"fill:#1f77b4;stroke:#1f77b4;\" x=\"151.028172\" xlink:href=\"#ma387aa2818\" y=\"81.958729\"/>\n     <use style=\"fill:#1f77b4;stroke:#1f77b4;\" x=\"111.812643\" xlink:href=\"#ma387aa2818\" y=\"57.497437\"/>\n     <use style=\"fill:#1f77b4;stroke:#1f77b4;\" x=\"162.029315\" xlink:href=\"#ma387aa2818\" y=\"106.50907\"/>\n     <use style=\"fill:#1f77b4;stroke:#1f77b4;\" x=\"50.660101\" xlink:href=\"#ma387aa2818\" y=\"34.923177\"/>\n     <use style=\"fill:#1f77b4;stroke:#1f77b4;\" x=\"128.005842\" xlink:href=\"#ma387aa2818\" y=\"55.304708\"/>\n     <use style=\"fill:#1f77b4;stroke:#1f77b4;\" x=\"62.705848\" xlink:href=\"#ma387aa2818\" y=\"32.469034\"/>\n     <use style=\"fill:#1f77b4;stroke:#1f77b4;\" x=\"109.57684\" xlink:href=\"#ma387aa2818\" y=\"65.569507\"/>\n     <use style=\"fill:#1f77b4;stroke:#1f77b4;\" x=\"193.805318\" xlink:href=\"#ma387aa2818\" y=\"118.925096\"/>\n     <use style=\"fill:#1f77b4;stroke:#1f77b4;\" x=\"157.94712\" xlink:href=\"#ma387aa2818\" y=\"102.511825\"/>\n     <use style=\"fill:#1f77b4;stroke:#1f77b4;\" x=\"100.30333\" xlink:href=\"#ma387aa2818\" y=\"69.193593\"/>\n     <use style=\"fill:#1f77b4;stroke:#1f77b4;\" x=\"148.987735\" xlink:href=\"#ma387aa2818\" y=\"65.475659\"/>\n     <use style=\"fill:#1f77b4;stroke:#1f77b4;\" x=\"177.970089\" xlink:href=\"#ma387aa2818\" y=\"98.487141\"/>\n     <use style=\"fill:#1f77b4;stroke:#1f77b4;\" x=\"150.407529\" xlink:href=\"#ma387aa2818\" y=\"80.810914\"/>\n     <use style=\"fill:#1f77b4;stroke:#1f77b4;\" x=\"104.026822\" xlink:href=\"#ma387aa2818\" y=\"52.214001\"/>\n     <use style=\"fill:#1f77b4;stroke:#1f77b4;\" x=\"140.88362\" xlink:href=\"#ma387aa2818\" y=\"64.319675\"/>\n     <use style=\"fill:#1f77b4;stroke:#1f77b4;\" x=\"174.179969\" xlink:href=\"#ma387aa2818\" y=\"90.538435\"/>\n     <use style=\"fill:#1f77b4;stroke:#1f77b4;\" x=\"154.875295\" xlink:href=\"#ma387aa2818\" y=\"79.115806\"/>\n     <use style=\"fill:#1f77b4;stroke:#1f77b4;\" x=\"131.241841\" xlink:href=\"#ma387aa2818\" y=\"59.003693\"/>\n     <use style=\"fill:#1f77b4;stroke:#1f77b4;\" x=\"143.149201\" xlink:href=\"#ma387aa2818\" y=\"85.31621\"/>\n     <use style=\"fill:#1f77b4;stroke:#1f77b4;\" x=\"174.865519\" xlink:href=\"#ma387aa2818\" y=\"114.857003\"/>\n     <use style=\"fill:#1f77b4;stroke:#1f77b4;\" x=\"155.664505\" xlink:href=\"#ma387aa2818\" y=\"84.607457\"/>\n     <use style=\"fill:#1f77b4;stroke:#1f77b4;\" x=\"130.08364\" xlink:href=\"#ma387aa2818\" y=\"71.380203\"/>\n     <use style=\"fill:#1f77b4;stroke:#1f77b4;\" x=\"129.099708\" xlink:href=\"#ma387aa2818\" y=\"77.839287\"/>\n     <use style=\"fill:#1f77b4;stroke:#1f77b4;\" x=\"121.945431\" xlink:href=\"#ma387aa2818\" y=\"78.113477\"/>\n     <use style=\"fill:#1f77b4;stroke:#1f77b4;\" x=\"147.286913\" xlink:href=\"#ma387aa2818\" y=\"89.222853\"/>\n     <use style=\"fill:#1f77b4;stroke:#1f77b4;\" x=\"134.681252\" xlink:href=\"#ma387aa2818\" y=\"92.895737\"/>\n     <use style=\"fill:#1f77b4;stroke:#1f77b4;\" x=\"154.760018\" xlink:href=\"#ma387aa2818\" y=\"76.569315\"/>\n     <use style=\"fill:#1f77b4;stroke:#1f77b4;\" x=\"58.41492\" xlink:href=\"#ma387aa2818\" y=\"13.377273\"/>\n     <use style=\"fill:#1f77b4;stroke:#1f77b4;\" x=\"173.039332\" xlink:href=\"#ma387aa2818\" y=\"87.277863\"/>\n     <use style=\"fill:#1f77b4;stroke:#1f77b4;\" x=\"101.231553\" xlink:href=\"#ma387aa2818\" y=\"55.624426\"/>\n     <use style=\"fill:#1f77b4;stroke:#1f77b4;\" x=\"129.56214\" xlink:href=\"#ma387aa2818\" y=\"76.564113\"/>\n     <use style=\"fill:#1f77b4;stroke:#1f77b4;\" x=\"153.898828\" xlink:href=\"#ma387aa2818\" y=\"85.496259\"/>\n     <use style=\"fill:#1f77b4;stroke:#1f77b4;\" x=\"162.608981\" xlink:href=\"#ma387aa2818\" y=\"74.016246\"/>\n     <use style=\"fill:#1f77b4;stroke:#1f77b4;\" x=\"154.313706\" xlink:href=\"#ma387aa2818\" y=\"84.622724\"/>\n     <use style=\"fill:#1f77b4;stroke:#1f77b4;\" x=\"151.481806\" xlink:href=\"#ma387aa2818\" y=\"90.398786\"/>\n     <use style=\"fill:#1f77b4;stroke:#1f77b4;\" x=\"154.525509\" xlink:href=\"#ma387aa2818\" y=\"67.486164\"/>\n     <use style=\"fill:#1f77b4;stroke:#1f77b4;\" x=\"122.913962\" xlink:href=\"#ma387aa2818\" y=\"73.311789\"/>\n     <use style=\"fill:#1f77b4;stroke:#1f77b4;\" x=\"130.138505\" xlink:href=\"#ma387aa2818\" y=\"94.324286\"/>\n     <use style=\"fill:#1f77b4;stroke:#1f77b4;\" x=\"151.320892\" xlink:href=\"#ma387aa2818\" y=\"82.094705\"/>\n     <use style=\"fill:#1f77b4;stroke:#1f77b4;\" x=\"130.678796\" xlink:href=\"#ma387aa2818\" y=\"67.397033\"/>\n     <use style=\"fill:#1f77b4;stroke:#1f77b4;\" x=\"145.312826\" xlink:href=\"#ma387aa2818\" y=\"56.694943\"/>\n     <use style=\"fill:#1f77b4;stroke:#1f77b4;\" x=\"138.107621\" xlink:href=\"#ma387aa2818\" y=\"88.214062\"/>\n     <use style=\"fill:#1f77b4;stroke:#1f77b4;\" x=\"151.7763\" xlink:href=\"#ma387aa2818\" y=\"89.676285\"/>\n     <use style=\"fill:#1f77b4;stroke:#1f77b4;\" x=\"110.855746\" xlink:href=\"#ma387aa2818\" y=\"56.155274\"/>\n     <use style=\"fill:#1f77b4;stroke:#1f77b4;\" x=\"117.274859\" xlink:href=\"#ma387aa2818\" y=\"61.034487\"/>\n     <use style=\"fill:#1f77b4;stroke:#1f77b4;\" x=\"157.040754\" xlink:href=\"#ma387aa2818\" y=\"92.644381\"/>\n     <use style=\"fill:#1f77b4;stroke:#1f77b4;\" x=\"115.248228\" xlink:href=\"#ma387aa2818\" y=\"56.201103\"/>\n     <use style=\"fill:#1f77b4;stroke:#1f77b4;\" x=\"138.239477\" xlink:href=\"#ma387aa2818\" y=\"71.101472\"/>\n     <use style=\"fill:#1f77b4;stroke:#1f77b4;\" x=\"147.136084\" xlink:href=\"#ma387aa2818\" y=\"95.585958\"/>\n     <use style=\"fill:#1f77b4;stroke:#1f77b4;\" x=\"128.378862\" xlink:href=\"#ma387aa2818\" y=\"64.102161\"/>\n     <use style=\"fill:#1f77b4;stroke:#1f77b4;\" x=\"132.015707\" xlink:href=\"#ma387aa2818\" y=\"58.254584\"/>\n     <use style=\"fill:#1f77b4;stroke:#1f77b4;\" x=\"95.477631\" xlink:href=\"#ma387aa2818\" y=\"34.106596\"/>\n     <use style=\"fill:#1f77b4;stroke:#1f77b4;\" x=\"162.345338\" xlink:href=\"#ma387aa2818\" y=\"101.404413\"/>\n     <use style=\"fill:#1f77b4;stroke:#1f77b4;\" x=\"100.581627\" xlink:href=\"#ma387aa2818\" y=\"52.154204\"/>\n     <use style=\"fill:#1f77b4;stroke:#1f77b4;\" x=\"161.592403\" xlink:href=\"#ma387aa2818\" y=\"76.863692\"/>\n     <use style=\"fill:#1f77b4;stroke:#1f77b4;\" x=\"133.258132\" xlink:href=\"#ma387aa2818\" y=\"67.55438\"/>\n     <use style=\"fill:#1f77b4;stroke:#1f77b4;\" x=\"166.307522\" xlink:href=\"#ma387aa2818\" y=\"94.459843\"/>\n     <use style=\"fill:#1f77b4;stroke:#1f77b4;\" x=\"157.63747\" xlink:href=\"#ma387aa2818\" y=\"92.802164\"/>\n     <use style=\"fill:#1f77b4;stroke:#1f77b4;\" x=\"80.313015\" xlink:href=\"#ma387aa2818\" y=\"49.705786\"/>\n     <use style=\"fill:#1f77b4;stroke:#1f77b4;\" x=\"127.540571\" xlink:href=\"#ma387aa2818\" y=\"66.412745\"/>\n     <use style=\"fill:#1f77b4;stroke:#1f77b4;\" x=\"159.578533\" xlink:href=\"#ma387aa2818\" y=\"94.458576\"/>\n     <use style=\"fill:#1f77b4;stroke:#1f77b4;\" x=\"132.132115\" xlink:href=\"#ma387aa2818\" y=\"76.339632\"/>\n     <use style=\"fill:#1f77b4;stroke:#1f77b4;\" x=\"149.515491\" xlink:href=\"#ma387aa2818\" y=\"90.978765\"/>\n     <use style=\"fill:#1f77b4;stroke:#1f77b4;\" x=\"136.052653\" xlink:href=\"#ma387aa2818\" y=\"70.526706\"/>\n     <use style=\"fill:#1f77b4;stroke:#1f77b4;\" x=\"120.664304\" xlink:href=\"#ma387aa2818\" y=\"71.692568\"/>\n     <use style=\"fill:#1f77b4;stroke:#1f77b4;\" x=\"131.182985\" xlink:href=\"#ma387aa2818\" y=\"57.729583\"/>\n     <use style=\"fill:#1f77b4;stroke:#1f77b4;\" x=\"180.96713\" xlink:href=\"#ma387aa2818\" y=\"106.646968\"/>\n     <use style=\"fill:#1f77b4;stroke:#1f77b4;\" x=\"157.101958\" xlink:href=\"#ma387aa2818\" y=\"84.742762\"/>\n     <use style=\"fill:#1f77b4;stroke:#1f77b4;\" x=\"136.241793\" xlink:href=\"#ma387aa2818\" y=\"77.583274\"/>\n     <use style=\"fill:#1f77b4;stroke:#1f77b4;\" x=\"132.354947\" xlink:href=\"#ma387aa2818\" y=\"87.202019\"/>\n     <use style=\"fill:#1f77b4;stroke:#1f77b4;\" x=\"170.632001\" xlink:href=\"#ma387aa2818\" y=\"99.362954\"/>\n     <use style=\"fill:#1f77b4;stroke:#1f77b4;\" x=\"143.829586\" xlink:href=\"#ma387aa2818\" y=\"76.212366\"/>\n     <use style=\"fill:#1f77b4;stroke:#1f77b4;\" x=\"125.741904\" xlink:href=\"#ma387aa2818\" y=\"77.415367\"/>\n     <use style=\"fill:#1f77b4;stroke:#1f77b4;\" x=\"85.941883\" xlink:href=\"#ma387aa2818\" y=\"48.808173\"/>\n     <use style=\"fill:#1f77b4;stroke:#1f77b4;\" x=\"140.887174\" xlink:href=\"#ma387aa2818\" y=\"80.196861\"/>\n     <use style=\"fill:#1f77b4;stroke:#1f77b4;\" x=\"152.915964\" xlink:href=\"#ma387aa2818\" y=\"88.003144\"/>\n     <use style=\"fill:#1f77b4;stroke:#1f77b4;\" x=\"176.493279\" xlink:href=\"#ma387aa2818\" y=\"99.981305\"/>\n     <use style=\"fill:#1f77b4;stroke:#1f77b4;\" x=\"169.661589\" xlink:href=\"#ma387aa2818\" y=\"96.083285\"/>\n     <use style=\"fill:#1f77b4;stroke:#1f77b4;\" x=\"116.286567\" xlink:href=\"#ma387aa2818\" y=\"61.281323\"/>\n     <use style=\"fill:#1f77b4;stroke:#1f77b4;\" x=\"113.546708\" xlink:href=\"#ma387aa2818\" y=\"51.600704\"/>\n     <use style=\"fill:#1f77b4;stroke:#1f77b4;\" x=\"170.912645\" xlink:href=\"#ma387aa2818\" y=\"106.911737\"/>\n     <use style=\"fill:#1f77b4;stroke:#1f77b4;\" x=\"197.787207\" xlink:href=\"#ma387aa2818\" y=\"131.139015\"/>\n     <use style=\"fill:#1f77b4;stroke:#1f77b4;\" x=\"157.898839\" xlink:href=\"#ma387aa2818\" y=\"93.529182\"/>\n     <use style=\"fill:#1f77b4;stroke:#1f77b4;\" x=\"151.825166\" xlink:href=\"#ma387aa2818\" y=\"80.929086\"/>\n     <use style=\"fill:#1f77b4;stroke:#1f77b4;\" x=\"98.300071\" xlink:href=\"#ma387aa2818\" y=\"56.229694\"/>\n     <use style=\"fill:#1f77b4;stroke:#1f77b4;\" x=\"145.374077\" xlink:href=\"#ma387aa2818\" y=\"68.004445\"/>\n     <use style=\"fill:#1f77b4;stroke:#1f77b4;\" x=\"124.797485\" xlink:href=\"#ma387aa2818\" y=\"79.604281\"/>\n     <use style=\"fill:#1f77b4;stroke:#1f77b4;\" x=\"124.074655\" xlink:href=\"#ma387aa2818\" y=\"75.407428\"/>\n     <use style=\"fill:#1f77b4;stroke:#1f77b4;\" x=\"152.020473\" xlink:href=\"#ma387aa2818\" y=\"72.43737\"/>\n     <use style=\"fill:#1f77b4;stroke:#1f77b4;\" x=\"64.18169\" xlink:href=\"#ma387aa2818\" y=\"31.780527\"/>\n     <use style=\"fill:#1f77b4;stroke:#1f77b4;\" x=\"129.680637\" xlink:href=\"#ma387aa2818\" y=\"71.430151\"/>\n     <use style=\"fill:#1f77b4;stroke:#1f77b4;\" x=\"171.870846\" xlink:href=\"#ma387aa2818\" y=\"107.337792\"/>\n     <use style=\"fill:#1f77b4;stroke:#1f77b4;\" x=\"139.805574\" xlink:href=\"#ma387aa2818\" y=\"72.482028\"/>\n     <use style=\"fill:#1f77b4;stroke:#1f77b4;\" x=\"168.552755\" xlink:href=\"#ma387aa2818\" y=\"94.279137\"/>\n     <use style=\"fill:#1f77b4;stroke:#1f77b4;\" x=\"115.624904\" xlink:href=\"#ma387aa2818\" y=\"53.475379\"/>\n     <use style=\"fill:#1f77b4;stroke:#1f77b4;\" x=\"127.697373\" xlink:href=\"#ma387aa2818\" y=\"74.104756\"/>\n     <use style=\"fill:#1f77b4;stroke:#1f77b4;\" x=\"173.8816\" xlink:href=\"#ma387aa2818\" y=\"90.434989\"/>\n     <use style=\"fill:#1f77b4;stroke:#1f77b4;\" x=\"147.425969\" xlink:href=\"#ma387aa2818\" y=\"81.290938\"/>\n     <use style=\"fill:#1f77b4;stroke:#1f77b4;\" x=\"200.169924\" xlink:href=\"#ma387aa2818\" y=\"132.830849\"/>\n     <use style=\"fill:#1f77b4;stroke:#1f77b4;\" x=\"108.040606\" xlink:href=\"#ma387aa2818\" y=\"54.313996\"/>\n     <use style=\"fill:#1f77b4;stroke:#1f77b4;\" x=\"129.504995\" xlink:href=\"#ma387aa2818\" y=\"70.29533\"/>\n     <use style=\"fill:#1f77b4;stroke:#1f77b4;\" x=\"88.692464\" xlink:href=\"#ma387aa2818\" y=\"38.934751\"/>\n     <use style=\"fill:#1f77b4;stroke:#1f77b4;\" x=\"125.141261\" xlink:href=\"#ma387aa2818\" y=\"71.552319\"/>\n     <use style=\"fill:#1f77b4;stroke:#1f77b4;\" x=\"156.004547\" xlink:href=\"#ma387aa2818\" y=\"75.766707\"/>\n     <use style=\"fill:#1f77b4;stroke:#1f77b4;\" x=\"176.242674\" xlink:href=\"#ma387aa2818\" y=\"109.462709\"/>\n     <use style=\"fill:#1f77b4;stroke:#1f77b4;\" x=\"107.359744\" xlink:href=\"#ma387aa2818\" y=\"37.822582\"/>\n     <use style=\"fill:#1f77b4;stroke:#1f77b4;\" x=\"167.385408\" xlink:href=\"#ma387aa2818\" y=\"95.087068\"/>\n     <use style=\"fill:#1f77b4;stroke:#1f77b4;\" x=\"154.940692\" xlink:href=\"#ma387aa2818\" y=\"77.534345\"/>\n     <use style=\"fill:#1f77b4;stroke:#1f77b4;\" x=\"151.024328\" xlink:href=\"#ma387aa2818\" y=\"76.012859\"/>\n     <use style=\"fill:#1f77b4;stroke:#1f77b4;\" x=\"147.929394\" xlink:href=\"#ma387aa2818\" y=\"82.900172\"/>\n     <use style=\"fill:#1f77b4;stroke:#1f77b4;\" x=\"185.94138\" xlink:href=\"#ma387aa2818\" y=\"89.869314\"/>\n     <use style=\"fill:#1f77b4;stroke:#1f77b4;\" x=\"175.242539\" xlink:href=\"#ma387aa2818\" y=\"115.129689\"/>\n     <use style=\"fill:#1f77b4;stroke:#1f77b4;\" x=\"193.772403\" xlink:href=\"#ma387aa2818\" y=\"97.312168\"/>\n     <use style=\"fill:#1f77b4;stroke:#1f77b4;\" x=\"123.23776\" xlink:href=\"#ma387aa2818\" y=\"50.954812\"/>\n     <use style=\"fill:#1f77b4;stroke:#1f77b4;\" x=\"178.352248\" xlink:href=\"#ma387aa2818\" y=\"115.832509\"/>\n     <use style=\"fill:#1f77b4;stroke:#1f77b4;\" x=\"183.577097\" xlink:href=\"#ma387aa2818\" y=\"112.097563\"/>\n     <use style=\"fill:#1f77b4;stroke:#1f77b4;\" x=\"83.910601\" xlink:href=\"#ma387aa2818\" y=\"56.883094\"/>\n     <use style=\"fill:#1f77b4;stroke:#1f77b4;\" x=\"149.88703\" xlink:href=\"#ma387aa2818\" y=\"77.989601\"/>\n     <use style=\"fill:#1f77b4;stroke:#1f77b4;\" x=\"122.012785\" xlink:href=\"#ma387aa2818\" y=\"62.449887\"/>\n     <use style=\"fill:#1f77b4;stroke:#1f77b4;\" x=\"183.365478\" xlink:href=\"#ma387aa2818\" y=\"96.511411\"/>\n     <use style=\"fill:#1f77b4;stroke:#1f77b4;\" x=\"107.827799\" xlink:href=\"#ma387aa2818\" y=\"53.221663\"/>\n     <use style=\"fill:#1f77b4;stroke:#1f77b4;\" x=\"133.710325\" xlink:href=\"#ma387aa2818\" y=\"104.099238\"/>\n     <use style=\"fill:#1f77b4;stroke:#1f77b4;\" x=\"161.009173\" xlink:href=\"#ma387aa2818\" y=\"96.100386\"/>\n     <use style=\"fill:#1f77b4;stroke:#1f77b4;\" x=\"158.129551\" xlink:href=\"#ma387aa2818\" y=\"88.140003\"/>\n     <use style=\"fill:#1f77b4;stroke:#1f77b4;\" x=\"104.54872\" xlink:href=\"#ma387aa2818\" y=\"69.188507\"/>\n     <use style=\"fill:#1f77b4;stroke:#1f77b4;\" x=\"133.866057\" xlink:href=\"#ma387aa2818\" y=\"51.829049\"/>\n     <use style=\"fill:#1f77b4;stroke:#1f77b4;\" x=\"182.690975\" xlink:href=\"#ma387aa2818\" y=\"92.385495\"/>\n     <use style=\"fill:#1f77b4;stroke:#1f77b4;\" x=\"123.368725\" xlink:href=\"#ma387aa2818\" y=\"57.729171\"/>\n     <use style=\"fill:#1f77b4;stroke:#1f77b4;\" x=\"131.065892\" xlink:href=\"#ma387aa2818\" y=\"77.657404\"/>\n     <use style=\"fill:#1f77b4;stroke:#1f77b4;\" x=\"123.372227\" xlink:href=\"#ma387aa2818\" y=\"66.0876\"/>\n     <use style=\"fill:#1f77b4;stroke:#1f77b4;\" x=\"132.299851\" xlink:href=\"#ma387aa2818\" y=\"84.939357\"/>\n     <use style=\"fill:#1f77b4;stroke:#1f77b4;\" x=\"131.436017\" xlink:href=\"#ma387aa2818\" y=\"71.692845\"/>\n     <use style=\"fill:#1f77b4;stroke:#1f77b4;\" x=\"114.378915\" xlink:href=\"#ma387aa2818\" y=\"69.536048\"/>\n     <use style=\"fill:#1f77b4;stroke:#1f77b4;\" x=\"152.983329\" xlink:href=\"#ma387aa2818\" y=\"105.02364\"/>\n     <use style=\"fill:#1f77b4;stroke:#1f77b4;\" x=\"172.081291\" xlink:href=\"#ma387aa2818\" y=\"87.224251\"/>\n     <use style=\"fill:#1f77b4;stroke:#1f77b4;\" x=\"102.66274\" xlink:href=\"#ma387aa2818\" y=\"53.459051\"/>\n     <use style=\"fill:#1f77b4;stroke:#1f77b4;\" x=\"157.526818\" xlink:href=\"#ma387aa2818\" y=\"95.591341\"/>\n     <use style=\"fill:#1f77b4;stroke:#1f77b4;\" x=\"141.750796\" xlink:href=\"#ma387aa2818\" y=\"84.341383\"/>\n     <use style=\"fill:#1f77b4;stroke:#1f77b4;\" x=\"128.744709\" xlink:href=\"#ma387aa2818\" y=\"82.495179\"/>\n     <use style=\"fill:#1f77b4;stroke:#1f77b4;\" x=\"141.794294\" xlink:href=\"#ma387aa2818\" y=\"82.153766\"/>\n     <use style=\"fill:#1f77b4;stroke:#1f77b4;\" x=\"117.294234\" xlink:href=\"#ma387aa2818\" y=\"62.784993\"/>\n     <use style=\"fill:#1f77b4;stroke:#1f77b4;\" x=\"181.382712\" xlink:href=\"#ma387aa2818\" y=\"109.71821\"/>\n     <use style=\"fill:#1f77b4;stroke:#1f77b4;\" x=\"120.157405\" xlink:href=\"#ma387aa2818\" y=\"87.306694\"/>\n     <use style=\"fill:#1f77b4;stroke:#1f77b4;\" x=\"130.816665\" xlink:href=\"#ma387aa2818\" y=\"67.571123\"/>\n     <use style=\"fill:#1f77b4;stroke:#1f77b4;\" x=\"140.154937\" xlink:href=\"#ma387aa2818\" y=\"57.703713\"/>\n     <use style=\"fill:#1f77b4;stroke:#1f77b4;\" x=\"178.277687\" xlink:href=\"#ma387aa2818\" y=\"94.184986\"/>\n     <use style=\"fill:#1f77b4;stroke:#1f77b4;\" x=\"172.580632\" xlink:href=\"#ma387aa2818\" y=\"92.349468\"/>\n     <use style=\"fill:#1f77b4;stroke:#1f77b4;\" x=\"102.833133\" xlink:href=\"#ma387aa2818\" y=\"47.432063\"/>\n     <use style=\"fill:#1f77b4;stroke:#1f77b4;\" x=\"88.087183\" xlink:href=\"#ma387aa2818\" y=\"40.999738\"/>\n     <use style=\"fill:#1f77b4;stroke:#1f77b4;\" x=\"161.713554\" xlink:href=\"#ma387aa2818\" y=\"82.359284\"/>\n     <use style=\"fill:#1f77b4;stroke:#1f77b4;\" x=\"132.109292\" xlink:href=\"#ma387aa2818\" y=\"66.152063\"/>\n     <use style=\"fill:#1f77b4;stroke:#1f77b4;\" x=\"170.499004\" xlink:href=\"#ma387aa2818\" y=\"103.827919\"/>\n     <use style=\"fill:#1f77b4;stroke:#1f77b4;\" x=\"166.10241\" xlink:href=\"#ma387aa2818\" y=\"89.062077\"/>\n     <use style=\"fill:#1f77b4;stroke:#1f77b4;\" x=\"104.340384\" xlink:href=\"#ma387aa2818\" y=\"47.88432\"/>\n     <use style=\"fill:#1f77b4;stroke:#1f77b4;\" x=\"142.953792\" xlink:href=\"#ma387aa2818\" y=\"77.797352\"/>\n     <use style=\"fill:#1f77b4;stroke:#1f77b4;\" x=\"109.357705\" xlink:href=\"#ma387aa2818\" y=\"58.350065\"/>\n     <use style=\"fill:#1f77b4;stroke:#1f77b4;\" x=\"113.939934\" xlink:href=\"#ma387aa2818\" y=\"59.64639\"/>\n     <use style=\"fill:#1f77b4;stroke:#1f77b4;\" x=\"148.371801\" xlink:href=\"#ma387aa2818\" y=\"81.864994\"/>\n     <use style=\"fill:#1f77b4;stroke:#1f77b4;\" x=\"127.449537\" xlink:href=\"#ma387aa2818\" y=\"57.040464\"/>\n     <use style=\"fill:#1f77b4;stroke:#1f77b4;\" x=\"140.753235\" xlink:href=\"#ma387aa2818\" y=\"71.26518\"/>\n     <use style=\"fill:#1f77b4;stroke:#1f77b4;\" x=\"151.950815\" xlink:href=\"#ma387aa2818\" y=\"77.400185\"/>\n     <use style=\"fill:#1f77b4;stroke:#1f77b4;\" x=\"83.631762\" xlink:href=\"#ma387aa2818\" y=\"52.013536\"/>\n     <use style=\"fill:#1f77b4;stroke:#1f77b4;\" x=\"189.744845\" xlink:href=\"#ma387aa2818\" y=\"104.156517\"/>\n     <use style=\"fill:#1f77b4;stroke:#1f77b4;\" x=\"131.373068\" xlink:href=\"#ma387aa2818\" y=\"83.583975\"/>\n     <use style=\"fill:#1f77b4;stroke:#1f77b4;\" x=\"148.101431\" xlink:href=\"#ma387aa2818\" y=\"83.917856\"/>\n     <use style=\"fill:#1f77b4;stroke:#1f77b4;\" x=\"139.329088\" xlink:href=\"#ma387aa2818\" y=\"67.758684\"/>\n     <use style=\"fill:#1f77b4;stroke:#1f77b4;\" x=\"127.623329\" xlink:href=\"#ma387aa2818\" y=\"77.949849\"/>\n     <use style=\"fill:#1f77b4;stroke:#1f77b4;\" x=\"86.983346\" xlink:href=\"#ma387aa2818\" y=\"33.486825\"/>\n     <use style=\"fill:#1f77b4;stroke:#1f77b4;\" x=\"111.042341\" xlink:href=\"#ma387aa2818\" y=\"35.285127\"/>\n     <use style=\"fill:#1f77b4;stroke:#1f77b4;\" x=\"191.99617\" xlink:href=\"#ma387aa2818\" y=\"105.86231\"/>\n     <use style=\"fill:#1f77b4;stroke:#1f77b4;\" x=\"150.478479\" xlink:href=\"#ma387aa2818\" y=\"91.119274\"/>\n     <use style=\"fill:#1f77b4;stroke:#1f77b4;\" x=\"125.134448\" xlink:href=\"#ma387aa2818\" y=\"64.70781\"/>\n     <use style=\"fill:#1f77b4;stroke:#1f77b4;\" x=\"180.431045\" xlink:href=\"#ma387aa2818\" y=\"105.247622\"/>\n     <use style=\"fill:#1f77b4;stroke:#1f77b4;\" x=\"141.931166\" xlink:href=\"#ma387aa2818\" y=\"85.733864\"/>\n     <use style=\"fill:#1f77b4;stroke:#1f77b4;\" x=\"134.450034\" xlink:href=\"#ma387aa2818\" y=\"82.459879\"/>\n     <use style=\"fill:#1f77b4;stroke:#1f77b4;\" x=\"135.487296\" xlink:href=\"#ma387aa2818\" y=\"66.697685\"/>\n     <use style=\"fill:#1f77b4;stroke:#1f77b4;\" x=\"159.615523\" xlink:href=\"#ma387aa2818\" y=\"89.189706\"/>\n     <use style=\"fill:#1f77b4;stroke:#1f77b4;\" x=\"111.369396\" xlink:href=\"#ma387aa2818\" y=\"62.878772\"/>\n     <use style=\"fill:#1f77b4;stroke:#1f77b4;\" x=\"129.069801\" xlink:href=\"#ma387aa2818\" y=\"68.664646\"/>\n     <use style=\"fill:#1f77b4;stroke:#1f77b4;\" x=\"104.648035\" xlink:href=\"#ma387aa2818\" y=\"46.701035\"/>\n     <use style=\"fill:#1f77b4;stroke:#1f77b4;\" x=\"123.377783\" xlink:href=\"#ma387aa2818\" y=\"61.975625\"/>\n     <use style=\"fill:#1f77b4;stroke:#1f77b4;\" x=\"169.279047\" xlink:href=\"#ma387aa2818\" y=\"90.05481\"/>\n     <use style=\"fill:#1f77b4;stroke:#1f77b4;\" x=\"53.423449\" xlink:href=\"#ma387aa2818\" y=\"26.875762\"/>\n     <use style=\"fill:#1f77b4;stroke:#1f77b4;\" x=\"103.294489\" xlink:href=\"#ma387aa2818\" y=\"49.541538\"/>\n     <use style=\"fill:#1f77b4;stroke:#1f77b4;\" x=\"90.99931\" xlink:href=\"#ma387aa2818\" y=\"68.140199\"/>\n     <use style=\"fill:#1f77b4;stroke:#1f77b4;\" x=\"139.490323\" xlink:href=\"#ma387aa2818\" y=\"73.024915\"/>\n     <use style=\"fill:#1f77b4;stroke:#1f77b4;\" x=\"179.110838\" xlink:href=\"#ma387aa2818\" y=\"99.234744\"/>\n     <use style=\"fill:#1f77b4;stroke:#1f77b4;\" x=\"140.986207\" xlink:href=\"#ma387aa2818\" y=\"62.986633\"/>\n     <use style=\"fill:#1f77b4;stroke:#1f77b4;\" x=\"130.957443\" xlink:href=\"#ma387aa2818\" y=\"68.560252\"/>\n     <use style=\"fill:#1f77b4;stroke:#1f77b4;\" x=\"128.796585\" xlink:href=\"#ma387aa2818\" y=\"86.173097\"/>\n     <use style=\"fill:#1f77b4;stroke:#1f77b4;\" x=\"179.91139\" xlink:href=\"#ma387aa2818\" y=\"102.42478\"/>\n     <use style=\"fill:#1f77b4;stroke:#1f77b4;\" x=\"120.062148\" xlink:href=\"#ma387aa2818\" y=\"50.033742\"/>\n     <use style=\"fill:#1f77b4;stroke:#1f77b4;\" x=\"68.275705\" xlink:href=\"#ma387aa2818\" y=\"48.978246\"/>\n     <use style=\"fill:#1f77b4;stroke:#1f77b4;\" x=\"136.622159\" xlink:href=\"#ma387aa2818\" y=\"81.880064\"/>\n     <use style=\"fill:#1f77b4;stroke:#1f77b4;\" x=\"169.911816\" xlink:href=\"#ma387aa2818\" y=\"96.559111\"/>\n     <use style=\"fill:#1f77b4;stroke:#1f77b4;\" x=\"145.034992\" xlink:href=\"#ma387aa2818\" y=\"68.21479\"/>\n     <use style=\"fill:#1f77b4;stroke:#1f77b4;\" x=\"152.933539\" xlink:href=\"#ma387aa2818\" y=\"77.367751\"/>\n     <use style=\"fill:#1f77b4;stroke:#1f77b4;\" x=\"173.444855\" xlink:href=\"#ma387aa2818\" y=\"111.888554\"/>\n     <use style=\"fill:#1f77b4;stroke:#1f77b4;\" x=\"139.11969\" xlink:href=\"#ma387aa2818\" y=\"53.068392\"/>\n     <use style=\"fill:#1f77b4;stroke:#1f77b4;\" x=\"50.54601\" xlink:href=\"#ma387aa2818\" y=\"56.523367\"/>\n     <use style=\"fill:#1f77b4;stroke:#1f77b4;\" x=\"152.419257\" xlink:href=\"#ma387aa2818\" y=\"82.063976\"/>\n     <use style=\"fill:#1f77b4;stroke:#1f77b4;\" x=\"107.594618\" xlink:href=\"#ma387aa2818\" y=\"46.474402\"/>\n     <use style=\"fill:#1f77b4;stroke:#1f77b4;\" x=\"101.071079\" xlink:href=\"#ma387aa2818\" y=\"63.528942\"/>\n     <use style=\"fill:#1f77b4;stroke:#1f77b4;\" x=\"150.466079\" xlink:href=\"#ma387aa2818\" y=\"84.514282\"/>\n     <use style=\"fill:#1f77b4;stroke:#1f77b4;\" x=\"73.125426\" xlink:href=\"#ma387aa2818\" y=\"42.298959\"/>\n     <use style=\"fill:#1f77b4;stroke:#1f77b4;\" x=\"147.919239\" xlink:href=\"#ma387aa2818\" y=\"89.040537\"/>\n     <use style=\"fill:#1f77b4;stroke:#1f77b4;\" x=\"188.575491\" xlink:href=\"#ma387aa2818\" y=\"104.856503\"/>\n     <use style=\"fill:#1f77b4;stroke:#1f77b4;\" x=\"120.565165\" xlink:href=\"#ma387aa2818\" y=\"59.857197\"/>\n     <use style=\"fill:#1f77b4;stroke:#1f77b4;\" x=\"142.913288\" xlink:href=\"#ma387aa2818\" y=\"82.013738\"/>\n     <use style=\"fill:#1f77b4;stroke:#1f77b4;\" x=\"137.643176\" xlink:href=\"#ma387aa2818\" y=\"78.071038\"/>\n     <use style=\"fill:#1f77b4;stroke:#1f77b4;\" x=\"86.050683\" xlink:href=\"#ma387aa2818\" y=\"42.325753\"/>\n     <use style=\"fill:#1f77b4;stroke:#1f77b4;\" x=\"147.043908\" xlink:href=\"#ma387aa2818\" y=\"81.87426\"/>\n     <use style=\"fill:#1f77b4;stroke:#1f77b4;\" x=\"99.873358\" xlink:href=\"#ma387aa2818\" y=\"58.926699\"/>\n     <use style=\"fill:#1f77b4;stroke:#1f77b4;\" x=\"108.845191\" xlink:href=\"#ma387aa2818\" y=\"72.23498\"/>\n     <use style=\"fill:#1f77b4;stroke:#1f77b4;\" x=\"127.090509\" xlink:href=\"#ma387aa2818\" y=\"76.559805\"/>\n     <use style=\"fill:#1f77b4;stroke:#1f77b4;\" x=\"117.806046\" xlink:href=\"#ma387aa2818\" y=\"81.052559\"/>\n     <use style=\"fill:#1f77b4;stroke:#1f77b4;\" x=\"174.498987\" xlink:href=\"#ma387aa2818\" y=\"100.660528\"/>\n     <use style=\"fill:#1f77b4;stroke:#1f77b4;\" x=\"133.659764\" xlink:href=\"#ma387aa2818\" y=\"55.008253\"/>\n     <use style=\"fill:#1f77b4;stroke:#1f77b4;\" x=\"109.815382\" xlink:href=\"#ma387aa2818\" y=\"73.960631\"/>\n     <use style=\"fill:#1f77b4;stroke:#1f77b4;\" x=\"157.493609\" xlink:href=\"#ma387aa2818\" y=\"90.555291\"/>\n     <use style=\"fill:#1f77b4;stroke:#1f77b4;\" x=\"113.648292\" xlink:href=\"#ma387aa2818\" y=\"50.621956\"/>\n     <use style=\"fill:#1f77b4;stroke:#1f77b4;\" x=\"215.046279\" xlink:href=\"#ma387aa2818\" y=\"119.277424\"/>\n     <use style=\"fill:#1f77b4;stroke:#1f77b4;\" x=\"205.296523\" xlink:href=\"#ma387aa2818\" y=\"118.608721\"/>\n     <use style=\"fill:#1f77b4;stroke:#1f77b4;\" x=\"154.579704\" xlink:href=\"#ma387aa2818\" y=\"98.564839\"/>\n     <use style=\"fill:#1f77b4;stroke:#1f77b4;\" x=\"37.81946\" xlink:href=\"#ma387aa2818\" y=\"14.807592\"/>\n     <use style=\"fill:#1f77b4;stroke:#1f77b4;\" x=\"128.324663\" xlink:href=\"#ma387aa2818\" y=\"68.310628\"/>\n     <use style=\"fill:#1f77b4;stroke:#1f77b4;\" x=\"143.928407\" xlink:href=\"#ma387aa2818\" y=\"86.838617\"/>\n     <use style=\"fill:#1f77b4;stroke:#1f77b4;\" x=\"165.08727\" xlink:href=\"#ma387aa2818\" y=\"99.716562\"/>\n     <use style=\"fill:#1f77b4;stroke:#1f77b4;\" x=\"146.241892\" xlink:href=\"#ma387aa2818\" y=\"79.077306\"/>\n     <use style=\"fill:#1f77b4;stroke:#1f77b4;\" x=\"157.785318\" xlink:href=\"#ma387aa2818\" y=\"89.82126\"/>\n     <use style=\"fill:#1f77b4;stroke:#1f77b4;\" x=\"102.966982\" xlink:href=\"#ma387aa2818\" y=\"59.343752\"/>\n     <use style=\"fill:#1f77b4;stroke:#1f77b4;\" x=\"118.488582\" xlink:href=\"#ma387aa2818\" y=\"77.339416\"/>\n     <use style=\"fill:#1f77b4;stroke:#1f77b4;\" x=\"140.741687\" xlink:href=\"#ma387aa2818\" y=\"79.86968\"/>\n     <use style=\"fill:#1f77b4;stroke:#1f77b4;\" x=\"123.954855\" xlink:href=\"#ma387aa2818\" y=\"78.964152\"/>\n     <use style=\"fill:#1f77b4;stroke:#1f77b4;\" x=\"152.977622\" xlink:href=\"#ma387aa2818\" y=\"85.258579\"/>\n     <use style=\"fill:#1f77b4;stroke:#1f77b4;\" x=\"96.201744\" xlink:href=\"#ma387aa2818\" y=\"63.509203\"/>\n     <use style=\"fill:#1f77b4;stroke:#1f77b4;\" x=\"128.137784\" xlink:href=\"#ma387aa2818\" y=\"61.568365\"/>\n     <use style=\"fill:#1f77b4;stroke:#1f77b4;\" x=\"135.830883\" xlink:href=\"#ma387aa2818\" y=\"76.721778\"/>\n     <use style=\"fill:#1f77b4;stroke:#1f77b4;\" x=\"118.863352\" xlink:href=\"#ma387aa2818\" y=\"71.465941\"/>\n     <use style=\"fill:#1f77b4;stroke:#1f77b4;\" x=\"164.709427\" xlink:href=\"#ma387aa2818\" y=\"108.074119\"/>\n     <use style=\"fill:#1f77b4;stroke:#1f77b4;\" x=\"158.940777\" xlink:href=\"#ma387aa2818\" y=\"80.430097\"/>\n     <use style=\"fill:#1f77b4;stroke:#1f77b4;\" x=\"198.896868\" xlink:href=\"#ma387aa2818\" y=\"121.809181\"/>\n     <use style=\"fill:#1f77b4;stroke:#1f77b4;\" x=\"129.725995\" xlink:href=\"#ma387aa2818\" y=\"73.287405\"/>\n     <use style=\"fill:#1f77b4;stroke:#1f77b4;\" x=\"136.554585\" xlink:href=\"#ma387aa2818\" y=\"93.984513\"/>\n     <use style=\"fill:#1f77b4;stroke:#1f77b4;\" x=\"119.119773\" xlink:href=\"#ma387aa2818\" y=\"53.859326\"/>\n     <use style=\"fill:#1f77b4;stroke:#1f77b4;\" x=\"90.577498\" xlink:href=\"#ma387aa2818\" y=\"67.704529\"/>\n     <use style=\"fill:#1f77b4;stroke:#1f77b4;\" x=\"106.003504\" xlink:href=\"#ma387aa2818\" y=\"62.029939\"/>\n     <use style=\"fill:#1f77b4;stroke:#1f77b4;\" x=\"173.372308\" xlink:href=\"#ma387aa2818\" y=\"91.709924\"/>\n     <use style=\"fill:#1f77b4;stroke:#1f77b4;\" x=\"200.928693\" xlink:href=\"#ma387aa2818\" y=\"122.683844\"/>\n     <use style=\"fill:#1f77b4;stroke:#1f77b4;\" x=\"151.186453\" xlink:href=\"#ma387aa2818\" y=\"79.026388\"/>\n     <use style=\"fill:#1f77b4;stroke:#1f77b4;\" x=\"147.388238\" xlink:href=\"#ma387aa2818\" y=\"77.194108\"/>\n     <use style=\"fill:#1f77b4;stroke:#1f77b4;\" x=\"186.883404\" xlink:href=\"#ma387aa2818\" y=\"98.732019\"/>\n     <use style=\"fill:#1f77b4;stroke:#1f77b4;\" x=\"107.154891\" xlink:href=\"#ma387aa2818\" y=\"48.368538\"/>\n     <use style=\"fill:#1f77b4;stroke:#1f77b4;\" x=\"154.458474\" xlink:href=\"#ma387aa2818\" y=\"87.58328\"/>\n     <use style=\"fill:#1f77b4;stroke:#1f77b4;\" x=\"104.106498\" xlink:href=\"#ma387aa2818\" y=\"61.430286\"/>\n     <use style=\"fill:#1f77b4;stroke:#1f77b4;\" x=\"167.698916\" xlink:href=\"#ma387aa2818\" y=\"92.134784\"/>\n     <use style=\"fill:#1f77b4;stroke:#1f77b4;\" x=\"118.963922\" xlink:href=\"#ma387aa2818\" y=\"48.381577\"/>\n     <use style=\"fill:#1f77b4;stroke:#1f77b4;\" x=\"105.703274\" xlink:href=\"#ma387aa2818\" y=\"68.400203\"/>\n     <use style=\"fill:#1f77b4;stroke:#1f77b4;\" x=\"145.844971\" xlink:href=\"#ma387aa2818\" y=\"86.617311\"/>\n     <use style=\"fill:#1f77b4;stroke:#1f77b4;\" x=\"149.890068\" xlink:href=\"#ma387aa2818\" y=\"82.43802\"/>\n     <use style=\"fill:#1f77b4;stroke:#1f77b4;\" x=\"114.855263\" xlink:href=\"#ma387aa2818\" y=\"57.383739\"/>\n     <use style=\"fill:#1f77b4;stroke:#1f77b4;\" x=\"133.780485\" xlink:href=\"#ma387aa2818\" y=\"71.03854\"/>\n     <use style=\"fill:#1f77b4;stroke:#1f77b4;\" x=\"148.844294\" xlink:href=\"#ma387aa2818\" y=\"91.270868\"/>\n     <use style=\"fill:#1f77b4;stroke:#1f77b4;\" x=\"129.916579\" xlink:href=\"#ma387aa2818\" y=\"59.502954\"/>\n     <use style=\"fill:#1f77b4;stroke:#1f77b4;\" x=\"189.637776\" xlink:href=\"#ma387aa2818\" y=\"93.03842\"/>\n     <use style=\"fill:#1f77b4;stroke:#1f77b4;\" x=\"175.918698\" xlink:href=\"#ma387aa2818\" y=\"90.983691\"/>\n     <use style=\"fill:#1f77b4;stroke:#1f77b4;\" x=\"144.455057\" xlink:href=\"#ma387aa2818\" y=\"76.118871\"/>\n     <use style=\"fill:#1f77b4;stroke:#1f77b4;\" x=\"145.047851\" xlink:href=\"#ma387aa2818\" y=\"90.755443\"/>\n     <use style=\"fill:#1f77b4;stroke:#1f77b4;\" x=\"110.443482\" xlink:href=\"#ma387aa2818\" y=\"80.792788\"/>\n     <use style=\"fill:#1f77b4;stroke:#1f77b4;\" x=\"156.547287\" xlink:href=\"#ma387aa2818\" y=\"89.12314\"/>\n     <use style=\"fill:#1f77b4;stroke:#1f77b4;\" x=\"117.938929\" xlink:href=\"#ma387aa2818\" y=\"47.45909\"/>\n     <use style=\"fill:#1f77b4;stroke:#1f77b4;\" x=\"146.743316\" xlink:href=\"#ma387aa2818\" y=\"88.2079\"/>\n     <use style=\"fill:#1f77b4;stroke:#1f77b4;\" x=\"133.308656\" xlink:href=\"#ma387aa2818\" y=\"84.040581\"/>\n     <use style=\"fill:#1f77b4;stroke:#1f77b4;\" x=\"123.61397\" xlink:href=\"#ma387aa2818\" y=\"48.414097\"/>\n     <use style=\"fill:#1f77b4;stroke:#1f77b4;\" x=\"159.316472\" xlink:href=\"#ma387aa2818\" y=\"85.883224\"/>\n     <use style=\"fill:#1f77b4;stroke:#1f77b4;\" x=\"180.2371\" xlink:href=\"#ma387aa2818\" y=\"107.357633\"/>\n     <use style=\"fill:#1f77b4;stroke:#1f77b4;\" x=\"146.484923\" xlink:href=\"#ma387aa2818\" y=\"82.582797\"/>\n     <use style=\"fill:#1f77b4;stroke:#1f77b4;\" x=\"165.979213\" xlink:href=\"#ma387aa2818\" y=\"78.842657\"/>\n     <use style=\"fill:#1f77b4;stroke:#1f77b4;\" x=\"143.815617\" xlink:href=\"#ma387aa2818\" y=\"84.044823\"/>\n     <use style=\"fill:#1f77b4;stroke:#1f77b4;\" x=\"145.426879\" xlink:href=\"#ma387aa2818\" y=\"90.000058\"/>\n     <use style=\"fill:#1f77b4;stroke:#1f77b4;\" x=\"154.027184\" xlink:href=\"#ma387aa2818\" y=\"83.177731\"/>\n     <use style=\"fill:#1f77b4;stroke:#1f77b4;\" x=\"176.002698\" xlink:href=\"#ma387aa2818\" y=\"74.691555\"/>\n     <use style=\"fill:#1f77b4;stroke:#1f77b4;\" x=\"174.797016\" xlink:href=\"#ma387aa2818\" y=\"85.799777\"/>\n     <use style=\"fill:#1f77b4;stroke:#1f77b4;\" x=\"128.772677\" xlink:href=\"#ma387aa2818\" y=\"64.084041\"/>\n     <use style=\"fill:#1f77b4;stroke:#1f77b4;\" x=\"152.867124\" xlink:href=\"#ma387aa2818\" y=\"97.05006\"/>\n     <use style=\"fill:#1f77b4;stroke:#1f77b4;\" x=\"166.891437\" xlink:href=\"#ma387aa2818\" y=\"90.285142\"/>\n     <use style=\"fill:#1f77b4;stroke:#1f77b4;\" x=\"126.98228\" xlink:href=\"#ma387aa2818\" y=\"70.825415\"/>\n     <use style=\"fill:#1f77b4;stroke:#1f77b4;\" x=\"165.38308\" xlink:href=\"#ma387aa2818\" y=\"94.280603\"/>\n     <use style=\"fill:#1f77b4;stroke:#1f77b4;\" x=\"127.393569\" xlink:href=\"#ma387aa2818\" y=\"82.399211\"/>\n     <use style=\"fill:#1f77b4;stroke:#1f77b4;\" x=\"160.28594\" xlink:href=\"#ma387aa2818\" y=\"91.655093\"/>\n     <use style=\"fill:#1f77b4;stroke:#1f77b4;\" x=\"140.334171\" xlink:href=\"#ma387aa2818\" y=\"75.849691\"/>\n     <use style=\"fill:#1f77b4;stroke:#1f77b4;\" x=\"110.863376\" xlink:href=\"#ma387aa2818\" y=\"66.541478\"/>\n     <use style=\"fill:#1f77b4;stroke:#1f77b4;\" x=\"170.413322\" xlink:href=\"#ma387aa2818\" y=\"71.981991\"/>\n     <use style=\"fill:#1f77b4;stroke:#1f77b4;\" x=\"110.116394\" xlink:href=\"#ma387aa2818\" y=\"61.982849\"/>\n     <use style=\"fill:#1f77b4;stroke:#1f77b4;\" x=\"114.928773\" xlink:href=\"#ma387aa2818\" y=\"71.427594\"/>\n     <use style=\"fill:#1f77b4;stroke:#1f77b4;\" x=\"194.34202\" xlink:href=\"#ma387aa2818\" y=\"119.137808\"/>\n     <use style=\"fill:#1f77b4;stroke:#1f77b4;\" x=\"138.574448\" xlink:href=\"#ma387aa2818\" y=\"70.323674\"/>\n     <use style=\"fill:#1f77b4;stroke:#1f77b4;\" x=\"182.446715\" xlink:href=\"#ma387aa2818\" y=\"103.772108\"/>\n     <use style=\"fill:#1f77b4;stroke:#1f77b4;\" x=\"167.005414\" xlink:href=\"#ma387aa2818\" y=\"110.340251\"/>\n     <use style=\"fill:#1f77b4;stroke:#1f77b4;\" x=\"106.734908\" xlink:href=\"#ma387aa2818\" y=\"70.131812\"/>\n     <use style=\"fill:#1f77b4;stroke:#1f77b4;\" x=\"133.841863\" xlink:href=\"#ma387aa2818\" y=\"70.437752\"/>\n     <use style=\"fill:#1f77b4;stroke:#1f77b4;\" x=\"152.092212\" xlink:href=\"#ma387aa2818\" y=\"79.957125\"/>\n     <use style=\"fill:#1f77b4;stroke:#1f77b4;\" x=\"118.334144\" xlink:href=\"#ma387aa2818\" y=\"58.753175\"/>\n     <use style=\"fill:#1f77b4;stroke:#1f77b4;\" x=\"124.893039\" xlink:href=\"#ma387aa2818\" y=\"59.544465\"/>\n     <use style=\"fill:#1f77b4;stroke:#1f77b4;\" x=\"145.975439\" xlink:href=\"#ma387aa2818\" y=\"74.317507\"/>\n     <use style=\"fill:#1f77b4;stroke:#1f77b4;\" x=\"126.567543\" xlink:href=\"#ma387aa2818\" y=\"84.209401\"/>\n     <use style=\"fill:#1f77b4;stroke:#1f77b4;\" x=\"111.125623\" xlink:href=\"#ma387aa2818\" y=\"64.862573\"/>\n     <use style=\"fill:#1f77b4;stroke:#1f77b4;\" x=\"191.751051\" xlink:href=\"#ma387aa2818\" y=\"97.539171\"/>\n     <use style=\"fill:#1f77b4;stroke:#1f77b4;\" x=\"143.030886\" xlink:href=\"#ma387aa2818\" y=\"79.077243\"/>\n     <use style=\"fill:#1f77b4;stroke:#1f77b4;\" x=\"93.221121\" xlink:href=\"#ma387aa2818\" y=\"59.483246\"/>\n     <use style=\"fill:#1f77b4;stroke:#1f77b4;\" x=\"150.474188\" xlink:href=\"#ma387aa2818\" y=\"82.514751\"/>\n     <use style=\"fill:#1f77b4;stroke:#1f77b4;\" x=\"158.451157\" xlink:href=\"#ma387aa2818\" y=\"100.638491\"/>\n     <use style=\"fill:#1f77b4;stroke:#1f77b4;\" x=\"132.139639\" xlink:href=\"#ma387aa2818\" y=\"68.58078\"/>\n     <use style=\"fill:#1f77b4;stroke:#1f77b4;\" x=\"91.123898\" xlink:href=\"#ma387aa2818\" y=\"49.77676\"/>\n     <use style=\"fill:#1f77b4;stroke:#1f77b4;\" x=\"62.41764\" xlink:href=\"#ma387aa2818\" y=\"45.499326\"/>\n     <use style=\"fill:#1f77b4;stroke:#1f77b4;\" x=\"108.130976\" xlink:href=\"#ma387aa2818\" y=\"58.176126\"/>\n     <use style=\"fill:#1f77b4;stroke:#1f77b4;\" x=\"161.145576\" xlink:href=\"#ma387aa2818\" y=\"84.267546\"/>\n     <use style=\"fill:#1f77b4;stroke:#1f77b4;\" x=\"133.232606\" xlink:href=\"#ma387aa2818\" y=\"76.870347\"/>\n     <use style=\"fill:#1f77b4;stroke:#1f77b4;\" x=\"117.537029\" xlink:href=\"#ma387aa2818\" y=\"60.802448\"/>\n     <use style=\"fill:#1f77b4;stroke:#1f77b4;\" x=\"154.122312\" xlink:href=\"#ma387aa2818\" y=\"69.58438\"/>\n     <use style=\"fill:#1f77b4;stroke:#1f77b4;\" x=\"174.429548\" xlink:href=\"#ma387aa2818\" y=\"90.46202\"/>\n     <use style=\"fill:#1f77b4;stroke:#1f77b4;\" x=\"199.937812\" xlink:href=\"#ma387aa2818\" y=\"97.71257\"/>\n     <use style=\"fill:#1f77b4;stroke:#1f77b4;\" x=\"162.333334\" xlink:href=\"#ma387aa2818\" y=\"79.997342\"/>\n     <use style=\"fill:#1f77b4;stroke:#1f77b4;\" x=\"150.299907\" xlink:href=\"#ma387aa2818\" y=\"80.015281\"/>\n     <use style=\"fill:#1f77b4;stroke:#1f77b4;\" x=\"128.874746\" xlink:href=\"#ma387aa2818\" y=\"55.429175\"/>\n     <use style=\"fill:#1f77b4;stroke:#1f77b4;\" x=\"177.241123\" xlink:href=\"#ma387aa2818\" y=\"80.64034\"/>\n     <use style=\"fill:#1f77b4;stroke:#1f77b4;\" x=\"122.236975\" xlink:href=\"#ma387aa2818\" y=\"68.701657\"/>\n     <use style=\"fill:#1f77b4;stroke:#1f77b4;\" x=\"117.177865\" xlink:href=\"#ma387aa2818\" y=\"58.156115\"/>\n     <use style=\"fill:#1f77b4;stroke:#1f77b4;\" x=\"115.90515\" xlink:href=\"#ma387aa2818\" y=\"72.873651\"/>\n     <use style=\"fill:#1f77b4;stroke:#1f77b4;\" x=\"116.362193\" xlink:href=\"#ma387aa2818\" y=\"61.835913\"/>\n     <use style=\"fill:#1f77b4;stroke:#1f77b4;\" x=\"106.986005\" xlink:href=\"#ma387aa2818\" y=\"55.7924\"/>\n     <use style=\"fill:#1f77b4;stroke:#1f77b4;\" x=\"103.769972\" xlink:href=\"#ma387aa2818\" y=\"49.520545\"/>\n     <use style=\"fill:#1f77b4;stroke:#1f77b4;\" x=\"137.846475\" xlink:href=\"#ma387aa2818\" y=\"62.918982\"/>\n     <use style=\"fill:#1f77b4;stroke:#1f77b4;\" x=\"156.801376\" xlink:href=\"#ma387aa2818\" y=\"106.406339\"/>\n     <use style=\"fill:#1f77b4;stroke:#1f77b4;\" x=\"137.314721\" xlink:href=\"#ma387aa2818\" y=\"69.872078\"/>\n     <use style=\"fill:#1f77b4;stroke:#1f77b4;\" x=\"136.286661\" xlink:href=\"#ma387aa2818\" y=\"60.468401\"/>\n     <use style=\"fill:#1f77b4;stroke:#1f77b4;\" x=\"130.592549\" xlink:href=\"#ma387aa2818\" y=\"87.448832\"/>\n     <use style=\"fill:#1f77b4;stroke:#1f77b4;\" x=\"145.343103\" xlink:href=\"#ma387aa2818\" y=\"64.660341\"/>\n     <use style=\"fill:#1f77b4;stroke:#1f77b4;\" x=\"152.860005\" xlink:href=\"#ma387aa2818\" y=\"67.532622\"/>\n     <use style=\"fill:#1f77b4;stroke:#1f77b4;\" x=\"118.761278\" xlink:href=\"#ma387aa2818\" y=\"79.822235\"/>\n     <use style=\"fill:#1f77b4;stroke:#1f77b4;\" x=\"118.303168\" xlink:href=\"#ma387aa2818\" y=\"63.2234\"/>\n     <use style=\"fill:#1f77b4;stroke:#1f77b4;\" x=\"135.42353\" xlink:href=\"#ma387aa2818\" y=\"83.533005\"/>\n     <use style=\"fill:#1f77b4;stroke:#1f77b4;\" x=\"157.659942\" xlink:href=\"#ma387aa2818\" y=\"82.232379\"/>\n     <use style=\"fill:#1f77b4;stroke:#1f77b4;\" x=\"156.953854\" xlink:href=\"#ma387aa2818\" y=\"90.114811\"/>\n     <use style=\"fill:#1f77b4;stroke:#1f77b4;\" x=\"146.193502\" xlink:href=\"#ma387aa2818\" y=\"85.239656\"/>\n     <use style=\"fill:#1f77b4;stroke:#1f77b4;\" x=\"144.620979\" xlink:href=\"#ma387aa2818\" y=\"84.086948\"/>\n     <use style=\"fill:#1f77b4;stroke:#1f77b4;\" x=\"145.286952\" xlink:href=\"#ma387aa2818\" y=\"80.871878\"/>\n     <use style=\"fill:#1f77b4;stroke:#1f77b4;\" x=\"142.337146\" xlink:href=\"#ma387aa2818\" y=\"94.332217\"/>\n     <use style=\"fill:#1f77b4;stroke:#1f77b4;\" x=\"177.797782\" xlink:href=\"#ma387aa2818\" y=\"100.697774\"/>\n     <use style=\"fill:#1f77b4;stroke:#1f77b4;\" x=\"144.061728\" xlink:href=\"#ma387aa2818\" y=\"76.065134\"/>\n     <use style=\"fill:#1f77b4;stroke:#1f77b4;\" x=\"129.356133\" xlink:href=\"#ma387aa2818\" y=\"72.066149\"/>\n     <use style=\"fill:#1f77b4;stroke:#1f77b4;\" x=\"78.280461\" xlink:href=\"#ma387aa2818\" y=\"27.111775\"/>\n     <use style=\"fill:#1f77b4;stroke:#1f77b4;\" x=\"158.737187\" xlink:href=\"#ma387aa2818\" y=\"81.944929\"/>\n     <use style=\"fill:#1f77b4;stroke:#1f77b4;\" x=\"51.823068\" xlink:href=\"#ma387aa2818\" y=\"38.402107\"/>\n     <use style=\"fill:#1f77b4;stroke:#1f77b4;\" x=\"142.141091\" xlink:href=\"#ma387aa2818\" y=\"71.464117\"/>\n     <use style=\"fill:#1f77b4;stroke:#1f77b4;\" x=\"135.574553\" xlink:href=\"#ma387aa2818\" y=\"78.925174\"/>\n     <use style=\"fill:#1f77b4;stroke:#1f77b4;\" x=\"130.236047\" xlink:href=\"#ma387aa2818\" y=\"74.595522\"/>\n     <use style=\"fill:#1f77b4;stroke:#1f77b4;\" x=\"100.83041\" xlink:href=\"#ma387aa2818\" y=\"68.666049\"/>\n     <use style=\"fill:#1f77b4;stroke:#1f77b4;\" x=\"136.684076\" xlink:href=\"#ma387aa2818\" y=\"52.975132\"/>\n     <use style=\"fill:#1f77b4;stroke:#1f77b4;\" x=\"124.265435\" xlink:href=\"#ma387aa2818\" y=\"73.758145\"/>\n     <use style=\"fill:#1f77b4;stroke:#1f77b4;\" x=\"171.67867\" xlink:href=\"#ma387aa2818\" y=\"94.675508\"/>\n     <use style=\"fill:#1f77b4;stroke:#1f77b4;\" x=\"187.489306\" xlink:href=\"#ma387aa2818\" y=\"113.497393\"/>\n     <use style=\"fill:#1f77b4;stroke:#1f77b4;\" x=\"161.628207\" xlink:href=\"#ma387aa2818\" y=\"67.46766\"/>\n     <use style=\"fill:#1f77b4;stroke:#1f77b4;\" x=\"155.424388\" xlink:href=\"#ma387aa2818\" y=\"89.054241\"/>\n     <use style=\"fill:#1f77b4;stroke:#1f77b4;\" x=\"129.591032\" xlink:href=\"#ma387aa2818\" y=\"51.869783\"/>\n     <use style=\"fill:#1f77b4;stroke:#1f77b4;\" x=\"160.44753\" xlink:href=\"#ma387aa2818\" y=\"101.159759\"/>\n     <use style=\"fill:#1f77b4;stroke:#1f77b4;\" x=\"120.54868\" xlink:href=\"#ma387aa2818\" y=\"72.195794\"/>\n     <use style=\"fill:#1f77b4;stroke:#1f77b4;\" x=\"143.224465\" xlink:href=\"#ma387aa2818\" y=\"86.517431\"/>\n     <use style=\"fill:#1f77b4;stroke:#1f77b4;\" x=\"105.731697\" xlink:href=\"#ma387aa2818\" y=\"35.218433\"/>\n     <use style=\"fill:#1f77b4;stroke:#1f77b4;\" x=\"134.129306\" xlink:href=\"#ma387aa2818\" y=\"73.849585\"/>\n     <use style=\"fill:#1f77b4;stroke:#1f77b4;\" x=\"141.913073\" xlink:href=\"#ma387aa2818\" y=\"89.781523\"/>\n     <use style=\"fill:#1f77b4;stroke:#1f77b4;\" x=\"167.573914\" xlink:href=\"#ma387aa2818\" y=\"89.856718\"/>\n     <use style=\"fill:#1f77b4;stroke:#1f77b4;\" x=\"86.12626\" xlink:href=\"#ma387aa2818\" y=\"61.103934\"/>\n     <use style=\"fill:#1f77b4;stroke:#1f77b4;\" x=\"147.752954\" xlink:href=\"#ma387aa2818\" y=\"83.945961\"/>\n     <use style=\"fill:#1f77b4;stroke:#1f77b4;\" x=\"172.754564\" xlink:href=\"#ma387aa2818\" y=\"77.870423\"/>\n     <use style=\"fill:#1f77b4;stroke:#1f77b4;\" x=\"181.440066\" xlink:href=\"#ma387aa2818\" y=\"93.42383\"/>\n     <use style=\"fill:#1f77b4;stroke:#1f77b4;\" x=\"116.655056\" xlink:href=\"#ma387aa2818\" y=\"58.136518\"/>\n     <use style=\"fill:#1f77b4;stroke:#1f77b4;\" x=\"161.091109\" xlink:href=\"#ma387aa2818\" y=\"83.420404\"/>\n     <use style=\"fill:#1f77b4;stroke:#1f77b4;\" x=\"130.098408\" xlink:href=\"#ma387aa2818\" y=\"89.733645\"/>\n     <use style=\"fill:#1f77b4;stroke:#1f77b4;\" x=\"155.218282\" xlink:href=\"#ma387aa2818\" y=\"94.242593\"/>\n     <use style=\"fill:#1f77b4;stroke:#1f77b4;\" x=\"153.017407\" xlink:href=\"#ma387aa2818\" y=\"80.30243\"/>\n     <use style=\"fill:#1f77b4;stroke:#1f77b4;\" x=\"144.195401\" xlink:href=\"#ma387aa2818\" y=\"96.70899\"/>\n     <use style=\"fill:#1f77b4;stroke:#1f77b4;\" x=\"161.140338\" xlink:href=\"#ma387aa2818\" y=\"90.479454\"/>\n     <use style=\"fill:#1f77b4;stroke:#1f77b4;\" x=\"115.408341\" xlink:href=\"#ma387aa2818\" y=\"61.400688\"/>\n     <use style=\"fill:#1f77b4;stroke:#1f77b4;\" x=\"211.252554\" xlink:href=\"#ma387aa2818\" y=\"126.593785\"/>\n     <use style=\"fill:#1f77b4;stroke:#1f77b4;\" x=\"151.936038\" xlink:href=\"#ma387aa2818\" y=\"75.28033\"/>\n     <use style=\"fill:#1f77b4;stroke:#1f77b4;\" x=\"153.855005\" xlink:href=\"#ma387aa2818\" y=\"78.917859\"/>\n     <use style=\"fill:#1f77b4;stroke:#1f77b4;\" x=\"153.657051\" xlink:href=\"#ma387aa2818\" y=\"95.832873\"/>\n     <use style=\"fill:#1f77b4;stroke:#1f77b4;\" x=\"125.40087\" xlink:href=\"#ma387aa2818\" y=\"79.970725\"/>\n     <use style=\"fill:#1f77b4;stroke:#1f77b4;\" x=\"148.8863\" xlink:href=\"#ma387aa2818\" y=\"85.697472\"/>\n     <use style=\"fill:#1f77b4;stroke:#1f77b4;\" x=\"130.413917\" xlink:href=\"#ma387aa2818\" y=\"80.720783\"/>\n     <use style=\"fill:#1f77b4;stroke:#1f77b4;\" x=\"114.541286\" xlink:href=\"#ma387aa2818\" y=\"71.352089\"/>\n     <use style=\"fill:#1f77b4;stroke:#1f77b4;\" x=\"156.709424\" xlink:href=\"#ma387aa2818\" y=\"94.831068\"/>\n     <use style=\"fill:#1f77b4;stroke:#1f77b4;\" x=\"178.033746\" xlink:href=\"#ma387aa2818\" y=\"100.774219\"/>\n     <use style=\"fill:#1f77b4;stroke:#1f77b4;\" x=\"139.580523\" xlink:href=\"#ma387aa2818\" y=\"68.815717\"/>\n     <use style=\"fill:#1f77b4;stroke:#1f77b4;\" x=\"123.744636\" xlink:href=\"#ma387aa2818\" y=\"66.630477\"/>\n     <use style=\"fill:#1f77b4;stroke:#1f77b4;\" x=\"164.060623\" xlink:href=\"#ma387aa2818\" y=\"102.237371\"/>\n     <use style=\"fill:#1f77b4;stroke:#1f77b4;\" x=\"151.756293\" xlink:href=\"#ma387aa2818\" y=\"80.922541\"/>\n     <use style=\"fill:#1f77b4;stroke:#1f77b4;\" x=\"186.267366\" xlink:href=\"#ma387aa2818\" y=\"109.287156\"/>\n     <use style=\"fill:#1f77b4;stroke:#1f77b4;\" x=\"142.316027\" xlink:href=\"#ma387aa2818\" y=\"76.189691\"/>\n     <use style=\"fill:#1f77b4;stroke:#1f77b4;\" x=\"151.166611\" xlink:href=\"#ma387aa2818\" y=\"84.296784\"/>\n     <use style=\"fill:#1f77b4;stroke:#1f77b4;\" x=\"146.588774\" xlink:href=\"#ma387aa2818\" y=\"93.117448\"/>\n     <use style=\"fill:#1f77b4;stroke:#1f77b4;\" x=\"164.04871\" xlink:href=\"#ma387aa2818\" y=\"86.381285\"/>\n     <use style=\"fill:#1f77b4;stroke:#1f77b4;\" x=\"94.671845\" xlink:href=\"#ma387aa2818\" y=\"43.38551\"/>\n     <use style=\"fill:#1f77b4;stroke:#1f77b4;\" x=\"215.364915\" xlink:href=\"#ma387aa2818\" y=\"136.922727\"/>\n     <use style=\"fill:#1f77b4;stroke:#1f77b4;\" x=\"95.554908\" xlink:href=\"#ma387aa2818\" y=\"41.87871\"/>\n     <use style=\"fill:#1f77b4;stroke:#1f77b4;\" x=\"135.783866\" xlink:href=\"#ma387aa2818\" y=\"77.15278\"/>\n     <use style=\"fill:#1f77b4;stroke:#1f77b4;\" x=\"127.901669\" xlink:href=\"#ma387aa2818\" y=\"70.774384\"/>\n     <use style=\"fill:#1f77b4;stroke:#1f77b4;\" x=\"87.432918\" xlink:href=\"#ma387aa2818\" y=\"45.467949\"/>\n     <use style=\"fill:#1f77b4;stroke:#1f77b4;\" x=\"156.278613\" xlink:href=\"#ma387aa2818\" y=\"95.156248\"/>\n     <use style=\"fill:#1f77b4;stroke:#1f77b4;\" x=\"96.751192\" xlink:href=\"#ma387aa2818\" y=\"65.427135\"/>\n     <use style=\"fill:#1f77b4;stroke:#1f77b4;\" x=\"102.873371\" xlink:href=\"#ma387aa2818\" y=\"55.621549\"/>\n     <use style=\"fill:#1f77b4;stroke:#1f77b4;\" x=\"106.479162\" xlink:href=\"#ma387aa2818\" y=\"49.372294\"/>\n     <use style=\"fill:#1f77b4;stroke:#1f77b4;\" x=\"190.065657\" xlink:href=\"#ma387aa2818\" y=\"117.635044\"/>\n     <use style=\"fill:#1f77b4;stroke:#1f77b4;\" x=\"115.161846\" xlink:href=\"#ma387aa2818\" y=\"70.658448\"/>\n     <use style=\"fill:#1f77b4;stroke:#1f77b4;\" x=\"155.539097\" xlink:href=\"#ma387aa2818\" y=\"74.986906\"/>\n     <use style=\"fill:#1f77b4;stroke:#1f77b4;\" x=\"115.098199\" xlink:href=\"#ma387aa2818\" y=\"62.327915\"/>\n     <use style=\"fill:#1f77b4;stroke:#1f77b4;\" x=\"103.712892\" xlink:href=\"#ma387aa2818\" y=\"54.293757\"/>\n     <use style=\"fill:#1f77b4;stroke:#1f77b4;\" x=\"109.989363\" xlink:href=\"#ma387aa2818\" y=\"47.852393\"/>\n     <use style=\"fill:#1f77b4;stroke:#1f77b4;\" x=\"129.537746\" xlink:href=\"#ma387aa2818\" y=\"81.292483\"/>\n     <use style=\"fill:#1f77b4;stroke:#1f77b4;\" x=\"125.167606\" xlink:href=\"#ma387aa2818\" y=\"55.233194\"/>\n     <use style=\"fill:#1f77b4;stroke:#1f77b4;\" x=\"174.129697\" xlink:href=\"#ma387aa2818\" y=\"98.848725\"/>\n     <use style=\"fill:#1f77b4;stroke:#1f77b4;\" x=\"144.862637\" xlink:href=\"#ma387aa2818\" y=\"94.986889\"/>\n     <use style=\"fill:#1f77b4;stroke:#1f77b4;\" x=\"90.546384\" xlink:href=\"#ma387aa2818\" y=\"36.561014\"/>\n     <use style=\"fill:#1f77b4;stroke:#1f77b4;\" x=\"131.966449\" xlink:href=\"#ma387aa2818\" y=\"63.863647\"/>\n     <use style=\"fill:#1f77b4;stroke:#1f77b4;\" x=\"158.314061\" xlink:href=\"#ma387aa2818\" y=\"88.086762\"/>\n     <use style=\"fill:#1f77b4;stroke:#1f77b4;\" x=\"138.797424\" xlink:href=\"#ma387aa2818\" y=\"86.980661\"/>\n     <use style=\"fill:#1f77b4;stroke:#1f77b4;\" x=\"164.270199\" xlink:href=\"#ma387aa2818\" y=\"90.436359\"/>\n     <use style=\"fill:#1f77b4;stroke:#1f77b4;\" x=\"157.466176\" xlink:href=\"#ma387aa2818\" y=\"86.78119\"/>\n     <use style=\"fill:#1f77b4;stroke:#1f77b4;\" x=\"146.291743\" xlink:href=\"#ma387aa2818\" y=\"81.62141\"/>\n     <use style=\"fill:#1f77b4;stroke:#1f77b4;\" x=\"72.558995\" xlink:href=\"#ma387aa2818\" y=\"39.367253\"/>\n     <use style=\"fill:#1f77b4;stroke:#1f77b4;\" x=\"125.536962\" xlink:href=\"#ma387aa2818\" y=\"64.135403\"/>\n     <use style=\"fill:#1f77b4;stroke:#1f77b4;\" x=\"154.639221\" xlink:href=\"#ma387aa2818\" y=\"86.513233\"/>\n     <use style=\"fill:#1f77b4;stroke:#1f77b4;\" x=\"68.720323\" xlink:href=\"#ma387aa2818\" y=\"18.292896\"/>\n     <use style=\"fill:#1f77b4;stroke:#1f77b4;\" x=\"199.460552\" xlink:href=\"#ma387aa2818\" y=\"108.649776\"/>\n     <use style=\"fill:#1f77b4;stroke:#1f77b4;\" x=\"124.798594\" xlink:href=\"#ma387aa2818\" y=\"65.459138\"/>\n     <use style=\"fill:#1f77b4;stroke:#1f77b4;\" x=\"115.918976\" xlink:href=\"#ma387aa2818\" y=\"51.297571\"/>\n     <use style=\"fill:#1f77b4;stroke:#1f77b4;\" x=\"104.701257\" xlink:href=\"#ma387aa2818\" y=\"54.970704\"/>\n     <use style=\"fill:#1f77b4;stroke:#1f77b4;\" x=\"117.588514\" xlink:href=\"#ma387aa2818\" y=\"71.544338\"/>\n     <use style=\"fill:#1f77b4;stroke:#1f77b4;\" x=\"68.735502\" xlink:href=\"#ma387aa2818\" y=\"37.622382\"/>\n     <use style=\"fill:#1f77b4;stroke:#1f77b4;\" x=\"117.780055\" xlink:href=\"#ma387aa2818\" y=\"51.743628\"/>\n     <use style=\"fill:#1f77b4;stroke:#1f77b4;\" x=\"122.13772\" xlink:href=\"#ma387aa2818\" y=\"65.594727\"/>\n     <use style=\"fill:#1f77b4;stroke:#1f77b4;\" x=\"151.645685\" xlink:href=\"#ma387aa2818\" y=\"80.73546\"/>\n     <use style=\"fill:#1f77b4;stroke:#1f77b4;\" x=\"122.592839\" xlink:href=\"#ma387aa2818\" y=\"107.404028\"/>\n     <use style=\"fill:#1f77b4;stroke:#1f77b4;\" x=\"159.909313\" xlink:href=\"#ma387aa2818\" y=\"93.06282\"/>\n     <use style=\"fill:#1f77b4;stroke:#1f77b4;\" x=\"166.511865\" xlink:href=\"#ma387aa2818\" y=\"90.584596\"/>\n     <use style=\"fill:#1f77b4;stroke:#1f77b4;\" x=\"142.331903\" xlink:href=\"#ma387aa2818\" y=\"64.817917\"/>\n     <use style=\"fill:#1f77b4;stroke:#1f77b4;\" x=\"123.402735\" xlink:href=\"#ma387aa2818\" y=\"92.287139\"/>\n     <use style=\"fill:#1f77b4;stroke:#1f77b4;\" x=\"85.039995\" xlink:href=\"#ma387aa2818\" y=\"51.044257\"/>\n     <use style=\"fill:#1f77b4;stroke:#1f77b4;\" x=\"165.503157\" xlink:href=\"#ma387aa2818\" y=\"78.461555\"/>\n     <use style=\"fill:#1f77b4;stroke:#1f77b4;\" x=\"82.380131\" xlink:href=\"#ma387aa2818\" y=\"34.332565\"/>\n     <use style=\"fill:#1f77b4;stroke:#1f77b4;\" x=\"154.621093\" xlink:href=\"#ma387aa2818\" y=\"74.97166\"/>\n     <use style=\"fill:#1f77b4;stroke:#1f77b4;\" x=\"141.83863\" xlink:href=\"#ma387aa2818\" y=\"83.473253\"/>\n     <use style=\"fill:#1f77b4;stroke:#1f77b4;\" x=\"101.599722\" xlink:href=\"#ma387aa2818\" y=\"50.859699\"/>\n     <use style=\"fill:#1f77b4;stroke:#1f77b4;\" x=\"106.124704\" xlink:href=\"#ma387aa2818\" y=\"56.968178\"/>\n     <use style=\"fill:#1f77b4;stroke:#1f77b4;\" x=\"106.810944\" xlink:href=\"#ma387aa2818\" y=\"48.942693\"/>\n     <use style=\"fill:#1f77b4;stroke:#1f77b4;\" x=\"83.277412\" xlink:href=\"#ma387aa2818\" y=\"43.783965\"/>\n     <use style=\"fill:#1f77b4;stroke:#1f77b4;\" x=\"143.206998\" xlink:href=\"#ma387aa2818\" y=\"97.995268\"/>\n     <use style=\"fill:#1f77b4;stroke:#1f77b4;\" x=\"116.079121\" xlink:href=\"#ma387aa2818\" y=\"71.738503\"/>\n     <use style=\"fill:#1f77b4;stroke:#1f77b4;\" x=\"142.463932\" xlink:href=\"#ma387aa2818\" y=\"70.357023\"/>\n     <use style=\"fill:#1f77b4;stroke:#1f77b4;\" x=\"91.971141\" xlink:href=\"#ma387aa2818\" y=\"17.866732\"/>\n     <use style=\"fill:#1f77b4;stroke:#1f77b4;\" x=\"178.616841\" xlink:href=\"#ma387aa2818\" y=\"109.634115\"/>\n     <use style=\"fill:#1f77b4;stroke:#1f77b4;\" x=\"161.789609\" xlink:href=\"#ma387aa2818\" y=\"88.162051\"/>\n     <use style=\"fill:#1f77b4;stroke:#1f77b4;\" x=\"148.335382\" xlink:href=\"#ma387aa2818\" y=\"77.689445\"/>\n     <use style=\"fill:#1f77b4;stroke:#1f77b4;\" x=\"122.991934\" xlink:href=\"#ma387aa2818\" y=\"68.868426\"/>\n     <use style=\"fill:#1f77b4;stroke:#1f77b4;\" x=\"148.832427\" xlink:href=\"#ma387aa2818\" y=\"78.833342\"/>\n     <use style=\"fill:#1f77b4;stroke:#1f77b4;\" x=\"159.049307\" xlink:href=\"#ma387aa2818\" y=\"78.750124\"/>\n     <use style=\"fill:#1f77b4;stroke:#1f77b4;\" x=\"134.676439\" xlink:href=\"#ma387aa2818\" y=\"77.64565\"/>\n     <use style=\"fill:#1f77b4;stroke:#1f77b4;\" x=\"155.978985\" xlink:href=\"#ma387aa2818\" y=\"100.254295\"/>\n     <use style=\"fill:#1f77b4;stroke:#1f77b4;\" x=\"111.499589\" xlink:href=\"#ma387aa2818\" y=\"45.991198\"/>\n     <use style=\"fill:#1f77b4;stroke:#1f77b4;\" x=\"122.970671\" xlink:href=\"#ma387aa2818\" y=\"48.652063\"/>\n     <use style=\"fill:#1f77b4;stroke:#1f77b4;\" x=\"190.94052\" xlink:href=\"#ma387aa2818\" y=\"103.319471\"/>\n     <use style=\"fill:#1f77b4;stroke:#1f77b4;\" x=\"125.09178\" xlink:href=\"#ma387aa2818\" y=\"69.569037\"/>\n     <use style=\"fill:#1f77b4;stroke:#1f77b4;\" x=\"160.108766\" xlink:href=\"#ma387aa2818\" y=\"105.335354\"/>\n     <use style=\"fill:#1f77b4;stroke:#1f77b4;\" x=\"167.072375\" xlink:href=\"#ma387aa2818\" y=\"74.917819\"/>\n     <use style=\"fill:#1f77b4;stroke:#1f77b4;\" x=\"137.308397\" xlink:href=\"#ma387aa2818\" y=\"76.568484\"/>\n     <use style=\"fill:#1f77b4;stroke:#1f77b4;\" x=\"134.602763\" xlink:href=\"#ma387aa2818\" y=\"64.016311\"/>\n     <use style=\"fill:#1f77b4;stroke:#1f77b4;\" x=\"136.225731\" xlink:href=\"#ma387aa2818\" y=\"82.910851\"/>\n     <use style=\"fill:#1f77b4;stroke:#1f77b4;\" x=\"109.443051\" xlink:href=\"#ma387aa2818\" y=\"57.810719\"/>\n     <use style=\"fill:#1f77b4;stroke:#1f77b4;\" x=\"100.675206\" xlink:href=\"#ma387aa2818\" y=\"30.576163\"/>\n     <use style=\"fill:#1f77b4;stroke:#1f77b4;\" x=\"157.529902\" xlink:href=\"#ma387aa2818\" y=\"92.340232\"/>\n     <use style=\"fill:#1f77b4;stroke:#1f77b4;\" x=\"133.412809\" xlink:href=\"#ma387aa2818\" y=\"71.466036\"/>\n     <use style=\"fill:#1f77b4;stroke:#1f77b4;\" x=\"79.001781\" xlink:href=\"#ma387aa2818\" y=\"57.345186\"/>\n     <use style=\"fill:#1f77b4;stroke:#1f77b4;\" x=\"105.129544\" xlink:href=\"#ma387aa2818\" y=\"51.986225\"/>\n     <use style=\"fill:#1f77b4;stroke:#1f77b4;\" x=\"160.533734\" xlink:href=\"#ma387aa2818\" y=\"77.53357\"/>\n     <use style=\"fill:#1f77b4;stroke:#1f77b4;\" x=\"132.631519\" xlink:href=\"#ma387aa2818\" y=\"75.831765\"/>\n     <use style=\"fill:#1f77b4;stroke:#1f77b4;\" x=\"149.604923\" xlink:href=\"#ma387aa2818\" y=\"89.173762\"/>\n     <use style=\"fill:#1f77b4;stroke:#1f77b4;\" x=\"79.957359\" xlink:href=\"#ma387aa2818\" y=\"41.505498\"/>\n     <use style=\"fill:#1f77b4;stroke:#1f77b4;\" x=\"172.530013\" xlink:href=\"#ma387aa2818\" y=\"92.192846\"/>\n     <use style=\"fill:#1f77b4;stroke:#1f77b4;\" x=\"124.6101\" xlink:href=\"#ma387aa2818\" y=\"70.569267\"/>\n     <use style=\"fill:#1f77b4;stroke:#1f77b4;\" x=\"124.81402\" xlink:href=\"#ma387aa2818\" y=\"58.321278\"/>\n     <use style=\"fill:#1f77b4;stroke:#1f77b4;\" x=\"152.03342\" xlink:href=\"#ma387aa2818\" y=\"77.430513\"/>\n     <use style=\"fill:#1f77b4;stroke:#1f77b4;\" x=\"111.015202\" xlink:href=\"#ma387aa2818\" y=\"46.483156\"/>\n     <use style=\"fill:#1f77b4;stroke:#1f77b4;\" x=\"113.366178\" xlink:href=\"#ma387aa2818\" y=\"73.524532\"/>\n     <use style=\"fill:#1f77b4;stroke:#1f77b4;\" x=\"124.590167\" xlink:href=\"#ma387aa2818\" y=\"63.951141\"/>\n     <use style=\"fill:#1f77b4;stroke:#1f77b4;\" x=\"146.038191\" xlink:href=\"#ma387aa2818\" y=\"79.085344\"/>\n     <use style=\"fill:#1f77b4;stroke:#1f77b4;\" x=\"100.527265\" xlink:href=\"#ma387aa2818\" y=\"59.858164\"/>\n     <use style=\"fill:#1f77b4;stroke:#1f77b4;\" x=\"102.429506\" xlink:href=\"#ma387aa2818\" y=\"56.993777\"/>\n     <use style=\"fill:#1f77b4;stroke:#1f77b4;\" x=\"148.522259\" xlink:href=\"#ma387aa2818\" y=\"81.284672\"/>\n     <use style=\"fill:#1f77b4;stroke:#1f77b4;\" x=\"148.846847\" xlink:href=\"#ma387aa2818\" y=\"99.475046\"/>\n     <use style=\"fill:#1f77b4;stroke:#1f77b4;\" x=\"133.208042\" xlink:href=\"#ma387aa2818\" y=\"85.5687\"/>\n     <use style=\"fill:#1f77b4;stroke:#1f77b4;\" x=\"124.481027\" xlink:href=\"#ma387aa2818\" y=\"53.601358\"/>\n     <use style=\"fill:#1f77b4;stroke:#1f77b4;\" x=\"147.727027\" xlink:href=\"#ma387aa2818\" y=\"83.052345\"/>\n     <use style=\"fill:#1f77b4;stroke:#1f77b4;\" x=\"97.408547\" xlink:href=\"#ma387aa2818\" y=\"43.761551\"/>\n     <use style=\"fill:#1f77b4;stroke:#1f77b4;\" x=\"144.7061\" xlink:href=\"#ma387aa2818\" y=\"88.479973\"/>\n     <use style=\"fill:#1f77b4;stroke:#1f77b4;\" x=\"112.33073\" xlink:href=\"#ma387aa2818\" y=\"68.776441\"/>\n     <use style=\"fill:#1f77b4;stroke:#1f77b4;\" x=\"141.850176\" xlink:href=\"#ma387aa2818\" y=\"83.548796\"/>\n     <use style=\"fill:#1f77b4;stroke:#1f77b4;\" x=\"174.654363\" xlink:href=\"#ma387aa2818\" y=\"92.933898\"/>\n     <use style=\"fill:#1f77b4;stroke:#1f77b4;\" x=\"89.065913\" xlink:href=\"#ma387aa2818\" y=\"46.578104\"/>\n     <use style=\"fill:#1f77b4;stroke:#1f77b4;\" x=\"129.865855\" xlink:href=\"#ma387aa2818\" y=\"68.466603\"/>\n     <use style=\"fill:#1f77b4;stroke:#1f77b4;\" x=\"179.06085\" xlink:href=\"#ma387aa2818\" y=\"115.653141\"/>\n     <use style=\"fill:#1f77b4;stroke:#1f77b4;\" x=\"180.632482\" xlink:href=\"#ma387aa2818\" y=\"103.891382\"/>\n     <use style=\"fill:#1f77b4;stroke:#1f77b4;\" x=\"146.89364\" xlink:href=\"#ma387aa2818\" y=\"82.36556\"/>\n     <use style=\"fill:#1f77b4;stroke:#1f77b4;\" x=\"165.946524\" xlink:href=\"#ma387aa2818\" y=\"89.071547\"/>\n     <use style=\"fill:#1f77b4;stroke:#1f77b4;\" x=\"171.896918\" xlink:href=\"#ma387aa2818\" y=\"81.859394\"/>\n     <use style=\"fill:#1f77b4;stroke:#1f77b4;\" x=\"124.114336\" xlink:href=\"#ma387aa2818\" y=\"61.249159\"/>\n     <use style=\"fill:#1f77b4;stroke:#1f77b4;\" x=\"135.42869\" xlink:href=\"#ma387aa2818\" y=\"75.40697\"/>\n     <use style=\"fill:#1f77b4;stroke:#1f77b4;\" x=\"169.368349\" xlink:href=\"#ma387aa2818\" y=\"86.122245\"/>\n     <use style=\"fill:#1f77b4;stroke:#1f77b4;\" x=\"160.085421\" xlink:href=\"#ma387aa2818\" y=\"99.157185\"/>\n     <use style=\"fill:#1f77b4;stroke:#1f77b4;\" x=\"119.828824\" xlink:href=\"#ma387aa2818\" y=\"69.744665\"/>\n     <use style=\"fill:#1f77b4;stroke:#1f77b4;\" x=\"121.500555\" xlink:href=\"#ma387aa2818\" y=\"83.411935\"/>\n     <use style=\"fill:#1f77b4;stroke:#1f77b4;\" x=\"124.783172\" xlink:href=\"#ma387aa2818\" y=\"73.454793\"/>\n     <use style=\"fill:#1f77b4;stroke:#1f77b4;\" x=\"124.730326\" xlink:href=\"#ma387aa2818\" y=\"71.612681\"/>\n     <use style=\"fill:#1f77b4;stroke:#1f77b4;\" x=\"91.093537\" xlink:href=\"#ma387aa2818\" y=\"45.203876\"/>\n     <use style=\"fill:#1f77b4;stroke:#1f77b4;\" x=\"102.427961\" xlink:href=\"#ma387aa2818\" y=\"53.424583\"/>\n     <use style=\"fill:#1f77b4;stroke:#1f77b4;\" x=\"178.104747\" xlink:href=\"#ma387aa2818\" y=\"97.640839\"/>\n     <use style=\"fill:#1f77b4;stroke:#1f77b4;\" x=\"142.546013\" xlink:href=\"#ma387aa2818\" y=\"91.896714\"/>\n     <use style=\"fill:#1f77b4;stroke:#1f77b4;\" x=\"127.909797\" xlink:href=\"#ma387aa2818\" y=\"67.741748\"/>\n     <use style=\"fill:#1f77b4;stroke:#1f77b4;\" x=\"126.769294\" xlink:href=\"#ma387aa2818\" y=\"68.861601\"/>\n     <use style=\"fill:#1f77b4;stroke:#1f77b4;\" x=\"158.164594\" xlink:href=\"#ma387aa2818\" y=\"76.233254\"/>\n     <use style=\"fill:#1f77b4;stroke:#1f77b4;\" x=\"140.616099\" xlink:href=\"#ma387aa2818\" y=\"81.418687\"/>\n     <use style=\"fill:#1f77b4;stroke:#1f77b4;\" x=\"110.125546\" xlink:href=\"#ma387aa2818\" y=\"62.347761\"/>\n     <use style=\"fill:#1f77b4;stroke:#1f77b4;\" x=\"129.088398\" xlink:href=\"#ma387aa2818\" y=\"68.861639\"/>\n     <use style=\"fill:#1f77b4;stroke:#1f77b4;\" x=\"131.354339\" xlink:href=\"#ma387aa2818\" y=\"68.208955\"/>\n     <use style=\"fill:#1f77b4;stroke:#1f77b4;\" x=\"144.911381\" xlink:href=\"#ma387aa2818\" y=\"73.229181\"/>\n     <use style=\"fill:#1f77b4;stroke:#1f77b4;\" x=\"86.976597\" xlink:href=\"#ma387aa2818\" y=\"47.455819\"/>\n     <use style=\"fill:#1f77b4;stroke:#1f77b4;\" x=\"107.666313\" xlink:href=\"#ma387aa2818\" y=\"54.333519\"/>\n     <use style=\"fill:#1f77b4;stroke:#1f77b4;\" x=\"97.090753\" xlink:href=\"#ma387aa2818\" y=\"42.152589\"/>\n     <use style=\"fill:#1f77b4;stroke:#1f77b4;\" x=\"132.53934\" xlink:href=\"#ma387aa2818\" y=\"41.525491\"/>\n     <use style=\"fill:#1f77b4;stroke:#1f77b4;\" x=\"126.233448\" xlink:href=\"#ma387aa2818\" y=\"65.971645\"/>\n     <use style=\"fill:#1f77b4;stroke:#1f77b4;\" x=\"163.013485\" xlink:href=\"#ma387aa2818\" y=\"106.811826\"/>\n     <use style=\"fill:#1f77b4;stroke:#1f77b4;\" x=\"156.315141\" xlink:href=\"#ma387aa2818\" y=\"87.984342\"/>\n     <use style=\"fill:#1f77b4;stroke:#1f77b4;\" x=\"137.39864\" xlink:href=\"#ma387aa2818\" y=\"74.075604\"/>\n     <use style=\"fill:#1f77b4;stroke:#1f77b4;\" x=\"176.94713\" xlink:href=\"#ma387aa2818\" y=\"94.126258\"/>\n     <use style=\"fill:#1f77b4;stroke:#1f77b4;\" x=\"101.184736\" xlink:href=\"#ma387aa2818\" y=\"59.51314\"/>\n     <use style=\"fill:#1f77b4;stroke:#1f77b4;\" x=\"114.614056\" xlink:href=\"#ma387aa2818\" y=\"75.028393\"/>\n     <use style=\"fill:#1f77b4;stroke:#1f77b4;\" x=\"133.419827\" xlink:href=\"#ma387aa2818\" y=\"83.784328\"/>\n     <use style=\"fill:#1f77b4;stroke:#1f77b4;\" x=\"165.800729\" xlink:href=\"#ma387aa2818\" y=\"88.741617\"/>\n     <use style=\"fill:#1f77b4;stroke:#1f77b4;\" x=\"132.079943\" xlink:href=\"#ma387aa2818\" y=\"75.248012\"/>\n     <use style=\"fill:#1f77b4;stroke:#1f77b4;\" x=\"103.762992\" xlink:href=\"#ma387aa2818\" y=\"52.859092\"/>\n     <use style=\"fill:#1f77b4;stroke:#1f77b4;\" x=\"156.302545\" xlink:href=\"#ma387aa2818\" y=\"110.058553\"/>\n     <use style=\"fill:#1f77b4;stroke:#1f77b4;\" x=\"148.400529\" xlink:href=\"#ma387aa2818\" y=\"86.138429\"/>\n     <use style=\"fill:#1f77b4;stroke:#1f77b4;\" x=\"145.662484\" xlink:href=\"#ma387aa2818\" y=\"80.557498\"/>\n     <use style=\"fill:#1f77b4;stroke:#1f77b4;\" x=\"158.982873\" xlink:href=\"#ma387aa2818\" y=\"82.026796\"/>\n     <use style=\"fill:#1f77b4;stroke:#1f77b4;\" x=\"97.716167\" xlink:href=\"#ma387aa2818\" y=\"52.448517\"/>\n     <use style=\"fill:#1f77b4;stroke:#1f77b4;\" x=\"155.545374\" xlink:href=\"#ma387aa2818\" y=\"76.275545\"/>\n     <use style=\"fill:#1f77b4;stroke:#1f77b4;\" x=\"182.197679\" xlink:href=\"#ma387aa2818\" y=\"116.238354\"/>\n     <use style=\"fill:#1f77b4;stroke:#1f77b4;\" x=\"108.307816\" xlink:href=\"#ma387aa2818\" y=\"68.743905\"/>\n     <use style=\"fill:#1f77b4;stroke:#1f77b4;\" x=\"155.871552\" xlink:href=\"#ma387aa2818\" y=\"92.484307\"/>\n     <use style=\"fill:#1f77b4;stroke:#1f77b4;\" x=\"140.557379\" xlink:href=\"#ma387aa2818\" y=\"86.269273\"/>\n     <use style=\"fill:#1f77b4;stroke:#1f77b4;\" x=\"163.388638\" xlink:href=\"#ma387aa2818\" y=\"66.885023\"/>\n     <use style=\"fill:#1f77b4;stroke:#1f77b4;\" x=\"154.246887\" xlink:href=\"#ma387aa2818\" y=\"87.062389\"/>\n     <use style=\"fill:#1f77b4;stroke:#1f77b4;\" x=\"175.30348\" xlink:href=\"#ma387aa2818\" y=\"111.031175\"/>\n     <use style=\"fill:#1f77b4;stroke:#1f77b4;\" x=\"126.324496\" xlink:href=\"#ma387aa2818\" y=\"74.783199\"/>\n     <use style=\"fill:#1f77b4;stroke:#1f77b4;\" x=\"136.971858\" xlink:href=\"#ma387aa2818\" y=\"54.262901\"/>\n     <use style=\"fill:#1f77b4;stroke:#1f77b4;\" x=\"179.472462\" xlink:href=\"#ma387aa2818\" y=\"97.566771\"/>\n     <use style=\"fill:#1f77b4;stroke:#1f77b4;\" x=\"165.927994\" xlink:href=\"#ma387aa2818\" y=\"107.748925\"/>\n     <use style=\"fill:#1f77b4;stroke:#1f77b4;\" x=\"123.264724\" xlink:href=\"#ma387aa2818\" y=\"71.670847\"/>\n     <use style=\"fill:#1f77b4;stroke:#1f77b4;\" x=\"104.108243\" xlink:href=\"#ma387aa2818\" y=\"42.656837\"/>\n     <use style=\"fill:#1f77b4;stroke:#1f77b4;\" x=\"126.802712\" xlink:href=\"#ma387aa2818\" y=\"73.220261\"/>\n     <use style=\"fill:#1f77b4;stroke:#1f77b4;\" x=\"100.904624\" xlink:href=\"#ma387aa2818\" y=\"46.686057\"/>\n     <use style=\"fill:#1f77b4;stroke:#1f77b4;\" x=\"87.801252\" xlink:href=\"#ma387aa2818\" y=\"38.704411\"/>\n     <use style=\"fill:#1f77b4;stroke:#1f77b4;\" x=\"109.487633\" xlink:href=\"#ma387aa2818\" y=\"37.342279\"/>\n     <use style=\"fill:#1f77b4;stroke:#1f77b4;\" x=\"177.167642\" xlink:href=\"#ma387aa2818\" y=\"96.180059\"/>\n     <use style=\"fill:#1f77b4;stroke:#1f77b4;\" x=\"172.152447\" xlink:href=\"#ma387aa2818\" y=\"107.818394\"/>\n     <use style=\"fill:#1f77b4;stroke:#1f77b4;\" x=\"137.845517\" xlink:href=\"#ma387aa2818\" y=\"91.919299\"/>\n     <use style=\"fill:#1f77b4;stroke:#1f77b4;\" x=\"111.13591\" xlink:href=\"#ma387aa2818\" y=\"61.304475\"/>\n     <use style=\"fill:#1f77b4;stroke:#1f77b4;\" x=\"124.143717\" xlink:href=\"#ma387aa2818\" y=\"77.036162\"/>\n     <use style=\"fill:#1f77b4;stroke:#1f77b4;\" x=\"163.954791\" xlink:href=\"#ma387aa2818\" y=\"77.319253\"/>\n     <use style=\"fill:#1f77b4;stroke:#1f77b4;\" x=\"76.4137\" xlink:href=\"#ma387aa2818\" y=\"31.402191\"/>\n     <use style=\"fill:#1f77b4;stroke:#1f77b4;\" x=\"160.592823\" xlink:href=\"#ma387aa2818\" y=\"91.173976\"/>\n     <use style=\"fill:#1f77b4;stroke:#1f77b4;\" x=\"106.396171\" xlink:href=\"#ma387aa2818\" y=\"51.697098\"/>\n     <use style=\"fill:#1f77b4;stroke:#1f77b4;\" x=\"136.881974\" xlink:href=\"#ma387aa2818\" y=\"58.899858\"/>\n     <use style=\"fill:#1f77b4;stroke:#1f77b4;\" x=\"126.219864\" xlink:href=\"#ma387aa2818\" y=\"70.934527\"/>\n     <use style=\"fill:#1f77b4;stroke:#1f77b4;\" x=\"157.308992\" xlink:href=\"#ma387aa2818\" y=\"70.599047\"/>\n     <use style=\"fill:#1f77b4;stroke:#1f77b4;\" x=\"163.785429\" xlink:href=\"#ma387aa2818\" y=\"59.643574\"/>\n     <use style=\"fill:#1f77b4;stroke:#1f77b4;\" x=\"139.120253\" xlink:href=\"#ma387aa2818\" y=\"67.384844\"/>\n     <use style=\"fill:#1f77b4;stroke:#1f77b4;\" x=\"155.573355\" xlink:href=\"#ma387aa2818\" y=\"71.4539\"/>\n     <use style=\"fill:#1f77b4;stroke:#1f77b4;\" x=\"181.991392\" xlink:href=\"#ma387aa2818\" y=\"114.673268\"/>\n     <use style=\"fill:#1f77b4;stroke:#1f77b4;\" x=\"112.940163\" xlink:href=\"#ma387aa2818\" y=\"51.61236\"/>\n     <use style=\"fill:#1f77b4;stroke:#1f77b4;\" x=\"130.796261\" xlink:href=\"#ma387aa2818\" y=\"97.675569\"/>\n     <use style=\"fill:#1f77b4;stroke:#1f77b4;\" x=\"150.957764\" xlink:href=\"#ma387aa2818\" y=\"102.44607\"/>\n     <use style=\"fill:#1f77b4;stroke:#1f77b4;\" x=\"142.363667\" xlink:href=\"#ma387aa2818\" y=\"78.658093\"/>\n     <use style=\"fill:#1f77b4;stroke:#1f77b4;\" x=\"122.546643\" xlink:href=\"#ma387aa2818\" y=\"66.069946\"/>\n     <use style=\"fill:#1f77b4;stroke:#1f77b4;\" x=\"175.886996\" xlink:href=\"#ma387aa2818\" y=\"118.332669\"/>\n     <use style=\"fill:#1f77b4;stroke:#1f77b4;\" x=\"155.746618\" xlink:href=\"#ma387aa2818\" y=\"77.753096\"/>\n     <use style=\"fill:#1f77b4;stroke:#1f77b4;\" x=\"153.445523\" xlink:href=\"#ma387aa2818\" y=\"76.743086\"/>\n     <use style=\"fill:#1f77b4;stroke:#1f77b4;\" x=\"106.885407\" xlink:href=\"#ma387aa2818\" y=\"66.998238\"/>\n     <use style=\"fill:#1f77b4;stroke:#1f77b4;\" x=\"137.159873\" xlink:href=\"#ma387aa2818\" y=\"92.036303\"/>\n     <use style=\"fill:#1f77b4;stroke:#1f77b4;\" x=\"93.113012\" xlink:href=\"#ma387aa2818\" y=\"52.911092\"/>\n     <use style=\"fill:#1f77b4;stroke:#1f77b4;\" x=\"126.520321\" xlink:href=\"#ma387aa2818\" y=\"68.813774\"/>\n     <use style=\"fill:#1f77b4;stroke:#1f77b4;\" x=\"157.365228\" xlink:href=\"#ma387aa2818\" y=\"94.693741\"/>\n     <use style=\"fill:#1f77b4;stroke:#1f77b4;\" x=\"141.91125\" xlink:href=\"#ma387aa2818\" y=\"76.661751\"/>\n     <use style=\"fill:#1f77b4;stroke:#1f77b4;\" x=\"134.204486\" xlink:href=\"#ma387aa2818\" y=\"66.244198\"/>\n     <use style=\"fill:#1f77b4;stroke:#1f77b4;\" x=\"145.016637\" xlink:href=\"#ma387aa2818\" y=\"90.816419\"/>\n     <use style=\"fill:#1f77b4;stroke:#1f77b4;\" x=\"97.138075\" xlink:href=\"#ma387aa2818\" y=\"41.525927\"/>\n     <use style=\"fill:#1f77b4;stroke:#1f77b4;\" x=\"140.189619\" xlink:href=\"#ma387aa2818\" y=\"79.263266\"/>\n     <use style=\"fill:#1f77b4;stroke:#1f77b4;\" x=\"190.485671\" xlink:href=\"#ma387aa2818\" y=\"109.522465\"/>\n     <use style=\"fill:#1f77b4;stroke:#1f77b4;\" x=\"141.213899\" xlink:href=\"#ma387aa2818\" y=\"108.297485\"/>\n     <use style=\"fill:#1f77b4;stroke:#1f77b4;\" x=\"114.156388\" xlink:href=\"#ma387aa2818\" y=\"74.575489\"/>\n     <use style=\"fill:#1f77b4;stroke:#1f77b4;\" x=\"92.042215\" xlink:href=\"#ma387aa2818\" y=\"59.386569\"/>\n     <use style=\"fill:#1f77b4;stroke:#1f77b4;\" x=\"144.222288\" xlink:href=\"#ma387aa2818\" y=\"78.208763\"/>\n     <use style=\"fill:#1f77b4;stroke:#1f77b4;\" x=\"153.921452\" xlink:href=\"#ma387aa2818\" y=\"86.604723\"/>\n     <use style=\"fill:#1f77b4;stroke:#1f77b4;\" x=\"178.794438\" xlink:href=\"#ma387aa2818\" y=\"108.528746\"/>\n     <use style=\"fill:#1f77b4;stroke:#1f77b4;\" x=\"188.752822\" xlink:href=\"#ma387aa2818\" y=\"92.147257\"/>\n     <use style=\"fill:#1f77b4;stroke:#1f77b4;\" x=\"202.496517\" xlink:href=\"#ma387aa2818\" y=\"115.693677\"/>\n     <use style=\"fill:#1f77b4;stroke:#1f77b4;\" x=\"139.69158\" xlink:href=\"#ma387aa2818\" y=\"71.39274\"/>\n     <use style=\"fill:#1f77b4;stroke:#1f77b4;\" x=\"108.424164\" xlink:href=\"#ma387aa2818\" y=\"60.754275\"/>\n     <use style=\"fill:#1f77b4;stroke:#1f77b4;\" x=\"106.571088\" xlink:href=\"#ma387aa2818\" y=\"78.503958\"/>\n     <use style=\"fill:#1f77b4;stroke:#1f77b4;\" x=\"108.984561\" xlink:href=\"#ma387aa2818\" y=\"59.227688\"/>\n     <use style=\"fill:#1f77b4;stroke:#1f77b4;\" x=\"170.70248\" xlink:href=\"#ma387aa2818\" y=\"93.521117\"/>\n     <use style=\"fill:#1f77b4;stroke:#1f77b4;\" x=\"161.149062\" xlink:href=\"#ma387aa2818\" y=\"90.765337\"/>\n     <use style=\"fill:#1f77b4;stroke:#1f77b4;\" x=\"134.967188\" xlink:href=\"#ma387aa2818\" y=\"54.244056\"/>\n     <use style=\"fill:#1f77b4;stroke:#1f77b4;\" x=\"142.451184\" xlink:href=\"#ma387aa2818\" y=\"79.994499\"/>\n     <use style=\"fill:#1f77b4;stroke:#1f77b4;\" x=\"135.35841\" xlink:href=\"#ma387aa2818\" y=\"64.02859\"/>\n     <use style=\"fill:#1f77b4;stroke:#1f77b4;\" x=\"144.305774\" xlink:href=\"#ma387aa2818\" y=\"67.009163\"/>\n     <use style=\"fill:#1f77b4;stroke:#1f77b4;\" x=\"188.786398\" xlink:href=\"#ma387aa2818\" y=\"98.430967\"/>\n     <use style=\"fill:#1f77b4;stroke:#1f77b4;\" x=\"139.223579\" xlink:href=\"#ma387aa2818\" y=\"64.013299\"/>\n     <use style=\"fill:#1f77b4;stroke:#1f77b4;\" x=\"186.678572\" xlink:href=\"#ma387aa2818\" y=\"104.692127\"/>\n     <use style=\"fill:#1f77b4;stroke:#1f77b4;\" x=\"183.037066\" xlink:href=\"#ma387aa2818\" y=\"114.597893\"/>\n     <use style=\"fill:#1f77b4;stroke:#1f77b4;\" x=\"143.918995\" xlink:href=\"#ma387aa2818\" y=\"84.923392\"/>\n     <use style=\"fill:#1f77b4;stroke:#1f77b4;\" x=\"146.281242\" xlink:href=\"#ma387aa2818\" y=\"85.337369\"/>\n     <use style=\"fill:#1f77b4;stroke:#1f77b4;\" x=\"150.535444\" xlink:href=\"#ma387aa2818\" y=\"88.373206\"/>\n     <use style=\"fill:#1f77b4;stroke:#1f77b4;\" x=\"144.462729\" xlink:href=\"#ma387aa2818\" y=\"94.41323\"/>\n     <use style=\"fill:#1f77b4;stroke:#1f77b4;\" x=\"113.555734\" xlink:href=\"#ma387aa2818\" y=\"51.348353\"/>\n     <use style=\"fill:#1f77b4;stroke:#1f77b4;\" x=\"119.410008\" xlink:href=\"#ma387aa2818\" y=\"68.885357\"/>\n     <use style=\"fill:#1f77b4;stroke:#1f77b4;\" x=\"143.347861\" xlink:href=\"#ma387aa2818\" y=\"74.613607\"/>\n     <use style=\"fill:#1f77b4;stroke:#1f77b4;\" x=\"108.663809\" xlink:href=\"#ma387aa2818\" y=\"40.777171\"/>\n     <use style=\"fill:#1f77b4;stroke:#1f77b4;\" x=\"169.509878\" xlink:href=\"#ma387aa2818\" y=\"91.120447\"/>\n     <use style=\"fill:#1f77b4;stroke:#1f77b4;\" x=\"142.168417\" xlink:href=\"#ma387aa2818\" y=\"76.684627\"/>\n     <use style=\"fill:#1f77b4;stroke:#1f77b4;\" x=\"165.884545\" xlink:href=\"#ma387aa2818\" y=\"109.684229\"/>\n     <use style=\"fill:#1f77b4;stroke:#1f77b4;\" x=\"155.949935\" xlink:href=\"#ma387aa2818\" y=\"89.428185\"/>\n     <use style=\"fill:#1f77b4;stroke:#1f77b4;\" x=\"151.061003\" xlink:href=\"#ma387aa2818\" y=\"97.443991\"/>\n     <use style=\"fill:#1f77b4;stroke:#1f77b4;\" x=\"117.914639\" xlink:href=\"#ma387aa2818\" y=\"50.428468\"/>\n     <use style=\"fill:#1f77b4;stroke:#1f77b4;\" x=\"106.525637\" xlink:href=\"#ma387aa2818\" y=\"55.737911\"/>\n     <use style=\"fill:#1f77b4;stroke:#1f77b4;\" x=\"185.833375\" xlink:href=\"#ma387aa2818\" y=\"120.417636\"/>\n     <use style=\"fill:#1f77b4;stroke:#1f77b4;\" x=\"151.51277\" xlink:href=\"#ma387aa2818\" y=\"80.90527\"/>\n     <use style=\"fill:#1f77b4;stroke:#1f77b4;\" x=\"120.956992\" xlink:href=\"#ma387aa2818\" y=\"82.718681\"/>\n     <use style=\"fill:#1f77b4;stroke:#1f77b4;\" x=\"178.572886\" xlink:href=\"#ma387aa2818\" y=\"105.874151\"/>\n     <use style=\"fill:#1f77b4;stroke:#1f77b4;\" x=\"117.924164\" xlink:href=\"#ma387aa2818\" y=\"75.807632\"/>\n     <use style=\"fill:#1f77b4;stroke:#1f77b4;\" x=\"150.142168\" xlink:href=\"#ma387aa2818\" y=\"76.329413\"/>\n     <use style=\"fill:#1f77b4;stroke:#1f77b4;\" x=\"106.822934\" xlink:href=\"#ma387aa2818\" y=\"58.362467\"/>\n     <use style=\"fill:#1f77b4;stroke:#1f77b4;\" x=\"172.427039\" xlink:href=\"#ma387aa2818\" y=\"101.755523\"/>\n     <use style=\"fill:#1f77b4;stroke:#1f77b4;\" x=\"140.286118\" xlink:href=\"#ma387aa2818\" y=\"65.544237\"/>\n     <use style=\"fill:#1f77b4;stroke:#1f77b4;\" x=\"121.937481\" xlink:href=\"#ma387aa2818\" y=\"66.841815\"/>\n     <use style=\"fill:#1f77b4;stroke:#1f77b4;\" x=\"161.323262\" xlink:href=\"#ma387aa2818\" y=\"81.236338\"/>\n     <use style=\"fill:#1f77b4;stroke:#1f77b4;\" x=\"143.921436\" xlink:href=\"#ma387aa2818\" y=\"78.150091\"/>\n     <use style=\"fill:#1f77b4;stroke:#1f77b4;\" x=\"94.04237\" xlink:href=\"#ma387aa2818\" y=\"58.37907\"/>\n     <use style=\"fill:#1f77b4;stroke:#1f77b4;\" x=\"159.65871\" xlink:href=\"#ma387aa2818\" y=\"94.567515\"/>\n     <use style=\"fill:#1f77b4;stroke:#1f77b4;\" x=\"161.76754\" xlink:href=\"#ma387aa2818\" y=\"88.689093\"/>\n     <use style=\"fill:#1f77b4;stroke:#1f77b4;\" x=\"109.152887\" xlink:href=\"#ma387aa2818\" y=\"66.624626\"/>\n     <use style=\"fill:#1f77b4;stroke:#1f77b4;\" x=\"165.138041\" xlink:href=\"#ma387aa2818\" y=\"68.134611\"/>\n     <use style=\"fill:#1f77b4;stroke:#1f77b4;\" x=\"161.316875\" xlink:href=\"#ma387aa2818\" y=\"74.550191\"/>\n     <use style=\"fill:#1f77b4;stroke:#1f77b4;\" x=\"176.383551\" xlink:href=\"#ma387aa2818\" y=\"83.061028\"/>\n     <use style=\"fill:#1f77b4;stroke:#1f77b4;\" x=\"97.523763\" xlink:href=\"#ma387aa2818\" y=\"56.694345\"/>\n     <use style=\"fill:#1f77b4;stroke:#1f77b4;\" x=\"147.006856\" xlink:href=\"#ma387aa2818\" y=\"74.722267\"/>\n     <use style=\"fill:#1f77b4;stroke:#1f77b4;\" x=\"107.228327\" xlink:href=\"#ma387aa2818\" y=\"55.686532\"/>\n     <use style=\"fill:#1f77b4;stroke:#1f77b4;\" x=\"156.224328\" xlink:href=\"#ma387aa2818\" y=\"83.549324\"/>\n     <use style=\"fill:#1f77b4;stroke:#1f77b4;\" x=\"132.119949\" xlink:href=\"#ma387aa2818\" y=\"69.686288\"/>\n    </g>\n   </g>\n   <g id=\"matplotlib.axis_1\">\n    <g id=\"xtick_1\">\n     <g id=\"line2d_1\">\n      <defs>\n       <path d=\"M 0 0 \nL 0 3.5 \n\" id=\"mad69a924c7\" style=\"stroke:#000000;stroke-width:0.8;\"/>\n      </defs>\n      <g>\n       <use style=\"stroke:#000000;stroke-width:0.8;\" x=\"80.770184\" xlink:href=\"#mad69a924c7\" y=\"143.1\"/>\n      </g>\n     </g>\n     <g id=\"text_1\">\n      <!-- −2 -->\n      <g transform=\"translate(73.39909 157.698438)scale(0.1 -0.1)\">\n       <defs>\n        <path d=\"M 10.59375 35.5 \nL 73.1875 35.5 \nL 73.1875 27.203125 \nL 10.59375 27.203125 \nz\n\" id=\"DejaVuSans-8722\"/>\n        <path d=\"M 19.1875 8.296875 \nL 53.609375 8.296875 \nL 53.609375 0 \nL 7.328125 0 \nL 7.328125 8.296875 \nQ 12.9375 14.109375 22.625 23.890625 \nQ 32.328125 33.6875 34.8125 36.53125 \nQ 39.546875 41.84375 41.421875 45.53125 \nQ 43.3125 49.21875 43.3125 52.78125 \nQ 43.3125 58.59375 39.234375 62.25 \nQ 35.15625 65.921875 28.609375 65.921875 \nQ 23.96875 65.921875 18.8125 64.3125 \nQ 13.671875 62.703125 7.8125 59.421875 \nL 7.8125 69.390625 \nQ 13.765625 71.78125 18.9375 73 \nQ 24.125 74.21875 28.421875 74.21875 \nQ 39.75 74.21875 46.484375 68.546875 \nQ 53.21875 62.890625 53.21875 53.421875 \nQ 53.21875 48.921875 51.53125 44.890625 \nQ 49.859375 40.875 45.40625 35.40625 \nQ 44.1875 33.984375 37.640625 27.21875 \nQ 31.109375 20.453125 19.1875 8.296875 \nz\n\" id=\"DejaVuSans-50\"/>\n       </defs>\n       <use xlink:href=\"#DejaVuSans-8722\"/>\n       <use x=\"83.789062\" xlink:href=\"#DejaVuSans-50\"/>\n      </g>\n     </g>\n    </g>\n    <g id=\"xtick_2\">\n     <g id=\"line2d_2\">\n      <g>\n       <use style=\"stroke:#000000;stroke-width:0.8;\" x=\"139.554186\" xlink:href=\"#mad69a924c7\" y=\"143.1\"/>\n      </g>\n     </g>\n     <g id=\"text_2\">\n      <!-- 0 -->\n      <g transform=\"translate(136.372936 157.698438)scale(0.1 -0.1)\">\n       <defs>\n        <path d=\"M 31.78125 66.40625 \nQ 24.171875 66.40625 20.328125 58.90625 \nQ 16.5 51.421875 16.5 36.375 \nQ 16.5 21.390625 20.328125 13.890625 \nQ 24.171875 6.390625 31.78125 6.390625 \nQ 39.453125 6.390625 43.28125 13.890625 \nQ 47.125 21.390625 47.125 36.375 \nQ 47.125 51.421875 43.28125 58.90625 \nQ 39.453125 66.40625 31.78125 66.40625 \nz\nM 31.78125 74.21875 \nQ 44.046875 74.21875 50.515625 64.515625 \nQ 56.984375 54.828125 56.984375 36.375 \nQ 56.984375 17.96875 50.515625 8.265625 \nQ 44.046875 -1.421875 31.78125 -1.421875 \nQ 19.53125 -1.421875 13.0625 8.265625 \nQ 6.59375 17.96875 6.59375 36.375 \nQ 6.59375 54.828125 13.0625 64.515625 \nQ 19.53125 74.21875 31.78125 74.21875 \nz\n\" id=\"DejaVuSans-48\"/>\n       </defs>\n       <use xlink:href=\"#DejaVuSans-48\"/>\n      </g>\n     </g>\n    </g>\n    <g id=\"xtick_3\">\n     <g id=\"line2d_3\">\n      <g>\n       <use style=\"stroke:#000000;stroke-width:0.8;\" x=\"198.338187\" xlink:href=\"#mad69a924c7\" y=\"143.1\"/>\n      </g>\n     </g>\n     <g id=\"text_3\">\n      <!-- 2 -->\n      <g transform=\"translate(195.156937 157.698438)scale(0.1 -0.1)\">\n       <use xlink:href=\"#DejaVuSans-50\"/>\n      </g>\n     </g>\n    </g>\n   </g>\n   <g id=\"matplotlib.axis_2\">\n    <g id=\"ytick_1\">\n     <g id=\"line2d_4\">\n      <defs>\n       <path d=\"M 0 0 \nL -3.5 0 \n\" id=\"m47fda62312\" style=\"stroke:#000000;stroke-width:0.8;\"/>\n      </defs>\n      <g>\n       <use style=\"stroke:#000000;stroke-width:0.8;\" x=\"28.942188\" xlink:href=\"#m47fda62312\" y=\"122.570051\"/>\n      </g>\n     </g>\n     <g id=\"text_4\">\n      <!-- −5 -->\n      <g transform=\"translate(7.2 126.36927)scale(0.1 -0.1)\">\n       <defs>\n        <path d=\"M 10.796875 72.90625 \nL 49.515625 72.90625 \nL 49.515625 64.59375 \nL 19.828125 64.59375 \nL 19.828125 46.734375 \nQ 21.96875 47.46875 24.109375 47.828125 \nQ 26.265625 48.1875 28.421875 48.1875 \nQ 40.625 48.1875 47.75 41.5 \nQ 54.890625 34.8125 54.890625 23.390625 \nQ 54.890625 11.625 47.5625 5.09375 \nQ 40.234375 -1.421875 26.90625 -1.421875 \nQ 22.3125 -1.421875 17.546875 -0.640625 \nQ 12.796875 0.140625 7.71875 1.703125 \nL 7.71875 11.625 \nQ 12.109375 9.234375 16.796875 8.0625 \nQ 21.484375 6.890625 26.703125 6.890625 \nQ 35.15625 6.890625 40.078125 11.328125 \nQ 45.015625 15.765625 45.015625 23.390625 \nQ 45.015625 31 40.078125 35.4375 \nQ 35.15625 39.890625 26.703125 39.890625 \nQ 22.75 39.890625 18.8125 39.015625 \nQ 14.890625 38.140625 10.796875 36.28125 \nz\n\" id=\"DejaVuSans-53\"/>\n       </defs>\n       <use xlink:href=\"#DejaVuSans-8722\"/>\n       <use x=\"83.789062\" xlink:href=\"#DejaVuSans-53\"/>\n      </g>\n     </g>\n    </g>\n    <g id=\"ytick_2\">\n     <g id=\"line2d_5\">\n      <g>\n       <use style=\"stroke:#000000;stroke-width:0.8;\" x=\"28.942188\" xlink:href=\"#m47fda62312\" y=\"97.719869\"/>\n      </g>\n     </g>\n     <g id=\"text_5\">\n      <!-- 0 -->\n      <g transform=\"translate(15.579688 101.519088)scale(0.1 -0.1)\">\n       <use xlink:href=\"#DejaVuSans-48\"/>\n      </g>\n     </g>\n    </g>\n    <g id=\"ytick_3\">\n     <g id=\"line2d_6\">\n      <g>\n       <use style=\"stroke:#000000;stroke-width:0.8;\" x=\"28.942188\" xlink:href=\"#m47fda62312\" y=\"72.869686\"/>\n      </g>\n     </g>\n     <g id=\"text_6\">\n      <!-- 5 -->\n      <g transform=\"translate(15.579688 76.668905)scale(0.1 -0.1)\">\n       <use xlink:href=\"#DejaVuSans-53\"/>\n      </g>\n     </g>\n    </g>\n    <g id=\"ytick_4\">\n     <g id=\"line2d_7\">\n      <g>\n       <use style=\"stroke:#000000;stroke-width:0.8;\" x=\"28.942188\" xlink:href=\"#m47fda62312\" y=\"48.019504\"/>\n      </g>\n     </g>\n     <g id=\"text_7\">\n      <!-- 10 -->\n      <g transform=\"translate(9.217188 51.818723)scale(0.1 -0.1)\">\n       <defs>\n        <path d=\"M 12.40625 8.296875 \nL 28.515625 8.296875 \nL 28.515625 63.921875 \nL 10.984375 60.40625 \nL 10.984375 69.390625 \nL 28.421875 72.90625 \nL 38.28125 72.90625 \nL 38.28125 8.296875 \nL 54.390625 8.296875 \nL 54.390625 0 \nL 12.40625 0 \nz\n\" id=\"DejaVuSans-49\"/>\n       </defs>\n       <use xlink:href=\"#DejaVuSans-49\"/>\n       <use x=\"63.623047\" xlink:href=\"#DejaVuSans-48\"/>\n      </g>\n     </g>\n    </g>\n    <g id=\"ytick_5\">\n     <g id=\"line2d_8\">\n      <g>\n       <use style=\"stroke:#000000;stroke-width:0.8;\" x=\"28.942188\" xlink:href=\"#m47fda62312\" y=\"23.169322\"/>\n      </g>\n     </g>\n     <g id=\"text_8\">\n      <!-- 15 -->\n      <g transform=\"translate(9.217188 26.968541)scale(0.1 -0.1)\">\n       <use xlink:href=\"#DejaVuSans-49\"/>\n       <use x=\"63.623047\" xlink:href=\"#DejaVuSans-53\"/>\n      </g>\n     </g>\n    </g>\n   </g>\n   <g id=\"patch_3\">\n    <path d=\"M 28.942188 143.1 \nL 28.942188 7.2 \n\" style=\"fill:none;stroke:#000000;stroke-linecap:square;stroke-linejoin:miter;stroke-width:0.8;\"/>\n   </g>\n   <g id=\"patch_4\">\n    <path d=\"M 224.242188 143.1 \nL 224.242188 7.2 \n\" style=\"fill:none;stroke:#000000;stroke-linecap:square;stroke-linejoin:miter;stroke-width:0.8;\"/>\n   </g>\n   <g id=\"patch_5\">\n    <path d=\"M 28.942188 143.1 \nL 224.242188 143.1 \n\" style=\"fill:none;stroke:#000000;stroke-linecap:square;stroke-linejoin:miter;stroke-width:0.8;\"/>\n   </g>\n   <g id=\"patch_6\">\n    <path d=\"M 28.942188 7.2 \nL 224.242188 7.2 \n\" style=\"fill:none;stroke:#000000;stroke-linecap:square;stroke-linejoin:miter;stroke-width:0.8;\"/>\n   </g>\n  </g>\n </g>\n <defs>\n  <clipPath id=\"pc5491165b2\">\n   <rect height=\"135.9\" width=\"195.3\" x=\"28.942188\" y=\"7.2\"/>\n  </clipPath>\n </defs>\n</svg>\n"
     },
     "metadata": {
      "needs_background": "light"
     }
    }
   ],
   "source": [
    "# 通过生成第二个特征features[:, 1]和标签 labels 的散点图，可以更直观地观察两者间的线性关系。\n",
    "# def use_svg_display():\n",
    "#     # 用矢量图显示\n",
    "#     display.set_matplotlib_formats('svg')\n",
    "\n",
    "# def set_figsize(figsize=(3.5, 2.5)):\n",
    "#     use_svg_display()\n",
    "#     #设置图的尺寸\n",
    "#     plt.rcParams['figure.figsize'] = figsize\n",
    "\n",
    "# set_figsize()\n",
    "plt.scatter(features[:, 1].numpy(), labels.numpy(), 1)"
   ]
  },
  {
   "source": [
    "## 3.2.2 读取数据\n",
    "在训练模型的时候，我们需要遍历数据集并不断读取小批量数据样本。这里我们定义一个函数：它每次返回batch_size（批量大小）个随机样本的特征和标签。"
   ],
   "cell_type": "markdown",
   "metadata": {}
  },
  {
   "cell_type": "code",
   "execution_count": 21,
   "metadata": {},
   "outputs": [],
   "source": [
    "def data_iter(batch_size, features, labels):\n",
    "    num_examples = len(features)\n",
    "    indices = list(range(num_examples))\n",
    "    random.shuffle(indices) #样本的读取顺序是随机的\n",
    "\n",
    "    for i in range(0, num_examples, batch_size):\n",
    "        j = torch.LongTensor(indices[i:min(i + batch_size, num_examples)]) # 最后一次可能不足一个batch\n",
    "        yield features.index_select(0,j), labels.index_select(0, j)"
   ]
  },
  {
   "cell_type": "code",
   "execution_count": 22,
   "metadata": {},
   "outputs": [
    {
     "output_type": "stream",
     "name": "stdout",
     "text": [
      "tensor([[ 0.2902, -0.2529],\n        [ 0.3798, -0.0485],\n        [-0.3315, -0.5044],\n        [-0.9878,  0.1998],\n        [ 0.7205,  0.7539],\n        [-1.6600, -0.6327],\n        [ 0.5347,  0.2940],\n        [ 0.6028,  0.8819],\n        [-1.5917, -2.0076],\n        [-0.3648, -0.1660]]) tensor([5.6405, 5.1099, 5.2529, 1.5533, 3.0906, 3.0183, 4.2598, 2.4012, 7.8569,\n        4.0390])\n"
     ]
    }
   ],
   "source": [
    "batch_size = 10\n",
    "for X, y in data_iter(batch_size, features ,labels):\n",
    "    print(X, y)\n",
    "    break"
   ]
  },
  {
   "source": [
    "## 3.2.3 初始化模型参数\n",
    "将权重初始化成均值为0、标准差为0.01的正态随机数，偏差则初始化成0。"
   ],
   "cell_type": "markdown",
   "metadata": {}
  },
  {
   "cell_type": "code",
   "execution_count": 24,
   "metadata": {},
   "outputs": [
    {
     "output_type": "stream",
     "name": "stdout",
     "text": [
      "tensor([[ 0.0179],\n        [-0.0064]], requires_grad=True) tensor([0.], requires_grad=True)\n"
     ]
    }
   ],
   "source": [
    "w = torch.tensor(np.random.normal(0, 0.01, (num_inputs, 1)), dtype=torch.float32)\n",
    "b = torch.zeros(1, dtype=torch.float32)\n",
    "\n",
    "# 之后的模型训练中，需要对这些参数求梯度来迭代参数的值，因此我们要让它们的requires_grad=True。\n",
    "w.requires_grad_(requires_grad=True)\n",
    "b.requires_grad_(requires_grad=True) \n",
    "\n",
    "print(w, b)"
   ]
  },
  {
   "source": [
    "## 3.2.4定义模型"
   ],
   "cell_type": "markdown",
   "metadata": {}
  },
  {
   "cell_type": "code",
   "execution_count": 25,
   "metadata": {},
   "outputs": [],
   "source": [
    "def linreg(X, w, b):\n",
    "    return torch.mm(X, w) + b"
   ]
  },
  {
   "source": [
    "## 3.2.5 定义损失函数"
   ],
   "cell_type": "markdown",
   "metadata": {}
  },
  {
   "cell_type": "code",
   "execution_count": 29,
   "metadata": {},
   "outputs": [],
   "source": [
    "def squared_loss(y_hat, y):\n",
    "    # 注意这里返回的是向量, 另外, pytorch里的MSELoss并没有除以 2\n",
    "    return (y_hat - y.view(y_hat.size())) ** 2 / 2"
   ]
  },
  {
   "source": [
    "## 定义优化算法"
   ],
   "cell_type": "markdown",
   "metadata": {}
  },
  {
   "cell_type": "code",
   "execution_count": 27,
   "metadata": {},
   "outputs": [],
   "source": [
    "def sgd(params, lr, batch_size):\n",
    "    for param in params:\n",
    "        param.data -= lr * param.grad / batch_size"
   ]
  },
  {
   "source": [
    "## 3.2.7 训练模型"
   ],
   "cell_type": "markdown",
   "metadata": {}
  },
  {
   "cell_type": "code",
   "execution_count": 30,
   "metadata": {},
   "outputs": [
    {
     "output_type": "stream",
     "name": "stdout",
     "text": [
      "epoch 1, loss 0.030307\nepoch 2, loss 0.000099\nepoch 3, loss 0.000049\n"
     ]
    }
   ],
   "source": [
    "lr = 0.03\n",
    "num_epochs = 3\n",
    "net = linreg\n",
    "loss = squared_loss\n",
    "\n",
    "for epoch in range(num_epochs): # 训练模型一共需要num_epochs个迭代周期\n",
    "    # 在每一个迭代周期中，会使用训练数据集中所有样本一次（假设样本数能够被批量大小整除）。X\n",
    "    # 和y分别是小批量样本的特征和标签\n",
    "    for X, y in data_iter(batch_size, features , labels):\n",
    "        l = loss(net(X, w, b), y).sum() \n",
    "        l.backward()\n",
    "        sgd([w, b], lr, batch_size)\n",
    "\n",
    "        # 梯度清零\n",
    "        w.grad.data.zero_()\n",
    "        b.grad.data.zero_()\n",
    "\n",
    "    train_l = loss(net(features, w, b), labels)\n",
    "    print('epoch %d, loss %f' % (epoch + 1, train_l.mean().item()))"
   ]
  },
  {
   "cell_type": "code",
   "execution_count": 31,
   "metadata": {},
   "outputs": [
    {
     "output_type": "stream",
     "name": "stdout",
     "text": [
      "[2, -3.4] \n tensor([[ 2.0000],\n        [-3.4003]], requires_grad=True)\n4.2 \n tensor([4.2003], requires_grad=True)\n"
     ]
    }
   ],
   "source": [
    "print(true_w, '\\n', w)\n",
    "print(true_b, '\\n', b)"
   ]
  },
  {
   "source": [
    "# 3.3 线性回归的简洁实现\n",
    "## 3.3.1 生成数据集"
   ],
   "cell_type": "markdown",
   "metadata": {}
  },
  {
   "cell_type": "code",
   "execution_count": 18,
   "metadata": {},
   "outputs": [],
   "source": [
    "num_inputs = 2\n",
    "num_examples = 1000\n",
    "true_w = [2, -3.4]\n",
    "true_b = 4.2\n",
    "features = torch.tensor(np.random.normal(0, 1, (num_examples, num_inputs)), dtype=torch.float)\n",
    "labels = true_w[0] * features[:, 0] + true_w[1] * features[:, 1] + true_b\n",
    "labels += torch.tensor(np.random.normal(0, 0.01, size=labels.size()), dtype=torch.float)"
   ]
  },
  {
   "source": [
    "## 读取数据\n",
    "PyTorch提供了data包来读取数据。由于data常用作变量名，我们将导入的data模块用Data代替。在每一次迭代中，我们将随机读取包含10个数据样本的小批量。"
   ],
   "cell_type": "markdown",
   "metadata": {}
  },
  {
   "cell_type": "code",
   "execution_count": 19,
   "metadata": {},
   "outputs": [],
   "source": [
    "import torch.utils.data as Data \n",
    "\n",
    "batch_size = 10\n",
    "# 将训练数据特征和标签组合\n",
    "dataset = Data.TensorDataset(features, labels)\n",
    "#随机读取小批量\n",
    "data_iter = Data.DataLoader(dataset, batch_size, shuffle=True)"
   ]
  },
  {
   "cell_type": "code",
   "execution_count": 35,
   "metadata": {},
   "outputs": [
    {
     "output_type": "stream",
     "name": "stdout",
     "text": [
      "tensor([[-1.5575,  3.6935],\n        [ 1.1942,  0.2009],\n        [-0.2711,  1.3183],\n        [-0.0785, -0.2183],\n        [ 0.5472, -1.2402],\n        [-0.0370, -1.8741],\n        [ 0.1241, -0.8140],\n        [-0.0073, -1.1363],\n        [-1.8598,  0.3146],\n        [ 1.1975,  0.7633]]) tensor([-11.4613,   5.9086,  -0.8228,   4.7782,   9.5253,  10.4683,   7.2237,\n          8.0518,  -0.5826,   3.9820])\n"
     ]
    }
   ],
   "source": [
    "for X,y in data_iter:\n",
    "    print(X, y)\n",
    "    break"
   ]
  },
  {
   "source": [
    "## 3.3.3 定义模型"
   ],
   "cell_type": "markdown",
   "metadata": {}
  },
  {
   "cell_type": "code",
   "execution_count": 20,
   "metadata": {},
   "outputs": [
    {
     "output_type": "stream",
     "name": "stdout",
     "text": [
      "LinearNet(\n  (linear): Linear(in_features=2, out_features=1, bias=True)\n)\n"
     ]
    }
   ],
   "source": [
    "import torch.nn as nn\n",
    "class LinearNet(nn.Module):\n",
    "    def __init__(self, n_feature):\n",
    "        super(LinearNet, self).__init__()\n",
    "        self.linear = nn.Linear(n_feature, 1)\n",
    "\n",
    "    # forward 定义前向传播\n",
    "    def forward(self, x):\n",
    "        y = self.linear(x)\n",
    "        return y\n",
    "\n",
    "net = LinearNet(num_inputs)\n",
    "print(net)\n"
   ]
  },
  {
   "cell_type": "code",
   "execution_count": 22,
   "metadata": {},
   "outputs": [
    {
     "output_type": "stream",
     "name": "stdout",
     "text": [
      "Sequential(\n  (linear): Linear(in_features=2, out_features=1, bias=True)\n)\nLinear(in_features=2, out_features=1, bias=True)\n"
     ]
    }
   ],
   "source": [
    "# 用nn.Sequential来更加方便地搭建网络，Sequential是一个有序的容器，网络层将按照在传入Sequential的顺序依次被添加到计算图中。\n",
    "net  = nn.Sequential(\n",
    "    nn.Linear(num_inputs, 1)\n",
    ")\n",
    "\n",
    "# 写法二\n",
    "net = nn.Sequential()\n",
    "net.add_module('linear', nn.Linear(num_inputs, 1))\n",
    "\n",
    "#写法三\n",
    "from collections import OrderedDict\n",
    "net = nn.Sequential(OrderedDict([\n",
    "    ('linear', nn.Linear(num_inputs,1))\n",
    "]))\n",
    "\n",
    "print(net)\n",
    "print(net[0])"
   ]
  },
  {
   "cell_type": "code",
   "execution_count": 9,
   "metadata": {},
   "outputs": [
    {
     "output_type": "stream",
     "name": "stdout",
     "text": [
      "Parameter containing:\ntensor([[-0.4031,  0.4251]], requires_grad=True)\nParameter containing:\ntensor([0.5097], requires_grad=True)\n"
     ]
    }
   ],
   "source": [
    "# 可以通过net.parameters()来查看模型所有的可学习参数，此函数将返回一个生成器。\n",
    "for param in net.parameters():\n",
    "    print(param)"
   ]
  },
  {
   "source": [
    "## 3.3.4 初始化模型参数"
   ],
   "cell_type": "markdown",
   "metadata": {}
  },
  {
   "cell_type": "code",
   "execution_count": 23,
   "metadata": {},
   "outputs": [
    {
     "output_type": "execute_result",
     "data": {
      "text/plain": [
       "Parameter containing:\n",
       "tensor([0.], requires_grad=True)"
      ]
     },
     "metadata": {},
     "execution_count": 23
    }
   ],
   "source": [
    "from torch.nn import init\n",
    "\n",
    "init.normal_(net[0].weight, mean=0, std=0.01)\n",
    "init.constant_(net[0].bias, val=0) # 也可以直接修改bias的data: net[0].bias.data.fill_(0)"
   ]
  },
  {
   "source": [
    "## 3.3.5定义损失函数"
   ],
   "cell_type": "markdown",
   "metadata": {}
  },
  {
   "cell_type": "code",
   "execution_count": 24,
   "metadata": {},
   "outputs": [],
   "source": [
    "loss = nn.MSELoss()"
   ]
  },
  {
   "source": [
    "## 定义优化算法"
   ],
   "cell_type": "markdown",
   "metadata": {}
  },
  {
   "cell_type": "code",
   "execution_count": 25,
   "metadata": {},
   "outputs": [
    {
     "output_type": "stream",
     "name": "stdout",
     "text": [
      "SGD (\nParameter Group 0\n    dampening: 0\n    lr: 0.03\n    momentum: 0\n    nesterov: False\n    weight_decay: 0\n)\n"
     ]
    }
   ],
   "source": [
    "import torch.optim as optim\n",
    "\n",
    "optimizer = optim.SGD(net.parameters(), lr=0.03)\n",
    "print(optimizer)"
   ]
  },
  {
   "cell_type": "code",
   "execution_count": 16,
   "metadata": {},
   "outputs": [],
   "source": [
    "# 我们还可以为不同子网络设置不同的学习率，这在finetune时经常用到。例：\n",
    "optimizer = optim.SGD([\n",
    "    # 如果对某个参数不指定学习率，就使用最外层的默认学习率\n",
    "    {'params': net.subnet1.parameters()}, # lr=0.03\n",
    "    {'params': net.subnet2.parameters(), 'lr':0.01}\n",
    "], lr=0.03)"
   ]
  },
  {
   "cell_type": "code",
   "execution_count": null,
   "metadata": {},
   "outputs": [],
   "source": [
    "# 调整学习率\n",
    "for param_group in optimizer.param_groups:\n",
    "    param_group['lr'] *= 0.1 # 学习率为之前的0.1倍"
   ]
  },
  {
   "source": [
    "## 3.3.7训练模型"
   ],
   "cell_type": "markdown",
   "metadata": {}
  },
  {
   "cell_type": "code",
   "execution_count": 26,
   "metadata": {},
   "outputs": [
    {
     "output_type": "stream",
     "name": "stdout",
     "text": [
      "epoch 1, loss:0.000287\nepoch 2, loss:0.000100\nepoch 3, loss:0.000100\n"
     ]
    }
   ],
   "source": [
    "num_epochs = 3\n",
    "for epoch in range(1, num_epochs + 1):\n",
    "    for X, y in data_iter:\n",
    "        output = net(X)\n",
    "        l = loss(output, y.view(-1, 1))\n",
    "        optimizer.zero_grad()\n",
    "        l.backward()\n",
    "        optimizer.step()\n",
    "    print('epoch %d, loss:%f' % (epoch, l.item()))\n"
   ]
  },
  {
   "cell_type": "code",
   "execution_count": 28,
   "metadata": {},
   "outputs": [
    {
     "output_type": "stream",
     "name": "stdout",
     "text": [
      "[2, -3.4] Parameter containing:\ntensor([[ 1.9999, -3.4005]], requires_grad=True)\n4.2 Parameter containing:\ntensor([4.2002], requires_grad=True)\n"
     ]
    }
   ],
   "source": [
    "dense = net[0]\n",
    "print(true_w, dense.weight)\n",
    "print(true_b, dense.bias)"
   ]
  },
  {
   "source": [
    "# 3.4 softmax回归\n",
    "对于这样的离散值预测问题，我们可以使用诸如softmax回归在内的分类模型。和线性回归不同，softmax回归的输出单元从一个变成了多个，且引入了softmax运算使输出更适合离散值的预测和训练。\n",
    "## 3.4.1 分类问题\n",
    "\n",
    "让我们考虑一个简单的图像分类问题，其输入图像的高和宽均为2像素，且色彩为灰度。这样每个像素值都可以用一个标量表示。我们将图像中的4像素分别记为$x1,x2,x3,x4$。假设训练数据集中图像的真实标签为狗、猫或鸡（假设可以用4像素表示出这3种动物），这些标签分别对应离散值$ y1,y2,y3$。\n",
    "\n",
    "我们通常使用离散的数值来表示类别，例如$y_1=1,y_2=2,y_3=3$。如此，一张图像的标签为1、2和3这3个数值中的一个。虽然我们仍然可以使用回归模型来进行建模，并将预测值就近定点化到1、2和3这3个离散值之一，但这种连续值到离散值的转化通常会影响到分类质量。因此我们一般使用更加适合离散值输出的模型来解决分类问题。\n",
    "\n",
    "## 3.4.2 softmax回归模型\n",
    "## 3.4.3 单样本分类的矢量计算表达式\n",
    "## 3.4.4 小批量样本分类的矢量计算表达式\n",
    "## 3.4.5 交叉熵损失函数\n",
    "## 3.4.6 模型预测及评价\n",
    "在训练好softmax回归模型后，给定任一样本特征，就可以预测每个输出类别的概率。通常，我们把预测概率最大的类别作为输出类别。如果它与真实类别（标签）一致，说明这次预测是正确的。在3.6节的实验中，我们将使用准确率（accuracy）来评价模型的表现。它等于正确预测数量与总预测数量之比。"
   ],
   "cell_type": "markdown",
   "metadata": {}
  },
  {
   "cell_type": "code",
   "execution_count": null,
   "metadata": {},
   "outputs": [],
   "source": []
  }
 ]
}