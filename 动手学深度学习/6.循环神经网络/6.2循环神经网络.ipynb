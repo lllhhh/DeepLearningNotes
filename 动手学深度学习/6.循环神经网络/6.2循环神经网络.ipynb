{
 "metadata": {
  "language_info": {
   "codemirror_mode": {
    "name": "ipython",
    "version": 3
   },
   "file_extension": ".py",
   "mimetype": "text/x-python",
   "name": "python",
   "nbconvert_exporter": "python",
   "pygments_lexer": "ipython3",
   "version": "3.7.2-final"
  },
  "orig_nbformat": 2,
  "kernelspec": {
   "name": "python37264bit2fe105458b814211b3f80b51fd7de634",
   "display_name": "Python 3.7.2 64-bit"
  }
 },
 "nbformat": 4,
 "nbformat_minor": 2,
 "cells": [
  {
   "cell_type": "code",
   "execution_count": 1,
   "metadata": {},
   "outputs": [
    {
     "output_type": "execute_result",
     "data": {
      "text/plain": [
       "tensor([[-1.3564,  0.4081, -2.2246,  0.8282],\n",
       "        [ 3.4581, -0.1493,  0.2208, -1.1482],\n",
       "        [ 1.8279, -1.3887, -0.9282, -0.6126]])"
      ]
     },
     "metadata": {},
     "execution_count": 1
    }
   ],
   "source": [
    "import torch\n",
    "\n",
    "X, W_xh = torch.randn(3, 1), torch.randn(1, 4)\n",
    "H, W_hh = torch.randn(3, 4), torch.randn(4, 4)\n",
    "torch.matmul(X, W_xh) + torch.matmul(H, W_hh)"
   ]
  },
  {
   "cell_type": "code",
   "execution_count": 2,
   "metadata": {},
   "outputs": [
    {
     "output_type": "execute_result",
     "data": {
      "text/plain": [
       "tensor([[-1.3564,  0.4081, -2.2246,  0.8282],\n",
       "        [ 3.4581, -0.1493,  0.2208, -1.1482],\n",
       "        [ 1.8279, -1.3887, -0.9282, -0.6126]])"
      ]
     },
     "metadata": {},
     "execution_count": 2
    }
   ],
   "source": [
    "torch.matmul(torch.cat( (X, H), dim=1), torch.cat((W_xh, W_hh), dim=0))"
   ]
  },
  {
   "source": [
    "# 6.2.3 应用：基于字符级循环神经网络的语言模型"
   ],
   "cell_type": "markdown",
   "metadata": {}
  },
  {
   "cell_type": "code",
   "execution_count": null,
   "metadata": {},
   "outputs": [],
   "source": []
  }
 ]
}