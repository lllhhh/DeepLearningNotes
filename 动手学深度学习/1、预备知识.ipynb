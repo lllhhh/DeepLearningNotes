{
 "metadata": {
  "language_info": {
   "codemirror_mode": {
    "name": "ipython",
    "version": 3
   },
   "file_extension": ".py",
   "mimetype": "text/x-python",
   "name": "python",
   "nbconvert_exporter": "python",
   "pygments_lexer": "ipython3",
   "version": "3.8.3-final"
  },
  "orig_nbformat": 2,
  "kernelspec": {
   "name": "Python 3.8.3 64-bit",
   "display_name": "Python 3.8.3 64-bit",
   "metadata": {
    "interpreter": {
     "hash": "082e9a3bcad0a290d0001e938aa60b99250c6c2ef33a923c00b70f9826caf4b7"
    }
   }
  }
 },
 "nbformat": 4,
 "nbformat_minor": 2,
 "cells": [
  {
   "source": [
    "## 2.2数据操作\n",
    "### 2.2.1创建**Tensor**"
   ],
   "cell_type": "markdown",
   "metadata": {}
  },
  {
   "cell_type": "code",
   "execution_count": 3,
   "metadata": {},
   "outputs": [
    {
     "output_type": "stream",
     "name": "stdout",
     "text": [
      "tensor([[ 0.0000e+00, -2.0000e+00, -1.1132e+09],\n        [ 2.0005e+00,  1.1210e-44,  0.0000e+00],\n        [ 0.0000e+00,  0.0000e+00,  0.0000e+00],\n        [ 0.0000e+00,  0.0000e+00,  0.0000e+00],\n        [ 0.0000e+00,  0.0000e+00,  0.0000e+00]])\n"
     ]
    }
   ],
   "source": [
    "import torch\n",
    "#创建5x3未初始化tensor\n",
    "x = torch.empty(5,3)\n",
    "print(x)"
   ]
  },
  {
   "cell_type": "code",
   "execution_count": 4,
   "metadata": {},
   "outputs": [
    {
     "output_type": "stream",
     "name": "stdout",
     "text": [
      "tensor([[0.3165, 0.3172, 0.6475],\n        [0.0680, 0.8500, 0.8435],\n        [0.0205, 0.2044, 0.5202],\n        [0.6020, 0.2035, 0.3554],\n        [0.8718, 0.8554, 0.2875]])\n"
     ]
    }
   ],
   "source": [
    "# 创建5x3随机初始化tensor\n",
    "x = torch.rand(5,3)\n",
    "print(x)"
   ]
  },
  {
   "cell_type": "code",
   "execution_count": 11,
   "metadata": {},
   "outputs": [
    {
     "output_type": "stream",
     "name": "stdout",
     "text": [
      "tensor([[[0, 0],\n         [0, 0],\n         [0, 0]],\n\n        [[0, 0],\n         [0, 0],\n         [0, 0]],\n\n        [[0, 0],\n         [0, 0],\n         [0, 0]],\n\n        [[0, 0],\n         [0, 0],\n         [0, 0]],\n\n        [[0, 0],\n         [0, 0],\n         [0, 0]]])\n"
     ]
    }
   ],
   "source": [
    "# 创建long型全0的Tendor\n",
    "x = torch.zeros(5, 3, 2, dtype=torch.long)\n",
    "print(x)"
   ]
  },
  {
   "cell_type": "code",
   "execution_count": 6,
   "metadata": {},
   "outputs": [
    {
     "output_type": "stream",
     "name": "stdout",
     "text": [
      "tensor([5.5000, 3.0000])\n"
     ]
    }
   ],
   "source": [
    "# 直接创建数据：\n",
    "x = torch.tensor([5.5, 3])\n",
    "print(x)"
   ]
  },
  {
   "cell_type": "code",
   "execution_count": 12,
   "metadata": {},
   "outputs": [
    {
     "output_type": "stream",
     "name": "stdout",
     "text": [
      "tensor([[1., 1., 1.],\n        [1., 1., 1.],\n        [1., 1., 1.],\n        [1., 1., 1.],\n        [1., 1., 1.]], dtype=torch.float64)\ntensor([[0.6192, 0.5850, 0.6726],\n        [0.4536, 0.4448, 0.1438],\n        [0.5078, 0.2255, 0.5460],\n        [0.5849, 0.3043, 0.0821],\n        [0.1377, 0.6065, 0.1299]])\n"
     ]
    }
   ],
   "source": [
    "# 通过现有Tensor创建\n",
    "x = x.new_ones(5, 3, dtype=torch.float64)\n",
    "print(x)\n",
    "\n",
    "x = torch.rand_like(x, dtype=torch.float)\n",
    "print(x)"
   ]
  },
  {
   "cell_type": "code",
   "execution_count": 15,
   "metadata": {},
   "outputs": [
    {
     "output_type": "stream",
     "name": "stdout",
     "text": [
      "torch.Size([5, 3])\ntorch.Size([5, 3])\n"
     ]
    }
   ],
   "source": [
    "print(x.size())\n",
    "print(x.shape)"
   ]
  },
  {
   "source": [
    "## 2.2.2操作\n",
    "### 算数操作"
   ],
   "cell_type": "markdown",
   "metadata": {}
  },
  {
   "cell_type": "code",
   "execution_count": 16,
   "metadata": {},
   "outputs": [
    {
     "output_type": "stream",
     "name": "stdout",
     "text": [
      "tensor([[0.8448, 1.1666, 1.0561],\n        [0.7584, 0.8987, 0.5426],\n        [1.2186, 0.9776, 1.1192],\n        [0.9035, 0.4926, 0.8791],\n        [0.2136, 1.1494, 0.8703]])\n"
     ]
    }
   ],
   "source": [
    "# 加法形式一\n",
    "y = torch.rand(5, 3)\n",
    "print(x + y)"
   ]
  },
  {
   "cell_type": "code",
   "execution_count": 17,
   "metadata": {},
   "outputs": [
    {
     "output_type": "stream",
     "name": "stdout",
     "text": [
      "tensor([[0.8448, 1.1666, 1.0561],\n        [0.7584, 0.8987, 0.5426],\n        [1.2186, 0.9776, 1.1192],\n        [0.9035, 0.4926, 0.8791],\n        [0.2136, 1.1494, 0.8703]])\n"
     ]
    }
   ],
   "source": [
    "#加法形式二\n",
    "print(torch.add(x, y))"
   ]
  },
  {
   "cell_type": "code",
   "execution_count": 18,
   "metadata": {},
   "outputs": [
    {
     "output_type": "stream",
     "name": "stdout",
     "text": [
      "tensor([[0.8448, 1.1666, 1.0561],\n        [0.7584, 0.8987, 0.5426],\n        [1.2186, 0.9776, 1.1192],\n        [0.9035, 0.4926, 0.8791],\n        [0.2136, 1.1494, 0.8703]])\n"
     ]
    }
   ],
   "source": [
    "#指定输出：\n",
    "result = torch.empty(5, 3)\n",
    "torch.add(x, y, out=result)\n",
    "print(result)"
   ]
  },
  {
   "cell_type": "code",
   "execution_count": 19,
   "metadata": {},
   "outputs": [
    {
     "output_type": "stream",
     "name": "stdout",
     "text": [
      "tensor([[0.8448, 1.1666, 1.0561],\n        [0.7584, 0.8987, 0.5426],\n        [1.2186, 0.9776, 1.1192],\n        [0.9035, 0.4926, 0.8791],\n        [0.2136, 1.1494, 0.8703]])\n"
     ]
    }
   ],
   "source": [
    "# 加法形式三\n",
    "y.add_(x)\n",
    "print(y)"
   ]
  },
  {
   "cell_type": "code",
   "execution_count": 22,
   "metadata": {},
   "outputs": [
    {
     "output_type": "stream",
     "name": "stdout",
     "text": [
      "tensor([2.6192, 2.5850, 2.6726])\ntensor([2.6192, 2.5850, 2.6726])\n"
     ]
    }
   ],
   "source": [
    "## 索引\n",
    "y = x[0, :]\n",
    "y += 1\n",
    "print(y)\n",
    "print(x[0, :])"
   ]
  },
  {
   "source": [
    "### 改变形状\n"
   ],
   "cell_type": "markdown",
   "metadata": {}
  },
  {
   "cell_type": "code",
   "execution_count": 27,
   "metadata": {},
   "outputs": [
    {
     "output_type": "stream",
     "name": "stdout",
     "text": [
      "x: tensor([[2.6192, 2.5850, 2.6726],\n        [0.4536, 0.4448, 0.1438],\n        [0.5078, 0.2255, 0.5460],\n        [0.5849, 0.3043, 0.0821],\n        [0.1377, 0.6065, 0.1299]])\nview15 tensor([2.6192, 2.5850, 2.6726, 0.4536, 0.4448, 0.1438, 0.5078, 0.2255, 0.5460,\n        0.5849, 0.3043, 0.0821, 0.1377, 0.6065, 0.1299])\nz tensor([[2.6192, 2.5850, 2.6726, 0.4536, 0.4448],\n        [0.1438, 0.5078, 0.2255, 0.5460, 0.5849],\n        [0.3043, 0.0821, 0.1377, 0.6065, 0.1299]])\n"
     ]
    }
   ],
   "source": [
    "print(\"x:\",x)\n",
    "\n",
    "y = x.view(15)\n",
    "print(\"view15\",y)\n",
    "\n",
    "z = x.view(-1, 5) #-1所指的维度可以根据其他维度的值推出来\n",
    "print(\"z\",z)"
   ]
  },
  {
   "cell_type": "code",
   "execution_count": 28,
   "metadata": {},
   "outputs": [
    {
     "output_type": "stream",
     "name": "stdout",
     "text": [
      "tensor([[3.6192, 3.5850, 3.6726],\n        [1.4536, 1.4448, 1.1438],\n        [1.5078, 1.2255, 1.5460],\n        [1.5849, 1.3043, 1.0821],\n        [1.1377, 1.6065, 1.1299]])\ntensor([3.6192, 3.5850, 3.6726, 1.4536, 1.4448, 1.1438, 1.5078, 1.2255, 1.5460,\n        1.5849, 1.3043, 1.0821, 1.1377, 1.6065, 1.1299])\n"
     ]
    }
   ],
   "source": [
    "# 注意view()返回的新Tensor与源Tensor虽然可能有不同的size，但是是共享data的，也即更改其中的一个，另外一个也会跟着改变。(顾名思义，view仅仅是改变了对这个张量的观察角度，内部数据并未改变)\n",
    "x += 1\n",
    "print(x)\n",
    "print(y)"
   ]
  },
  {
   "cell_type": "code",
   "execution_count": 30,
   "metadata": {},
   "outputs": [
    {
     "output_type": "stream",
     "name": "stdout",
     "text": [
      "tensor([[ 1.6192,  1.5850,  1.6726],\n        [-0.5464, -0.5552, -0.8562],\n        [-0.4922, -0.7745, -0.4540],\n        [-0.4151, -0.6957, -0.9179],\n        [-0.8623, -0.3935, -0.8701]])\ntensor([2.6192, 2.5850, 2.6726, 0.4536, 0.4448, 0.1438, 0.5078, 0.2255, 0.5460,\n        0.5849, 0.3043, 0.0821, 0.1377, 0.6065, 0.1299])\n"
     ]
    }
   ],
   "source": [
    "#clone 所以如果我们想返回一个真正新的副本（即不共享data内存）该怎么办呢？Pytorch还提供了一个reshape()可以改变形状，但是此函数并不能保证返回的是其拷贝，所以不推荐使用。推荐先用clone创造一个副本然后再使用view\n",
    "\n",
    "#使用clone还有一个好处是会被记录在计算图中，即梯度回传到副本时也会传到源Tensor。\n",
    "\n",
    "x_cp = x.clone().view(15)\n",
    "x -= 1\n",
    "print(x)\n",
    "print(x_cp)"
   ]
  },
  {
   "cell_type": "code",
   "execution_count": 33,
   "metadata": {},
   "outputs": [
    {
     "output_type": "stream",
     "name": "stdout",
     "text": [
      "tensor([0.6719])\n0.6718560457229614\n"
     ]
    }
   ],
   "source": [
    "# 另外一个常用的函数就是item(), 它可以将一个标量Tensor转换成一个Python number：\n",
    "x = torch.rand(1)\n",
    "print(x)\n",
    "print(x.item())"
   ]
  },
  {
   "source": [
    "### 广播机制 \n",
    "当对两个形状不同的Tensor按元素运算时，可能会触发广播（broadcasting）机制：先适当复制元素使这两个Tensor形状相同后再按元素运算。"
   ],
   "cell_type": "markdown",
   "metadata": {}
  },
  {
   "cell_type": "code",
   "execution_count": 37,
   "metadata": {},
   "outputs": [
    {
     "output_type": "stream",
     "name": "stdout",
     "text": [
      "tensor([[1, 2]])\ntensor([[1],\n        [2],\n        [3]])\ntensor([[2, 3],\n        [3, 4],\n        [4, 5]])\n"
     ]
    }
   ],
   "source": [
    "x = torch.arange(1, 3).view(1, 2)\n",
    "print(x)\n",
    "\n",
    "y = torch.arange(1, 4).view(3, 1)\n",
    "print (y)\n",
    "\n",
    "print(x + y)\n",
    "\n",
    "#由于x和y分别是1行2列和3行1列的矩阵，如果要计算x + y，那么x中第一行的2个元素被广播（复制）到了第二行和第三行，而y中第一列的3个元素被广播（复制）到了第二列。如此，就可以对2个3行2列的矩阵按元素相加。"
   ]
  },
  {
   "cell_type": "code",
   "execution_count": 38,
   "metadata": {},
   "outputs": [
    {
     "output_type": "stream",
     "name": "stdout",
     "text": [
      "False\n"
     ]
    }
   ],
   "source": [
    "### 2.2.4运算的内存开销\n",
    "x = torch.tensor([1, 2])\n",
    "y = torch.tensor([3, 4])\n",
    "id_before = id(y)\n",
    "y = y + x\n",
    "print(id(y) == id_before)"
   ]
  },
  {
   "cell_type": "code",
   "execution_count": 39,
   "metadata": {},
   "outputs": [
    {
     "output_type": "stream",
     "name": "stdout",
     "text": [
      "True\n"
     ]
    }
   ],
   "source": [
    "# 如果想指定结果到原来的y的内存，我们可以使用前面介绍的索引来进行替换操作。\n",
    "x = torch.tensor([1, 2])\n",
    "y = torch.tensor([3, 4])\n",
    "id_before = id(y)\n",
    "y[:] = y + x\n",
    "print(id(y) == id_before)"
   ]
  },
  {
   "cell_type": "code",
   "execution_count": null,
   "metadata": {},
   "outputs": [],
   "source": [
    "# 我们还可以使用运算符全名函数中的out参数或者自加运算符+=(也即add_())达到上述效果，例如torch.add(x, y, out=y)和y += x(y.add_(x))。\n",
    "x = torch.tensor([1, 2])\n",
    "y = torch.tensor([3, 4])\n",
    "id_before = id(y)\n",
    "torch.add(y, x, out=y)\n",
    "print(id(y) == id_before)"
   ]
  }
 ]
}