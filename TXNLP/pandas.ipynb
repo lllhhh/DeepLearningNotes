{
 "metadata": {
  "language_info": {
   "codemirror_mode": {
    "name": "ipython",
    "version": 3
   },
   "file_extension": ".py",
   "mimetype": "text/x-python",
   "name": "python",
   "nbconvert_exporter": "python",
   "pygments_lexer": "ipython3",
   "version": "3.7.2-final"
  },
  "orig_nbformat": 2,
  "kernelspec": {
   "name": "python37264bit2fe105458b814211b3f80b51fd7de634",
   "display_name": "Python 3.7.2 64-bit"
  }
 },
 "nbformat": 4,
 "nbformat_minor": 2,
 "cells": [
  {
   "cell_type": "code",
   "execution_count": 7,
   "metadata": {},
   "outputs": [],
   "source": [
    "import pandas as pd \n",
    "from pandas import Series,DataFrame\n",
    "import numpy as np"
   ]
  },
  {
   "cell_type": "markdown",
   "metadata": {},
   "source": [
    "## series 类型说明\n",
    "这个就是一种类似一维数组的对象，它是由一组数据以及一组与之相关的数组标签组成。"
   ]
  },
  {
   "cell_type": "code",
   "execution_count": 2,
   "metadata": {
    "tags": []
   },
   "outputs": [
    {
     "output_type": "stream",
     "name": "stdout",
     "text": "0    1\n1    2\n2    3\n3    4\n4    5\ndtype: int64\n[1 2 3 4 5]\nRangeIndex(start=0, stop=5, step=1)\n"
    }
   ],
   "source": [
    "obj  = Series([1,2,3,4,5])\n",
    "print(obj)\n",
    "print(obj.values)\n",
    "print(obj.index)"
   ]
  },
  {
   "cell_type": "code",
   "execution_count": 6,
   "metadata": {
    "tags": []
   },
   "outputs": [
    {
     "output_type": "stream",
     "name": "stdout",
     "text": "1    a\n2    b\n3    c\n4    d\n5    e\ndtype: object\n"
    }
   ],
   "source": [
    "# 自定义索引\n",
    "obj = Series(['a','b','c','d','e'], index=[1,2,3,4,5])\n",
    "print(obj)"
   ]
  },
  {
   "cell_type": "code",
   "execution_count": 7,
   "metadata": {},
   "outputs": [
    {
     "output_type": "execute_result",
     "data": {
      "text/plain": "'a'"
     },
     "metadata": {},
     "execution_count": 7
    }
   ],
   "source": [
    "obj[1]"
   ]
  },
  {
   "cell_type": "code",
   "execution_count": 3,
   "metadata": {
    "tags": []
   },
   "outputs": [
    {
     "output_type": "stream",
     "name": "stdout",
     "text": "a    1000\nb    2000\nc    3000\ndtype: int64\na    1000\nc    3000\ndtype: int64\n"
    }
   ],
   "source": [
    "# 也可以把series当做字典来使用\n",
    "data = {'a':1000, 'b':2000, 'c':3000}\n",
    "obj = Series(data)\n",
    "print(obj)\n",
    "\n",
    "keys = ['a', 'c']\n",
    "obj_1 = Series(data, index=keys)\n",
    "print(obj_1)"
   ]
  },
  {
   "cell_type": "code",
   "execution_count": 4,
   "metadata": {
    "tags": []
   },
   "outputs": [
    {
     "output_type": "stream",
     "name": "stdout",
     "text": "a       NaN\nb    2000.0\nc    3000.0\ndtype: float64\n"
    }
   ],
   "source": [
    "# 确实数据的处理\n",
    "data = {'a':None, 'b':2000, 'c':3000}\n",
    "obj = Series(data)\n",
    "print(obj)"
   ]
  },
  {
   "cell_type": "code",
   "execution_count": 5,
   "metadata": {},
   "outputs": [
    {
     "output_type": "execute_result",
     "data": {
      "text/plain": "a     True\nb    False\nc    False\ndtype: bool"
     },
     "metadata": {},
     "execution_count": 5
    }
   ],
   "source": [
    "pd.isnull(obj)"
   ]
  },
  {
   "cell_type": "code",
   "execution_count": 6,
   "metadata": {},
   "outputs": [
    {
     "output_type": "execute_result",
     "data": {
      "text/plain": "a    False\nb     True\nc     True\ndtype: bool"
     },
     "metadata": {},
     "execution_count": 6
    }
   ],
   "source": [
    "pd.notnull(obj)"
   ]
  },
  {
   "cell_type": "code",
   "execution_count": 7,
   "metadata": {},
   "outputs": [
    {
     "output_type": "execute_result",
     "data": {
      "text/plain": "a     True\nb    False\nc    False\ndtype: bool"
     },
     "metadata": {},
     "execution_count": 7
    }
   ],
   "source": [
    "obj.isnull()"
   ]
  },
  {
   "cell_type": "code",
   "execution_count": 8,
   "metadata": {},
   "outputs": [
    {
     "output_type": "execute_result",
     "data": {
      "text/plain": "a    False\nb     True\nc     True\ndtype: bool"
     },
     "metadata": {},
     "execution_count": 8
    }
   ],
   "source": [
    "obj.notnull()"
   ]
  },
  {
   "cell_type": "code",
   "execution_count": 9,
   "metadata": {
    "tags": []
   },
   "outputs": [
    {
     "output_type": "stream",
     "name": "stdout",
     "text": "Xingming\nLiLei         NaN\nHanMeiMei    25.0\nTony          NaN\nJack         50.0\nName: NameAndAge, dtype: float64\n"
    }
   ],
   "source": [
    "data = {'LiLei':None, 'HanMeiMei':25, 'Tony':None, 'Jack':50}\n",
    "obj = Series(data)\n",
    "obj.name = 'NameAndAge'\n",
    "obj.index.name = 'Xingming'\n",
    "print(obj)"
   ]
  },
  {
   "cell_type": "markdown",
   "metadata": {},
   "source": [
    "## DataFrame类型\n",
    "### DataFrame是一个表格类型的数据结构，它含有一组有序的列。每列可以是不同值的类型、数值、字符串、布尔值都可以\n",
    "### DataFrame本身有行索引也有列索引\n",
    "### DataFrame也可以理解成是由Series组成的一个字典"
   ]
  },
  {
   "cell_type": "code",
   "execution_count": 11,
   "metadata": {
    "tags": []
   },
   "outputs": [
    {
     "output_type": "stream",
     "name": "stdout",
     "text": "60年代 70年代 80年代\n0   狗子   卫国   李雷\n1   嘎子   建国  韩梅梅\n2   秀儿   爱国   张伟\n0    卫国\n1    建国\n2    爱国\nName: 70年代, dtype: object\n"
    }
   ],
   "source": [
    "# 构建一个DataFrame\n",
    "data = {\n",
    "    '60年代':['狗子','嘎子','秀儿'],\n",
    "    '70年代':['卫国','建国','爱国'],\n",
    "    '80年代':['李雷','韩梅梅','张伟']\n",
    "}\n",
    "frame_data = DataFrame(data)\n",
    "print(frame_data)\n",
    "print(frame_data['70年代'])"
   ]
  },
  {
   "cell_type": "code",
   "execution_count": 12,
   "metadata": {
    "tags": []
   },
   "outputs": [
    {
     "output_type": "stream",
     "name": "stdout",
     "text": "DatetimeIndex(['2019-03-01', '2019-03-02', '2019-03-03', '2019-03-04',\n               '2019-03-05', '2019-03-06'],\n              dtype='datetime64[ns]', freq='D')\n"
    }
   ],
   "source": [
    "import numpy as np\n",
    "dates = pd.date_range('20190301', periods=6)\n",
    "print(dates)"
   ]
  },
  {
   "cell_type": "code",
   "execution_count": 13,
   "metadata": {
    "tags": []
   },
   "outputs": [
    {
     "output_type": "stream",
     "name": "stdout",
     "text": "A         B         C         D\n2019-03-01  0.361735  0.232359  0.097910  0.574862\n2019-03-02  0.279337  0.122476  0.899845  0.698584\n2019-03-03  0.499549  0.729956  0.592091  0.927548\n2019-03-04  0.728572  0.505570  0.826012  0.730521\n2019-03-05  0.650669  0.475762  0.558813  0.727083\n2019-03-06  0.234177  0.100347  0.209138  0.551375\n"
    }
   ],
   "source": [
    "df  = pd.DataFrame(np.random.rand(6,4), index=dates, columns=list('ABCD'))\n",
    "print(df)"
   ]
  },
  {
   "cell_type": "code",
   "execution_count": 14,
   "metadata": {},
   "outputs": [
    {
     "output_type": "execute_result",
     "data": {
      "text/plain": "   2019-03-01  2019-03-02  2019-03-03  2019-03-04  2019-03-05  2019-03-06\nA    0.361735    0.279337    0.499549    0.728572    0.650669    0.234177\nB    0.232359    0.122476    0.729956    0.505570    0.475762    0.100347\nC    0.097910    0.899845    0.592091    0.826012    0.558813    0.209138\nD    0.574862    0.698584    0.927548    0.730521    0.727083    0.551375",
      "text/html": "<div>\n<style scoped>\n    .dataframe tbody tr th:only-of-type {\n        vertical-align: middle;\n    }\n\n    .dataframe tbody tr th {\n        vertical-align: top;\n    }\n\n    .dataframe thead th {\n        text-align: right;\n    }\n</style>\n<table border=\"1\" class=\"dataframe\">\n  <thead>\n    <tr style=\"text-align: right;\">\n      <th></th>\n      <th>2019-03-01 00:00:00</th>\n      <th>2019-03-02 00:00:00</th>\n      <th>2019-03-03 00:00:00</th>\n      <th>2019-03-04 00:00:00</th>\n      <th>2019-03-05 00:00:00</th>\n      <th>2019-03-06 00:00:00</th>\n    </tr>\n  </thead>\n  <tbody>\n    <tr>\n      <th>A</th>\n      <td>0.361735</td>\n      <td>0.279337</td>\n      <td>0.499549</td>\n      <td>0.728572</td>\n      <td>0.650669</td>\n      <td>0.234177</td>\n    </tr>\n    <tr>\n      <th>B</th>\n      <td>0.232359</td>\n      <td>0.122476</td>\n      <td>0.729956</td>\n      <td>0.505570</td>\n      <td>0.475762</td>\n      <td>0.100347</td>\n    </tr>\n    <tr>\n      <th>C</th>\n      <td>0.097910</td>\n      <td>0.899845</td>\n      <td>0.592091</td>\n      <td>0.826012</td>\n      <td>0.558813</td>\n      <td>0.209138</td>\n    </tr>\n    <tr>\n      <th>D</th>\n      <td>0.574862</td>\n      <td>0.698584</td>\n      <td>0.927548</td>\n      <td>0.730521</td>\n      <td>0.727083</td>\n      <td>0.551375</td>\n    </tr>\n  </tbody>\n</table>\n</div>"
     },
     "metadata": {},
     "execution_count": 14
    }
   ],
   "source": [
    "df.T"
   ]
  },
  {
   "cell_type": "code",
   "execution_count": 15,
   "metadata": {},
   "outputs": [
    {
     "output_type": "execute_result",
     "data": {
      "text/plain": "                   A         B         C         D\n2019-03-01  0.361735  0.232359  0.097910  0.574862\n2019-03-02  0.279337  0.122476  0.899845  0.698584\n2019-03-03  0.499549  0.729956  0.592091  0.927548",
      "text/html": "<div>\n<style scoped>\n    .dataframe tbody tr th:only-of-type {\n        vertical-align: middle;\n    }\n\n    .dataframe tbody tr th {\n        vertical-align: top;\n    }\n\n    .dataframe thead th {\n        text-align: right;\n    }\n</style>\n<table border=\"1\" class=\"dataframe\">\n  <thead>\n    <tr style=\"text-align: right;\">\n      <th></th>\n      <th>A</th>\n      <th>B</th>\n      <th>C</th>\n      <th>D</th>\n    </tr>\n  </thead>\n  <tbody>\n    <tr>\n      <th>2019-03-01</th>\n      <td>0.361735</td>\n      <td>0.232359</td>\n      <td>0.097910</td>\n      <td>0.574862</td>\n    </tr>\n    <tr>\n      <th>2019-03-02</th>\n      <td>0.279337</td>\n      <td>0.122476</td>\n      <td>0.899845</td>\n      <td>0.698584</td>\n    </tr>\n    <tr>\n      <th>2019-03-03</th>\n      <td>0.499549</td>\n      <td>0.729956</td>\n      <td>0.592091</td>\n      <td>0.927548</td>\n    </tr>\n  </tbody>\n</table>\n</div>"
     },
     "metadata": {},
     "execution_count": 15
    }
   ],
   "source": [
    "df['20190301':'20190303']"
   ]
  },
  {
   "cell_type": "code",
   "execution_count": 16,
   "metadata": {},
   "outputs": [
    {
     "output_type": "execute_result",
     "data": {
      "text/plain": "                   A         B\n2019-03-01  0.361735  0.232359\n2019-03-02  0.279337  0.122476\n2019-03-03  0.499549  0.729956",
      "text/html": "<div>\n<style scoped>\n    .dataframe tbody tr th:only-of-type {\n        vertical-align: middle;\n    }\n\n    .dataframe tbody tr th {\n        vertical-align: top;\n    }\n\n    .dataframe thead th {\n        text-align: right;\n    }\n</style>\n<table border=\"1\" class=\"dataframe\">\n  <thead>\n    <tr style=\"text-align: right;\">\n      <th></th>\n      <th>A</th>\n      <th>B</th>\n    </tr>\n  </thead>\n  <tbody>\n    <tr>\n      <th>2019-03-01</th>\n      <td>0.361735</td>\n      <td>0.232359</td>\n    </tr>\n    <tr>\n      <th>2019-03-02</th>\n      <td>0.279337</td>\n      <td>0.122476</td>\n    </tr>\n    <tr>\n      <th>2019-03-03</th>\n      <td>0.499549</td>\n      <td>0.729956</td>\n    </tr>\n  </tbody>\n</table>\n</div>"
     },
     "metadata": {},
     "execution_count": 16
    }
   ],
   "source": [
    "df.loc['20190301':'20190303',['A','B']] #对行和列同时进行筛选"
   ]
  },
  {
   "cell_type": "code",
   "execution_count": 17,
   "metadata": {},
   "outputs": [
    {
     "output_type": "execute_result",
     "data": {
      "text/plain": "0.36173482262921464"
     },
     "metadata": {},
     "execution_count": 17
    }
   ],
   "source": [
    "df.at[dates[0],'A']"
   ]
  },
  {
   "cell_type": "code",
   "execution_count": 18,
   "metadata": {},
   "outputs": [
    {
     "output_type": "execute_result",
     "data": {
      "text/plain": "                   A         B         C         D\n2019-03-01  0.361735  0.232359  0.097910  0.574862\n2019-03-02  0.279337  0.122476  0.899845  0.698584",
      "text/html": "<div>\n<style scoped>\n    .dataframe tbody tr th:only-of-type {\n        vertical-align: middle;\n    }\n\n    .dataframe tbody tr th {\n        vertical-align: top;\n    }\n\n    .dataframe thead th {\n        text-align: right;\n    }\n</style>\n<table border=\"1\" class=\"dataframe\">\n  <thead>\n    <tr style=\"text-align: right;\">\n      <th></th>\n      <th>A</th>\n      <th>B</th>\n      <th>C</th>\n      <th>D</th>\n    </tr>\n  </thead>\n  <tbody>\n    <tr>\n      <th>2019-03-01</th>\n      <td>0.361735</td>\n      <td>0.232359</td>\n      <td>0.097910</td>\n      <td>0.574862</td>\n    </tr>\n    <tr>\n      <th>2019-03-02</th>\n      <td>0.279337</td>\n      <td>0.122476</td>\n      <td>0.899845</td>\n      <td>0.698584</td>\n    </tr>\n  </tbody>\n</table>\n</div>"
     },
     "metadata": {},
     "execution_count": 18
    }
   ],
   "source": [
    "df.head(2)"
   ]
  },
  {
   "cell_type": "code",
   "execution_count": 19,
   "metadata": {},
   "outputs": [
    {
     "output_type": "execute_result",
     "data": {
      "text/plain": "                   A         B         C         D\n2019-03-05  0.650669  0.475762  0.558813  0.727083\n2019-03-06  0.234177  0.100347  0.209138  0.551375",
      "text/html": "<div>\n<style scoped>\n    .dataframe tbody tr th:only-of-type {\n        vertical-align: middle;\n    }\n\n    .dataframe tbody tr th {\n        vertical-align: top;\n    }\n\n    .dataframe thead th {\n        text-align: right;\n    }\n</style>\n<table border=\"1\" class=\"dataframe\">\n  <thead>\n    <tr style=\"text-align: right;\">\n      <th></th>\n      <th>A</th>\n      <th>B</th>\n      <th>C</th>\n      <th>D</th>\n    </tr>\n  </thead>\n  <tbody>\n    <tr>\n      <th>2019-03-05</th>\n      <td>0.650669</td>\n      <td>0.475762</td>\n      <td>0.558813</td>\n      <td>0.727083</td>\n    </tr>\n    <tr>\n      <th>2019-03-06</th>\n      <td>0.234177</td>\n      <td>0.100347</td>\n      <td>0.209138</td>\n      <td>0.551375</td>\n    </tr>\n  </tbody>\n</table>\n</div>"
     },
     "metadata": {},
     "execution_count": 19
    }
   ],
   "source": [
    "df.tail(2)"
   ]
  },
  {
   "cell_type": "markdown",
   "metadata": {},
   "source": [
    "#### DataFrame构造函数能够接收哪些数据类型\n",
    "1.  二维numpy array\n",
    "2. 有数组、列表或者是元组组成的字典\n",
    "3. 有Series组成的字典\n",
    "4. 由字典组成的字典\n",
    "5. 字典或Series租的列表\n",
    "6. 由列表或元组组成的列表\n",
    "7. 另一个DataFrame"
   ]
  },
  {
   "cell_type": "markdown",
   "metadata": {},
   "source": [
    "## pandas重新索引"
   ]
  },
  {
   "cell_type": "code",
   "execution_count": 6,
   "metadata": {
    "tags": []
   },
   "outputs": [
    {
     "output_type": "stream",
     "name": "stdout",
     "text": "a    4.5\nb    9.8\nc   -1.2\ndtype: float64\na    4.5\nb    9.8\nc   -1.2\ne    NaN\nf    NaN\ndtype: float64\n"
    }
   ],
   "source": [
    "obj = Series([4.5,9.8,-1.2], index= ['a','b','c'])\n",
    "print(obj)\n",
    "job_1 = obj.reindex(['a','b','c','e','f'])\n",
    "print(job_1)"
   ]
  },
  {
   "cell_type": "code",
   "execution_count": 7,
   "metadata": {},
   "outputs": [
    {
     "output_type": "execute_result",
     "data": {
      "text/plain": "a    4.5\nb    9.8\nc   -1.2\ne    0.0\nf    0.0\ndtype: float64"
     },
     "metadata": {},
     "execution_count": 7
    }
   ],
   "source": [
    "obj.reindex(['a','b','c','e','f'], fill_value=0)"
   ]
  },
  {
   "cell_type": "code",
   "execution_count": 2,
   "metadata": {
    "tags": []
   },
   "outputs": [
    {
     "output_type": "stream",
     "name": "stdout",
     "text": "0    4.5\n2    9.8\n4   -1.2\ndtype: float64\n0    4.5\n1    4.5\n2    9.8\n3    9.8\n4   -1.2\n5   -1.2\ndtype: float64\n"
    }
   ],
   "source": [
    "obj = Series([4.5,9.8,-1.2], index=[0,2,4])\n",
    "o = obj.reindex(range(6), method='ffill') #向前值填充 bfill后向填充\n",
    "print(obj)\n",
    "print(o)"
   ]
  },
  {
   "cell_type": "markdown",
   "metadata": {},
   "source": [
    "### 算术运算和数据对齐\n",
    "pandas对不同的对象进行算数运算，在将对象相加时，如果存在不同的索引对，则结果的索引就是该索引的并集"
   ]
  },
  {
   "cell_type": "code",
   "execution_count": 4,
   "metadata": {},
   "outputs": [
    {
     "output_type": "execute_result",
     "data": {
      "text/plain": "a    0.0\nb    0.0\nc    0.0\nd    0.4\ne    NaN\ndtype: float64"
     },
     "metadata": {},
     "execution_count": 4
    }
   ],
   "source": [
    "d1 = Series([1.3,1.5,2.6,-3.5],index=['a','b','c','d'])\n",
    "d2 = Series([-1.3,-1.5,-2.6,3.9,9.8],index=['a','b','c','d','e'])\n",
    "d1 + d2"
   ]
  },
  {
   "cell_type": "code",
   "execution_count": 9,
   "metadata": {},
   "outputs": [
    {
     "output_type": "execute_result",
     "data": {
      "text/plain": "   a  b  c\n1  0  1  2\n2  3  4  5\n3  6  7  8",
      "text/html": "<div>\n<style scoped>\n    .dataframe tbody tr th:only-of-type {\n        vertical-align: middle;\n    }\n\n    .dataframe tbody tr th {\n        vertical-align: top;\n    }\n\n    .dataframe thead th {\n        text-align: right;\n    }\n</style>\n<table border=\"1\" class=\"dataframe\">\n  <thead>\n    <tr style=\"text-align: right;\">\n      <th></th>\n      <th>a</th>\n      <th>b</th>\n      <th>c</th>\n    </tr>\n  </thead>\n  <tbody>\n    <tr>\n      <th>1</th>\n      <td>0</td>\n      <td>1</td>\n      <td>2</td>\n    </tr>\n    <tr>\n      <th>2</th>\n      <td>3</td>\n      <td>4</td>\n      <td>5</td>\n    </tr>\n    <tr>\n      <th>3</th>\n      <td>6</td>\n      <td>7</td>\n      <td>8</td>\n    </tr>\n  </tbody>\n</table>\n</div>"
     },
     "metadata": {},
     "execution_count": 9
    }
   ],
   "source": [
    "df1 = DataFrame(np.arange(9).reshape((3,3)), columns=list('abc'), index=[1,2,3])\n",
    "df1"
   ]
  },
  {
   "cell_type": "code",
   "execution_count": 10,
   "metadata": {},
   "outputs": [
    {
     "output_type": "execute_result",
     "data": {
      "text/plain": "   c   d   e\n1  0   1   2\n2  3   4   5\n3  6   7   8\n4  9  10  11",
      "text/html": "<div>\n<style scoped>\n    .dataframe tbody tr th:only-of-type {\n        vertical-align: middle;\n    }\n\n    .dataframe tbody tr th {\n        vertical-align: top;\n    }\n\n    .dataframe thead th {\n        text-align: right;\n    }\n</style>\n<table border=\"1\" class=\"dataframe\">\n  <thead>\n    <tr style=\"text-align: right;\">\n      <th></th>\n      <th>c</th>\n      <th>d</th>\n      <th>e</th>\n    </tr>\n  </thead>\n  <tbody>\n    <tr>\n      <th>1</th>\n      <td>0</td>\n      <td>1</td>\n      <td>2</td>\n    </tr>\n    <tr>\n      <th>2</th>\n      <td>3</td>\n      <td>4</td>\n      <td>5</td>\n    </tr>\n    <tr>\n      <th>3</th>\n      <td>6</td>\n      <td>7</td>\n      <td>8</td>\n    </tr>\n    <tr>\n      <th>4</th>\n      <td>9</td>\n      <td>10</td>\n      <td>11</td>\n    </tr>\n  </tbody>\n</table>\n</div>"
     },
     "metadata": {},
     "execution_count": 10
    }
   ],
   "source": [
    "df2 = DataFrame(np.arange(12).reshape((4,3)), columns=list('cde'), index=[1,2,3,4])\n",
    "df2"
   ]
  },
  {
   "cell_type": "code",
   "execution_count": 11,
   "metadata": {},
   "outputs": [
    {
     "output_type": "execute_result",
     "data": {
      "text/plain": "    a   b     c   d   e\n1 NaN NaN   2.0 NaN NaN\n2 NaN NaN   8.0 NaN NaN\n3 NaN NaN  14.0 NaN NaN\n4 NaN NaN   NaN NaN NaN",
      "text/html": "<div>\n<style scoped>\n    .dataframe tbody tr th:only-of-type {\n        vertical-align: middle;\n    }\n\n    .dataframe tbody tr th {\n        vertical-align: top;\n    }\n\n    .dataframe thead th {\n        text-align: right;\n    }\n</style>\n<table border=\"1\" class=\"dataframe\">\n  <thead>\n    <tr style=\"text-align: right;\">\n      <th></th>\n      <th>a</th>\n      <th>b</th>\n      <th>c</th>\n      <th>d</th>\n      <th>e</th>\n    </tr>\n  </thead>\n  <tbody>\n    <tr>\n      <th>1</th>\n      <td>NaN</td>\n      <td>NaN</td>\n      <td>2.0</td>\n      <td>NaN</td>\n      <td>NaN</td>\n    </tr>\n    <tr>\n      <th>2</th>\n      <td>NaN</td>\n      <td>NaN</td>\n      <td>8.0</td>\n      <td>NaN</td>\n      <td>NaN</td>\n    </tr>\n    <tr>\n      <th>3</th>\n      <td>NaN</td>\n      <td>NaN</td>\n      <td>14.0</td>\n      <td>NaN</td>\n      <td>NaN</td>\n    </tr>\n    <tr>\n      <th>4</th>\n      <td>NaN</td>\n      <td>NaN</td>\n      <td>NaN</td>\n      <td>NaN</td>\n      <td>NaN</td>\n    </tr>\n  </tbody>\n</table>\n</div>"
     },
     "metadata": {},
     "execution_count": 11
    }
   ],
   "source": [
    "df1 + df2"
   ]
  },
  {
   "cell_type": "code",
   "execution_count": 12,
   "metadata": {},
   "outputs": [
    {
     "output_type": "execute_result",
     "data": {
      "text/plain": "     a    b     c     d     e\n1  0.0  1.0   2.0   1.0   2.0\n2  3.0  4.0   8.0   4.0   5.0\n3  6.0  7.0  14.0   7.0   8.0\n4  NaN  NaN   9.0  10.0  11.0",
      "text/html": "<div>\n<style scoped>\n    .dataframe tbody tr th:only-of-type {\n        vertical-align: middle;\n    }\n\n    .dataframe tbody tr th {\n        vertical-align: top;\n    }\n\n    .dataframe thead th {\n        text-align: right;\n    }\n</style>\n<table border=\"1\" class=\"dataframe\">\n  <thead>\n    <tr style=\"text-align: right;\">\n      <th></th>\n      <th>a</th>\n      <th>b</th>\n      <th>c</th>\n      <th>d</th>\n      <th>e</th>\n    </tr>\n  </thead>\n  <tbody>\n    <tr>\n      <th>1</th>\n      <td>0.0</td>\n      <td>1.0</td>\n      <td>2.0</td>\n      <td>1.0</td>\n      <td>2.0</td>\n    </tr>\n    <tr>\n      <th>2</th>\n      <td>3.0</td>\n      <td>4.0</td>\n      <td>8.0</td>\n      <td>4.0</td>\n      <td>5.0</td>\n    </tr>\n    <tr>\n      <th>3</th>\n      <td>6.0</td>\n      <td>7.0</td>\n      <td>14.0</td>\n      <td>7.0</td>\n      <td>8.0</td>\n    </tr>\n    <tr>\n      <th>4</th>\n      <td>NaN</td>\n      <td>NaN</td>\n      <td>9.0</td>\n      <td>10.0</td>\n      <td>11.0</td>\n    </tr>\n  </tbody>\n</table>\n</div>"
     },
     "metadata": {},
     "execution_count": 12
    }
   ],
   "source": [
    "df1.add(df2, fill_value=0)  #用0来填充不重叠的值。注意：如果本身位置为空，那么还是空"
   ]
  },
  {
   "cell_type": "markdown",
   "metadata": {},
   "source": [
    "### DataFrame和series之间的运算"
   ]
  },
  {
   "cell_type": "code",
   "execution_count": 19,
   "metadata": {
    "tags": []
   },
   "outputs": [
    {
     "output_type": "stream",
     "name": "stdout",
     "text": "b   d   e\n1  0   1   2\n2  3   4   5\n3  6   7   8\n4  9  10  11\nb    0\nd    1\ne    2\nName: 1, dtype: int64\n"
    }
   ],
   "source": [
    "frame = DataFrame(np.arange(12).reshape((4,3)), columns=list('bde'), index=[1,2,3,4])\n",
    "series = frame.loc[1]\n",
    "print(frame)\n",
    "print(series)"
   ]
  },
  {
   "cell_type": "code",
   "execution_count": 20,
   "metadata": {},
   "outputs": [
    {
     "output_type": "execute_result",
     "data": {
      "text/plain": "   b  d  e\n1  0  0  0\n2  3  3  3\n3  6  6  6\n4  9  9  9",
      "text/html": "<div>\n<style scoped>\n    .dataframe tbody tr th:only-of-type {\n        vertical-align: middle;\n    }\n\n    .dataframe tbody tr th {\n        vertical-align: top;\n    }\n\n    .dataframe thead th {\n        text-align: right;\n    }\n</style>\n<table border=\"1\" class=\"dataframe\">\n  <thead>\n    <tr style=\"text-align: right;\">\n      <th></th>\n      <th>b</th>\n      <th>d</th>\n      <th>e</th>\n    </tr>\n  </thead>\n  <tbody>\n    <tr>\n      <th>1</th>\n      <td>0</td>\n      <td>0</td>\n      <td>0</td>\n    </tr>\n    <tr>\n      <th>2</th>\n      <td>3</td>\n      <td>3</td>\n      <td>3</td>\n    </tr>\n    <tr>\n      <th>3</th>\n      <td>6</td>\n      <td>6</td>\n      <td>6</td>\n    </tr>\n    <tr>\n      <th>4</th>\n      <td>9</td>\n      <td>9</td>\n      <td>9</td>\n    </tr>\n  </tbody>\n</table>\n</div>"
     },
     "metadata": {},
     "execution_count": 20
    }
   ],
   "source": [
    "frame - series #一直向下广播相减"
   ]
  },
  {
   "cell_type": "code",
   "execution_count": 21,
   "metadata": {
    "tags": []
   },
   "outputs": [
    {
     "output_type": "stream",
     "name": "stdout",
     "text": "b   d   e\n1  0   1   2\n2  3   4   5\n3  6   7   8\n4  9  10  11\nb    0\ne    1\nf    2\ndtype: int64\n"
    },
    {
     "output_type": "execute_result",
     "data": {
      "text/plain": "     b   d     e   f\n1  0.0 NaN   3.0 NaN\n2  3.0 NaN   6.0 NaN\n3  6.0 NaN   9.0 NaN\n4  9.0 NaN  12.0 NaN",
      "text/html": "<div>\n<style scoped>\n    .dataframe tbody tr th:only-of-type {\n        vertical-align: middle;\n    }\n\n    .dataframe tbody tr th {\n        vertical-align: top;\n    }\n\n    .dataframe thead th {\n        text-align: right;\n    }\n</style>\n<table border=\"1\" class=\"dataframe\">\n  <thead>\n    <tr style=\"text-align: right;\">\n      <th></th>\n      <th>b</th>\n      <th>d</th>\n      <th>e</th>\n      <th>f</th>\n    </tr>\n  </thead>\n  <tbody>\n    <tr>\n      <th>1</th>\n      <td>0.0</td>\n      <td>NaN</td>\n      <td>3.0</td>\n      <td>NaN</td>\n    </tr>\n    <tr>\n      <th>2</th>\n      <td>3.0</td>\n      <td>NaN</td>\n      <td>6.0</td>\n      <td>NaN</td>\n    </tr>\n    <tr>\n      <th>3</th>\n      <td>6.0</td>\n      <td>NaN</td>\n      <td>9.0</td>\n      <td>NaN</td>\n    </tr>\n    <tr>\n      <th>4</th>\n      <td>9.0</td>\n      <td>NaN</td>\n      <td>12.0</td>\n      <td>NaN</td>\n    </tr>\n  </tbody>\n</table>\n</div>"
     },
     "metadata": {},
     "execution_count": 21
    }
   ],
   "source": [
    "series = Series(range(3), index=list('bef'))\n",
    "print(frame)\n",
    "print(series)\n",
    "frame + series  #相加时，没有就合并"
   ]
  },
  {
   "cell_type": "markdown",
   "metadata": {},
   "source": [
    "## 排序"
   ]
  },
  {
   "cell_type": "code",
   "execution_count": 22,
   "metadata": {
    "tags": []
   },
   "outputs": [
    {
     "output_type": "stream",
     "name": "stdout",
     "text": "d    0\ne    1\na    2\nb    3\ndtype: int64\n"
    }
   ],
   "source": [
    "obj = Series(range(4), index=['d','e','a','b'])\n",
    "print(obj)"
   ]
  },
  {
   "cell_type": "code",
   "execution_count": 23,
   "metadata": {},
   "outputs": [
    {
     "output_type": "execute_result",
     "data": {
      "text/plain": "a    2\nb    3\nd    0\ne    1\ndtype: int64"
     },
     "metadata": {},
     "execution_count": 23
    }
   ],
   "source": [
    "obj.sort_index()"
   ]
  },
  {
   "cell_type": "code",
   "execution_count": 24,
   "metadata": {},
   "outputs": [
    {
     "output_type": "execute_result",
     "data": {
      "text/plain": "d    0\ne    1\na    2\nb    3\ndtype: int64"
     },
     "metadata": {},
     "execution_count": 24
    }
   ],
   "source": [
    "obj.sort_values()"
   ]
  },
  {
   "cell_type": "markdown",
   "metadata": {},
   "source": [
    "### 针对DataFrame，根据任意一个轴上的索引进行排序"
   ]
  },
  {
   "cell_type": "code",
   "execution_count": 27,
   "metadata": {},
   "outputs": [
    {
     "output_type": "execute_result",
     "data": {
      "text/plain": "     c  d  a  b\ntwo  0  1  2  3\none  4  5  6  7",
      "text/html": "<div>\n<style scoped>\n    .dataframe tbody tr th:only-of-type {\n        vertical-align: middle;\n    }\n\n    .dataframe tbody tr th {\n        vertical-align: top;\n    }\n\n    .dataframe thead th {\n        text-align: right;\n    }\n</style>\n<table border=\"1\" class=\"dataframe\">\n  <thead>\n    <tr style=\"text-align: right;\">\n      <th></th>\n      <th>c</th>\n      <th>d</th>\n      <th>a</th>\n      <th>b</th>\n    </tr>\n  </thead>\n  <tbody>\n    <tr>\n      <th>two</th>\n      <td>0</td>\n      <td>1</td>\n      <td>2</td>\n      <td>3</td>\n    </tr>\n    <tr>\n      <th>one</th>\n      <td>4</td>\n      <td>5</td>\n      <td>6</td>\n      <td>7</td>\n    </tr>\n  </tbody>\n</table>\n</div>"
     },
     "metadata": {},
     "execution_count": 27
    }
   ],
   "source": [
    "frame = DataFrame(np.arange(8).reshape((2,4)), index=['two','one'], columns=['c','d','a','b'])\n",
    "frame"
   ]
  },
  {
   "cell_type": "code",
   "execution_count": 28,
   "metadata": {},
   "outputs": [
    {
     "output_type": "execute_result",
     "data": {
      "text/plain": "     c  d  a  b\none  4  5  6  7\ntwo  0  1  2  3",
      "text/html": "<div>\n<style scoped>\n    .dataframe tbody tr th:only-of-type {\n        vertical-align: middle;\n    }\n\n    .dataframe tbody tr th {\n        vertical-align: top;\n    }\n\n    .dataframe thead th {\n        text-align: right;\n    }\n</style>\n<table border=\"1\" class=\"dataframe\">\n  <thead>\n    <tr style=\"text-align: right;\">\n      <th></th>\n      <th>c</th>\n      <th>d</th>\n      <th>a</th>\n      <th>b</th>\n    </tr>\n  </thead>\n  <tbody>\n    <tr>\n      <th>one</th>\n      <td>4</td>\n      <td>5</td>\n      <td>6</td>\n      <td>7</td>\n    </tr>\n    <tr>\n      <th>two</th>\n      <td>0</td>\n      <td>1</td>\n      <td>2</td>\n      <td>3</td>\n    </tr>\n  </tbody>\n</table>\n</div>"
     },
     "metadata": {},
     "execution_count": 28
    }
   ],
   "source": [
    "frame.sort_index()"
   ]
  },
  {
   "cell_type": "code",
   "execution_count": 29,
   "metadata": {},
   "outputs": [
    {
     "output_type": "execute_result",
     "data": {
      "text/plain": "     a  b  c  d\ntwo  2  3  0  1\none  6  7  4  5",
      "text/html": "<div>\n<style scoped>\n    .dataframe tbody tr th:only-of-type {\n        vertical-align: middle;\n    }\n\n    .dataframe tbody tr th {\n        vertical-align: top;\n    }\n\n    .dataframe thead th {\n        text-align: right;\n    }\n</style>\n<table border=\"1\" class=\"dataframe\">\n  <thead>\n    <tr style=\"text-align: right;\">\n      <th></th>\n      <th>a</th>\n      <th>b</th>\n      <th>c</th>\n      <th>d</th>\n    </tr>\n  </thead>\n  <tbody>\n    <tr>\n      <th>two</th>\n      <td>2</td>\n      <td>3</td>\n      <td>0</td>\n      <td>1</td>\n    </tr>\n    <tr>\n      <th>one</th>\n      <td>6</td>\n      <td>7</td>\n      <td>4</td>\n      <td>5</td>\n    </tr>\n  </tbody>\n</table>\n</div>"
     },
     "metadata": {},
     "execution_count": 29
    }
   ],
   "source": [
    "frame.sort_index(axis=1) #指定轴来进行排序"
   ]
  },
  {
   "cell_type": "code",
   "execution_count": 30,
   "metadata": {},
   "outputs": [
    {
     "output_type": "execute_result",
     "data": {
      "text/plain": "   b  a\n0  4  0\n1  7  4\n2  2  2\n3 -1  0",
      "text/html": "<div>\n<style scoped>\n    .dataframe tbody tr th:only-of-type {\n        vertical-align: middle;\n    }\n\n    .dataframe tbody tr th {\n        vertical-align: top;\n    }\n\n    .dataframe thead th {\n        text-align: right;\n    }\n</style>\n<table border=\"1\" class=\"dataframe\">\n  <thead>\n    <tr style=\"text-align: right;\">\n      <th></th>\n      <th>b</th>\n      <th>a</th>\n    </tr>\n  </thead>\n  <tbody>\n    <tr>\n      <th>0</th>\n      <td>4</td>\n      <td>0</td>\n    </tr>\n    <tr>\n      <th>1</th>\n      <td>7</td>\n      <td>4</td>\n    </tr>\n    <tr>\n      <th>2</th>\n      <td>2</td>\n      <td>2</td>\n    </tr>\n    <tr>\n      <th>3</th>\n      <td>-1</td>\n      <td>0</td>\n    </tr>\n  </tbody>\n</table>\n</div>"
     },
     "metadata": {},
     "execution_count": 30
    }
   ],
   "source": [
    "frame = DataFrame({'b':[4,7,2,-1],'a':[0,4,2,0]})\n",
    "frame"
   ]
  },
  {
   "cell_type": "code",
   "execution_count": 31,
   "metadata": {},
   "outputs": [
    {
     "output_type": "execute_result",
     "data": {
      "text/plain": "   b  a\n3 -1  0\n2  2  2\n0  4  0\n1  7  4",
      "text/html": "<div>\n<style scoped>\n    .dataframe tbody tr th:only-of-type {\n        vertical-align: middle;\n    }\n\n    .dataframe tbody tr th {\n        vertical-align: top;\n    }\n\n    .dataframe thead th {\n        text-align: right;\n    }\n</style>\n<table border=\"1\" class=\"dataframe\">\n  <thead>\n    <tr style=\"text-align: right;\">\n      <th></th>\n      <th>b</th>\n      <th>a</th>\n    </tr>\n  </thead>\n  <tbody>\n    <tr>\n      <th>3</th>\n      <td>-1</td>\n      <td>0</td>\n    </tr>\n    <tr>\n      <th>2</th>\n      <td>2</td>\n      <td>2</td>\n    </tr>\n    <tr>\n      <th>0</th>\n      <td>4</td>\n      <td>0</td>\n    </tr>\n    <tr>\n      <th>1</th>\n      <td>7</td>\n      <td>4</td>\n    </tr>\n  </tbody>\n</table>\n</div>"
     },
     "metadata": {},
     "execution_count": 31
    }
   ],
   "source": [
    "frame.sort_values(by='b')"
   ]
  },
  {
   "cell_type": "code",
   "execution_count": null,
   "metadata": {},
   "outputs": [],
   "source": []
  }
 ]
}