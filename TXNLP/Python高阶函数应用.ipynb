{
 "metadata": {
  "language_info": {
   "codemirror_mode": {
    "name": "ipython",
    "version": 3
   },
   "file_extension": ".py",
   "mimetype": "text/x-python",
   "name": "python",
   "nbconvert_exporter": "python",
   "pygments_lexer": "ipython3",
   "version": "3.7.3-final"
  },
  "orig_nbformat": 2,
  "kernelspec": {
   "name": "python37364bit4958884550404c47bca360da9e583dc6",
   "display_name": "Python 3.7.3 64-bit"
  }
 },
 "nbformat": 4,
 "nbformat_minor": 2,
 "cells": [
  {
   "cell_type": "markdown",
   "metadata": {},
   "source": [
    "### lambda表达式\n",
    "又被称之为匿名函数\n",
    "格式lambda 参数列表:函数体"
   ]
  },
  {
   "cell_type": "code",
   "execution_count": 1,
   "metadata": {
    "tags": []
   },
   "outputs": [
    {
     "output_type": "stream",
     "name": "stdout",
     "text": "7\n"
    }
   ],
   "source": [
    "def add(x,y):\n",
    "    return x+y\n",
    "print(add(3,4))"
   ]
  },
  {
   "cell_type": "code",
   "execution_count": 2,
   "metadata": {},
   "outputs": [
    {
     "output_type": "execute_result",
     "data": {
      "text/plain": "7"
     },
     "metadata": {},
     "execution_count": 2
    }
   ],
   "source": [
    "add_lambda = lambda x,y : x + y\n",
    "add_lambda(3,4)"
   ]
  },
  {
   "cell_type": "markdown",
   "metadata": {},
   "source": [
    "### 三元运算符"
   ]
  },
  {
   "cell_type": "code",
   "execution_count": 3,
   "metadata": {
    "tags": []
   },
   "outputs": [
    {
     "output_type": "stream",
     "name": "stdout",
     "text": "1\n"
    }
   ],
   "source": [
    "condition = True\n",
    "print(1 if condition else 2)"
   ]
  },
  {
   "cell_type": "code",
   "execution_count": 4,
   "metadata": {
    "tags": []
   },
   "outputs": [
    {
     "output_type": "stream",
     "name": "stdout",
     "text": "2\n"
    }
   ],
   "source": [
    "condition = False\n",
    "print(1 if condition else 2)"
   ]
  },
  {
   "cell_type": "markdown",
   "metadata": {},
   "source": [
    "### map函数的应用"
   ]
  },
  {
   "cell_type": "code",
   "execution_count": 2,
   "metadata": {},
   "outputs": [
    {
     "output_type": "execute_result",
     "data": {
      "text/plain": "[2, 4, 6, 8, 10]"
     },
     "metadata": {},
     "execution_count": 2
    }
   ],
   "source": [
    "list1 = [1,2,3,4,5]\n",
    "r = map(lambda x : x*2, list1)\n",
    "list(r)"
   ]
  },
  {
   "cell_type": "code",
   "execution_count": 3,
   "metadata": {},
   "outputs": [
    {
     "output_type": "execute_result",
     "data": {
      "text/plain": "[2, 6, 12, 20, 30]"
     },
     "metadata": {},
     "execution_count": 3
    }
   ],
   "source": [
    "m1 = map(lambda x,y:x*x+y, [1,2,3,4,5],[1,2,3,4,5])\n",
    "list(m1)"
   ]
  },
  {
   "cell_type": "markdown",
   "metadata": {},
   "source": [
    "### filter"
   ]
  },
  {
   "cell_type": "code",
   "execution_count": 4,
   "metadata": {},
   "outputs": [
    {
     "output_type": "execute_result",
     "data": {
      "text/plain": "['hello', 'great']"
     },
     "metadata": {},
     "execution_count": 4
    }
   ],
   "source": [
    "def is_not_none(s):\n",
    "    return s and len(s.strip()) > 0\n",
    "\n",
    "list2 = ['  ', '', 'hello', 'great']\n",
    "result = filter(is_not_none, list2)\n",
    "list(result)"
   ]
  },
  {
   "cell_type": "markdown",
   "metadata": {},
   "source": [
    "### reduce"
   ]
  },
  {
   "cell_type": "code",
   "execution_count": 5,
   "metadata": {},
   "outputs": [
    {
     "output_type": "execute_result",
     "data": {
      "text/plain": "15"
     },
     "metadata": {},
     "execution_count": 5
    }
   ],
   "source": [
    "from functools import reduce\n",
    "f = lambda x,y: x+y\n",
    "r = reduce(f,[1,2,3,4,5])\n",
    "r"
   ]
  },
  {
   "cell_type": "markdown",
   "metadata": {},
   "source": [
    "### 列表推导式\n",
    "根据已有的列表推导出新的列表"
   ]
  },
  {
   "cell_type": "code",
   "execution_count": 10,
   "metadata": {
    "tags": []
   },
   "outputs": [
    {
     "output_type": "stream",
     "name": "stdout",
     "text": "[2, 4, 6, 8, 10, 12]\n[2, 4, 6, 8, 10, 12]\n[1, 8, 27, 64, 125, 216]\n[16, 25, 36]\n"
    }
   ],
   "source": [
    "list1 = [1,2,3,4,5,6]\n",
    "f = map(lambda x: x+x, list1)\n",
    "print(list(f))\n",
    "\n",
    "list2 = [i + i for i in list1]\n",
    "print(list2)\n",
    "\n",
    "list3 = [i**3 for i in list1]\n",
    "print(list3)\n",
    "\n",
    "# 有选择性筛选\n",
    "list4 = [i*i for i in list1 if i > 3]\n",
    "print(list4)"
   ]
  },
  {
   "cell_type": "markdown",
   "metadata": {},
   "source": [
    "### 集合推导式"
   ]
  },
  {
   "cell_type": "code",
   "execution_count": 11,
   "metadata": {
    "tags": []
   },
   "outputs": [
    {
     "output_type": "stream",
     "name": "stdout",
     "text": "[2, 4, 6, 8, 10, 12]\n{2, 4, 6, 8, 10, 12}\n{64, 1, 8, 216, 27, 125}\n{16, 25, 36}\n"
    }
   ],
   "source": [
    "list1 = {1,2,3,4,5,6}\n",
    "f = map(lambda x: x+x, list1)\n",
    "print(list(f))\n",
    "\n",
    "list2 = {i + i for i in list1}\n",
    "print(list2)\n",
    "\n",
    "list3 = {i**3 for i in list1}\n",
    "print(list3)\n",
    "\n",
    "# 有选择性筛选\n",
    "list4 = {i*i for i in list1 if i > 3}\n",
    "print(list4)"
   ]
  },
  {
   "cell_type": "markdown",
   "metadata": {},
   "source": [
    "### 字典推导式"
   ]
  },
  {
   "cell_type": "code",
   "execution_count": 16,
   "metadata": {
    "tags": []
   },
   "outputs": [
    {
     "output_type": "stream",
     "name": "stdout",
     "text": "['zhangsanaaa', 'lisiaaa', 'wangwuaaa']\n{20: 'zhangsan', 15: 'lisi', 30: 'wangwu'}\n{'lisi': 15}\n{'zhangsan': 20, 'lisi': 15, 'wangwu': 30}\n"
    }
   ],
   "source": [
    "s = {\n",
    "    \"zhangsan\":20,\n",
    "    \"lisi\":15,\n",
    "    \"wangwu\":30\n",
    "    }\n",
    "#拿出所有的key，并变成列表\n",
    "s_key = [key + 'aaa' for key,value in s.items()]\n",
    "print(s_key)\n",
    "\n",
    "#key和value颠倒\n",
    "s1 = {value:key for key, value in s.items()}\n",
    "print(s1)\n",
    "\n",
    "#有选择性挑选\n",
    "s2 = {key:value for key,value in s.items() if key == \"lisi\"}\n",
    "print(s2)"
   ]
  },
  {
   "cell_type": "markdown",
   "metadata": {},
   "source": [
    "### 闭包：一个返回值是函数的函数"
   ]
  },
  {
   "cell_type": "code",
   "execution_count": null,
   "metadata": {},
   "outputs": [],
   "source": []
  },
  {
   "cell_type": "markdown",
   "metadata": {},
   "source": [
    "### 装饰器、语法糖、"
   ]
  },
  {
   "cell_type": "code",
   "execution_count": 19,
   "metadata": {
    "tags": []
   },
   "outputs": [
    {
     "output_type": "stream",
     "name": "stdout",
     "text": "学生跑\n1597414420.280826\n"
    }
   ],
   "source": [
    "import time\n",
    "\n",
    "def runtime(func):\n",
    "    def get_time():\n",
    "        func()\n",
    "        print(time.time())\n",
    "       \n",
    "    return get_time\n",
    "\n",
    "@runtime\n",
    "def student_run():\n",
    "    print(\"学生跑\")\n",
    "\n",
    "student_run()"
   ]
  },
  {
   "cell_type": "code",
   "execution_count": 20,
   "metadata": {
    "tags": []
   },
   "outputs": [
    {
     "output_type": "stream",
     "name": "stdout",
     "text": "学生跑\n1597414985.675861\n"
    }
   ],
   "source": [
    "import time\n",
    "\n",
    "def runtime(func):\n",
    "    def get_time(*args):\n",
    "        func(*args)\n",
    "        print(time.time())\n",
    "    return get_time\n",
    "\n",
    "@runtime\n",
    "def student_run():\n",
    "    print(\"学生跑\")\n",
    "\n",
    "student_run()"
   ]
  },
  {
   "cell_type": "code",
   "execution_count": 27,
   "metadata": {
    "tags": []
   },
   "outputs": [
    {
     "output_type": "stream",
     "name": "stdout",
     "text": "学生跑\n1597415447.422425\n学生跑\n1597415447.4243982\n学生跑\n1597415447.425306\n"
    }
   ],
   "source": [
    "import time\n",
    "# 关键字参数\n",
    "def runtime(func):\n",
    "    def get_time(*args, **kwargs):\n",
    "        func(*args,**kwargs)\n",
    "        print(time.time())\n",
    "    return get_time\n",
    "\n",
    "@runtime\n",
    "def student_run(*args, **kwargs):\n",
    "    print(\"学生跑\")\n",
    "\n",
    "student_run(1,2)\n",
    "student_run(5,i = 1, j = 2)\n",
    "student_run()\n"
   ]
  },
  {
   "cell_type": "code",
   "execution_count": null,
   "metadata": {},
   "outputs": [],
   "source": []
  }
 ]
}